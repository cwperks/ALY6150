{
 "cells": [
  {
   "cell_type": "code",
   "execution_count": 64,
   "id": "093f9c8f",
   "metadata": {},
   "outputs": [],
   "source": [
    "# Group 1\n",
    "\n",
    "# Craig Perkins\n",
    "# Sneha Sharma Satheesha\n",
    "# Pranay Bindela\n",
    "\n",
    "import pandas as pd\n",
    "import seaborn as sns\n",
    "import matplotlib.pyplot as plt\n",
    "import bamboolib\n",
    "from sklearn.impute import KNNImputer\n",
    "import numpy as np"
   ]
  },
  {
   "cell_type": "code",
   "execution_count": 42,
   "id": "75798648",
   "metadata": {},
   "outputs": [],
   "source": [
    "df = pd.read_csv('../data/massachusetts-history.csv')"
   ]
  },
  {
   "cell_type": "code",
   "execution_count": 7,
   "id": "3cda673f",
   "metadata": {},
   "outputs": [
    {
     "data": {
      "application/vnd.jupyter.widget-view+json": {
       "model_id": "9d224d3d926945f991deda15b5a3c074"
      },
      "text/plain": [
       "           date state    death  deathConfirmed  deathIncrease  deathProbable  \\\n",
       "0    2021-03-07    MA  16417.0         16085.0             43          332.0   \n",
       "1    2021-03-06    MA  16374.0         16044.0             52          330.0   \n",
       "2    2021-03-05    MA  16322.0         15992.0             26          330.0   \n",
       "3    2021-03-04    MA  16296.0         15967.0             44          329.0   \n",
       "4    2021-03-03    MA  16252.0         15925.0             70          327.0   \n",
       "..          ...   ...      ...             ...            ...            ...   \n",
       "406  2020-01-26    MA      NaN             NaN              0            NaN   \n",
       "407  2020-01-25    MA      NaN             NaN              0            NaN   \n",
       "408  2020-01-24    MA      NaN             NaN              0            NaN   \n",
       "409  2020-01-23    MA      NaN             NaN              0            NaN   \n",
       "410  2020-01-22    MA      NaN             NaN              0            NaN   \n",
       "\n",
       "     hospitalized  hospitalizedCumulative  hospitalizedCurrently  \\\n",
       "0         19713.0                 19713.0                  665.0   \n",
       "1         19713.0                 19713.0                  687.0   \n",
       "2         19713.0                 19713.0                  716.0   \n",
       "3         19713.0                 19713.0                  741.0   \n",
       "4         19713.0                 19713.0                  755.0   \n",
       "..            ...                     ...                    ...   \n",
       "406           NaN                     NaN                    NaN   \n",
       "407           NaN                     NaN                    NaN   \n",
       "408           NaN                     NaN                    NaN   \n",
       "409           NaN                     NaN                    NaN   \n",
       "410           NaN                     NaN                    NaN   \n",
       "\n",
       "     hospitalizedIncrease  ...  totalTestResults  totalTestResultsIncrease  \\\n",
       "0                       0  ...          16825551                     96578   \n",
       "1                       0  ...          16728973                    100359   \n",
       "2                       0  ...          16628614                    106263   \n",
       "3                       0  ...          16522351                    102362   \n",
       "4                     269  ...          16419989                    102052   \n",
       "..                    ...  ...               ...                       ...   \n",
       "406                     0  ...                 2                         0   \n",
       "407                     0  ...                 2                         0   \n",
       "408                     0  ...                 2                         0   \n",
       "409                     0  ...                 2                         1   \n",
       "410                     0  ...                 1                         0   \n",
       "\n",
       "     totalTestsAntibody  totalTestsAntigen  totalTestsPeopleAntibody  \\\n",
       "0                   NaN                NaN                  156185.0   \n",
       "1                   NaN                NaN                  156185.0   \n",
       "2                   NaN                NaN                  156185.0   \n",
       "3                   NaN                NaN                  156185.0   \n",
       "4                   NaN                NaN                  154697.0   \n",
       "..                  ...                ...                       ...   \n",
       "406                 NaN                NaN                       NaN   \n",
       "407                 NaN                NaN                       NaN   \n",
       "408                 NaN                NaN                       NaN   \n",
       "409                 NaN                NaN                       NaN   \n",
       "410                 NaN                NaN                       NaN   \n",
       "\n",
       "     totalTestsPeopleAntigen  totalTestsPeopleViral  \\\n",
       "0                   580372.0              4963875.0   \n",
       "1                   578153.0              4954566.0   \n",
       "2                   574434.0              4945245.0   \n",
       "3                   571445.0              4934661.0   \n",
       "4                   568678.0              4924697.0   \n",
       "..                       ...                    ...   \n",
       "406                      NaN                    NaN   \n",
       "407                      NaN                    NaN   \n",
       "408                      NaN                    NaN   \n",
       "409                      NaN                    NaN   \n",
       "410                      NaN                    NaN   \n",
       "\n",
       "     totalTestsPeopleViralIncrease  totalTestsViral  totalTestsViralIncrease  \n",
       "0                             9309         16825551                    96578  \n",
       "1                             9321         16728973                   100359  \n",
       "2                            10584         16628614                   106263  \n",
       "3                             9964         16522351                   102362  \n",
       "4                            10064         16419989                   102052  \n",
       "..                             ...              ...                      ...  \n",
       "406                              0                2                        0  \n",
       "407                              0                2                        0  \n",
       "408                              0                2                        0  \n",
       "409                              0                2                        1  \n",
       "410                              0                1                        1  \n",
       "\n",
       "[411 rows x 41 columns]"
      ]
     },
     "metadata": {},
     "output_type": "display_data"
    }
   ],
   "source": [
    "df"
   ]
  },
  {
   "cell_type": "code",
   "execution_count": 9,
   "id": "bd1e2d5b",
   "metadata": {},
   "outputs": [
    {
     "data": {
      "application/vnd.jupyter.widget-view+json": {
       "model_id": "b1fa8275072f4187ae5ed77685b3894b"
      },
      "text/plain": [
       "         date state    death  deathConfirmed  deathIncrease  deathProbable  \\\n",
       "0  2021-03-07    MA  16417.0         16085.0             43          332.0   \n",
       "1  2021-03-06    MA  16374.0         16044.0             52          330.0   \n",
       "2  2021-03-05    MA  16322.0         15992.0             26          330.0   \n",
       "3  2021-03-04    MA  16296.0         15967.0             44          329.0   \n",
       "4  2021-03-03    MA  16252.0         15925.0             70          327.0   \n",
       "5  2021-03-02    MA  16182.0         15859.0             38          323.0   \n",
       "6  2021-03-01    MA  16144.0         15822.0             26          322.0   \n",
       "7  2021-02-28    MA  16118.0         15796.0             51          322.0   \n",
       "8  2021-02-27    MA  16067.0         15744.0             43          323.0   \n",
       "9  2021-02-26    MA  16024.0         15703.0             46          321.0   \n",
       "\n",
       "   hospitalized  hospitalizedCumulative  hospitalizedCurrently  \\\n",
       "0       19713.0                 19713.0                  665.0   \n",
       "1       19713.0                 19713.0                  687.0   \n",
       "2       19713.0                 19713.0                  716.0   \n",
       "3       19713.0                 19713.0                  741.0   \n",
       "4       19713.0                 19713.0                  755.0   \n",
       "5       19444.0                 19444.0                  775.0   \n",
       "6       19444.0                 19444.0                  788.0   \n",
       "7       19444.0                 19444.0                  760.0   \n",
       "8       19444.0                 19444.0                  785.0   \n",
       "9       19444.0                 19444.0                  807.0   \n",
       "\n",
       "   hospitalizedIncrease  ...  totalTestResults  totalTestResultsIncrease  \\\n",
       "0                     0  ...          16825551                     96578   \n",
       "1                     0  ...          16728973                    100359   \n",
       "2                     0  ...          16628614                    106263   \n",
       "3                     0  ...          16522351                    102362   \n",
       "4                   269  ...          16419989                    102052   \n",
       "5                     0  ...          16317937                     56007   \n",
       "6                     0  ...          16261930                     53839   \n",
       "7                     0  ...          16208091                    102571   \n",
       "8                     0  ...          16105520                    108261   \n",
       "9                     0  ...          15997259                    102584   \n",
       "\n",
       "   totalTestsAntibody  totalTestsAntigen  totalTestsPeopleAntibody  \\\n",
       "0                 NaN                NaN                  156185.0   \n",
       "1                 NaN                NaN                  156185.0   \n",
       "2                 NaN                NaN                  156185.0   \n",
       "3                 NaN                NaN                  156185.0   \n",
       "4                 NaN                NaN                  154697.0   \n",
       "5                 NaN                NaN                  154697.0   \n",
       "6                 NaN                NaN                  154697.0   \n",
       "7                 NaN                NaN                  154697.0   \n",
       "8                 NaN                NaN                  154697.0   \n",
       "9                 NaN                NaN                  154697.0   \n",
       "\n",
       "   totalTestsPeopleAntigen  totalTestsPeopleViral  \\\n",
       "0                 580372.0              4963875.0   \n",
       "1                 578153.0              4954566.0   \n",
       "2                 574434.0              4945245.0   \n",
       "3                 571445.0              4934661.0   \n",
       "4                 568678.0              4924697.0   \n",
       "5                 564788.0              4914633.0   \n",
       "6                 561797.0              4906907.0   \n",
       "7                 559897.0              4898841.0   \n",
       "8                 557826.0              4888954.0   \n",
       "9                 554801.0              4878999.0   \n",
       "\n",
       "   totalTestsPeopleViralIncrease  totalTestsViral  totalTestsViralIncrease  \n",
       "0                           9309         16825551                    96578  \n",
       "1                           9321         16728973                   100359  \n",
       "2                          10584         16628614                   106263  \n",
       "3                           9964         16522351                   102362  \n",
       "4                          10064         16419989                   102052  \n",
       "5                           7726         16317937                    56007  \n",
       "6                           8066         16261930                    53839  \n",
       "7                           9887         16208091                   102571  \n",
       "8                           9955         16105520                   108261  \n",
       "9                          11203         15997259                   102584  \n",
       "\n",
       "[10 rows x 41 columns]"
      ]
     },
     "metadata": {},
     "output_type": "display_data"
    }
   ],
   "source": [
    "df.head(10)"
   ]
  },
  {
   "cell_type": "code",
   "execution_count": 43,
   "id": "841664cc",
   "metadata": {},
   "outputs": [],
   "source": [
    "columns_to_drop = [\n",
    "    'state',\n",
    "    'hospitalized',\n",
    "    'inIcuCumulative',\n",
    "    'negativeTestsAntibody',\n",
    "    'negativeTestsPeopleAntibody',\n",
    "    'negativeTestViral',\n",
    "    'onVentilatorCumulative',\n",
    "    'positiveScore',\n",
    "    'positiveTestsAntibody',\n",
    "    'positiveTestsAntigen',\n",
    "    'positiveTestsPeopleAntigen',\n",
    "    'totalTestEncountersViral',\n",
    "    'totalTestEncountersViralIncrease',\n",
    "    'totalTestsAntibody',\n",
    "    'totalTestsAntigen',\n",
    "    'totalTestsViral',\n",
    "    'totalTestsViralIncrease'\n",
    "]\n",
    "\n",
    "df.drop(columns=columns_to_drop, inplace=True, errors='ignore')"
   ]
  },
  {
   "cell_type": "code",
   "execution_count": 12,
   "id": "60b9a878",
   "metadata": {},
   "outputs": [
    {
     "data": {
      "application/vnd.jupyter.widget-view+json": {
       "model_id": "27d4e9599ee24b9e950c4d2edfcf50e5"
      },
      "text/plain": [
       "                                      93          275         213         13   \\\n",
       "date                           2020-12-04  2020-06-05  2020-08-06  2021-02-22   \n",
       "death                             10910.0      7235.0      8691.0     15853.0   \n",
       "deathConfirmed                    10674.0      7097.0      8470.0     15534.0   \n",
       "deathIncrease                          36          34          32          27   \n",
       "deathProbable                       236.0       138.0       221.0       319.0   \n",
       "hospitalizedCumulative            14397.0     10303.0     12007.0     19176.0   \n",
       "hospitalizedCurrently              1394.0      1533.0       403.0       888.0   \n",
       "hospitalizedIncrease                    0          65          14           0   \n",
       "inIcuCurrently                      278.0       350.0        73.0       229.0   \n",
       "negative                        3207957.0    532212.0   1151344.0   4292030.0   \n",
       "negativeIncrease                    21018        9340       11393        7086   \n",
       "negativeTestsViral                    NaN         NaN         NaN         NaN   \n",
       "onVentilatorCurrently               134.0       238.0        32.0       140.0   \n",
       "positive                         246398.0    102557.0    119874.0    570546.0   \n",
       "positiveCasesViral               237456.0     98796.0    111533.0    540794.0   \n",
       "positiveIncrease                     5491         494         231        1262   \n",
       "positiveTestsPeopleAntibody       12193.0         NaN         NaN     14895.0   \n",
       "positiveTestsViral                 295839      128793      148701      646850   \n",
       "recovered                        169809.0     84621.0     99021.0    477796.0   \n",
       "totalTestResults                  8774697      812059     1721559    15599873   \n",
       "totalTestResultsIncrease            96701       11524       23143       49929   \n",
       "totalTestsPeopleAntibody         133429.0     49556.0     99768.0    153152.0   \n",
       "totalTestsPeopleAntigen          275819.0         NaN         NaN    541220.0   \n",
       "totalTestsPeopleViral           3445413.0    631008.0   1262877.0   4832824.0   \n",
       "totalTestsPeopleViralIncrease       26210        9760       11555        8236   \n",
       "\n",
       "                                      119  \n",
       "date                           2020-11-08  \n",
       "death                             10149.0  \n",
       "deathConfirmed                     9923.0  \n",
       "deathIncrease                          20  \n",
       "deathProbable                       226.0  \n",
       "hospitalizedCumulative            13373.0  \n",
       "hospitalizedCurrently               568.0  \n",
       "hospitalizedIncrease                    0  \n",
       "inIcuCurrently                      144.0  \n",
       "negative                        2730521.0  \n",
       "negativeIncrease                    18330  \n",
       "negativeTestsViral                    NaN  \n",
       "onVentilatorCurrently                62.0  \n",
       "positive                         171399.0  \n",
       "positiveCasesViral               166745.0  \n",
       "positiveIncrease                     1823  \n",
       "positiveTestsPeopleAntibody       11842.0  \n",
       "positiveTestsViral                 214280  \n",
       "recovered                        131646.0  \n",
       "totalTestResults                  6720526  \n",
       "totalTestResultsIncrease            80572  \n",
       "totalTestsPeopleAntibody         128053.0  \n",
       "totalTestsPeopleAntigen          203073.0  \n",
       "totalTestsPeopleViral           2897266.0  \n",
       "totalTestsPeopleViralIncrease       20139  "
      ]
     },
     "metadata": {},
     "output_type": "display_data"
    }
   ],
   "source": [
    "df.sample(5).T"
   ]
  },
  {
   "cell_type": "code",
   "execution_count": 13,
   "id": "225f2889",
   "metadata": {},
   "outputs": [
    {
     "data": {
      "application/vnd.jupyter.widget-view+json": {
       "model_id": "bd2e15f8fe654d1094e628b9ae2e9af7"
      },
      "text/plain": [
       "              date         death  deathConfirmed  deathIncrease  \\\n",
       "count          411    355.000000      309.000000     411.000000   \n",
       "unique         411           NaN             NaN            NaN   \n",
       "top     2021-03-07           NaN             NaN            NaN   \n",
       "freq             1           NaN             NaN            NaN   \n",
       "mean           NaN   9001.850704     9939.190939      39.944039   \n",
       "std            NaN   4018.084799     2770.754902      42.868879   \n",
       "min            NaN      2.000000     4004.000000     -41.000000   \n",
       "25%            NaN   7635.500000     8213.000000      11.000000   \n",
       "50%            NaN   9180.000000     9295.000000      26.000000   \n",
       "75%            NaN  11121.000000    11465.000000      55.000000   \n",
       "max            NaN  16417.000000    16085.000000     252.000000   \n",
       "\n",
       "        deathProbable  hospitalizedCumulative  hospitalizedCurrently  \\\n",
       "count      280.000000              352.000000             338.000000   \n",
       "unique            NaN                     NaN                    NaN   \n",
       "top               NaN                     NaN                    NaN   \n",
       "freq              NaN                     NaN                    NaN   \n",
       "mean       235.750000            12131.892045            1313.405325   \n",
       "std         42.025274             4566.262957            1006.610011   \n",
       "min        136.000000               61.000000             290.000000   \n",
       "25%        215.000000            10910.500000             499.250000   \n",
       "50%        225.500000            12428.500000             933.000000   \n",
       "75%        258.000000            14503.500000            1991.000000   \n",
       "max        332.000000            19713.000000            3977.000000   \n",
       "\n",
       "        hospitalizedIncrease  inIcuCurrently      negative  ...  \\\n",
       "count             411.000000      327.000000  3.600000e+02  ...   \n",
       "unique                   NaN             NaN           NaN  ...   \n",
       "top                      NaN             NaN           NaN  ...   \n",
       "freq                     NaN             NaN           NaN  ...   \n",
       "mean               47.963504      287.015291  1.924693e+06  ...   \n",
       "std               102.890333      262.224655  1.449497e+06  ...   \n",
       "min               -91.000000       47.000000  9.200000e+01  ...   \n",
       "25%                 0.000000       84.500000  5.757992e+05  ...   \n",
       "50%                10.000000      199.000000  1.761343e+06  ...   \n",
       "75%                34.500000      411.000000  3.265508e+06  ...   \n",
       "max               971.000000     1089.000000  4.404792e+06  ...   \n",
       "\n",
       "        positiveIncrease  positiveTestsPeopleAntibody  positiveTestsViral  \\\n",
       "count         411.000000                   122.000000          411.000000   \n",
       "unique               NaN                          NaN                 NaN   \n",
       "top                  NaN                          NaN                 NaN   \n",
       "freq                 NaN                          NaN                 NaN   \n",
       "mean         1438.822384                 13242.663934       206835.328467   \n",
       "std          1836.895292                  1121.706732       192159.733119   \n",
       "min         -7757.000000                 11842.000000            0.000000   \n",
       "25%           232.000000                 12193.000000        83805.000000   \n",
       "50%           669.000000                 12915.000000       150223.000000   \n",
       "75%          2036.500000                 14275.000000       259444.000000   \n",
       "max          9003.000000                 15425.000000       668145.000000   \n",
       "\n",
       "            recovered  totalTestResults  totalTestResultsIncrease  \\\n",
       "count      284.000000      4.110000e+02                411.000000   \n",
       "unique            NaN               NaN                       NaN   \n",
       "top               NaN               NaN                       NaN   \n",
       "freq              NaN               NaN                       NaN   \n",
       "mean    184355.890845      4.480452e+06              40938.077859   \n",
       "std     126671.341160      5.064169e+06              38421.004316   \n",
       "min      78108.000000      1.000000e+00                  0.000000   \n",
       "25%      99021.000000      3.944020e+05               7414.000000   \n",
       "50%     118892.000000      1.853032e+06              22176.000000   \n",
       "75%     229910.000000      8.065778e+06              71320.000000   \n",
       "max     508745.000000      1.682555e+07             143342.000000   \n",
       "\n",
       "        totalTestsPeopleAntibody  totalTestsPeopleAntigen  \\\n",
       "count                 279.000000               208.000000   \n",
       "unique                       NaN                      NaN   \n",
       "top                          NaN                      NaN   \n",
       "freq                         NaN                      NaN   \n",
       "mean               117576.043011            277565.307692   \n",
       "std                 28315.933825            158647.623123   \n",
       "min                 46565.000000             62738.000000   \n",
       "25%                101961.000000            136166.500000   \n",
       "50%                124340.000000            248248.000000   \n",
       "75%                139022.000000            417204.250000   \n",
       "max                156185.000000            580372.000000   \n",
       "\n",
       "        totalTestsPeopleViral  totalTestsPeopleViralIncrease  \n",
       "count            2.990000e+02                     411.000000  \n",
       "unique                    NaN                            NaN  \n",
       "top                       NaN                            NaN  \n",
       "freq                      NaN                            NaN  \n",
       "mean             2.516167e+06                   12077.554745  \n",
       "std              1.452953e+06                   21183.568231  \n",
       "min              4.014960e+05                       0.000000  \n",
       "25%              1.118648e+06                       0.000000  \n",
       "50%              2.380392e+06                   11350.000000  \n",
       "75%              3.859957e+06                   17737.000000  \n",
       "max              4.963875e+06                  401496.000000  \n",
       "\n",
       "[11 rows x 25 columns]"
      ]
     },
     "metadata": {},
     "output_type": "display_data"
    }
   ],
   "source": [
    "df.describe(include='all')"
   ]
  },
  {
   "cell_type": "code",
   "execution_count": 44,
   "id": "bf9744d2",
   "metadata": {},
   "outputs": [],
   "source": [
    "df['date'] =  pd.to_datetime(df['date'], infer_datetime_format=True)"
   ]
  },
  {
   "cell_type": "code",
   "execution_count": 15,
   "id": "e9c3b075",
   "metadata": {},
   "outputs": [
    {
     "data": {
      "text/plain": [
       "Text(0, 0.5, 'Date')"
      ]
     },
     "execution_count": 15,
     "metadata": {},
     "output_type": "execute_result"
    },
    {
     "data": {
      "image/png": "[encoded data removed]",
      "text/plain": [
       "<Figure size 432x288 with 1 Axes>"
      ]
     },
     "metadata": {
      "needs_background": "light"
     },
     "output_type": "display_data"
    }
   ],
   "source": [
    "lines = df.plot.line(x='date', y='positiveIncrease', title='COVID-19 Positive Tests for Massachussetts (COVID-Tracking Project)')\n",
    "lines.set_xlabel(\"Number of Positive Tests\")\n",
    "lines.set_ylabel(\"Date\")"
   ]
  },
  {
   "cell_type": "code",
   "execution_count": 45,
   "id": "25e5175b",
   "metadata": {},
   "outputs": [],
   "source": [
    "# Remote the bad datapoint(s)\n",
    "\n",
    "rows_with_negative = df[df['positiveIncrease'] < 0]"
   ]
  },
  {
   "cell_type": "code",
   "execution_count": 46,
   "id": "fd0932fa",
   "metadata": {},
   "outputs": [],
   "source": [
    "df.loc[df['positiveIncrease'] < 0, ['positiveIncrease']] = 0"
   ]
  },
  {
   "cell_type": "code",
   "execution_count": 25,
   "id": "de95ee9b",
   "metadata": {},
   "outputs": [
    {
     "data": {
      "text/plain": [
       "Text(0, 0.5, 'Date')"
      ]
     },
     "execution_count": 25,
     "metadata": {},
     "output_type": "execute_result"
    },
    {
     "data": {
      "image/png": "[encoded data removed]",
      "text/plain": [
       "<Figure size 640x480 with 1 Axes>"
      ]
     },
     "metadata": {},
     "output_type": "display_data"
    }
   ],
   "source": [
    "lines = df.plot.line(x='date', y='positiveIncrease', title='COVID-19 Positive Tests for Massachussetts (COVID-Tracking Project)')\n",
    "lines.set_xlabel(\"Number of Positive Tests\")\n",
    "lines.set_ylabel(\"Date\")\n"
   ]
  },
  {
   "cell_type": "code",
   "execution_count": 47,
   "id": "5cf9b9f0",
   "metadata": {},
   "outputs": [
    {
     "data": {
      "text/plain": [
       "Text(0, 0.5, 'Date')"
      ]
     },
     "execution_count": 47,
     "metadata": {},
     "output_type": "execute_result"
    },
    {
     "data": {
      "image/png": "[encoded data removed]",
      "text/plain": [
       "<Figure size 432x288 with 1 Axes>"
      ]
     },
     "metadata": {
      "needs_background": "light"
     },
     "output_type": "display_data"
    }
   ],
   "source": [
    "df.loc[df['negativeIncrease'] < 0, ['negativeIncrease']] = 0\n",
    "lines = df.plot.line(x='date', y='negativeIncrease', title='COVID-19 Negative Tests for Massachussetts (COVID-Tracking Project)')\n",
    "lines.set_xlabel(\"Number of Negative Tests\")\n",
    "lines.set_ylabel(\"Date\")"
   ]
  },
  {
   "cell_type": "code",
   "execution_count": 48,
   "id": "2800d7be",
   "metadata": {},
   "outputs": [],
   "source": [
    "df = df.drop(columns=['negativeTestsViral'])\n",
    "df = df.drop(columns=['positiveTestsPeopleAntibody'])"
   ]
  },
  {
   "cell_type": "code",
   "execution_count": 49,
   "id": "42e0737e",
   "metadata": {},
   "outputs": [
    {
     "data": {
      "image/png": "[encoded data removed]",
      "text/plain": [
       "<Figure size 432x288 with 2 Axes>"
      ]
     },
     "metadata": {
      "needs_background": "light"
     },
     "output_type": "display_data"
    },
    {
     "data": {
      "text/plain": [
       "<Figure size 720x792 with 0 Axes>"
      ]
     },
     "metadata": {},
     "output_type": "display_data"
    }
   ],
   "source": [
    "matrix = df.corr().round(2)\n",
    "x=matrix[['recovered','deathProbable','onVentilatorCurrently','totalTestsPeopleAntibody']]\n",
    "sns.heatmap(x, annot=True)\n",
    "f = plt.figure()\n",
    "f.set_figwidth(10)\n",
    "f.set_figheight(11)\n",
    "plt.show()"
   ]
  },
  {
   "cell_type": "code",
   "execution_count": 50,
   "id": "1b5557ff",
   "metadata": {},
   "outputs": [
    {
     "data": {
      "application/vnd.jupyter.widget-view+json": {
       "model_id": "0df9bcfac31e4b6e8860470f5e5f3f87"
      },
      "text/plain": [
       "          date    death  deathConfirmed  deathIncrease  deathProbable  \\\n",
       "0   2021-03-07  16417.0         16085.0             43         332.00   \n",
       "1   2021-03-06  16374.0         16044.0             52         330.00   \n",
       "2   2021-03-05  16322.0         15992.0             26         330.00   \n",
       "3   2021-03-04  16296.0         15967.0             44         329.00   \n",
       "4   2021-03-03  16252.0         15925.0             70         327.00   \n",
       "..         ...      ...             ...            ...            ...   \n",
       "406 2020-01-26      NaN             NaN              0         235.75   \n",
       "407 2020-01-25      NaN             NaN              0         235.75   \n",
       "408 2020-01-24      NaN             NaN              0         235.75   \n",
       "409 2020-01-23      NaN             NaN              0         235.75   \n",
       "410 2020-01-22      NaN             NaN              0         235.75   \n",
       "\n",
       "     hospitalizedCumulative  hospitalizedCurrently  hospitalizedIncrease  \\\n",
       "0                   19713.0                  665.0                     0   \n",
       "1                   19713.0                  687.0                     0   \n",
       "2                   19713.0                  716.0                     0   \n",
       "3                   19713.0                  741.0                     0   \n",
       "4                   19713.0                  755.0                   269   \n",
       "..                      ...                    ...                   ...   \n",
       "406                     NaN                    NaN                     0   \n",
       "407                     NaN                    NaN                     0   \n",
       "408                     NaN                    NaN                     0   \n",
       "409                     NaN                    NaN                     0   \n",
       "410                     NaN                    NaN                     0   \n",
       "\n",
       "     inIcuCurrently   negative  ...  positiveIncrease  positiveTestsViral  \\\n",
       "0             174.0  4404792.0  ...              1425              668145   \n",
       "1             176.0  4396764.0  ...              1722              666605   \n",
       "2             180.0  4388938.0  ...              1899              664893   \n",
       "3             168.0  4380031.0  ...              1567              662972   \n",
       "4             173.0  4371477.0  ...              1899              661370   \n",
       "..              ...        ...  ...               ...                 ...   \n",
       "406             NaN        NaN  ...                 0                   0   \n",
       "407             NaN        NaN  ...                 0                   0   \n",
       "408             NaN        NaN  ...                 0                   0   \n",
       "409             NaN        NaN  ...                 0                   0   \n",
       "410             NaN        NaN  ...                 0                   0   \n",
       "\n",
       "     recovered  totalTestResults  totalTestResultsIncrease  \\\n",
       "0     508745.0          16825551                     96578   \n",
       "1     508745.0          16728973                    100359   \n",
       "2     508745.0          16628614                    106263   \n",
       "3     508745.0          16522351                    102362   \n",
       "4     494740.0          16419989                    102052   \n",
       "..         ...               ...                       ...   \n",
       "406        NaN                 2                         0   \n",
       "407        NaN                 2                         0   \n",
       "408        NaN                 2                         0   \n",
       "409        NaN                 2                         1   \n",
       "410        NaN                 1                         0   \n",
       "\n",
       "     totalTestsPeopleAntibody  totalTestsPeopleAntigen  totalTestsPeopleViral  \\\n",
       "0               156185.000000            580372.000000              4963875.0   \n",
       "1               156185.000000            578153.000000              4954566.0   \n",
       "2               156185.000000            574434.000000              4945245.0   \n",
       "3               156185.000000            571445.000000              4934661.0   \n",
       "4               154697.000000            568678.000000              4924697.0   \n",
       "..                        ...                      ...                    ...   \n",
       "406             117576.043011            277565.307692                    NaN   \n",
       "407             117576.043011            277565.307692                    NaN   \n",
       "408             117576.043011            277565.307692                    NaN   \n",
       "409             117576.043011            277565.307692                    NaN   \n",
       "410             117576.043011            277565.307692                    NaN   \n",
       "\n",
       "     totalTestsPeopleViralIncrease  recovered_imputed  \n",
       "0                             9309      508745.000000  \n",
       "1                             9321      508745.000000  \n",
       "2                            10584      508745.000000  \n",
       "3                             9964      508745.000000  \n",
       "4                            10064      494740.000000  \n",
       "..                             ...                ...  \n",
       "406                              0      184355.890845  \n",
       "407                              0      184355.890845  \n",
       "408                              0      184355.890845  \n",
       "409                              0      184355.890845  \n",
       "410                              0      184355.890845  \n",
       "\n",
       "[411 rows x 24 columns]"
      ]
     },
     "metadata": {},
     "output_type": "display_data"
    }
   ],
   "source": [
    "imputer=KNNImputer(n_neighbors=5)\n",
    "df['totalTestsPeopleAntigen']=imputer.fit_transform(df[['totalTestsPeopleAntigen']])\n",
    "df['recovered_imputed']=imputer.fit_transform(df[['recovered']])\n",
    "df['deathProbable']=imputer.fit_transform(df[['deathProbable']])\n",
    "df['onVentilatorCurrently']=imputer.fit_transform(df[['onVentilatorCurrently']])\n",
    "df['totalTestsPeopleAntibody']=imputer.fit_transform(df[['totalTestsPeopleAntibody']])\n",
    "df"
   ]
  },
  {
   "cell_type": "code",
   "execution_count": 71,
   "id": "b7d68669",
   "metadata": {},
   "outputs": [
    {
     "name": "stderr",
     "output_type": "stream",
     "text": [
      "C:\\Users\\sneha\\Anaconda3\\envs\\bamboolib\\lib\\site-packages\\scipy\\stats\\stats.py:1713: FutureWarning:\n",
      "\n",
      "Using a non-tuple sequence for multidimensional indexing is deprecated; use `arr[tuple(seq)]` instead of `arr[seq]`. In the future this will be interpreted as an array index, `arr[np.array(seq)]`, which will result either in an error or a different result.\n",
      "\n"
     ]
    },
    {
     "data": {
      "text/plain": [
       "<AxesSubplot:xlabel='death'>"
      ]
     },
     "execution_count": 71,
     "metadata": {},
     "output_type": "execute_result"
    },
    {
     "data": {
      "image/png": "[encoded data removed]",
      "text/plain": [
       "<Figure size 432x288 with 1 Axes>"
      ]
     },
     "metadata": {
      "needs_background": "light"
     },
     "output_type": "display_data"
    }
   ],
   "source": [
    "sns.distplot(df['death'], hist=False, rug=True)"
   ]
  },
  {
   "cell_type": "code",
   "execution_count": 72,
   "id": "f4ceb8b8",
   "metadata": {},
   "outputs": [
    {
     "name": "stderr",
     "output_type": "stream",
     "text": [
      "C:\\Users\\sneha\\Anaconda3\\envs\\bamboolib\\lib\\site-packages\\scipy\\stats\\stats.py:1713: FutureWarning:\n",
      "\n",
      "Using a non-tuple sequence for multidimensional indexing is deprecated; use `arr[tuple(seq)]` instead of `arr[seq]`. In the future this will be interpreted as an array index, `arr[np.array(seq)]`, which will result either in an error or a different result.\n",
      "\n"
     ]
    },
    {
     "data": {
      "text/plain": [
       "<AxesSubplot:xlabel='deathIncrease'>"
      ]
     },
     "execution_count": 72,
     "metadata": {},
     "output_type": "execute_result"
    },
    {
     "data": {
      "image/png": "[encoded data removed]",
      "text/plain": [
       "<Figure size 432x288 with 1 Axes>"
      ]
     },
     "metadata": {
      "needs_background": "light"
     },
     "output_type": "display_data"
    }
   ],
   "source": [
    "sns.distplot(df['deathIncrease'], hist=False, rug=True)"
   ]
  },
  {
   "cell_type": "code",
   "execution_count": 75,
   "id": "1a8c834a",
   "metadata": {},
   "outputs": [
    {
     "name": "stderr",
     "output_type": "stream",
     "text": [
      "C:\\Users\\sneha\\Anaconda3\\envs\\bamboolib\\lib\\site-packages\\scipy\\stats\\stats.py:1713: FutureWarning:\n",
      "\n",
      "Using a non-tuple sequence for multidimensional indexing is deprecated; use `arr[tuple(seq)]` instead of `arr[seq]`. In the future this will be interpreted as an array index, `arr[np.array(seq)]`, which will result either in an error or a different result.\n",
      "\n"
     ]
    },
    {
     "data": {
      "text/plain": [
       "<AxesSubplot:xlabel='deathConfirmed'>"
      ]
     },
     "execution_count": 75,
     "metadata": {},
     "output_type": "execute_result"
    },
    {
     "data": {
      "image/png": "[encoded data removed]",
      "text/plain": [
       "<Figure size 432x288 with 1 Axes>"
      ]
     },
     "metadata": {
      "needs_background": "light"
     },
     "output_type": "display_data"
    }
   ],
   "source": [
    "sns.distplot(df['deathConfirmed'], hist=False, rug=True)"
   ]
  },
  {
   "cell_type": "code",
   "execution_count": 85,
   "id": "7f40d39c",
   "metadata": {},
   "outputs": [],
   "source": [
    "df['death'].fillna(df['death'].median(),inplace=True)\n",
    "df['deathIncrease'].fillna(method ='pad',inplace=True)\n",
    "df['deathConfirmed'].fillna(method ='pad',inplace=True)\n",
    "df['hospitalizedCumulative'].fillna(method ='pad',inplace=True)\n",
    "df['hospitalizedCurrently'].fillna(method ='pad',inplace=True)\n",
    "df['inIcuCurrently'].fillna(method ='pad',inplace=True)\n",
    "df['negative'].fillna(method ='pad',inplace=True)\n",
    "df['positive'].fillna(method ='pad',inplace=True)\n",
    "df['positiveCasesViral'].fillna(method ='pad',inplace=True)\n",
    "df['totalTestsPeopleViral'].fillna(method ='pad',inplace=True)"
   ]
  },
  {
   "cell_type": "code",
   "execution_count": 96,
   "id": "4525b81a",
   "metadata": {},
   "outputs": [],
   "source": [
    "import calendar\n",
    "df['year']=df['date'].dt.year\n",
    "df['month']=df['date'].dt.month\n",
    "df['day']=df['date'].dt.day\n",
    "df['day'] = df['day'].astype('string')\n",
    "df['month']=df['month'].apply(lambda x: calendar.month_abbr[x])"
   ]
  },
  {
   "cell_type": "code",
   "execution_count": 98,
   "id": "17fafed0",
   "metadata": {},
   "outputs": [
    {
     "data": {
      "application/vnd.jupyter.widget-view+json": {
       "model_id": "8652ee27aa814379879a4e24dee3c5e9"
      },
      "text/plain": [
       "              death  deathConfirmed  deathIncrease  deathProbable  \\\n",
       "count    411.000000      411.000000     411.000000     411.000000   \n",
       "mean    9026.124088     8466.223844      39.944039     235.750000   \n",
       "std     3734.110091     3515.098040      42.868879      34.667357   \n",
       "min        2.000000     4004.000000     -41.000000     136.000000   \n",
       "25%     8057.000000     4047.000000      11.000000     220.000000   \n",
       "50%     9180.000000     8582.000000      26.000000     235.750000   \n",
       "75%    10577.500000    10345.500000      55.000000     235.750000   \n",
       "max    16417.000000    16085.000000     252.000000     332.000000   \n",
       "\n",
       "       hospitalizedCumulative  hospitalizedCurrently  hospitalizedIncrease  \\\n",
       "count              411.000000             411.000000            411.000000   \n",
       "mean             10399.087591            1323.457421             47.963504   \n",
       "std               5983.966843             912.864906            102.890333   \n",
       "min                 61.000000             290.000000            -91.000000   \n",
       "25%               6564.500000             533.500000              0.000000   \n",
       "50%              12150.000000            1370.000000             10.000000   \n",
       "75%              13817.000000            1743.000000             34.500000   \n",
       "max              19713.000000            3977.000000            971.000000   \n",
       "\n",
       "       inIcuCurrently      negative  negativeIncrease  ...  \\\n",
       "count      411.000000  4.110000e+02        411.000000  ...   \n",
       "mean       427.216545  1.685874e+06      10717.255474  ...   \n",
       "std        362.463999  1.497755e+06       7124.581842  ...   \n",
       "min         47.000000  9.200000e+01          0.000000  ...   \n",
       "25%         96.000000  2.508700e+05       5763.500000  ...   \n",
       "50%        307.000000  1.289001e+06      10594.000000  ...   \n",
       "75%        917.500000  3.047594e+06      15478.500000  ...   \n",
       "max       1089.000000  4.404792e+06      37244.000000  ...   \n",
       "\n",
       "       positiveTestsViral      recovered  totalTestResults  \\\n",
       "count          411.000000     284.000000      4.110000e+02   \n",
       "mean        206835.328467  184355.890845      4.480452e+06   \n",
       "std         192159.733119  126671.341160      5.064169e+06   \n",
       "min              0.000000   78108.000000      1.000000e+00   \n",
       "25%          83805.000000   99021.000000      3.944020e+05   \n",
       "50%         150223.000000  118892.000000      1.853032e+06   \n",
       "75%         259444.000000  229910.000000      8.065778e+06   \n",
       "max         668145.000000  508745.000000      1.682555e+07   \n",
       "\n",
       "       totalTestResultsIncrease  totalTestsPeopleAntibody  \\\n",
       "count                411.000000                411.000000   \n",
       "mean               40938.077859             117576.043011   \n",
       "std                38421.004316              23316.392545   \n",
       "min                    0.000000              46565.000000   \n",
       "25%                 7414.000000             116386.500000   \n",
       "50%                22176.000000             117576.043011   \n",
       "75%                71320.000000             130696.000000   \n",
       "max               143342.000000             156185.000000   \n",
       "\n",
       "       totalTestsPeopleAntigen  totalTestsPeopleViral  \\\n",
       "count               411.000000           4.110000e+02   \n",
       "mean             277565.307692           1.939906e+06   \n",
       "std              112726.705373           1.556623e+06   \n",
       "min               62738.000000           4.014960e+05   \n",
       "25%              245180.500000           4.014960e+05   \n",
       "50%              277565.307692           1.402730e+06   \n",
       "75%              277565.307692           3.253266e+06   \n",
       "max              580372.000000           4.963875e+06   \n",
       "\n",
       "       totalTestsPeopleViralIncrease  recovered_imputed         year  \n",
       "count                     411.000000         411.000000   411.000000  \n",
       "mean                    12077.554745      184355.890845  2020.160584  \n",
       "std                     21183.568231      105239.713755     0.367594  \n",
       "min                         0.000000       78108.000000  2020.000000  \n",
       "25%                         0.000000      105769.000000  2020.000000  \n",
       "50%                     11350.000000      184355.890845  2020.000000  \n",
       "75%                     17737.000000      184355.890845  2020.000000  \n",
       "max                    401496.000000      508745.000000  2021.000000  \n",
       "\n",
       "[8 rows x 24 columns]"
      ]
     },
     "metadata": {},
     "output_type": "display_data"
    }
   ],
   "source": [
    "df.describe()"
   ]
  },
  {
   "cell_type": "code",
   "execution_count": 106,
   "id": "1214b578",
   "metadata": {},
   "outputs": [
    {
     "data": {
      "application/vnd.jupyter.widget-view+json": {
       "model_id": "67f19b17945c435db4f68167f6fe61c9"
      },
      "text/plain": [
       "          date    death  deathConfirmed  deathIncrease  deathProbable  \\\n",
       "0   2021-03-07  16417.0         16085.0             43         332.00   \n",
       "1   2021-03-06  16374.0         16044.0             52         330.00   \n",
       "2   2021-03-05  16322.0         15992.0             26         330.00   \n",
       "3   2021-03-04  16296.0         15967.0             44         329.00   \n",
       "4   2021-03-03  16252.0         15925.0             70         327.00   \n",
       "..         ...      ...             ...            ...            ...   \n",
       "406 2020-01-26   9180.0          4004.0              0         235.75   \n",
       "407 2020-01-25   9180.0          4004.0              0         235.75   \n",
       "408 2020-01-24   9180.0          4004.0              0         235.75   \n",
       "409 2020-01-23   9180.0          4004.0              0         235.75   \n",
       "410 2020-01-22   9180.0          4004.0              0         235.75   \n",
       "\n",
       "     hospitalizedCumulative  hospitalizedCurrently  hospitalizedIncrease  \\\n",
       "0                   19713.0                  665.0                     0   \n",
       "1                   19713.0                  687.0                     0   \n",
       "2                   19713.0                  716.0                     0   \n",
       "3                   19713.0                  741.0                     0   \n",
       "4                   19713.0                  755.0                   269   \n",
       "..                      ...                    ...                   ...   \n",
       "406                    61.0                 1370.0                     0   \n",
       "407                    61.0                 1370.0                     0   \n",
       "408                    61.0                 1370.0                     0   \n",
       "409                    61.0                 1370.0                     0   \n",
       "410                    61.0                 1370.0                     0   \n",
       "\n",
       "     inIcuCurrently   negative  ...  totalTestsPeopleAntibody  \\\n",
       "0             174.0  4404792.0  ...             156185.000000   \n",
       "1             176.0  4396764.0  ...             156185.000000   \n",
       "2             180.0  4388938.0  ...             156185.000000   \n",
       "3             168.0  4380031.0  ...             156185.000000   \n",
       "4             173.0  4371477.0  ...             154697.000000   \n",
       "..              ...        ...  ...                       ...   \n",
       "406           973.0       92.0  ...             117576.043011   \n",
       "407           973.0       92.0  ...             117576.043011   \n",
       "408           973.0       92.0  ...             117576.043011   \n",
       "409           973.0       92.0  ...             117576.043011   \n",
       "410           973.0       92.0  ...             117576.043011   \n",
       "\n",
       "     totalTestsPeopleAntigen  totalTestsPeopleViral  \\\n",
       "0              580372.000000              4963875.0   \n",
       "1              578153.000000              4954566.0   \n",
       "2              574434.000000              4945245.0   \n",
       "3              571445.000000              4934661.0   \n",
       "4              568678.000000              4924697.0   \n",
       "..                       ...                    ...   \n",
       "406            277565.307692               401496.0   \n",
       "407            277565.307692               401496.0   \n",
       "408            277565.307692               401496.0   \n",
       "409            277565.307692               401496.0   \n",
       "410            277565.307692               401496.0   \n",
       "\n",
       "     totalTestsPeopleViralIncrease  recovered_imputed  year  month  day  \\\n",
       "0                             9309      508745.000000  2021    Mar    7   \n",
       "1                             9321      508745.000000  2021    Mar    6   \n",
       "2                            10584      508745.000000  2021    Mar    5   \n",
       "3                             9964      508745.000000  2021    Mar    4   \n",
       "4                            10064      494740.000000  2021    Mar    3   \n",
       "..                             ...                ...   ...    ...  ...   \n",
       "406                              0      184355.890845  2020    Jan   26   \n",
       "407                              0      184355.890845  2020    Jan   25   \n",
       "408                              0      184355.890845  2020    Jan   24   \n",
       "409                              0      184355.890845  2020    Jan   23   \n",
       "410                              0      184355.890845  2020    Jan   22   \n",
       "\n",
       "     deathDecrease  hospitalizedDecreased  \n",
       "0              0.0                    0.0  \n",
       "1              0.0                    0.0  \n",
       "2              0.0                    0.0  \n",
       "3              0.0                    0.0  \n",
       "4              0.0                    0.0  \n",
       "..             ...                    ...  \n",
       "406            0.0                    0.0  \n",
       "407            0.0                    0.0  \n",
       "408            0.0                    0.0  \n",
       "409            0.0                    0.0  \n",
       "410            0.0                    0.0  \n",
       "\n",
       "[411 rows x 29 columns]"
      ]
     },
     "metadata": {},
     "output_type": "display_data"
    }
   ],
   "source": [
    "df['deathDecrease']=df['deathIncrease'][df['deathIncrease']<0]\n",
    "df[['deathDecrease']] = df[['deathDecrease']].fillna(0)\n",
    "df['hospitalizedDecreased']=df['hospitalizedIncrease'][df['hospitalizedIncrease']<0]\n",
    "df[['hospitalizedDecreased']] = df[['hospitalizedDecreased']].fillna(0)\n",
    "import pandas as pd; import numpy as np\n",
    "df['month'] = df['month'].astype('category')\n",
    "df['year'] = df['year'].astype('category')\n",
    "df"
   ]
  },
  {
   "cell_type": "code",
   "execution_count": 109,
   "id": "4c9f5c88",
   "metadata": {},
   "outputs": [],
   "source": [
    "from fastai.tabular.core import add_datepart"
   ]
  },
  {
   "cell_type": "code",
   "execution_count": 110,
   "id": "22a6a1f4",
   "metadata": {},
   "outputs": [],
   "source": [
    "df_1 = df.copy()"
   ]
  },
  {
   "cell_type": "code",
   "execution_count": 114,
   "id": "09f99dbb",
   "metadata": {},
   "outputs": [],
   "source": [
    "df_1 = add_datepart(df_1, 'date')"
   ]
  },
  {
   "cell_type": "code",
   "execution_count": 115,
   "id": "dbabcaaf",
   "metadata": {},
   "outputs": [
    {
     "data": {
      "application/vnd.jupyter.widget-view+json": {
       "model_id": "a7920482d8864496b493039f52b187f3"
      },
      "text/plain": [
       "       death  deathConfirmed  deathIncrease  deathProbable  \\\n",
       "0    16417.0         16085.0             43         332.00   \n",
       "1    16374.0         16044.0             52         330.00   \n",
       "2    16322.0         15992.0             26         330.00   \n",
       "3    16296.0         15967.0             44         329.00   \n",
       "4    16252.0         15925.0             70         327.00   \n",
       "..       ...             ...            ...            ...   \n",
       "406   9180.0          4004.0              0         235.75   \n",
       "407   9180.0          4004.0              0         235.75   \n",
       "408   9180.0          4004.0              0         235.75   \n",
       "409   9180.0          4004.0              0         235.75   \n",
       "410   9180.0          4004.0              0         235.75   \n",
       "\n",
       "     hospitalizedCumulative  hospitalizedCurrently  hospitalizedIncrease  \\\n",
       "0                   19713.0                  665.0                     0   \n",
       "1                   19713.0                  687.0                     0   \n",
       "2                   19713.0                  716.0                     0   \n",
       "3                   19713.0                  741.0                     0   \n",
       "4                   19713.0                  755.0                   269   \n",
       "..                      ...                    ...                   ...   \n",
       "406                    61.0                 1370.0                     0   \n",
       "407                    61.0                 1370.0                     0   \n",
       "408                    61.0                 1370.0                     0   \n",
       "409                    61.0                 1370.0                     0   \n",
       "410                    61.0                 1370.0                     0   \n",
       "\n",
       "     inIcuCurrently   negative  negativeIncrease  ...  Day  Dayofweek  \\\n",
       "0             174.0  4404792.0              8028  ...    7          6   \n",
       "1             176.0  4396764.0              7826  ...    6          5   \n",
       "2             180.0  4388938.0              8907  ...    5          4   \n",
       "3             168.0  4380031.0              8554  ...    4          3   \n",
       "4             173.0  4371477.0              8511  ...    3          2   \n",
       "..              ...        ...               ...  ...  ...        ...   \n",
       "406           973.0       92.0                 0  ...   26          6   \n",
       "407           973.0       92.0                 0  ...   25          5   \n",
       "408           973.0       92.0                 0  ...   24          4   \n",
       "409           973.0       92.0                 0  ...   23          3   \n",
       "410           973.0       92.0                 0  ...   22          2   \n",
       "\n",
       "     Dayofyear  Is_month_end  Is_month_start  Is_quarter_end  \\\n",
       "0           66         False           False           False   \n",
       "1           65         False           False           False   \n",
       "2           64         False           False           False   \n",
       "3           63         False           False           False   \n",
       "4           62         False           False           False   \n",
       "..         ...           ...             ...             ...   \n",
       "406         26         False           False           False   \n",
       "407         25         False           False           False   \n",
       "408         24         False           False           False   \n",
       "409         23         False           False           False   \n",
       "410         22         False           False           False   \n",
       "\n",
       "     Is_quarter_start  Is_year_end  Is_year_start       Elapsed  \n",
       "0               False        False          False  1.615075e+09  \n",
       "1               False        False          False  1.614989e+09  \n",
       "2               False        False          False  1.614902e+09  \n",
       "3               False        False          False  1.614816e+09  \n",
       "4               False        False          False  1.614730e+09  \n",
       "..                ...          ...            ...           ...  \n",
       "406             False        False          False  1.579997e+09  \n",
       "407             False        False          False  1.579910e+09  \n",
       "408             False        False          False  1.579824e+09  \n",
       "409             False        False          False  1.579738e+09  \n",
       "410             False        False          False  1.579651e+09  \n",
       "\n",
       "[411 rows x 41 columns]"
      ]
     },
     "metadata": {},
     "output_type": "display_data"
    }
   ],
   "source": [
    "df_1"
   ]
  },
  {
   "cell_type": "code",
   "execution_count": 112,
   "id": "9500ec4f",
   "metadata": {},
   "outputs": [
    {
     "data": {
      "application/vnd.jupyter.widget-view+json": {
       "model_id": "523b8c5133294fceab0d9fe085a568bd"
      },
      "text/plain": [
       "       death  deathConfirmed  deathIncrease  deathProbable  \\\n",
       "0    16417.0         16085.0             43         332.00   \n",
       "1    16374.0         16044.0             52         330.00   \n",
       "2    16322.0         15992.0             26         330.00   \n",
       "3    16296.0         15967.0             44         329.00   \n",
       "4    16252.0         15925.0             70         327.00   \n",
       "..       ...             ...            ...            ...   \n",
       "406   9180.0          4004.0              0         235.75   \n",
       "407   9180.0          4004.0              0         235.75   \n",
       "408   9180.0          4004.0              0         235.75   \n",
       "409   9180.0          4004.0              0         235.75   \n",
       "410   9180.0          4004.0              0         235.75   \n",
       "\n",
       "     hospitalizedCumulative  hospitalizedCurrently  hospitalizedIncrease  \\\n",
       "0                   19713.0                  665.0                     0   \n",
       "1                   19713.0                  687.0                     0   \n",
       "2                   19713.0                  716.0                     0   \n",
       "3                   19713.0                  741.0                     0   \n",
       "4                   19713.0                  755.0                   269   \n",
       "..                      ...                    ...                   ...   \n",
       "406                    61.0                 1370.0                     0   \n",
       "407                    61.0                 1370.0                     0   \n",
       "408                    61.0                 1370.0                     0   \n",
       "409                    61.0                 1370.0                     0   \n",
       "410                    61.0                 1370.0                     0   \n",
       "\n",
       "     inIcuCurrently   negative  negativeIncrease  ...  Day  Dayofweek  \\\n",
       "0             174.0  4404792.0              8028  ...    7          6   \n",
       "1             176.0  4396764.0              7826  ...    6          5   \n",
       "2             180.0  4388938.0              8907  ...    5          4   \n",
       "3             168.0  4380031.0              8554  ...    4          3   \n",
       "4             173.0  4371477.0              8511  ...    3          2   \n",
       "..              ...        ...               ...  ...  ...        ...   \n",
       "406           973.0       92.0                 0  ...   26          6   \n",
       "407           973.0       92.0                 0  ...   25          5   \n",
       "408           973.0       92.0                 0  ...   24          4   \n",
       "409           973.0       92.0                 0  ...   23          3   \n",
       "410           973.0       92.0                 0  ...   22          2   \n",
       "\n",
       "     Dayofyear  Is_month_end  Is_month_start  Is_quarter_end  \\\n",
       "0           66         False           False           False   \n",
       "1           65         False           False           False   \n",
       "2           64         False           False           False   \n",
       "3           63         False           False           False   \n",
       "4           62         False           False           False   \n",
       "..         ...           ...             ...             ...   \n",
       "406         26         False           False           False   \n",
       "407         25         False           False           False   \n",
       "408         24         False           False           False   \n",
       "409         23         False           False           False   \n",
       "410         22         False           False           False   \n",
       "\n",
       "     Is_quarter_start  Is_year_end  Is_year_start       Elapsed  \n",
       "0               False        False          False  1.615075e+09  \n",
       "1               False        False          False  1.614989e+09  \n",
       "2               False        False          False  1.614902e+09  \n",
       "3               False        False          False  1.614816e+09  \n",
       "4               False        False          False  1.614730e+09  \n",
       "..                ...          ...            ...           ...  \n",
       "406             False        False          False  1.579997e+09  \n",
       "407             False        False          False  1.579910e+09  \n",
       "408             False        False          False  1.579824e+09  \n",
       "409             False        False          False  1.579738e+09  \n",
       "410             False        False          False  1.579651e+09  \n",
       "\n",
       "[411 rows x 41 columns]"
      ]
     },
     "metadata": {},
     "output_type": "display_data"
    }
   ],
   "source": [
    "import pandas as pd; import numpy as np\n",
    "df_1['Year'] = df_1['Year'].astype('category')\n",
    "df_1['month'] = df_1['month'].astype('category')\n",
    "df_1['year'] = df_1['year'].astype('category')\n",
    "df_1"
   ]
  },
  {
   "cell_type": "code",
   "execution_count": 116,
   "id": "9c65614e",
   "metadata": {},
   "outputs": [
    {
     "data": {
      "text/plain": [
       "<AxesSubplot:xlabel='Year', ylabel='positive'>"
      ]
     },
     "execution_count": 116,
     "metadata": {},
     "output_type": "execute_result"
    },
    {
     "data": {
      "image/png": "[encoded data removed]",
      "text/plain": [
       "<Figure size 432x288 with 1 Axes>"
      ]
     },
     "metadata": {
      "needs_background": "light"
     },
     "output_type": "display_data"
    }
   ],
   "source": [
    "sns.barplot(x = 'Year',\n",
    "            y = 'positive',\n",
    "            data = df_1)"
   ]
  },
  {
   "cell_type": "code",
   "execution_count": 124,
   "id": "be593700",
   "metadata": {},
   "outputs": [
    {
     "data": {
      "application/vnd.plotly.v1+json": {
       "config": {
        "plotlyServerURL": "https://plot.ly"
       },
       "data": [
        {
         "alignmentgroup": "True",
         "bingroup": "x",
         "histfunc": "sum",
         "hovertemplate": "Year=2021<br>Dayofweek=6<br>month=%{x}<br>sum of positive=%{y}<extra></extra>",
         "legendgroup": "2021",
         "marker": {
          "color": "#636efa"
         },
         "name": "2021",
         "offsetgroup": "2021",
         "orientation": "v",
         "showlegend": true,
         "type": "histogram",
         "x": [
          "Mar",
          "Feb",
          "Feb",
          "Feb",
          "Feb",
          "Jan",
          "Jan",
          "Jan",
          "Jan",
          "Jan"
         ],
         "xaxis": "x7",
         "y": [
          591356,
          581148,
          569284,
          557777,
          543934,
          524025,
          500037,
          470140,
          432791,
          387662
         ],
         "yaxis": "y7"
        },
        {
         "alignmentgroup": "True",
         "bingroup": "x",
         "histfunc": "sum",
         "hovertemplate": "Year=2021<br>Dayofweek=5<br>month=%{x}<br>sum of positive=%{y}<extra></extra>",
         "legendgroup": "2021",
         "marker": {
          "color": "#636efa"
         },
         "name": "2021",
         "offsetgroup": "2021",
         "orientation": "v",
         "showlegend": false,
         "type": "histogram",
         "x": [
          "Mar",
          "Feb",
          "Feb",
          "Feb",
          "Feb",
          "Jan",
          "Jan",
          "Jan",
          "Jan",
          "Jan"
         ],
         "xaxis": "x6",
         "y": [
          589931,
          579680,
          567764,
          555895,
          540827,
          521360,
          496093,
          465726,
          427135,
          384181
         ],
         "yaxis": "y6"
        },
        {
         "alignmentgroup": "True",
         "bingroup": "x",
         "histfunc": "sum",
         "hovertemplate": "Year=2021<br>Dayofweek=4<br>month=%{x}<br>sum of positive=%{y}<extra></extra>",
         "legendgroup": "2021",
         "marker": {
          "color": "#636efa"
         },
         "name": "2021",
         "offsetgroup": "2021",
         "orientation": "v",
         "showlegend": false,
         "type": "histogram",
         "x": [
          "Mar",
          "Feb",
          "Feb",
          "Feb",
          "Feb",
          "Jan",
          "Jan",
          "Jan",
          "Jan",
          "Jan"
         ],
         "xaxis": "x5",
         "y": [
          588209,
          577980,
          565794,
          553812,
          537208,
          517252,
          491452,
          459927,
          419721,
          375178
         ],
         "yaxis": "y5"
        },
        {
         "alignmentgroup": "True",
         "bingroup": "x",
         "histfunc": "sum",
         "hovertemplate": "Year=2021<br>Dayofweek=3<br>month=%{x}<br>sum of positive=%{y}<extra></extra>",
         "legendgroup": "2021",
         "marker": {
          "color": "#636efa"
         },
         "name": "2021",
         "offsetgroup": "2021",
         "orientation": "v",
         "showlegend": false,
         "type": "histogram",
         "x": [
          "Mar",
          "Feb",
          "Feb",
          "Feb",
          "Feb",
          "Jan",
          "Jan",
          "Jan",
          "Jan"
         ],
         "xaxis": "x4",
         "y": [
          586310,
          575993,
          563976,
          551396,
          533921,
          514134,
          486180,
          454402,
          411601
         ],
         "yaxis": "y4"
        },
        {
         "alignmentgroup": "True",
         "bingroup": "x",
         "histfunc": "sum",
         "hovertemplate": "Year=2021<br>Dayofweek=2<br>month=%{x}<br>sum of positive=%{y}<extra></extra>",
         "legendgroup": "2021",
         "marker": {
          "color": "#636efa"
         },
         "name": "2021",
         "offsetgroup": "2021",
         "orientation": "v",
         "showlegend": false,
         "type": "histogram",
         "x": [
          "Mar",
          "Feb",
          "Feb",
          "Feb",
          "Feb",
          "Jan",
          "Jan",
          "Jan",
          "Jan"
         ],
         "xaxis": "x3",
         "y": [
          584743,
          573885,
          561936,
          548946,
          531117,
          509503,
          481040,
          448447,
          404053
         ],
         "yaxis": "y3"
        },
        {
         "alignmentgroup": "True",
         "bingroup": "x",
         "histfunc": "sum",
         "hovertemplate": "Year=2021<br>Dayofweek=1<br>month=%{x}<br>sum of positive=%{y}<extra></extra>",
         "legendgroup": "2021",
         "marker": {
          "color": "#636efa"
         },
         "name": "2021",
         "offsetgroup": "2021",
         "orientation": "v",
         "showlegend": false,
         "type": "histogram",
         "x": [
          "Mar",
          "Feb",
          "Feb",
          "Feb",
          "Feb",
          "Jan",
          "Jan",
          "Jan",
          "Jan"
         ],
         "xaxis": "x2",
         "y": [
          582844,
          571783,
          560576,
          546896,
          528662,
          506183,
          476526,
          442529,
          397202
         ],
         "yaxis": "y2"
        },
        {
         "alignmentgroup": "True",
         "bingroup": "x",
         "histfunc": "sum",
         "hovertemplate": "Year=2021<br>Dayofweek=0<br>month=%{x}<br>sum of positive=%{y}<extra></extra>",
         "legendgroup": "2021",
         "marker": {
          "color": "#636efa"
         },
         "name": "2021",
         "offsetgroup": "2021",
         "orientation": "v",
         "showlegend": false,
         "type": "histogram",
         "x": [
          "Mar",
          "Feb",
          "Feb",
          "Feb",
          "Feb",
          "Jan",
          "Jan",
          "Jan",
          "Jan"
         ],
         "xaxis": "x",
         "y": [
          582543,
          570546,
          559350,
          545303,
          526423,
          503688,
          473441,
          437042,
          392568
         ],
         "yaxis": "y"
        },
        {
         "alignmentgroup": "True",
         "bingroup": "x",
         "histfunc": "sum",
         "hovertemplate": "Year=2020<br>Dayofweek=6<br>month=%{x}<br>sum of positive=%{y}<extra></extra>",
         "legendgroup": "2020",
         "marker": {
          "color": "#EF553B"
         },
         "name": "2020",
         "offsetgroup": "2020",
         "orientation": "v",
         "showlegend": true,
         "type": "histogram",
         "x": [
          "Dec",
          "Dec",
          "Dec",
          "Dec",
          "Nov",
          "Nov",
          "Nov",
          "Nov",
          "Nov",
          "Oct",
          "Oct",
          "Oct",
          "Oct",
          "Sep",
          "Sep",
          "Sep",
          "Sep",
          "Aug",
          "Aug",
          "Aug",
          "Aug",
          "Aug",
          "Jul",
          "Jul",
          "Jul",
          "Jul",
          "Jun",
          "Jun",
          "Jun",
          "Jun",
          "May",
          "May",
          "May",
          "May",
          "May",
          "Apr",
          "Apr",
          "Apr",
          "Apr",
          "Mar",
          "Mar",
          "Mar",
          "Mar",
          "Mar",
          "Feb",
          "Feb",
          "Feb",
          "Feb",
          "Jan"
         ],
         "xaxis": "x7",
         "y": [
          352736,
          323531,
          290578,
          256844,
          224964,
          206850,
          188275,
          171399,
          159707,
          150565,
          143660,
          138903,
          134947,
          130642,
          127540,
          124826,
          122562,
          128229,
          125360,
          123200,
          121040,
          118458,
          115637,
          113534,
          111597,
          109974,
          108667,
          107061,
          105603,
          103436,
          96965,
          92675,
          86010,
          77793,
          68087,
          54938,
          38077,
          25475,
          12500,
          4955,
          646,
          138,
          13,
          2,
          2,
          2,
          2,
          2,
          2
         ],
         "yaxis": "y7"
        },
        {
         "alignmentgroup": "True",
         "bingroup": "x",
         "histfunc": "sum",
         "hovertemplate": "Year=2020<br>Dayofweek=5<br>month=%{x}<br>sum of positive=%{y}<extra></extra>",
         "legendgroup": "2020",
         "marker": {
          "color": "#EF553B"
         },
         "name": "2020",
         "offsetgroup": "2020",
         "orientation": "v",
         "showlegend": false,
         "type": "histogram",
         "x": [
          "Dec",
          "Dec",
          "Dec",
          "Dec",
          "Nov",
          "Nov",
          "Nov",
          "Nov",
          "Oct",
          "Oct",
          "Oct",
          "Oct",
          "Oct",
          "Sep",
          "Sep",
          "Sep",
          "Sep",
          "Aug",
          "Aug",
          "Aug",
          "Aug",
          "Aug",
          "Jul",
          "Jul",
          "Jul",
          "Jul",
          "Jun",
          "Jun",
          "Jun",
          "Jun",
          "May",
          "May",
          "May",
          "May",
          "May",
          "Apr",
          "Apr",
          "Apr",
          "Apr",
          "Mar",
          "Mar",
          "Mar",
          "Mar",
          "Feb",
          "Feb",
          "Feb",
          "Feb",
          "Feb",
          "Jan"
         ],
         "xaxis": "x6",
         "y": [
          349602,
          319270,
          285725,
          252017,
          222469,
          204155,
          186142,
          169576,
          158576,
          149488,
          142930,
          138340,
          134303,
          130050,
          127181,
          124540,
          122196,
          128030,
          125360,
          122897,
          120711,
          118040,
          115268,
          113238,
          111398,
          109838,
          108443,
          106936,
          105395,
          103132,
          96301,
          91662,
          84933,
          76743,
          66263,
          53348,
          36372,
          22860,
          11736,
          4257,
          525,
          138,
          13,
          2,
          2,
          2,
          2,
          2,
          2
         ],
         "yaxis": "y6"
        },
        {
         "alignmentgroup": "True",
         "bingroup": "x",
         "histfunc": "sum",
         "hovertemplate": "Year=2020<br>Dayofweek=4<br>month=%{x}<br>sum of positive=%{y}<extra></extra>",
         "legendgroup": "2020",
         "marker": {
          "color": "#EF553B"
         },
         "name": "2020",
         "offsetgroup": "2020",
         "orientation": "v",
         "showlegend": false,
         "type": "histogram",
         "x": [
          "Dec",
          "Dec",
          "Dec",
          "Dec",
          "Nov",
          "Nov",
          "Nov",
          "Nov",
          "Oct",
          "Oct",
          "Oct",
          "Oct",
          "Oct",
          "Sep",
          "Sep",
          "Sep",
          "Sep",
          "Aug",
          "Aug",
          "Aug",
          "Aug",
          "Jul",
          "Jul",
          "Jul",
          "Jul",
          "Jul",
          "Jun",
          "Jun",
          "Jun",
          "Jun",
          "May",
          "May",
          "May",
          "May",
          "May",
          "Apr",
          "Apr",
          "Apr",
          "Apr",
          "Mar",
          "Mar",
          "Mar",
          "Mar",
          "Feb",
          "Feb",
          "Feb",
          "Feb",
          "Jan",
          "Jan"
         ],
         "xaxis": "x5",
         "y": [
          341925,
          314926,
          280436,
          246398,
          219252,
          200949,
          183095,
          167274,
          157146,
          148285,
          142346,
          137701,
          133631,
          129481,
          126582,
          123986,
          121758,
          127584,
          125216,
          122531,
          120291,
          117612,
          114985,
          112879,
          111110,
          109628,
          108070,
          106650,
          105059,
          102557,
          95512,
          90889,
          83421,
          75333,
          64311,
          46023,
          34402,
          20974,
          10402,
          3240,
          413,
          123,
          8,
          2,
          2,
          2,
          2,
          2,
          2
         ],
         "yaxis": "y5"
        },
        {
         "alignmentgroup": "True",
         "bingroup": "x",
         "histfunc": "sum",
         "hovertemplate": "Year=2020<br>Dayofweek=3<br>month=%{x}<br>sum of positive=%{y}<extra></extra>",
         "legendgroup": "2020",
         "marker": {
          "color": "#EF553B"
         },
         "name": "2020",
         "offsetgroup": "2020",
         "orientation": "v",
         "showlegend": false,
         "type": "histogram",
         "x": [
          "Dec",
          "Dec",
          "Dec",
          "Dec",
          "Dec",
          "Nov",
          "Nov",
          "Nov",
          "Nov",
          "Oct",
          "Oct",
          "Oct",
          "Oct",
          "Oct",
          "Sep",
          "Sep",
          "Sep",
          "Sep",
          "Aug",
          "Aug",
          "Aug",
          "Aug",
          "Jul",
          "Jul",
          "Jul",
          "Jul",
          "Jul",
          "Jun",
          "Jun",
          "Jun",
          "Jun",
          "May",
          "May",
          "May",
          "May",
          "Apr",
          "Apr",
          "Apr",
          "Apr",
          "Apr",
          "Mar",
          "Mar",
          "Mar",
          "Mar",
          "Feb",
          "Feb",
          "Feb",
          "Feb",
          "Jan",
          "Jan"
         ],
         "xaxis": "x4",
         "y": [
          375178,
          341925,
          309247,
          274781,
          240907,
          214594,
          198550,
          180189,
          165161,
          155564,
          147215,
          141579,
          136936,
          132870,
          128993,
          126128,
          123546,
          121546,
          127124,
          124728,
          122319,
          119874,
          117098,
          114647,
          112581,
          110897,
          109338,
          107837,
          106422,
          104667,
          102063,
          94895,
          90084,
          82182,
          73721,
          62205,
          46023,
          32181,
          18941,
          8966,
          2417,
          328,
          95,
          2,
          2,
          2,
          2,
          2,
          2,
          2
         ],
         "yaxis": "y4"
        },
        {
         "alignmentgroup": "True",
         "bingroup": "x",
         "histfunc": "sum",
         "hovertemplate": "Year=2020<br>Dayofweek=2<br>month=%{x}<br>sum of positive=%{y}<extra></extra>",
         "legendgroup": "2020",
         "marker": {
          "color": "#EF553B"
         },
         "name": "2020",
         "offsetgroup": "2020",
         "orientation": "v",
         "showlegend": false,
         "type": "histogram",
         "x": [
          "Dec",
          "Dec",
          "Dec",
          "Dec",
          "Dec",
          "Nov",
          "Nov",
          "Nov",
          "Nov",
          "Oct",
          "Oct",
          "Oct",
          "Oct",
          "Sep",
          "Sep",
          "Sep",
          "Sep",
          "Sep",
          "Aug",
          "Aug",
          "Aug",
          "Aug",
          "Jul",
          "Jul",
          "Jul",
          "Jul",
          "Jul",
          "Jun",
          "Jun",
          "Jun",
          "Jun",
          "May",
          "May",
          "May",
          "May",
          "Apr",
          "Apr",
          "Apr",
          "Apr",
          "Apr",
          "Mar",
          "Mar",
          "Mar",
          "Mar",
          "Feb",
          "Feb",
          "Feb",
          "Feb",
          "Jan",
          "Jan"
         ],
         "xaxis": "x3",
         "y": [
          367918,
          335988,
          304112,
          269412,
          234232,
          214594,
          195868,
          177541,
          163299,
          154218,
          146166,
          140992,
          136492,
          132116,
          128512,
          125699,
          123143,
          121131,
          126756,
          124415,
          122000,
          119643,
          116684,
          114320,
          112347,
          110602,
          109143,
          107611,
          106151,
          104156,
          101592,
          94220,
          88970,
          80497,
          72025,
          60265,
          42944,
          29918,
          16790,
          7738,
          1838,
          256,
          92,
          2,
          2,
          2,
          2,
          2,
          2,
          2
         ],
         "yaxis": "y3"
        },
        {
         "alignmentgroup": "True",
         "bingroup": "x",
         "histfunc": "sum",
         "hovertemplate": "Year=2020<br>Dayofweek=1<br>month=%{x}<br>sum of positive=%{y}<extra></extra>",
         "legendgroup": "2020",
         "marker": {
          "color": "#EF553B"
         },
         "name": "2020",
         "offsetgroup": "2020",
         "orientation": "v",
         "showlegend": false,
         "type": "histogram",
         "x": [
          "Dec",
          "Dec",
          "Dec",
          "Dec",
          "Dec",
          "Nov",
          "Nov",
          "Nov",
          "Nov",
          "Oct",
          "Oct",
          "Oct",
          "Oct",
          "Sep",
          "Sep",
          "Sep",
          "Sep",
          "Sep",
          "Aug",
          "Aug",
          "Aug",
          "Aug",
          "Jul",
          "Jul",
          "Jul",
          "Jul",
          "Jun",
          "Jun",
          "Jun",
          "Jun",
          "Jun",
          "May",
          "May",
          "May",
          "May",
          "Apr",
          "Apr",
          "Apr",
          "Apr",
          "Mar",
          "Mar",
          "Mar",
          "Mar",
          "Mar",
          "Feb",
          "Feb",
          "Feb",
          "Feb",
          "Jan"
         ],
         "xaxis": "x2",
         "y": [
          361079,
          331174,
          298160,
          263447,
          229205,
          211199,
          192964,
          174881,
          161585,
          153037,
          145464,
          140412,
          135957,
          131584,
          127969,
          125393,
          122962,
          128888,
          126420,
          123588,
          121707,
          119203,
          116182,
          114033,
          112130,
          110338,
          108882,
          107439,
          105885,
          103889,
          101163,
          93693,
          87925,
          79332,
          70271,
          58302,
          41199,
          28163,
          15202,
          6620,
          1159,
          218,
          92,
          2,
          2,
          2,
          2,
          2,
          2
         ],
         "yaxis": "y2"
        },
        {
         "alignmentgroup": "True",
         "bingroup": "x",
         "histfunc": "sum",
         "hovertemplate": "Year=2020<br>Dayofweek=0<br>month=%{x}<br>sum of positive=%{y}<extra></extra>",
         "legendgroup": "2020",
         "marker": {
          "color": "#EF553B"
         },
         "name": "2020",
         "offsetgroup": "2020",
         "orientation": "v",
         "showlegend": false,
         "type": "histogram",
         "x": [
          "Dec",
          "Dec",
          "Dec",
          "Dec",
          "Nov",
          "Nov",
          "Nov",
          "Nov",
          "Nov",
          "Oct",
          "Oct",
          "Oct",
          "Oct",
          "Sep",
          "Sep",
          "Sep",
          "Sep",
          "Aug",
          "Aug",
          "Aug",
          "Aug",
          "Aug",
          "Jul",
          "Jul",
          "Jul",
          "Jul",
          "Jun",
          "Jun",
          "Jun",
          "Jun",
          "Jun",
          "May",
          "May",
          "May",
          "May",
          "Apr",
          "Apr",
          "Apr",
          "Apr",
          "Mar",
          "Mar",
          "Mar",
          "Mar",
          "Mar",
          "Feb",
          "Feb",
          "Feb",
          "Feb",
          "Jan"
         ],
         "xaxis": "x",
         "y": [
          356934,
          327374,
          294231,
          259325,
          226132,
          208623,
          190439,
          172727,
          160549,
          151777,
          144488,
          139663,
          135462,
          131072,
          127796,
          125080,
          122791,
          128533,
          126022,
          123413,
          121315,
          118657,
          115926,
          113789,
          111827,
          110137,
          108768,
          107210,
          105690,
          103626,
          100805,
          93271,
          87052,
          78462,
          69087,
          56462,
          38077,
          26867,
          13837,
          5752,
          777,
          164,
          41,
          2,
          2,
          2,
          2,
          2,
          2
         ],
         "yaxis": "y"
        }
       ],
       "layout": {
        "annotations": [
         {
          "font": {},
          "showarrow": false,
          "text": "Dayofweek=0",
          "textangle": 90,
          "x": 0.98,
          "xanchor": "left",
          "xref": "paper",
          "y": 0.05857142857142857,
          "yanchor": "middle",
          "yref": "paper"
         },
         {
          "font": {},
          "showarrow": false,
          "text": "Dayofweek=1",
          "textangle": 90,
          "x": 0.98,
          "xanchor": "left",
          "xref": "paper",
          "y": 0.2057142857142857,
          "yanchor": "middle",
          "yref": "paper"
         },
         {
          "font": {},
          "showarrow": false,
          "text": "Dayofweek=2",
          "textangle": 90,
          "x": 0.98,
          "xanchor": "left",
          "xref": "paper",
          "y": 0.35285714285714287,
          "yanchor": "middle",
          "yref": "paper"
         },
         {
          "font": {},
          "showarrow": false,
          "text": "Dayofweek=3",
          "textangle": 90,
          "x": 0.98,
          "xanchor": "left",
          "xref": "paper",
          "y": 0.49999999999999994,
          "yanchor": "middle",
          "yref": "paper"
         },
         {
          "font": {},
          "showarrow": false,
          "text": "Dayofweek=4",
          "textangle": 90,
          "x": 0.98,
          "xanchor": "left",
          "xref": "paper",
          "y": 0.647142857142857,
          "yanchor": "middle",
          "yref": "paper"
         },
         {
          "font": {},
          "showarrow": false,
          "text": "Dayofweek=5",
          "textangle": 90,
          "x": 0.98,
          "xanchor": "left",
          "xref": "paper",
          "y": 0.7942857142857143,
          "yanchor": "middle",
          "yref": "paper"
         },
         {
          "font": {},
          "showarrow": false,
          "text": "Dayofweek=6",
          "textangle": 90,
          "x": 0.98,
          "xanchor": "left",
          "xref": "paper",
          "y": 0.9414285714285713,
          "yanchor": "middle",
          "yref": "paper"
         }
        ],
        "barmode": "relative",
        "height": 1000,
        "legend": {
         "title": {
          "text": "Year"
         },
         "tracegroupgap": 0
        },
        "template": {
         "data": {
          "bar": [
           {
            "error_x": {
             "color": "#2a3f5f"
            },
            "error_y": {
             "color": "#2a3f5f"
            },
            "marker": {
             "line": {
              "color": "#E5ECF6",
              "width": 0.5
             }
            },
            "type": "bar"
           }
          ],
          "barpolar": [
           {
            "marker": {
             "line": {
              "color": "#E5ECF6",
              "width": 0.5
             }
            },
            "type": "barpolar"
           }
          ],
          "carpet": [
           {
            "aaxis": {
             "endlinecolor": "#2a3f5f",
             "gridcolor": "white",
             "linecolor": "white",
             "minorgridcolor": "white",
             "startlinecolor": "#2a3f5f"
            },
            "baxis": {
             "endlinecolor": "#2a3f5f",
             "gridcolor": "white",
             "linecolor": "white",
             "minorgridcolor": "white",
             "startlinecolor": "#2a3f5f"
            },
            "type": "carpet"
           }
          ],
          "choropleth": [
           {
            "colorbar": {
             "outlinewidth": 0,
             "ticks": ""
            },
            "type": "choropleth"
           }
          ],
          "contour": [
           {
            "colorbar": {
             "outlinewidth": 0,
             "ticks": ""
            },
            "colorscale": [
             [
              0,
              "#0d0887"
             ],
             [
              0.1111111111111111,
              "#46039f"
             ],
             [
              0.2222222222222222,
              "#7201a8"
             ],
             [
              0.3333333333333333,
              "#9c179e"
             ],
             [
              0.4444444444444444,
              "#bd3786"
             ],
             [
              0.5555555555555556,
              "#d8576b"
             ],
             [
              0.6666666666666666,
              "#ed7953"
             ],
             [
              0.7777777777777778,
              "#fb9f3a"
             ],
             [
              0.8888888888888888,
              "#fdca26"
             ],
             [
              1,
              "#f0f921"
             ]
            ],
            "type": "contour"
           }
          ],
          "contourcarpet": [
           {
            "colorbar": {
             "outlinewidth": 0,
             "ticks": ""
            },
            "type": "contourcarpet"
           }
          ],
          "heatmap": [
           {
            "colorbar": {
             "outlinewidth": 0,
             "ticks": ""
            },
            "colorscale": [
             [
              0,
              "#0d0887"
             ],
             [
              0.1111111111111111,
              "#46039f"
             ],
             [
              0.2222222222222222,
              "#7201a8"
             ],
             [
              0.3333333333333333,
              "#9c179e"
             ],
             [
              0.4444444444444444,
              "#bd3786"
             ],
             [
              0.5555555555555556,
              "#d8576b"
             ],
             [
              0.6666666666666666,
              "#ed7953"
             ],
             [
              0.7777777777777778,
              "#fb9f3a"
             ],
             [
              0.8888888888888888,
              "#fdca26"
             ],
             [
              1,
              "#f0f921"
             ]
            ],
            "type": "heatmap"
           }
          ],
          "heatmapgl": [
           {
            "colorbar": {
             "outlinewidth": 0,
             "ticks": ""
            },
            "colorscale": [
             [
              0,
              "#0d0887"
             ],
             [
              0.1111111111111111,
              "#46039f"
             ],
             [
              0.2222222222222222,
              "#7201a8"
             ],
             [
              0.3333333333333333,
              "#9c179e"
             ],
             [
              0.4444444444444444,
              "#bd3786"
             ],
             [
              0.5555555555555556,
              "#d8576b"
             ],
             [
              0.6666666666666666,
              "#ed7953"
             ],
             [
              0.7777777777777778,
              "#fb9f3a"
             ],
             [
              0.8888888888888888,
              "#fdca26"
             ],
             [
              1,
              "#f0f921"
             ]
            ],
            "type": "heatmapgl"
           }
          ],
          "histogram": [
           {
            "marker": {
             "colorbar": {
              "outlinewidth": 0,
              "ticks": ""
             }
            },
            "type": "histogram"
           }
          ],
          "histogram2d": [
           {
            "colorbar": {
             "outlinewidth": 0,
             "ticks": ""
            },
            "colorscale": [
             [
              0,
              "#0d0887"
             ],
             [
              0.1111111111111111,
              "#46039f"
             ],
             [
              0.2222222222222222,
              "#7201a8"
             ],
             [
              0.3333333333333333,
              "#9c179e"
             ],
             [
              0.4444444444444444,
              "#bd3786"
             ],
             [
              0.5555555555555556,
              "#d8576b"
             ],
             [
              0.6666666666666666,
              "#ed7953"
             ],
             [
              0.7777777777777778,
              "#fb9f3a"
             ],
             [
              0.8888888888888888,
              "#fdca26"
             ],
             [
              1,
              "#f0f921"
             ]
            ],
            "type": "histogram2d"
           }
          ],
          "histogram2dcontour": [
           {
            "colorbar": {
             "outlinewidth": 0,
             "ticks": ""
            },
            "colorscale": [
             [
              0,
              "#0d0887"
             ],
             [
              0.1111111111111111,
              "#46039f"
             ],
             [
              0.2222222222222222,
              "#7201a8"
             ],
             [
              0.3333333333333333,
              "#9c179e"
             ],
             [
              0.4444444444444444,
              "#bd3786"
             ],
             [
              0.5555555555555556,
              "#d8576b"
             ],
             [
              0.6666666666666666,
              "#ed7953"
             ],
             [
              0.7777777777777778,
              "#fb9f3a"
             ],
             [
              0.8888888888888888,
              "#fdca26"
             ],
             [
              1,
              "#f0f921"
             ]
            ],
            "type": "histogram2dcontour"
           }
          ],
          "mesh3d": [
           {
            "colorbar": {
             "outlinewidth": 0,
             "ticks": ""
            },
            "type": "mesh3d"
           }
          ],
          "parcoords": [
           {
            "line": {
             "colorbar": {
              "outlinewidth": 0,
              "ticks": ""
             }
            },
            "type": "parcoords"
           }
          ],
          "pie": [
           {
            "automargin": true,
            "type": "pie"
           }
          ],
          "scatter": [
           {
            "marker": {
             "colorbar": {
              "outlinewidth": 0,
              "ticks": ""
             }
            },
            "type": "scatter"
           }
          ],
          "scatter3d": [
           {
            "line": {
             "colorbar": {
              "outlinewidth": 0,
              "ticks": ""
             }
            },
            "marker": {
             "colorbar": {
              "outlinewidth": 0,
              "ticks": ""
             }
            },
            "type": "scatter3d"
           }
          ],
          "scattercarpet": [
           {
            "marker": {
             "colorbar": {
              "outlinewidth": 0,
              "ticks": ""
             }
            },
            "type": "scattercarpet"
           }
          ],
          "scattergeo": [
           {
            "marker": {
             "colorbar": {
              "outlinewidth": 0,
              "ticks": ""
             }
            },
            "type": "scattergeo"
           }
          ],
          "scattergl": [
           {
            "marker": {
             "colorbar": {
              "outlinewidth": 0,
              "ticks": ""
             }
            },
            "type": "scattergl"
           }
          ],
          "scattermapbox": [
           {
            "marker": {
             "colorbar": {
              "outlinewidth": 0,
              "ticks": ""
             }
            },
            "type": "scattermapbox"
           }
          ],
          "scatterpolar": [
           {
            "marker": {
             "colorbar": {
              "outlinewidth": 0,
              "ticks": ""
             }
            },
            "type": "scatterpolar"
           }
          ],
          "scatterpolargl": [
           {
            "marker": {
             "colorbar": {
              "outlinewidth": 0,
              "ticks": ""
             }
            },
            "type": "scatterpolargl"
           }
          ],
          "scatterternary": [
           {
            "marker": {
             "colorbar": {
              "outlinewidth": 0,
              "ticks": ""
             }
            },
            "type": "scatterternary"
           }
          ],
          "surface": [
           {
            "colorbar": {
             "outlinewidth": 0,
             "ticks": ""
            },
            "colorscale": [
             [
              0,
              "#0d0887"
             ],
             [
              0.1111111111111111,
              "#46039f"
             ],
             [
              0.2222222222222222,
              "#7201a8"
             ],
             [
              0.3333333333333333,
              "#9c179e"
             ],
             [
              0.4444444444444444,
              "#bd3786"
             ],
             [
              0.5555555555555556,
              "#d8576b"
             ],
             [
              0.6666666666666666,
              "#ed7953"
             ],
             [
              0.7777777777777778,
              "#fb9f3a"
             ],
             [
              0.8888888888888888,
              "#fdca26"
             ],
             [
              1,
              "#f0f921"
             ]
            ],
            "type": "surface"
           }
          ],
          "table": [
           {
            "cells": {
             "fill": {
              "color": "#EBF0F8"
             },
             "line": {
              "color": "white"
             }
            },
            "header": {
             "fill": {
              "color": "#C8D4E3"
             },
             "line": {
              "color": "white"
             }
            },
            "type": "table"
           }
          ]
         },
         "layout": {
          "annotationdefaults": {
           "arrowcolor": "#2a3f5f",
           "arrowhead": 0,
           "arrowwidth": 1
          },
          "autotypenumbers": "strict",
          "coloraxis": {
           "colorbar": {
            "outlinewidth": 0,
            "ticks": ""
           }
          },
          "colorscale": {
           "diverging": [
            [
             0,
             "#8e0152"
            ],
            [
             0.1,
             "#c51b7d"
            ],
            [
             0.2,
             "#de77ae"
            ],
            [
             0.3,
             "#f1b6da"
            ],
            [
             0.4,
             "#fde0ef"
            ],
            [
             0.5,
             "#f7f7f7"
            ],
            [
             0.6,
             "#e6f5d0"
            ],
            [
             0.7,
             "#b8e186"
            ],
            [
             0.8,
             "#7fbc41"
            ],
            [
             0.9,
             "#4d9221"
            ],
            [
             1,
             "#276419"
            ]
           ],
           "sequential": [
            [
             0,
             "#0d0887"
            ],
            [
             0.1111111111111111,
             "#46039f"
            ],
            [
             0.2222222222222222,
             "#7201a8"
            ],
            [
             0.3333333333333333,
             "#9c179e"
            ],
            [
             0.4444444444444444,
             "#bd3786"
            ],
            [
             0.5555555555555556,
             "#d8576b"
            ],
            [
             0.6666666666666666,
             "#ed7953"
            ],
            [
             0.7777777777777778,
             "#fb9f3a"
            ],
            [
             0.8888888888888888,
             "#fdca26"
            ],
            [
             1,
             "#f0f921"
            ]
           ],
           "sequentialminus": [
            [
             0,
             "#0d0887"
            ],
            [
             0.1111111111111111,
             "#46039f"
            ],
            [
             0.2222222222222222,
             "#7201a8"
            ],
            [
             0.3333333333333333,
             "#9c179e"
            ],
            [
             0.4444444444444444,
             "#bd3786"
            ],
            [
             0.5555555555555556,
             "#d8576b"
            ],
            [
             0.6666666666666666,
             "#ed7953"
            ],
            [
             0.7777777777777778,
             "#fb9f3a"
            ],
            [
             0.8888888888888888,
             "#fdca26"
            ],
            [
             1,
             "#f0f921"
            ]
           ]
          },
          "colorway": [
           "#636efa",
           "#EF553B",
           "#00cc96",
           "#ab63fa",
           "#FFA15A",
           "#19d3f3",
           "#FF6692",
           "#B6E880",
           "#FF97FF",
           "#FECB52"
          ],
          "font": {
           "color": "#2a3f5f"
          },
          "geo": {
           "bgcolor": "white",
           "lakecolor": "white",
           "landcolor": "#E5ECF6",
           "showlakes": true,
           "showland": true,
           "subunitcolor": "white"
          },
          "hoverlabel": {
           "align": "left"
          },
          "hovermode": "closest",
          "mapbox": {
           "style": "light"
          },
          "paper_bgcolor": "white",
          "plot_bgcolor": "#E5ECF6",
          "polar": {
           "angularaxis": {
            "gridcolor": "white",
            "linecolor": "white",
            "ticks": ""
           },
           "bgcolor": "#E5ECF6",
           "radialaxis": {
            "gridcolor": "white",
            "linecolor": "white",
            "ticks": ""
           }
          },
          "scene": {
           "xaxis": {
            "backgroundcolor": "#E5ECF6",
            "gridcolor": "white",
            "gridwidth": 2,
            "linecolor": "white",
            "showbackground": true,
            "ticks": "",
            "zerolinecolor": "white"
           },
           "yaxis": {
            "backgroundcolor": "#E5ECF6",
            "gridcolor": "white",
            "gridwidth": 2,
            "linecolor": "white",
            "showbackground": true,
            "ticks": "",
            "zerolinecolor": "white"
           },
           "zaxis": {
            "backgroundcolor": "#E5ECF6",
            "gridcolor": "white",
            "gridwidth": 2,
            "linecolor": "white",
            "showbackground": true,
            "ticks": "",
            "zerolinecolor": "white"
           }
          },
          "shapedefaults": {
           "line": {
            "color": "#2a3f5f"
           }
          },
          "ternary": {
           "aaxis": {
            "gridcolor": "white",
            "linecolor": "white",
            "ticks": ""
           },
           "baxis": {
            "gridcolor": "white",
            "linecolor": "white",
            "ticks": ""
           },
           "bgcolor": "#E5ECF6",
           "caxis": {
            "gridcolor": "white",
            "linecolor": "white",
            "ticks": ""
           }
          },
          "title": {
           "x": 0.05
          },
          "xaxis": {
           "automargin": true,
           "gridcolor": "white",
           "linecolor": "white",
           "ticks": "",
           "title": {
            "standoff": 15
           },
           "zerolinecolor": "white",
           "zerolinewidth": 2
          },
          "yaxis": {
           "automargin": true,
           "gridcolor": "white",
           "linecolor": "white",
           "ticks": "",
           "title": {
            "standoff": 15
           },
           "zerolinecolor": "white",
           "zerolinewidth": 2
          }
         }
        },
        "title": {
         "text": "Positive cases Every Month"
        },
        "width": 1000,
        "xaxis": {
         "anchor": "y",
         "domain": [
          0,
          0.98
         ],
         "title": {
          "text": "month"
         }
        },
        "xaxis2": {
         "anchor": "y2",
         "domain": [
          0,
          0.98
         ],
         "matches": "x",
         "showticklabels": false
        },
        "xaxis3": {
         "anchor": "y3",
         "domain": [
          0,
          0.98
         ],
         "matches": "x",
         "showticklabels": false
        },
        "xaxis4": {
         "anchor": "y4",
         "domain": [
          0,
          0.98
         ],
         "matches": "x",
         "showticklabels": false
        },
        "xaxis5": {
         "anchor": "y5",
         "domain": [
          0,
          0.98
         ],
         "matches": "x",
         "showticklabels": false
        },
        "xaxis6": {
         "anchor": "y6",
         "domain": [
          0,
          0.98
         ],
         "matches": "x",
         "showticklabels": false
        },
        "xaxis7": {
         "anchor": "y7",
         "domain": [
          0,
          0.98
         ],
         "matches": "x",
         "showticklabels": false
        },
        "yaxis": {
         "anchor": "x",
         "domain": [
          0,
          0.11714285714285715
         ],
         "title": {
          "text": "sum of positive"
         }
        },
        "yaxis2": {
         "anchor": "x2",
         "domain": [
          0.14714285714285713,
          0.2642857142857143
         ],
         "matches": "y",
         "title": {
          "text": "sum of positive"
         }
        },
        "yaxis3": {
         "anchor": "x3",
         "domain": [
          0.29428571428571426,
          0.4114285714285714
         ],
         "matches": "y",
         "title": {
          "text": "sum of positive"
         }
        },
        "yaxis4": {
         "anchor": "x4",
         "domain": [
          0.4414285714285714,
          0.5585714285714285
         ],
         "matches": "y",
         "title": {
          "text": "sum of positive"
         }
        },
        "yaxis5": {
         "anchor": "x5",
         "domain": [
          0.5885714285714285,
          0.7057142857142856
         ],
         "matches": "y",
         "title": {
          "text": "sum of positive"
         }
        },
        "yaxis6": {
         "anchor": "x6",
         "domain": [
          0.7357142857142858,
          0.8528571428571429
         ],
         "matches": "y",
         "title": {
          "text": "sum of positive"
         }
        },
        "yaxis7": {
         "anchor": "x7",
         "domain": [
          0.8828571428571428,
          0.9999999999999999
         ],
         "matches": "y",
         "title": {
          "text": "sum of positive"
         }
        }
       }
      },
      "text/html": [
       "<div>                            <div id=\"a2e7f160-837d-4a73-8c43-fa991d5b4e11\" class=\"plotly-graph-div\" style=\"height:1000px; width:1000px;\"></div>            <script type=\"text/javascript\">                require([\"plotly\"], function(Plotly) {                    window.PLOTLYENV=window.PLOTLYENV || {};                                    if (document.getElementById(\"a2e7f160-837d-4a73-8c43-fa991d5b4e11\")) {                    Plotly.newPlot(                        \"a2e7f160-837d-4a73-8c43-fa991d5b4e11\",                        [{\"alignmentgroup\": \"True\", \"bingroup\": \"x\", \"histfunc\": \"sum\", \"hovertemplate\": \"Year=2021<br>Dayofweek=6<br>month=%{x}<br>sum of positive=%{y}<extra></extra>\", \"legendgroup\": \"2021\", \"marker\": {\"color\": \"#636efa\"}, \"name\": \"2021\", \"offsetgroup\": \"2021\", \"orientation\": \"v\", \"showlegend\": true, \"type\": \"histogram\", \"x\": [\"Mar\", \"Feb\", \"Feb\", \"Feb\", \"Feb\", \"Jan\", \"Jan\", \"Jan\", \"Jan\", \"Jan\"], \"xaxis\": \"x7\", \"y\": [591356.0, 581148.0, 569284.0, 557777.0, 543934.0, 524025.0, 500037.0, 470140.0, 432791.0, 387662.0], \"yaxis\": \"y7\"}, {\"alignmentgroup\": \"True\", \"bingroup\": \"x\", \"histfunc\": \"sum\", \"hovertemplate\": \"Year=2021<br>Dayofweek=5<br>month=%{x}<br>sum of positive=%{y}<extra></extra>\", \"legendgroup\": \"2021\", \"marker\": {\"color\": \"#636efa\"}, \"name\": \"2021\", \"offsetgroup\": \"2021\", \"orientation\": \"v\", \"showlegend\": false, \"type\": \"histogram\", \"x\": [\"Mar\", \"Feb\", \"Feb\", \"Feb\", \"Feb\", \"Jan\", \"Jan\", \"Jan\", \"Jan\", \"Jan\"], \"xaxis\": \"x6\", \"y\": [589931.0, 579680.0, 567764.0, 555895.0, 540827.0, 521360.0, 496093.0, 465726.0, 427135.0, 384181.0], \"yaxis\": \"y6\"}, {\"alignmentgroup\": \"True\", \"bingroup\": \"x\", \"histfunc\": \"sum\", \"hovertemplate\": \"Year=2021<br>Dayofweek=4<br>month=%{x}<br>sum of positive=%{y}<extra></extra>\", \"legendgroup\": \"2021\", \"marker\": {\"color\": \"#636efa\"}, \"name\": \"2021\", \"offsetgroup\": \"2021\", \"orientation\": \"v\", \"showlegend\": false, \"type\": \"histogram\", \"x\": [\"Mar\", \"Feb\", \"Feb\", \"Feb\", \"Feb\", \"Jan\", \"Jan\", \"Jan\", \"Jan\", \"Jan\"], \"xaxis\": \"x5\", \"y\": [588209.0, 577980.0, 565794.0, 553812.0, 537208.0, 517252.0, 491452.0, 459927.0, 419721.0, 375178.0], \"yaxis\": \"y5\"}, {\"alignmentgroup\": \"True\", \"bingroup\": \"x\", \"histfunc\": \"sum\", \"hovertemplate\": \"Year=2021<br>Dayofweek=3<br>month=%{x}<br>sum of positive=%{y}<extra></extra>\", \"legendgroup\": \"2021\", \"marker\": {\"color\": \"#636efa\"}, \"name\": \"2021\", \"offsetgroup\": \"2021\", \"orientation\": \"v\", \"showlegend\": false, \"type\": \"histogram\", \"x\": [\"Mar\", \"Feb\", \"Feb\", \"Feb\", \"Feb\", \"Jan\", \"Jan\", \"Jan\", \"Jan\"], \"xaxis\": \"x4\", \"y\": [586310.0, 575993.0, 563976.0, 551396.0, 533921.0, 514134.0, 486180.0, 454402.0, 411601.0], \"yaxis\": \"y4\"}, {\"alignmentgroup\": \"True\", \"bingroup\": \"x\", \"histfunc\": \"sum\", \"hovertemplate\": \"Year=2021<br>Dayofweek=2<br>month=%{x}<br>sum of positive=%{y}<extra></extra>\", \"legendgroup\": \"2021\", \"marker\": {\"color\": \"#636efa\"}, \"name\": \"2021\", \"offsetgroup\": \"2021\", \"orientation\": \"v\", \"showlegend\": false, \"type\": \"histogram\", \"x\": [\"Mar\", \"Feb\", \"Feb\", \"Feb\", \"Feb\", \"Jan\", \"Jan\", \"Jan\", \"Jan\"], \"xaxis\": \"x3\", \"y\": [584743.0, 573885.0, 561936.0, 548946.0, 531117.0, 509503.0, 481040.0, 448447.0, 404053.0], \"yaxis\": \"y3\"}, {\"alignmentgroup\": \"True\", \"bingroup\": \"x\", \"histfunc\": \"sum\", \"hovertemplate\": \"Year=2021<br>Dayofweek=1<br>month=%{x}<br>sum of positive=%{y}<extra></extra>\", \"legendgroup\": \"2021\", \"marker\": {\"color\": \"#636efa\"}, \"name\": \"2021\", \"offsetgroup\": \"2021\", \"orientation\": \"v\", \"showlegend\": false, \"type\": \"histogram\", \"x\": [\"Mar\", \"Feb\", \"Feb\", \"Feb\", \"Feb\", \"Jan\", \"Jan\", \"Jan\", \"Jan\"], \"xaxis\": \"x2\", \"y\": [582844.0, 571783.0, 560576.0, 546896.0, 528662.0, 506183.0, 476526.0, 442529.0, 397202.0], \"yaxis\": \"y2\"}, {\"alignmentgroup\": \"True\", \"bingroup\": \"x\", \"histfunc\": \"sum\", \"hovertemplate\": \"Year=2021<br>Dayofweek=0<br>month=%{x}<br>sum of positive=%{y}<extra></extra>\", \"legendgroup\": \"2021\", \"marker\": {\"color\": \"#636efa\"}, \"name\": \"2021\", \"offsetgroup\": \"2021\", \"orientation\": \"v\", \"showlegend\": false, \"type\": \"histogram\", \"x\": [\"Mar\", \"Feb\", \"Feb\", \"Feb\", \"Feb\", \"Jan\", \"Jan\", \"Jan\", \"Jan\"], \"xaxis\": \"x\", \"y\": [582543.0, 570546.0, 559350.0, 545303.0, 526423.0, 503688.0, 473441.0, 437042.0, 392568.0], \"yaxis\": \"y\"}, {\"alignmentgroup\": \"True\", \"bingroup\": \"x\", \"histfunc\": \"sum\", \"hovertemplate\": \"Year=2020<br>Dayofweek=6<br>month=%{x}<br>sum of positive=%{y}<extra></extra>\", \"legendgroup\": \"2020\", \"marker\": {\"color\": \"#EF553B\"}, \"name\": \"2020\", \"offsetgroup\": \"2020\", \"orientation\": \"v\", \"showlegend\": true, \"type\": \"histogram\", \"x\": [\"Dec\", \"Dec\", \"Dec\", \"Dec\", \"Nov\", \"Nov\", \"Nov\", \"Nov\", \"Nov\", \"Oct\", \"Oct\", \"Oct\", \"Oct\", \"Sep\", \"Sep\", \"Sep\", \"Sep\", \"Aug\", \"Aug\", \"Aug\", \"Aug\", \"Aug\", \"Jul\", \"Jul\", \"Jul\", \"Jul\", \"Jun\", \"Jun\", \"Jun\", \"Jun\", \"May\", \"May\", \"May\", \"May\", \"May\", \"Apr\", \"Apr\", \"Apr\", \"Apr\", \"Mar\", \"Mar\", \"Mar\", \"Mar\", \"Mar\", \"Feb\", \"Feb\", \"Feb\", \"Feb\", \"Jan\"], \"xaxis\": \"x7\", \"y\": [352736.0, 323531.0, 290578.0, 256844.0, 224964.0, 206850.0, 188275.0, 171399.0, 159707.0, 150565.0, 143660.0, 138903.0, 134947.0, 130642.0, 127540.0, 124826.0, 122562.0, 128229.0, 125360.0, 123200.0, 121040.0, 118458.0, 115637.0, 113534.0, 111597.0, 109974.0, 108667.0, 107061.0, 105603.0, 103436.0, 96965.0, 92675.0, 86010.0, 77793.0, 68087.0, 54938.0, 38077.0, 25475.0, 12500.0, 4955.0, 646.0, 138.0, 13.0, 2.0, 2.0, 2.0, 2.0, 2.0, 2.0], \"yaxis\": \"y7\"}, {\"alignmentgroup\": \"True\", \"bingroup\": \"x\", \"histfunc\": \"sum\", \"hovertemplate\": \"Year=2020<br>Dayofweek=5<br>month=%{x}<br>sum of positive=%{y}<extra></extra>\", \"legendgroup\": \"2020\", \"marker\": {\"color\": \"#EF553B\"}, \"name\": \"2020\", \"offsetgroup\": \"2020\", \"orientation\": \"v\", \"showlegend\": false, \"type\": \"histogram\", \"x\": [\"Dec\", \"Dec\", \"Dec\", \"Dec\", \"Nov\", \"Nov\", \"Nov\", \"Nov\", \"Oct\", \"Oct\", \"Oct\", \"Oct\", \"Oct\", \"Sep\", \"Sep\", \"Sep\", \"Sep\", \"Aug\", \"Aug\", \"Aug\", \"Aug\", \"Aug\", \"Jul\", \"Jul\", \"Jul\", \"Jul\", \"Jun\", \"Jun\", \"Jun\", \"Jun\", \"May\", \"May\", \"May\", \"May\", \"May\", \"Apr\", \"Apr\", \"Apr\", \"Apr\", \"Mar\", \"Mar\", \"Mar\", \"Mar\", \"Feb\", \"Feb\", \"Feb\", \"Feb\", \"Feb\", \"Jan\"], \"xaxis\": \"x6\", \"y\": [349602.0, 319270.0, 285725.0, 252017.0, 222469.0, 204155.0, 186142.0, 169576.0, 158576.0, 149488.0, 142930.0, 138340.0, 134303.0, 130050.0, 127181.0, 124540.0, 122196.0, 128030.0, 125360.0, 122897.0, 120711.0, 118040.0, 115268.0, 113238.0, 111398.0, 109838.0, 108443.0, 106936.0, 105395.0, 103132.0, 96301.0, 91662.0, 84933.0, 76743.0, 66263.0, 53348.0, 36372.0, 22860.0, 11736.0, 4257.0, 525.0, 138.0, 13.0, 2.0, 2.0, 2.0, 2.0, 2.0, 2.0], \"yaxis\": \"y6\"}, {\"alignmentgroup\": \"True\", \"bingroup\": \"x\", \"histfunc\": \"sum\", \"hovertemplate\": \"Year=2020<br>Dayofweek=4<br>month=%{x}<br>sum of positive=%{y}<extra></extra>\", \"legendgroup\": \"2020\", \"marker\": {\"color\": \"#EF553B\"}, \"name\": \"2020\", \"offsetgroup\": \"2020\", \"orientation\": \"v\", \"showlegend\": false, \"type\": \"histogram\", \"x\": [\"Dec\", \"Dec\", \"Dec\", \"Dec\", \"Nov\", \"Nov\", \"Nov\", \"Nov\", \"Oct\", \"Oct\", \"Oct\", \"Oct\", \"Oct\", \"Sep\", \"Sep\", \"Sep\", \"Sep\", \"Aug\", \"Aug\", \"Aug\", \"Aug\", \"Jul\", \"Jul\", \"Jul\", \"Jul\", \"Jul\", \"Jun\", \"Jun\", \"Jun\", \"Jun\", \"May\", \"May\", \"May\", \"May\", \"May\", \"Apr\", \"Apr\", \"Apr\", \"Apr\", \"Mar\", \"Mar\", \"Mar\", \"Mar\", \"Feb\", \"Feb\", \"Feb\", \"Feb\", \"Jan\", \"Jan\"], \"xaxis\": \"x5\", \"y\": [341925.0, 314926.0, 280436.0, 246398.0, 219252.0, 200949.0, 183095.0, 167274.0, 157146.0, 148285.0, 142346.0, 137701.0, 133631.0, 129481.0, 126582.0, 123986.0, 121758.0, 127584.0, 125216.0, 122531.0, 120291.0, 117612.0, 114985.0, 112879.0, 111110.0, 109628.0, 108070.0, 106650.0, 105059.0, 102557.0, 95512.0, 90889.0, 83421.0, 75333.0, 64311.0, 46023.0, 34402.0, 20974.0, 10402.0, 3240.0, 413.0, 123.0, 8.0, 2.0, 2.0, 2.0, 2.0, 2.0, 2.0], \"yaxis\": \"y5\"}, {\"alignmentgroup\": \"True\", \"bingroup\": \"x\", \"histfunc\": \"sum\", \"hovertemplate\": \"Year=2020<br>Dayofweek=3<br>month=%{x}<br>sum of positive=%{y}<extra></extra>\", \"legendgroup\": \"2020\", \"marker\": {\"color\": \"#EF553B\"}, \"name\": \"2020\", \"offsetgroup\": \"2020\", \"orientation\": \"v\", \"showlegend\": false, \"type\": \"histogram\", \"x\": [\"Dec\", \"Dec\", \"Dec\", \"Dec\", \"Dec\", \"Nov\", \"Nov\", \"Nov\", \"Nov\", \"Oct\", \"Oct\", \"Oct\", \"Oct\", \"Oct\", \"Sep\", \"Sep\", \"Sep\", \"Sep\", \"Aug\", \"Aug\", \"Aug\", \"Aug\", \"Jul\", \"Jul\", \"Jul\", \"Jul\", \"Jul\", \"Jun\", \"Jun\", \"Jun\", \"Jun\", \"May\", \"May\", \"May\", \"May\", \"Apr\", \"Apr\", \"Apr\", \"Apr\", \"Apr\", \"Mar\", \"Mar\", \"Mar\", \"Mar\", \"Feb\", \"Feb\", \"Feb\", \"Feb\", \"Jan\", \"Jan\"], \"xaxis\": \"x4\", \"y\": [375178.0, 341925.0, 309247.0, 274781.0, 240907.0, 214594.0, 198550.0, 180189.0, 165161.0, 155564.0, 147215.0, 141579.0, 136936.0, 132870.0, 128993.0, 126128.0, 123546.0, 121546.0, 127124.0, 124728.0, 122319.0, 119874.0, 117098.0, 114647.0, 112581.0, 110897.0, 109338.0, 107837.0, 106422.0, 104667.0, 102063.0, 94895.0, 90084.0, 82182.0, 73721.0, 62205.0, 46023.0, 32181.0, 18941.0, 8966.0, 2417.0, 328.0, 95.0, 2.0, 2.0, 2.0, 2.0, 2.0, 2.0, 2.0], \"yaxis\": \"y4\"}, {\"alignmentgroup\": \"True\", \"bingroup\": \"x\", \"histfunc\": \"sum\", \"hovertemplate\": \"Year=2020<br>Dayofweek=2<br>month=%{x}<br>sum of positive=%{y}<extra></extra>\", \"legendgroup\": \"2020\", \"marker\": {\"color\": \"#EF553B\"}, \"name\": \"2020\", \"offsetgroup\": \"2020\", \"orientation\": \"v\", \"showlegend\": false, \"type\": \"histogram\", \"x\": [\"Dec\", \"Dec\", \"Dec\", \"Dec\", \"Dec\", \"Nov\", \"Nov\", \"Nov\", \"Nov\", \"Oct\", \"Oct\", \"Oct\", \"Oct\", \"Sep\", \"Sep\", \"Sep\", \"Sep\", \"Sep\", \"Aug\", \"Aug\", \"Aug\", \"Aug\", \"Jul\", \"Jul\", \"Jul\", \"Jul\", \"Jul\", \"Jun\", \"Jun\", \"Jun\", \"Jun\", \"May\", \"May\", \"May\", \"May\", \"Apr\", \"Apr\", \"Apr\", \"Apr\", \"Apr\", \"Mar\", \"Mar\", \"Mar\", \"Mar\", \"Feb\", \"Feb\", \"Feb\", \"Feb\", \"Jan\", \"Jan\"], \"xaxis\": \"x3\", \"y\": [367918.0, 335988.0, 304112.0, 269412.0, 234232.0, 214594.0, 195868.0, 177541.0, 163299.0, 154218.0, 146166.0, 140992.0, 136492.0, 132116.0, 128512.0, 125699.0, 123143.0, 121131.0, 126756.0, 124415.0, 122000.0, 119643.0, 116684.0, 114320.0, 112347.0, 110602.0, 109143.0, 107611.0, 106151.0, 104156.0, 101592.0, 94220.0, 88970.0, 80497.0, 72025.0, 60265.0, 42944.0, 29918.0, 16790.0, 7738.0, 1838.0, 256.0, 92.0, 2.0, 2.0, 2.0, 2.0, 2.0, 2.0, 2.0], \"yaxis\": \"y3\"}, {\"alignmentgroup\": \"True\", \"bingroup\": \"x\", \"histfunc\": \"sum\", \"hovertemplate\": \"Year=2020<br>Dayofweek=1<br>month=%{x}<br>sum of positive=%{y}<extra></extra>\", \"legendgroup\": \"2020\", \"marker\": {\"color\": \"#EF553B\"}, \"name\": \"2020\", \"offsetgroup\": \"2020\", \"orientation\": \"v\", \"showlegend\": false, \"type\": \"histogram\", \"x\": [\"Dec\", \"Dec\", \"Dec\", \"Dec\", \"Dec\", \"Nov\", \"Nov\", \"Nov\", \"Nov\", \"Oct\", \"Oct\", \"Oct\", \"Oct\", \"Sep\", \"Sep\", \"Sep\", \"Sep\", \"Sep\", \"Aug\", \"Aug\", \"Aug\", \"Aug\", \"Jul\", \"Jul\", \"Jul\", \"Jul\", \"Jun\", \"Jun\", \"Jun\", \"Jun\", \"Jun\", \"May\", \"May\", \"May\", \"May\", \"Apr\", \"Apr\", \"Apr\", \"Apr\", \"Mar\", \"Mar\", \"Mar\", \"Mar\", \"Mar\", \"Feb\", \"Feb\", \"Feb\", \"Feb\", \"Jan\"], \"xaxis\": \"x2\", \"y\": [361079.0, 331174.0, 298160.0, 263447.0, 229205.0, 211199.0, 192964.0, 174881.0, 161585.0, 153037.0, 145464.0, 140412.0, 135957.0, 131584.0, 127969.0, 125393.0, 122962.0, 128888.0, 126420.0, 123588.0, 121707.0, 119203.0, 116182.0, 114033.0, 112130.0, 110338.0, 108882.0, 107439.0, 105885.0, 103889.0, 101163.0, 93693.0, 87925.0, 79332.0, 70271.0, 58302.0, 41199.0, 28163.0, 15202.0, 6620.0, 1159.0, 218.0, 92.0, 2.0, 2.0, 2.0, 2.0, 2.0, 2.0], \"yaxis\": \"y2\"}, {\"alignmentgroup\": \"True\", \"bingroup\": \"x\", \"histfunc\": \"sum\", \"hovertemplate\": \"Year=2020<br>Dayofweek=0<br>month=%{x}<br>sum of positive=%{y}<extra></extra>\", \"legendgroup\": \"2020\", \"marker\": {\"color\": \"#EF553B\"}, \"name\": \"2020\", \"offsetgroup\": \"2020\", \"orientation\": \"v\", \"showlegend\": false, \"type\": \"histogram\", \"x\": [\"Dec\", \"Dec\", \"Dec\", \"Dec\", \"Nov\", \"Nov\", \"Nov\", \"Nov\", \"Nov\", \"Oct\", \"Oct\", \"Oct\", \"Oct\", \"Sep\", \"Sep\", \"Sep\", \"Sep\", \"Aug\", \"Aug\", \"Aug\", \"Aug\", \"Aug\", \"Jul\", \"Jul\", \"Jul\", \"Jul\", \"Jun\", \"Jun\", \"Jun\", \"Jun\", \"Jun\", \"May\", \"May\", \"May\", \"May\", \"Apr\", \"Apr\", \"Apr\", \"Apr\", \"Mar\", \"Mar\", \"Mar\", \"Mar\", \"Mar\", \"Feb\", \"Feb\", \"Feb\", \"Feb\", \"Jan\"], \"xaxis\": \"x\", \"y\": [356934.0, 327374.0, 294231.0, 259325.0, 226132.0, 208623.0, 190439.0, 172727.0, 160549.0, 151777.0, 144488.0, 139663.0, 135462.0, 131072.0, 127796.0, 125080.0, 122791.0, 128533.0, 126022.0, 123413.0, 121315.0, 118657.0, 115926.0, 113789.0, 111827.0, 110137.0, 108768.0, 107210.0, 105690.0, 103626.0, 100805.0, 93271.0, 87052.0, 78462.0, 69087.0, 56462.0, 38077.0, 26867.0, 13837.0, 5752.0, 777.0, 164.0, 41.0, 2.0, 2.0, 2.0, 2.0, 2.0, 2.0], \"yaxis\": \"y\"}],                        {\"annotations\": [{\"font\": {}, \"showarrow\": false, \"text\": \"Dayofweek=0\", \"textangle\": 90, \"x\": 0.98, \"xanchor\": \"left\", \"xref\": \"paper\", \"y\": 0.05857142857142857, \"yanchor\": \"middle\", \"yref\": \"paper\"}, {\"font\": {}, \"showarrow\": false, \"text\": \"Dayofweek=1\", \"textangle\": 90, \"x\": 0.98, \"xanchor\": \"left\", \"xref\": \"paper\", \"y\": 0.2057142857142857, \"yanchor\": \"middle\", \"yref\": \"paper\"}, {\"font\": {}, \"showarrow\": false, \"text\": \"Dayofweek=2\", \"textangle\": 90, \"x\": 0.98, \"xanchor\": \"left\", \"xref\": \"paper\", \"y\": 0.35285714285714287, \"yanchor\": \"middle\", \"yref\": \"paper\"}, {\"font\": {}, \"showarrow\": false, \"text\": \"Dayofweek=3\", \"textangle\": 90, \"x\": 0.98, \"xanchor\": \"left\", \"xref\": \"paper\", \"y\": 0.49999999999999994, \"yanchor\": \"middle\", \"yref\": \"paper\"}, {\"font\": {}, \"showarrow\": false, \"text\": \"Dayofweek=4\", \"textangle\": 90, \"x\": 0.98, \"xanchor\": \"left\", \"xref\": \"paper\", \"y\": 0.647142857142857, \"yanchor\": \"middle\", \"yref\": \"paper\"}, {\"font\": {}, \"showarrow\": false, \"text\": \"Dayofweek=5\", \"textangle\": 90, \"x\": 0.98, \"xanchor\": \"left\", \"xref\": \"paper\", \"y\": 0.7942857142857143, \"yanchor\": \"middle\", \"yref\": \"paper\"}, {\"font\": {}, \"showarrow\": false, \"text\": \"Dayofweek=6\", \"textangle\": 90, \"x\": 0.98, \"xanchor\": \"left\", \"xref\": \"paper\", \"y\": 0.9414285714285713, \"yanchor\": \"middle\", \"yref\": \"paper\"}], \"barmode\": \"relative\", \"height\": 1000, \"legend\": {\"title\": {\"text\": \"Year\"}, \"tracegroupgap\": 0}, \"template\": {\"data\": {\"bar\": [{\"error_x\": {\"color\": \"#2a3f5f\"}, \"error_y\": {\"color\": \"#2a3f5f\"}, \"marker\": {\"line\": {\"color\": \"#E5ECF6\", \"width\": 0.5}}, \"type\": \"bar\"}], \"barpolar\": [{\"marker\": {\"line\": {\"color\": \"#E5ECF6\", \"width\": 0.5}}, \"type\": \"barpolar\"}], \"carpet\": [{\"aaxis\": {\"endlinecolor\": \"#2a3f5f\", \"gridcolor\": \"white\", \"linecolor\": \"white\", \"minorgridcolor\": \"white\", \"startlinecolor\": \"#2a3f5f\"}, \"baxis\": {\"endlinecolor\": \"#2a3f5f\", \"gridcolor\": \"white\", \"linecolor\": \"white\", \"minorgridcolor\": \"white\", \"startlinecolor\": \"#2a3f5f\"}, \"type\": \"carpet\"}], \"choropleth\": [{\"colorbar\": {\"outlinewidth\": 0, \"ticks\": \"\"}, \"type\": \"choropleth\"}], \"contour\": [{\"colorbar\": {\"outlinewidth\": 0, \"ticks\": \"\"}, \"colorscale\": [[0.0, \"#0d0887\"], [0.1111111111111111, \"#46039f\"], [0.2222222222222222, \"#7201a8\"], [0.3333333333333333, \"#9c179e\"], [0.4444444444444444, \"#bd3786\"], [0.5555555555555556, \"#d8576b\"], [0.6666666666666666, \"#ed7953\"], [0.7777777777777778, \"#fb9f3a\"], [0.8888888888888888, \"#fdca26\"], [1.0, \"#f0f921\"]], \"type\": \"contour\"}], \"contourcarpet\": [{\"colorbar\": {\"outlinewidth\": 0, \"ticks\": \"\"}, \"type\": \"contourcarpet\"}], \"heatmap\": [{\"colorbar\": {\"outlinewidth\": 0, \"ticks\": \"\"}, \"colorscale\": [[0.0, \"#0d0887\"], [0.1111111111111111, \"#46039f\"], [0.2222222222222222, \"#7201a8\"], [0.3333333333333333, \"#9c179e\"], [0.4444444444444444, \"#bd3786\"], [0.5555555555555556, \"#d8576b\"], [0.6666666666666666, \"#ed7953\"], [0.7777777777777778, \"#fb9f3a\"], [0.8888888888888888, \"#fdca26\"], [1.0, \"#f0f921\"]], \"type\": \"heatmap\"}], \"heatmapgl\": [{\"colorbar\": {\"outlinewidth\": 0, \"ticks\": \"\"}, \"colorscale\": [[0.0, \"#0d0887\"], [0.1111111111111111, \"#46039f\"], [0.2222222222222222, \"#7201a8\"], [0.3333333333333333, \"#9c179e\"], [0.4444444444444444, \"#bd3786\"], [0.5555555555555556, \"#d8576b\"], [0.6666666666666666, \"#ed7953\"], [0.7777777777777778, \"#fb9f3a\"], [0.8888888888888888, \"#fdca26\"], [1.0, \"#f0f921\"]], \"type\": \"heatmapgl\"}], \"histogram\": [{\"marker\": {\"colorbar\": {\"outlinewidth\": 0, \"ticks\": \"\"}}, \"type\": \"histogram\"}], \"histogram2d\": [{\"colorbar\": {\"outlinewidth\": 0, \"ticks\": \"\"}, \"colorscale\": [[0.0, \"#0d0887\"], [0.1111111111111111, \"#46039f\"], [0.2222222222222222, \"#7201a8\"], [0.3333333333333333, \"#9c179e\"], [0.4444444444444444, \"#bd3786\"], [0.5555555555555556, \"#d8576b\"], [0.6666666666666666, \"#ed7953\"], [0.7777777777777778, \"#fb9f3a\"], [0.8888888888888888, \"#fdca26\"], [1.0, \"#f0f921\"]], \"type\": \"histogram2d\"}], \"histogram2dcontour\": [{\"colorbar\": {\"outlinewidth\": 0, \"ticks\": \"\"}, \"colorscale\": [[0.0, \"#0d0887\"], [0.1111111111111111, \"#46039f\"], [0.2222222222222222, \"#7201a8\"], [0.3333333333333333, \"#9c179e\"], [0.4444444444444444, \"#bd3786\"], [0.5555555555555556, \"#d8576b\"], [0.6666666666666666, \"#ed7953\"], [0.7777777777777778, \"#fb9f3a\"], [0.8888888888888888, \"#fdca26\"], [1.0, \"#f0f921\"]], \"type\": \"histogram2dcontour\"}], \"mesh3d\": [{\"colorbar\": {\"outlinewidth\": 0, \"ticks\": \"\"}, \"type\": \"mesh3d\"}], \"parcoords\": [{\"line\": {\"colorbar\": {\"outlinewidth\": 0, \"ticks\": \"\"}}, \"type\": \"parcoords\"}], \"pie\": [{\"automargin\": true, \"type\": \"pie\"}], \"scatter\": [{\"marker\": {\"colorbar\": {\"outlinewidth\": 0, \"ticks\": \"\"}}, \"type\": \"scatter\"}], \"scatter3d\": [{\"line\": {\"colorbar\": {\"outlinewidth\": 0, \"ticks\": \"\"}}, \"marker\": {\"colorbar\": {\"outlinewidth\": 0, \"ticks\": \"\"}}, \"type\": \"scatter3d\"}], \"scattercarpet\": [{\"marker\": {\"colorbar\": {\"outlinewidth\": 0, \"ticks\": \"\"}}, \"type\": \"scattercarpet\"}], \"scattergeo\": [{\"marker\": {\"colorbar\": {\"outlinewidth\": 0, \"ticks\": \"\"}}, \"type\": \"scattergeo\"}], \"scattergl\": [{\"marker\": {\"colorbar\": {\"outlinewidth\": 0, \"ticks\": \"\"}}, \"type\": \"scattergl\"}], \"scattermapbox\": [{\"marker\": {\"colorbar\": {\"outlinewidth\": 0, \"ticks\": \"\"}}, \"type\": \"scattermapbox\"}], \"scatterpolar\": [{\"marker\": {\"colorbar\": {\"outlinewidth\": 0, \"ticks\": \"\"}}, \"type\": \"scatterpolar\"}], \"scatterpolargl\": [{\"marker\": {\"colorbar\": {\"outlinewidth\": 0, \"ticks\": \"\"}}, \"type\": \"scatterpolargl\"}], \"scatterternary\": [{\"marker\": {\"colorbar\": {\"outlinewidth\": 0, \"ticks\": \"\"}}, \"type\": \"scatterternary\"}], \"surface\": [{\"colorbar\": {\"outlinewidth\": 0, \"ticks\": \"\"}, \"colorscale\": [[0.0, \"#0d0887\"], [0.1111111111111111, \"#46039f\"], [0.2222222222222222, \"#7201a8\"], [0.3333333333333333, \"#9c179e\"], [0.4444444444444444, \"#bd3786\"], [0.5555555555555556, \"#d8576b\"], [0.6666666666666666, \"#ed7953\"], [0.7777777777777778, \"#fb9f3a\"], [0.8888888888888888, \"#fdca26\"], [1.0, \"#f0f921\"]], \"type\": \"surface\"}], \"table\": [{\"cells\": {\"fill\": {\"color\": \"#EBF0F8\"}, \"line\": {\"color\": \"white\"}}, \"header\": {\"fill\": {\"color\": \"#C8D4E3\"}, \"line\": {\"color\": \"white\"}}, \"type\": \"table\"}]}, \"layout\": {\"annotationdefaults\": {\"arrowcolor\": \"#2a3f5f\", \"arrowhead\": 0, \"arrowwidth\": 1}, \"autotypenumbers\": \"strict\", \"coloraxis\": {\"colorbar\": {\"outlinewidth\": 0, \"ticks\": \"\"}}, \"colorscale\": {\"diverging\": [[0, \"#8e0152\"], [0.1, \"#c51b7d\"], [0.2, \"#de77ae\"], [0.3, \"#f1b6da\"], [0.4, \"#fde0ef\"], [0.5, \"#f7f7f7\"], [0.6, \"#e6f5d0\"], [0.7, \"#b8e186\"], [0.8, \"#7fbc41\"], [0.9, \"#4d9221\"], [1, \"#276419\"]], \"sequential\": [[0.0, \"#0d0887\"], [0.1111111111111111, \"#46039f\"], [0.2222222222222222, \"#7201a8\"], [0.3333333333333333, \"#9c179e\"], [0.4444444444444444, \"#bd3786\"], [0.5555555555555556, \"#d8576b\"], [0.6666666666666666, \"#ed7953\"], [0.7777777777777778, \"#fb9f3a\"], [0.8888888888888888, \"#fdca26\"], [1.0, \"#f0f921\"]], \"sequentialminus\": [[0.0, \"#0d0887\"], [0.1111111111111111, \"#46039f\"], [0.2222222222222222, \"#7201a8\"], [0.3333333333333333, \"#9c179e\"], [0.4444444444444444, \"#bd3786\"], [0.5555555555555556, \"#d8576b\"], [0.6666666666666666, \"#ed7953\"], [0.7777777777777778, \"#fb9f3a\"], [0.8888888888888888, \"#fdca26\"], [1.0, \"#f0f921\"]]}, \"colorway\": [\"#636efa\", \"#EF553B\", \"#00cc96\", \"#ab63fa\", \"#FFA15A\", \"#19d3f3\", \"#FF6692\", \"#B6E880\", \"#FF97FF\", \"#FECB52\"], \"font\": {\"color\": \"#2a3f5f\"}, \"geo\": {\"bgcolor\": \"white\", \"lakecolor\": \"white\", \"landcolor\": \"#E5ECF6\", \"showlakes\": true, \"showland\": true, \"subunitcolor\": \"white\"}, \"hoverlabel\": {\"align\": \"left\"}, \"hovermode\": \"closest\", \"mapbox\": {\"style\": \"light\"}, \"paper_bgcolor\": \"white\", \"plot_bgcolor\": \"#E5ECF6\", \"polar\": {\"angularaxis\": {\"gridcolor\": \"white\", \"linecolor\": \"white\", \"ticks\": \"\"}, \"bgcolor\": \"#E5ECF6\", \"radialaxis\": {\"gridcolor\": \"white\", \"linecolor\": \"white\", \"ticks\": \"\"}}, \"scene\": {\"xaxis\": {\"backgroundcolor\": \"#E5ECF6\", \"gridcolor\": \"white\", \"gridwidth\": 2, \"linecolor\": \"white\", \"showbackground\": true, \"ticks\": \"\", \"zerolinecolor\": \"white\"}, \"yaxis\": {\"backgroundcolor\": \"#E5ECF6\", \"gridcolor\": \"white\", \"gridwidth\": 2, \"linecolor\": \"white\", \"showbackground\": true, \"ticks\": \"\", \"zerolinecolor\": \"white\"}, \"zaxis\": {\"backgroundcolor\": \"#E5ECF6\", \"gridcolor\": \"white\", \"gridwidth\": 2, \"linecolor\": \"white\", \"showbackground\": true, \"ticks\": \"\", \"zerolinecolor\": \"white\"}}, \"shapedefaults\": {\"line\": {\"color\": \"#2a3f5f\"}}, \"ternary\": {\"aaxis\": {\"gridcolor\": \"white\", \"linecolor\": \"white\", \"ticks\": \"\"}, \"baxis\": {\"gridcolor\": \"white\", \"linecolor\": \"white\", \"ticks\": \"\"}, \"bgcolor\": \"#E5ECF6\", \"caxis\": {\"gridcolor\": \"white\", \"linecolor\": \"white\", \"ticks\": \"\"}}, \"title\": {\"x\": 0.05}, \"xaxis\": {\"automargin\": true, \"gridcolor\": \"white\", \"linecolor\": \"white\", \"ticks\": \"\", \"title\": {\"standoff\": 15}, \"zerolinecolor\": \"white\", \"zerolinewidth\": 2}, \"yaxis\": {\"automargin\": true, \"gridcolor\": \"white\", \"linecolor\": \"white\", \"ticks\": \"\", \"title\": {\"standoff\": 15}, \"zerolinecolor\": \"white\", \"zerolinewidth\": 2}}}, \"title\": {\"text\": \"Positive cases Every Month\"}, \"width\": 1000, \"xaxis\": {\"anchor\": \"y\", \"domain\": [0.0, 0.98], \"title\": {\"text\": \"month\"}}, \"xaxis2\": {\"anchor\": \"y2\", \"domain\": [0.0, 0.98], \"matches\": \"x\", \"showticklabels\": false}, \"xaxis3\": {\"anchor\": \"y3\", \"domain\": [0.0, 0.98], \"matches\": \"x\", \"showticklabels\": false}, \"xaxis4\": {\"anchor\": \"y4\", \"domain\": [0.0, 0.98], \"matches\": \"x\", \"showticklabels\": false}, \"xaxis5\": {\"anchor\": \"y5\", \"domain\": [0.0, 0.98], \"matches\": \"x\", \"showticklabels\": false}, \"xaxis6\": {\"anchor\": \"y6\", \"domain\": [0.0, 0.98], \"matches\": \"x\", \"showticklabels\": false}, \"xaxis7\": {\"anchor\": \"y7\", \"domain\": [0.0, 0.98], \"matches\": \"x\", \"showticklabels\": false}, \"yaxis\": {\"anchor\": \"x\", \"domain\": [0.0, 0.11714285714285715], \"title\": {\"text\": \"sum of positive\"}}, \"yaxis2\": {\"anchor\": \"x2\", \"domain\": [0.14714285714285713, 0.2642857142857143], \"matches\": \"y\", \"title\": {\"text\": \"sum of positive\"}}, \"yaxis3\": {\"anchor\": \"x3\", \"domain\": [0.29428571428571426, 0.4114285714285714], \"matches\": \"y\", \"title\": {\"text\": \"sum of positive\"}}, \"yaxis4\": {\"anchor\": \"x4\", \"domain\": [0.4414285714285714, 0.5585714285714285], \"matches\": \"y\", \"title\": {\"text\": \"sum of positive\"}}, \"yaxis5\": {\"anchor\": \"x5\", \"domain\": [0.5885714285714285, 0.7057142857142856], \"matches\": \"y\", \"title\": {\"text\": \"sum of positive\"}}, \"yaxis6\": {\"anchor\": \"x6\", \"domain\": [0.7357142857142858, 0.8528571428571429], \"matches\": \"y\", \"title\": {\"text\": \"sum of positive\"}}, \"yaxis7\": {\"anchor\": \"x7\", \"domain\": [0.8828571428571428, 0.9999999999999999], \"matches\": \"y\", \"title\": {\"text\": \"sum of positive\"}}},                        {\"responsive\": true}                    ).then(function(){\n",
       "                            \n",
       "var gd = document.getElementById('a2e7f160-837d-4a73-8c43-fa991d5b4e11');\n",
       "var x = new MutationObserver(function (mutations, observer) {{\n",
       "        var display = window.getComputedStyle(gd).display;\n",
       "        if (!display || display === 'none') {{\n",
       "            console.log([gd, 'removed!']);\n",
       "            Plotly.purge(gd);\n",
       "            observer.disconnect();\n",
       "        }}\n",
       "}});\n",
       "\n",
       "// Listen for the removal of the full notebook cells\n",
       "var notebookContainer = gd.closest('#notebook-container');\n",
       "if (notebookContainer) {{\n",
       "    x.observe(notebookContainer, {childList: true});\n",
       "}}\n",
       "\n",
       "// Listen for the clearing of the current output cell\n",
       "var outputEl = gd.closest('.output');\n",
       "if (outputEl) {{\n",
       "    x.observe(outputEl, {childList: true});\n",
       "}}\n",
       "\n",
       "                        })                };                });            </script>        </div>"
      ]
     },
     "metadata": {},
     "output_type": "display_data"
    }
   ],
   "source": [
    "import plotly.express as px\n",
    "fig = px.histogram(df_1, x='month', y='positive',title='Positive cases Every Month',color='Year',facet_row='Dayofweek',width=1000, height=1000)\n",
    "fig"
   ]
  },
  {
   "cell_type": "code",
   "execution_count": 126,
   "id": "54482ac4",
   "metadata": {},
   "outputs": [
    {
     "data": {
      "application/vnd.plotly.v1+json": {
       "config": {
        "plotlyServerURL": "https://plot.ly"
       },
       "data": [
        {
         "alignmentgroup": "True",
         "bingroup": "x",
         "histfunc": "sum",
         "hovertemplate": "Year=2021<br>Dayofweek=6<br>month=%{x}<br>sum of death=%{y}<extra></extra>",
         "legendgroup": "2021",
         "marker": {
          "color": "#636efa"
         },
         "name": "2021",
         "offsetgroup": "2021",
         "orientation": "v",
         "showlegend": true,
         "type": "histogram",
         "x": [
          "Mar",
          "Feb",
          "Feb",
          "Feb",
          "Feb",
          "Jan",
          "Jan",
          "Jan",
          "Jan",
          "Jan"
         ],
         "xaxis": "x7",
         "y": [
          16417,
          16118,
          15826,
          15484,
          14999,
          14577,
          14133,
          13652,
          13151,
          12610
         ],
         "yaxis": "y7"
        },
        {
         "alignmentgroup": "True",
         "bingroup": "x",
         "histfunc": "sum",
         "hovertemplate": "Year=2021<br>Dayofweek=5<br>month=%{x}<br>sum of death=%{y}<extra></extra>",
         "legendgroup": "2021",
         "marker": {
          "color": "#636efa"
         },
         "name": "2021",
         "offsetgroup": "2021",
         "orientation": "v",
         "showlegend": false,
         "type": "histogram",
         "x": [
          "Mar",
          "Feb",
          "Feb",
          "Feb",
          "Feb",
          "Jan",
          "Jan",
          "Jan",
          "Jan",
          "Jan"
         ],
         "xaxis": "x6",
         "y": [
          16374,
          16067,
          15779,
          15424,
          14921,
          14531,
          14064,
          13583,
          13074,
          12502
         ],
         "yaxis": "y6"
        },
        {
         "alignmentgroup": "True",
         "bingroup": "x",
         "histfunc": "sum",
         "hovertemplate": "Year=2021<br>Dayofweek=4<br>month=%{x}<br>sum of death=%{y}<extra></extra>",
         "legendgroup": "2021",
         "marker": {
          "color": "#636efa"
         },
         "name": "2021",
         "offsetgroup": "2021",
         "orientation": "v",
         "showlegend": false,
         "type": "histogram",
         "x": [
          "Mar",
          "Feb",
          "Feb",
          "Feb",
          "Feb",
          "Jan",
          "Jan",
          "Jan",
          "Jan",
          "Jan"
         ],
         "xaxis": "x5",
         "y": [
          16322,
          16024,
          15726,
          15358,
          14859,
          14444,
          13987,
          13509,
          12985,
          12423
         ],
         "yaxis": "y5"
        },
        {
         "alignmentgroup": "True",
         "bingroup": "x",
         "histfunc": "sum",
         "hovertemplate": "Year=2021<br>Dayofweek=3<br>month=%{x}<br>sum of death=%{y}<extra></extra>",
         "legendgroup": "2021",
         "marker": {
          "color": "#636efa"
         },
         "name": "2021",
         "offsetgroup": "2021",
         "orientation": "v",
         "showlegend": false,
         "type": "histogram",
         "x": [
          "Mar",
          "Feb",
          "Feb",
          "Feb",
          "Feb",
          "Jan",
          "Jan",
          "Jan",
          "Jan"
         ],
         "xaxis": "x4",
         "y": [
          16296,
          15978,
          15686,
          15269,
          14784,
          14348,
          13906,
          13433,
          12909
         ],
         "yaxis": "y4"
        },
        {
         "alignmentgroup": "True",
         "bingroup": "x",
         "histfunc": "sum",
         "hovertemplate": "Year=2021<br>Dayofweek=2<br>month=%{x}<br>sum of death=%{y}<extra></extra>",
         "legendgroup": "2021",
         "marker": {
          "color": "#636efa"
         },
         "name": "2021",
         "offsetgroup": "2021",
         "orientation": "v",
         "showlegend": false,
         "type": "histogram",
         "x": [
          "Mar",
          "Feb",
          "Feb",
          "Feb",
          "Feb",
          "Jan",
          "Jan",
          "Jan",
          "Jan"
         ],
         "xaxis": "x3",
         "y": [
          16252,
          15945,
          15623,
          15207,
          14708,
          14304,
          13829,
          13359,
          12836
         ],
         "yaxis": "y3"
        },
        {
         "alignmentgroup": "True",
         "bingroup": "x",
         "histfunc": "sum",
         "hovertemplate": "Year=2021<br>Dayofweek=1<br>month=%{x}<br>sum of death=%{y}<extra></extra>",
         "legendgroup": "2021",
         "marker": {
          "color": "#636efa"
         },
         "name": "2021",
         "offsetgroup": "2021",
         "orientation": "v",
         "showlegend": false,
         "type": "histogram",
         "x": [
          "Mar",
          "Feb",
          "Feb",
          "Feb",
          "Feb",
          "Jan",
          "Jan",
          "Jan",
          "Jan"
         ],
         "xaxis": "x2",
         "y": [
          16182,
          15883,
          15567,
          15124,
          14652,
          14220,
          13749,
          13273,
          12734
         ],
         "yaxis": "y2"
        },
        {
         "alignmentgroup": "True",
         "bingroup": "x",
         "histfunc": "sum",
         "hovertemplate": "Year=2021<br>Dayofweek=0<br>month=%{x}<br>sum of death=%{y}<extra></extra>",
         "legendgroup": "2021",
         "marker": {
          "color": "#636efa"
         },
         "name": "2021",
         "offsetgroup": "2021",
         "orientation": "v",
         "showlegend": false,
         "type": "histogram",
         "x": [
          "Mar",
          "Feb",
          "Feb",
          "Feb",
          "Feb",
          "Jan",
          "Jan",
          "Jan",
          "Jan"
         ],
         "xaxis": "x",
         "y": [
          16144,
          15853,
          15517,
          15054,
          14607,
          14178,
          13705,
          13206,
          12671
         ],
         "yaxis": "y"
        },
        {
         "alignmentgroup": "True",
         "bingroup": "x",
         "histfunc": "sum",
         "hovertemplate": "Year=2020<br>Dayofweek=6<br>month=%{x}<br>sum of death=%{y}<extra></extra>",
         "legendgroup": "2020",
         "marker": {
          "color": "#EF553B"
         },
         "name": "2020",
         "offsetgroup": "2020",
         "orientation": "v",
         "showlegend": true,
         "type": "histogram",
         "x": [
          "Dec",
          "Dec",
          "Dec",
          "Dec",
          "Nov",
          "Nov",
          "Nov",
          "Nov",
          "Nov",
          "Oct",
          "Oct",
          "Oct",
          "Oct",
          "Sep",
          "Sep",
          "Sep",
          "Sep",
          "Aug",
          "Aug",
          "Aug",
          "Aug",
          "Aug",
          "Jul",
          "Jul",
          "Jul",
          "Jul",
          "Jun",
          "Jun",
          "Jun",
          "Jun",
          "May",
          "May",
          "May",
          "May",
          "May",
          "Apr",
          "Apr",
          "Apr",
          "Apr",
          "Mar",
          "Mar",
          "Mar",
          "Mar",
          "Mar",
          "Feb",
          "Feb",
          "Feb",
          "Feb",
          "Jan"
         ],
         "xaxis": "x7",
         "y": [
          12110,
          11717,
          11349,
          11004,
          10722,
          10512,
          10329,
          10149,
          10013,
          9864,
          9737,
          9604,
          9510,
          9404,
          9310,
          9210,
          9125,
          9049,
          8921,
          8829,
          8735,
          8638,
          8529,
          8431,
          8325,
          8183,
          8060,
          7858,
          7624,
          7316,
          6846,
          6372,
          5797,
          4979,
          4004,
          2899,
          2146,
          1056,
          370,
          99,
          11,
          9180,
          9180,
          9180,
          9180,
          9180,
          9180,
          9180,
          9180
         ],
         "yaxis": "y7"
        },
        {
         "alignmentgroup": "True",
         "bingroup": "x",
         "histfunc": "sum",
         "hovertemplate": "Year=2020<br>Dayofweek=5<br>month=%{x}<br>sum of death=%{y}<extra></extra>",
         "legendgroup": "2020",
         "marker": {
          "color": "#EF553B"
         },
         "name": "2020",
         "offsetgroup": "2020",
         "orientation": "v",
         "showlegend": false,
         "type": "histogram",
         "x": [
          "Dec",
          "Dec",
          "Dec",
          "Dec",
          "Nov",
          "Nov",
          "Nov",
          "Nov",
          "Oct",
          "Oct",
          "Oct",
          "Oct",
          "Oct",
          "Sep",
          "Sep",
          "Sep",
          "Sep",
          "Aug",
          "Aug",
          "Aug",
          "Aug",
          "Aug",
          "Jul",
          "Jul",
          "Jul",
          "Jul",
          "Jun",
          "Jun",
          "Jun",
          "Jun",
          "May",
          "May",
          "May",
          "May",
          "May",
          "Apr",
          "Apr",
          "Apr",
          "Apr",
          "Mar",
          "Mar",
          "Mar",
          "Mar",
          "Feb",
          "Feb",
          "Feb",
          "Feb",
          "Feb",
          "Jan"
         ],
         "xaxis": "x6",
         "y": [
          12010,
          11657,
          11307,
          10953,
          10676,
          10488,
          10293,
          10129,
          9991,
          9839,
          9723,
          9587,
          9507,
          9391,
          9295,
          9196,
          9116,
          9036,
          8921,
          8818,
          8721,
          8626,
          8510,
          8419,
          8310,
          8172,
          8041,
          7828,
          7576,
          7289,
          6768,
          6304,
          5705,
          4840,
          3846,
          2877,
          1983,
          946,
          304,
          72,
          7,
          9180,
          9180,
          9180,
          9180,
          9180,
          9180,
          9180,
          9180
         ],
         "yaxis": "y6"
        },
        {
         "alignmentgroup": "True",
         "bingroup": "x",
         "histfunc": "sum",
         "hovertemplate": "Year=2020<br>Dayofweek=4<br>month=%{x}<br>sum of death=%{y}<extra></extra>",
         "legendgroup": "2020",
         "marker": {
          "color": "#EF553B"
         },
         "name": "2020",
         "offsetgroup": "2020",
         "orientation": "v",
         "showlegend": false,
         "type": "histogram",
         "x": [
          "Dec",
          "Dec",
          "Dec",
          "Dec",
          "Nov",
          "Nov",
          "Nov",
          "Nov",
          "Oct",
          "Oct",
          "Oct",
          "Oct",
          "Oct",
          "Sep",
          "Sep",
          "Sep",
          "Sep",
          "Aug",
          "Aug",
          "Aug",
          "Aug",
          "Jul",
          "Jul",
          "Jul",
          "Jul",
          "Jul",
          "Jun",
          "Jun",
          "Jun",
          "Jun",
          "May",
          "May",
          "May",
          "May",
          "May",
          "Apr",
          "Apr",
          "Apr",
          "Apr",
          "Mar",
          "Mar",
          "Mar",
          "Mar",
          "Feb",
          "Feb",
          "Feb",
          "Feb",
          "Jan",
          "Jan"
         ],
         "xaxis": "x5",
         "y": [
          11963,
          11610,
          11257,
          10910,
          10635,
          10469,
          10265,
          10106,
          9975,
          9830,
          9702,
          9577,
          9490,
          9373,
          9269,
          9180,
          9100,
          9023,
          8901,
          8804,
          8709,
          8609,
          8498,
          8402,
          8296,
          8149,
          8013,
          7800,
          7538,
          7235,
          6718,
          6228,
          5592,
          4702,
          3716,
          2877,
          1822,
          832,
          265,
          57,
          5,
          9180,
          9180,
          9180,
          9180,
          9180,
          9180,
          9180,
          9180
         ],
         "yaxis": "y5"
        },
        {
         "alignmentgroup": "True",
         "bingroup": "x",
         "histfunc": "sum",
         "hovertemplate": "Year=2020<br>Dayofweek=3<br>month=%{x}<br>sum of death=%{y}<extra></extra>",
         "legendgroup": "2020",
         "marker": {
          "color": "#EF553B"
         },
         "name": "2020",
         "offsetgroup": "2020",
         "orientation": "v",
         "showlegend": false,
         "type": "histogram",
         "x": [
          "Dec",
          "Dec",
          "Dec",
          "Dec",
          "Dec",
          "Nov",
          "Nov",
          "Nov",
          "Nov",
          "Oct",
          "Oct",
          "Oct",
          "Oct",
          "Oct",
          "Sep",
          "Sep",
          "Sep",
          "Sep",
          "Aug",
          "Aug",
          "Aug",
          "Aug",
          "Jul",
          "Jul",
          "Jul",
          "Jul",
          "Jul",
          "Jun",
          "Jun",
          "Jun",
          "Jun",
          "May",
          "May",
          "May",
          "May",
          "Apr",
          "Apr",
          "Apr",
          "Apr",
          "Apr",
          "Mar",
          "Mar",
          "Mar",
          "Mar",
          "Feb",
          "Feb",
          "Feb",
          "Feb",
          "Jan",
          "Jan"
         ],
         "xaxis": "x4",
         "y": [
          12423,
          11963,
          11558,
          11209,
          10874,
          10604,
          10435,
          10242,
          10085,
          9951,
          9810,
          9672,
          9565,
          9480,
          9362,
          9260,
          9166,
          9077,
          9007,
          8888,
          8790,
          8691,
          8595,
          8484,
          8380,
          8268,
          8132,
          7963,
          7770,
          7492,
          7201,
          6640,
          6148,
          5482,
          4552,
          3562,
          2769,
          1667,
          725,
          229,
          42,
          3,
          9180,
          9180,
          9180,
          9180,
          9180,
          9180,
          9180,
          9180
         ],
         "yaxis": "y4"
        },
        {
         "alignmentgroup": "True",
         "bingroup": "x",
         "histfunc": "sum",
         "hovertemplate": "Year=2020<br>Dayofweek=2<br>month=%{x}<br>sum of death=%{y}<extra></extra>",
         "legendgroup": "2020",
         "marker": {
          "color": "#EF553B"
         },
         "name": "2020",
         "offsetgroup": "2020",
         "orientation": "v",
         "showlegend": false,
         "type": "histogram",
         "x": [
          "Dec",
          "Dec",
          "Dec",
          "Dec",
          "Dec",
          "Nov",
          "Nov",
          "Nov",
          "Nov",
          "Oct",
          "Oct",
          "Oct",
          "Oct",
          "Sep",
          "Sep",
          "Sep",
          "Sep",
          "Sep",
          "Aug",
          "Aug",
          "Aug",
          "Aug",
          "Jul",
          "Jul",
          "Jul",
          "Jul",
          "Jul",
          "Jun",
          "Jun",
          "Jun",
          "Jun",
          "May",
          "May",
          "May",
          "May",
          "Apr",
          "Apr",
          "Apr",
          "Apr",
          "Apr",
          "Mar",
          "Mar",
          "Mar",
          "Mar",
          "Feb",
          "Feb",
          "Feb",
          "Feb",
          "Jan",
          "Jan"
         ],
         "xaxis": "x3",
         "y": [
          12338,
          11887,
          11513,
          11166,
          10824,
          10604,
          10407,
          10222,
          10062,
          9924,
          9780,
          9647,
          9557,
          9456,
          9347,
          9245,
          9146,
          9060,
          8987,
          8876,
          8769,
          8659,
          8580,
          8468,
          8368,
          8243,
          8081,
          7938,
          7734,
          7454,
          7152,
          6547,
          6066,
          5315,
          4420,
          3405,
          2597,
          1502,
          615,
          187,
          33,
          2,
          9180,
          9180,
          9180,
          9180,
          9180,
          9180,
          9180,
          9180
         ],
         "yaxis": "y3"
        },
        {
         "alignmentgroup": "True",
         "bingroup": "x",
         "histfunc": "sum",
         "hovertemplate": "Year=2020<br>Dayofweek=1<br>month=%{x}<br>sum of death=%{y}<extra></extra>",
         "legendgroup": "2020",
         "marker": {
          "color": "#EF553B"
         },
         "name": "2020",
         "offsetgroup": "2020",
         "orientation": "v",
         "showlegend": false,
         "type": "histogram",
         "x": [
          "Dec",
          "Dec",
          "Dec",
          "Dec",
          "Dec",
          "Nov",
          "Nov",
          "Nov",
          "Nov",
          "Oct",
          "Oct",
          "Oct",
          "Oct",
          "Sep",
          "Sep",
          "Sep",
          "Sep",
          "Sep",
          "Aug",
          "Aug",
          "Aug",
          "Aug",
          "Jul",
          "Jul",
          "Jul",
          "Jul",
          "Jun",
          "Jun",
          "Jun",
          "Jun",
          "Jun",
          "May",
          "May",
          "May",
          "May",
          "Apr",
          "Apr",
          "Apr",
          "Apr",
          "Mar",
          "Mar",
          "Mar",
          "Mar",
          "Mar",
          "Feb",
          "Feb",
          "Feb",
          "Feb",
          "Jan"
         ],
         "xaxis": "x2",
         "y": [
          12218,
          11804,
          11443,
          11076,
          10778,
          10551,
          10360,
          10184,
          10035,
          9888,
          9758,
          9630,
          9538,
          9423,
          9328,
          9225,
          9141,
          9064,
          8960,
          8839,
          8751,
          8657,
          8551,
          8450,
          8340,
          8213,
          8054,
          7890,
          7665,
          7408,
          7085,
          6473,
          5938,
          5141,
          4212,
          3153,
          2449,
          1329,
          515,
          153,
          26,
          9180,
          9180,
          9180,
          9180,
          9180,
          9180,
          9180,
          9180
         ],
         "yaxis": "y2"
        },
        {
         "alignmentgroup": "True",
         "bingroup": "x",
         "histfunc": "sum",
         "hovertemplate": "Year=2020<br>Dayofweek=0<br>month=%{x}<br>sum of death=%{y}<extra></extra>",
         "legendgroup": "2020",
         "marker": {
          "color": "#EF553B"
         },
         "name": "2020",
         "offsetgroup": "2020",
         "orientation": "v",
         "showlegend": false,
         "type": "histogram",
         "x": [
          "Dec",
          "Dec",
          "Dec",
          "Dec",
          "Nov",
          "Nov",
          "Nov",
          "Nov",
          "Nov",
          "Oct",
          "Oct",
          "Oct",
          "Oct",
          "Sep",
          "Sep",
          "Sep",
          "Sep",
          "Aug",
          "Aug",
          "Aug",
          "Aug",
          "Aug",
          "Jul",
          "Jul",
          "Jul",
          "Jul",
          "Jun",
          "Jun",
          "Jun",
          "Jun",
          "Jun",
          "May",
          "May",
          "May",
          "May",
          "Apr",
          "Apr",
          "Apr",
          "Apr",
          "Mar",
          "Mar",
          "Mar",
          "Mar",
          "Mar",
          "Feb",
          "Feb",
          "Feb",
          "Feb",
          "Jan"
         ],
         "xaxis": "x",
         "y": [
          12158,
          11759,
          11388,
          11035,
          10748,
          10531,
          10340,
          10163,
          10023,
          9881,
          9753,
          9617,
          9530,
          9415,
          9317,
          9219,
          9133,
          9060,
          8948,
          8833,
          8741,
          8648,
          8536,
          8433,
          8330,
          8198,
          8095,
          7874,
          7647,
          7353,
          7035,
          6416,
          5862,
          5108,
          4090,
          3003,
          2303,
          1211,
          448,
          124,
          17,
          9180,
          9180,
          9180,
          9180,
          9180,
          9180,
          9180,
          9180
         ],
         "yaxis": "y"
        }
       ],
       "layout": {
        "annotations": [
         {
          "font": {},
          "showarrow": false,
          "text": "Dayofweek=0",
          "textangle": 90,
          "x": 0.98,
          "xanchor": "left",
          "xref": "paper",
          "y": 0.05857142857142857,
          "yanchor": "middle",
          "yref": "paper"
         },
         {
          "font": {},
          "showarrow": false,
          "text": "Dayofweek=1",
          "textangle": 90,
          "x": 0.98,
          "xanchor": "left",
          "xref": "paper",
          "y": 0.2057142857142857,
          "yanchor": "middle",
          "yref": "paper"
         },
         {
          "font": {},
          "showarrow": false,
          "text": "Dayofweek=2",
          "textangle": 90,
          "x": 0.98,
          "xanchor": "left",
          "xref": "paper",
          "y": 0.35285714285714287,
          "yanchor": "middle",
          "yref": "paper"
         },
         {
          "font": {},
          "showarrow": false,
          "text": "Dayofweek=3",
          "textangle": 90,
          "x": 0.98,
          "xanchor": "left",
          "xref": "paper",
          "y": 0.49999999999999994,
          "yanchor": "middle",
          "yref": "paper"
         },
         {
          "font": {},
          "showarrow": false,
          "text": "Dayofweek=4",
          "textangle": 90,
          "x": 0.98,
          "xanchor": "left",
          "xref": "paper",
          "y": 0.647142857142857,
          "yanchor": "middle",
          "yref": "paper"
         },
         {
          "font": {},
          "showarrow": false,
          "text": "Dayofweek=5",
          "textangle": 90,
          "x": 0.98,
          "xanchor": "left",
          "xref": "paper",
          "y": 0.7942857142857143,
          "yanchor": "middle",
          "yref": "paper"
         },
         {
          "font": {},
          "showarrow": false,
          "text": "Dayofweek=6",
          "textangle": 90,
          "x": 0.98,
          "xanchor": "left",
          "xref": "paper",
          "y": 0.9414285714285713,
          "yanchor": "middle",
          "yref": "paper"
         }
        ],
        "barmode": "relative",
        "height": 1000,
        "legend": {
         "title": {
          "text": "Year"
         },
         "tracegroupgap": 0
        },
        "template": {
         "data": {
          "bar": [
           {
            "error_x": {
             "color": "#2a3f5f"
            },
            "error_y": {
             "color": "#2a3f5f"
            },
            "marker": {
             "line": {
              "color": "#E5ECF6",
              "width": 0.5
             }
            },
            "type": "bar"
           }
          ],
          "barpolar": [
           {
            "marker": {
             "line": {
              "color": "#E5ECF6",
              "width": 0.5
             }
            },
            "type": "barpolar"
           }
          ],
          "carpet": [
           {
            "aaxis": {
             "endlinecolor": "#2a3f5f",
             "gridcolor": "white",
             "linecolor": "white",
             "minorgridcolor": "white",
             "startlinecolor": "#2a3f5f"
            },
            "baxis": {
             "endlinecolor": "#2a3f5f",
             "gridcolor": "white",
             "linecolor": "white",
             "minorgridcolor": "white",
             "startlinecolor": "#2a3f5f"
            },
            "type": "carpet"
           }
          ],
          "choropleth": [
           {
            "colorbar": {
             "outlinewidth": 0,
             "ticks": ""
            },
            "type": "choropleth"
           }
          ],
          "contour": [
           {
            "colorbar": {
             "outlinewidth": 0,
             "ticks": ""
            },
            "colorscale": [
             [
              0,
              "#0d0887"
             ],
             [
              0.1111111111111111,
              "#46039f"
             ],
             [
              0.2222222222222222,
              "#7201a8"
             ],
             [
              0.3333333333333333,
              "#9c179e"
             ],
             [
              0.4444444444444444,
              "#bd3786"
             ],
             [
              0.5555555555555556,
              "#d8576b"
             ],
             [
              0.6666666666666666,
              "#ed7953"
             ],
             [
              0.7777777777777778,
              "#fb9f3a"
             ],
             [
              0.8888888888888888,
              "#fdca26"
             ],
             [
              1,
              "#f0f921"
             ]
            ],
            "type": "contour"
           }
          ],
          "contourcarpet": [
           {
            "colorbar": {
             "outlinewidth": 0,
             "ticks": ""
            },
            "type": "contourcarpet"
           }
          ],
          "heatmap": [
           {
            "colorbar": {
             "outlinewidth": 0,
             "ticks": ""
            },
            "colorscale": [
             [
              0,
              "#0d0887"
             ],
             [
              0.1111111111111111,
              "#46039f"
             ],
             [
              0.2222222222222222,
              "#7201a8"
             ],
             [
              0.3333333333333333,
              "#9c179e"
             ],
             [
              0.4444444444444444,
              "#bd3786"
             ],
             [
              0.5555555555555556,
              "#d8576b"
             ],
             [
              0.6666666666666666,
              "#ed7953"
             ],
             [
              0.7777777777777778,
              "#fb9f3a"
             ],
             [
              0.8888888888888888,
              "#fdca26"
             ],
             [
              1,
              "#f0f921"
             ]
            ],
            "type": "heatmap"
           }
          ],
          "heatmapgl": [
           {
            "colorbar": {
             "outlinewidth": 0,
             "ticks": ""
            },
            "colorscale": [
             [
              0,
              "#0d0887"
             ],
             [
              0.1111111111111111,
              "#46039f"
             ],
             [
              0.2222222222222222,
              "#7201a8"
             ],
             [
              0.3333333333333333,
              "#9c179e"
             ],
             [
              0.4444444444444444,
              "#bd3786"
             ],
             [
              0.5555555555555556,
              "#d8576b"
             ],
             [
              0.6666666666666666,
              "#ed7953"
             ],
             [
              0.7777777777777778,
              "#fb9f3a"
             ],
             [
              0.8888888888888888,
              "#fdca26"
             ],
             [
              1,
              "#f0f921"
             ]
            ],
            "type": "heatmapgl"
           }
          ],
          "histogram": [
           {
            "marker": {
             "colorbar": {
              "outlinewidth": 0,
              "ticks": ""
             }
            },
            "type": "histogram"
           }
          ],
          "histogram2d": [
           {
            "colorbar": {
             "outlinewidth": 0,
             "ticks": ""
            },
            "colorscale": [
             [
              0,
              "#0d0887"
             ],
             [
              0.1111111111111111,
              "#46039f"
             ],
             [
              0.2222222222222222,
              "#7201a8"
             ],
             [
              0.3333333333333333,
              "#9c179e"
             ],
             [
              0.4444444444444444,
              "#bd3786"
             ],
             [
              0.5555555555555556,
              "#d8576b"
             ],
             [
              0.6666666666666666,
              "#ed7953"
             ],
             [
              0.7777777777777778,
              "#fb9f3a"
             ],
             [
              0.8888888888888888,
              "#fdca26"
             ],
             [
              1,
              "#f0f921"
             ]
            ],
            "type": "histogram2d"
           }
          ],
          "histogram2dcontour": [
           {
            "colorbar": {
             "outlinewidth": 0,
             "ticks": ""
            },
            "colorscale": [
             [
              0,
              "#0d0887"
             ],
             [
              0.1111111111111111,
              "#46039f"
             ],
             [
              0.2222222222222222,
              "#7201a8"
             ],
             [
              0.3333333333333333,
              "#9c179e"
             ],
             [
              0.4444444444444444,
              "#bd3786"
             ],
             [
              0.5555555555555556,
              "#d8576b"
             ],
             [
              0.6666666666666666,
              "#ed7953"
             ],
             [
              0.7777777777777778,
              "#fb9f3a"
             ],
             [
              0.8888888888888888,
              "#fdca26"
             ],
             [
              1,
              "#f0f921"
             ]
            ],
            "type": "histogram2dcontour"
           }
          ],
          "mesh3d": [
           {
            "colorbar": {
             "outlinewidth": 0,
             "ticks": ""
            },
            "type": "mesh3d"
           }
          ],
          "parcoords": [
           {
            "line": {
             "colorbar": {
              "outlinewidth": 0,
              "ticks": ""
             }
            },
            "type": "parcoords"
           }
          ],
          "pie": [
           {
            "automargin": true,
            "type": "pie"
           }
          ],
          "scatter": [
           {
            "marker": {
             "colorbar": {
              "outlinewidth": 0,
              "ticks": ""
             }
            },
            "type": "scatter"
           }
          ],
          "scatter3d": [
           {
            "line": {
             "colorbar": {
              "outlinewidth": 0,
              "ticks": ""
             }
            },
            "marker": {
             "colorbar": {
              "outlinewidth": 0,
              "ticks": ""
             }
            },
            "type": "scatter3d"
           }
          ],
          "scattercarpet": [
           {
            "marker": {
             "colorbar": {
              "outlinewidth": 0,
              "ticks": ""
             }
            },
            "type": "scattercarpet"
           }
          ],
          "scattergeo": [
           {
            "marker": {
             "colorbar": {
              "outlinewidth": 0,
              "ticks": ""
             }
            },
            "type": "scattergeo"
           }
          ],
          "scattergl": [
           {
            "marker": {
             "colorbar": {
              "outlinewidth": 0,
              "ticks": ""
             }
            },
            "type": "scattergl"
           }
          ],
          "scattermapbox": [
           {
            "marker": {
             "colorbar": {
              "outlinewidth": 0,
              "ticks": ""
             }
            },
            "type": "scattermapbox"
           }
          ],
          "scatterpolar": [
           {
            "marker": {
             "colorbar": {
              "outlinewidth": 0,
              "ticks": ""
             }
            },
            "type": "scatterpolar"
           }
          ],
          "scatterpolargl": [
           {
            "marker": {
             "colorbar": {
              "outlinewidth": 0,
              "ticks": ""
             }
            },
            "type": "scatterpolargl"
           }
          ],
          "scatterternary": [
           {
            "marker": {
             "colorbar": {
              "outlinewidth": 0,
              "ticks": ""
             }
            },
            "type": "scatterternary"
           }
          ],
          "surface": [
           {
            "colorbar": {
             "outlinewidth": 0,
             "ticks": ""
            },
            "colorscale": [
             [
              0,
              "#0d0887"
             ],
             [
              0.1111111111111111,
              "#46039f"
             ],
             [
              0.2222222222222222,
              "#7201a8"
             ],
             [
              0.3333333333333333,
              "#9c179e"
             ],
             [
              0.4444444444444444,
              "#bd3786"
             ],
             [
              0.5555555555555556,
              "#d8576b"
             ],
             [
              0.6666666666666666,
              "#ed7953"
             ],
             [
              0.7777777777777778,
              "#fb9f3a"
             ],
             [
              0.8888888888888888,
              "#fdca26"
             ],
             [
              1,
              "#f0f921"
             ]
            ],
            "type": "surface"
           }
          ],
          "table": [
           {
            "cells": {
             "fill": {
              "color": "#EBF0F8"
             },
             "line": {
              "color": "white"
             }
            },
            "header": {
             "fill": {
              "color": "#C8D4E3"
             },
             "line": {
              "color": "white"
             }
            },
            "type": "table"
           }
          ]
         },
         "layout": {
          "annotationdefaults": {
           "arrowcolor": "#2a3f5f",
           "arrowhead": 0,
           "arrowwidth": 1
          },
          "autotypenumbers": "strict",
          "coloraxis": {
           "colorbar": {
            "outlinewidth": 0,
            "ticks": ""
           }
          },
          "colorscale": {
           "diverging": [
            [
             0,
             "#8e0152"
            ],
            [
             0.1,
             "#c51b7d"
            ],
            [
             0.2,
             "#de77ae"
            ],
            [
             0.3,
             "#f1b6da"
            ],
            [
             0.4,
             "#fde0ef"
            ],
            [
             0.5,
             "#f7f7f7"
            ],
            [
             0.6,
             "#e6f5d0"
            ],
            [
             0.7,
             "#b8e186"
            ],
            [
             0.8,
             "#7fbc41"
            ],
            [
             0.9,
             "#4d9221"
            ],
            [
             1,
             "#276419"
            ]
           ],
           "sequential": [
            [
             0,
             "#0d0887"
            ],
            [
             0.1111111111111111,
             "#46039f"
            ],
            [
             0.2222222222222222,
             "#7201a8"
            ],
            [
             0.3333333333333333,
             "#9c179e"
            ],
            [
             0.4444444444444444,
             "#bd3786"
            ],
            [
             0.5555555555555556,
             "#d8576b"
            ],
            [
             0.6666666666666666,
             "#ed7953"
            ],
            [
             0.7777777777777778,
             "#fb9f3a"
            ],
            [
             0.8888888888888888,
             "#fdca26"
            ],
            [
             1,
             "#f0f921"
            ]
           ],
           "sequentialminus": [
            [
             0,
             "#0d0887"
            ],
            [
             0.1111111111111111,
             "#46039f"
            ],
            [
             0.2222222222222222,
             "#7201a8"
            ],
            [
             0.3333333333333333,
             "#9c179e"
            ],
            [
             0.4444444444444444,
             "#bd3786"
            ],
            [
             0.5555555555555556,
             "#d8576b"
            ],
            [
             0.6666666666666666,
             "#ed7953"
            ],
            [
             0.7777777777777778,
             "#fb9f3a"
            ],
            [
             0.8888888888888888,
             "#fdca26"
            ],
            [
             1,
             "#f0f921"
            ]
           ]
          },
          "colorway": [
           "#636efa",
           "#EF553B",
           "#00cc96",
           "#ab63fa",
           "#FFA15A",
           "#19d3f3",
           "#FF6692",
           "#B6E880",
           "#FF97FF",
           "#FECB52"
          ],
          "font": {
           "color": "#2a3f5f"
          },
          "geo": {
           "bgcolor": "white",
           "lakecolor": "white",
           "landcolor": "#E5ECF6",
           "showlakes": true,
           "showland": true,
           "subunitcolor": "white"
          },
          "hoverlabel": {
           "align": "left"
          },
          "hovermode": "closest",
          "mapbox": {
           "style": "light"
          },
          "paper_bgcolor": "white",
          "plot_bgcolor": "#E5ECF6",
          "polar": {
           "angularaxis": {
            "gridcolor": "white",
            "linecolor": "white",
            "ticks": ""
           },
           "bgcolor": "#E5ECF6",
           "radialaxis": {
            "gridcolor": "white",
            "linecolor": "white",
            "ticks": ""
           }
          },
          "scene": {
           "xaxis": {
            "backgroundcolor": "#E5ECF6",
            "gridcolor": "white",
            "gridwidth": 2,
            "linecolor": "white",
            "showbackground": true,
            "ticks": "",
            "zerolinecolor": "white"
           },
           "yaxis": {
            "backgroundcolor": "#E5ECF6",
            "gridcolor": "white",
            "gridwidth": 2,
            "linecolor": "white",
            "showbackground": true,
            "ticks": "",
            "zerolinecolor": "white"
           },
           "zaxis": {
            "backgroundcolor": "#E5ECF6",
            "gridcolor": "white",
            "gridwidth": 2,
            "linecolor": "white",
            "showbackground": true,
            "ticks": "",
            "zerolinecolor": "white"
           }
          },
          "shapedefaults": {
           "line": {
            "color": "#2a3f5f"
           }
          },
          "ternary": {
           "aaxis": {
            "gridcolor": "white",
            "linecolor": "white",
            "ticks": ""
           },
           "baxis": {
            "gridcolor": "white",
            "linecolor": "white",
            "ticks": ""
           },
           "bgcolor": "#E5ECF6",
           "caxis": {
            "gridcolor": "white",
            "linecolor": "white",
            "ticks": ""
           }
          },
          "title": {
           "x": 0.05
          },
          "xaxis": {
           "automargin": true,
           "gridcolor": "white",
           "linecolor": "white",
           "ticks": "",
           "title": {
            "standoff": 15
           },
           "zerolinecolor": "white",
           "zerolinewidth": 2
          },
          "yaxis": {
           "automargin": true,
           "gridcolor": "white",
           "linecolor": "white",
           "ticks": "",
           "title": {
            "standoff": 15
           },
           "zerolinecolor": "white",
           "zerolinewidth": 2
          }
         }
        },
        "title": {
         "text": "Deaths Every Month"
        },
        "width": 1000,
        "xaxis": {
         "anchor": "y",
         "domain": [
          0,
          0.98
         ],
         "title": {
          "text": "month"
         }
        },
        "xaxis2": {
         "anchor": "y2",
         "domain": [
          0,
          0.98
         ],
         "matches": "x",
         "showticklabels": false
        },
        "xaxis3": {
         "anchor": "y3",
         "domain": [
          0,
          0.98
         ],
         "matches": "x",
         "showticklabels": false
        },
        "xaxis4": {
         "anchor": "y4",
         "domain": [
          0,
          0.98
         ],
         "matches": "x",
         "showticklabels": false
        },
        "xaxis5": {
         "anchor": "y5",
         "domain": [
          0,
          0.98
         ],
         "matches": "x",
         "showticklabels": false
        },
        "xaxis6": {
         "anchor": "y6",
         "domain": [
          0,
          0.98
         ],
         "matches": "x",
         "showticklabels": false
        },
        "xaxis7": {
         "anchor": "y7",
         "domain": [
          0,
          0.98
         ],
         "matches": "x",
         "showticklabels": false
        },
        "yaxis": {
         "anchor": "x",
         "domain": [
          0,
          0.11714285714285715
         ],
         "title": {
          "text": "sum of death"
         }
        },
        "yaxis2": {
         "anchor": "x2",
         "domain": [
          0.14714285714285713,
          0.2642857142857143
         ],
         "matches": "y",
         "title": {
          "text": "sum of death"
         }
        },
        "yaxis3": {
         "anchor": "x3",
         "domain": [
          0.29428571428571426,
          0.4114285714285714
         ],
         "matches": "y",
         "title": {
          "text": "sum of death"
         }
        },
        "yaxis4": {
         "anchor": "x4",
         "domain": [
          0.4414285714285714,
          0.5585714285714285
         ],
         "matches": "y",
         "title": {
          "text": "sum of death"
         }
        },
        "yaxis5": {
         "anchor": "x5",
         "domain": [
          0.5885714285714285,
          0.7057142857142856
         ],
         "matches": "y",
         "title": {
          "text": "sum of death"
         }
        },
        "yaxis6": {
         "anchor": "x6",
         "domain": [
          0.7357142857142858,
          0.8528571428571429
         ],
         "matches": "y",
         "title": {
          "text": "sum of death"
         }
        },
        "yaxis7": {
         "anchor": "x7",
         "domain": [
          0.8828571428571428,
          0.9999999999999999
         ],
         "matches": "y",
         "title": {
          "text": "sum of death"
         }
        }
       }
      },
      "text/html": [
       "<div>                            <div id=\"acd3202e-1791-4ef5-975d-0b343370c09f\" class=\"plotly-graph-div\" style=\"height:1000px; width:1000px;\"></div>            <script type=\"text/javascript\">                require([\"plotly\"], function(Plotly) {                    window.PLOTLYENV=window.PLOTLYENV || {};                                    if (document.getElementById(\"acd3202e-1791-4ef5-975d-0b343370c09f\")) {                    Plotly.newPlot(                        \"acd3202e-1791-4ef5-975d-0b343370c09f\",                        [{\"alignmentgroup\": \"True\", \"bingroup\": \"x\", \"histfunc\": \"sum\", \"hovertemplate\": \"Year=2021<br>Dayofweek=6<br>month=%{x}<br>sum of death=%{y}<extra></extra>\", \"legendgroup\": \"2021\", \"marker\": {\"color\": \"#636efa\"}, \"name\": \"2021\", \"offsetgroup\": \"2021\", \"orientation\": \"v\", \"showlegend\": true, \"type\": \"histogram\", \"x\": [\"Mar\", \"Feb\", \"Feb\", \"Feb\", \"Feb\", \"Jan\", \"Jan\", \"Jan\", \"Jan\", \"Jan\"], \"xaxis\": \"x7\", \"y\": [16417.0, 16118.0, 15826.0, 15484.0, 14999.0, 14577.0, 14133.0, 13652.0, 13151.0, 12610.0], \"yaxis\": \"y7\"}, {\"alignmentgroup\": \"True\", \"bingroup\": \"x\", \"histfunc\": \"sum\", \"hovertemplate\": \"Year=2021<br>Dayofweek=5<br>month=%{x}<br>sum of death=%{y}<extra></extra>\", \"legendgroup\": \"2021\", \"marker\": {\"color\": \"#636efa\"}, \"name\": \"2021\", \"offsetgroup\": \"2021\", \"orientation\": \"v\", \"showlegend\": false, \"type\": \"histogram\", \"x\": [\"Mar\", \"Feb\", \"Feb\", \"Feb\", \"Feb\", \"Jan\", \"Jan\", \"Jan\", \"Jan\", \"Jan\"], \"xaxis\": \"x6\", \"y\": [16374.0, 16067.0, 15779.0, 15424.0, 14921.0, 14531.0, 14064.0, 13583.0, 13074.0, 12502.0], \"yaxis\": \"y6\"}, {\"alignmentgroup\": \"True\", \"bingroup\": \"x\", \"histfunc\": \"sum\", \"hovertemplate\": \"Year=2021<br>Dayofweek=4<br>month=%{x}<br>sum of death=%{y}<extra></extra>\", \"legendgroup\": \"2021\", \"marker\": {\"color\": \"#636efa\"}, \"name\": \"2021\", \"offsetgroup\": \"2021\", \"orientation\": \"v\", \"showlegend\": false, \"type\": \"histogram\", \"x\": [\"Mar\", \"Feb\", \"Feb\", \"Feb\", \"Feb\", \"Jan\", \"Jan\", \"Jan\", \"Jan\", \"Jan\"], \"xaxis\": \"x5\", \"y\": [16322.0, 16024.0, 15726.0, 15358.0, 14859.0, 14444.0, 13987.0, 13509.0, 12985.0, 12423.0], \"yaxis\": \"y5\"}, {\"alignmentgroup\": \"True\", \"bingroup\": \"x\", \"histfunc\": \"sum\", \"hovertemplate\": \"Year=2021<br>Dayofweek=3<br>month=%{x}<br>sum of death=%{y}<extra></extra>\", \"legendgroup\": \"2021\", \"marker\": {\"color\": \"#636efa\"}, \"name\": \"2021\", \"offsetgroup\": \"2021\", \"orientation\": \"v\", \"showlegend\": false, \"type\": \"histogram\", \"x\": [\"Mar\", \"Feb\", \"Feb\", \"Feb\", \"Feb\", \"Jan\", \"Jan\", \"Jan\", \"Jan\"], \"xaxis\": \"x4\", \"y\": [16296.0, 15978.0, 15686.0, 15269.0, 14784.0, 14348.0, 13906.0, 13433.0, 12909.0], \"yaxis\": \"y4\"}, {\"alignmentgroup\": \"True\", \"bingroup\": \"x\", \"histfunc\": \"sum\", \"hovertemplate\": \"Year=2021<br>Dayofweek=2<br>month=%{x}<br>sum of death=%{y}<extra></extra>\", \"legendgroup\": \"2021\", \"marker\": {\"color\": \"#636efa\"}, \"name\": \"2021\", \"offsetgroup\": \"2021\", \"orientation\": \"v\", \"showlegend\": false, \"type\": \"histogram\", \"x\": [\"Mar\", \"Feb\", \"Feb\", \"Feb\", \"Feb\", \"Jan\", \"Jan\", \"Jan\", \"Jan\"], \"xaxis\": \"x3\", \"y\": [16252.0, 15945.0, 15623.0, 15207.0, 14708.0, 14304.0, 13829.0, 13359.0, 12836.0], \"yaxis\": \"y3\"}, {\"alignmentgroup\": \"True\", \"bingroup\": \"x\", \"histfunc\": \"sum\", \"hovertemplate\": \"Year=2021<br>Dayofweek=1<br>month=%{x}<br>sum of death=%{y}<extra></extra>\", \"legendgroup\": \"2021\", \"marker\": {\"color\": \"#636efa\"}, \"name\": \"2021\", \"offsetgroup\": \"2021\", \"orientation\": \"v\", \"showlegend\": false, \"type\": \"histogram\", \"x\": [\"Mar\", \"Feb\", \"Feb\", \"Feb\", \"Feb\", \"Jan\", \"Jan\", \"Jan\", \"Jan\"], \"xaxis\": \"x2\", \"y\": [16182.0, 15883.0, 15567.0, 15124.0, 14652.0, 14220.0, 13749.0, 13273.0, 12734.0], \"yaxis\": \"y2\"}, {\"alignmentgroup\": \"True\", \"bingroup\": \"x\", \"histfunc\": \"sum\", \"hovertemplate\": \"Year=2021<br>Dayofweek=0<br>month=%{x}<br>sum of death=%{y}<extra></extra>\", \"legendgroup\": \"2021\", \"marker\": {\"color\": \"#636efa\"}, \"name\": \"2021\", \"offsetgroup\": \"2021\", \"orientation\": \"v\", \"showlegend\": false, \"type\": \"histogram\", \"x\": [\"Mar\", \"Feb\", \"Feb\", \"Feb\", \"Feb\", \"Jan\", \"Jan\", \"Jan\", \"Jan\"], \"xaxis\": \"x\", \"y\": [16144.0, 15853.0, 15517.0, 15054.0, 14607.0, 14178.0, 13705.0, 13206.0, 12671.0], \"yaxis\": \"y\"}, {\"alignmentgroup\": \"True\", \"bingroup\": \"x\", \"histfunc\": \"sum\", \"hovertemplate\": \"Year=2020<br>Dayofweek=6<br>month=%{x}<br>sum of death=%{y}<extra></extra>\", \"legendgroup\": \"2020\", \"marker\": {\"color\": \"#EF553B\"}, \"name\": \"2020\", \"offsetgroup\": \"2020\", \"orientation\": \"v\", \"showlegend\": true, \"type\": \"histogram\", \"x\": [\"Dec\", \"Dec\", \"Dec\", \"Dec\", \"Nov\", \"Nov\", \"Nov\", \"Nov\", \"Nov\", \"Oct\", \"Oct\", \"Oct\", \"Oct\", \"Sep\", \"Sep\", \"Sep\", \"Sep\", \"Aug\", \"Aug\", \"Aug\", \"Aug\", \"Aug\", \"Jul\", \"Jul\", \"Jul\", \"Jul\", \"Jun\", \"Jun\", \"Jun\", \"Jun\", \"May\", \"May\", \"May\", \"May\", \"May\", \"Apr\", \"Apr\", \"Apr\", \"Apr\", \"Mar\", \"Mar\", \"Mar\", \"Mar\", \"Mar\", \"Feb\", \"Feb\", \"Feb\", \"Feb\", \"Jan\"], \"xaxis\": \"x7\", \"y\": [12110.0, 11717.0, 11349.0, 11004.0, 10722.0, 10512.0, 10329.0, 10149.0, 10013.0, 9864.0, 9737.0, 9604.0, 9510.0, 9404.0, 9310.0, 9210.0, 9125.0, 9049.0, 8921.0, 8829.0, 8735.0, 8638.0, 8529.0, 8431.0, 8325.0, 8183.0, 8060.0, 7858.0, 7624.0, 7316.0, 6846.0, 6372.0, 5797.0, 4979.0, 4004.0, 2899.0, 2146.0, 1056.0, 370.0, 99.0, 11.0, 9180.0, 9180.0, 9180.0, 9180.0, 9180.0, 9180.0, 9180.0, 9180.0], \"yaxis\": \"y7\"}, {\"alignmentgroup\": \"True\", \"bingroup\": \"x\", \"histfunc\": \"sum\", \"hovertemplate\": \"Year=2020<br>Dayofweek=5<br>month=%{x}<br>sum of death=%{y}<extra></extra>\", \"legendgroup\": \"2020\", \"marker\": {\"color\": \"#EF553B\"}, \"name\": \"2020\", \"offsetgroup\": \"2020\", \"orientation\": \"v\", \"showlegend\": false, \"type\": \"histogram\", \"x\": [\"Dec\", \"Dec\", \"Dec\", \"Dec\", \"Nov\", \"Nov\", \"Nov\", \"Nov\", \"Oct\", \"Oct\", \"Oct\", \"Oct\", \"Oct\", \"Sep\", \"Sep\", \"Sep\", \"Sep\", \"Aug\", \"Aug\", \"Aug\", \"Aug\", \"Aug\", \"Jul\", \"Jul\", \"Jul\", \"Jul\", \"Jun\", \"Jun\", \"Jun\", \"Jun\", \"May\", \"May\", \"May\", \"May\", \"May\", \"Apr\", \"Apr\", \"Apr\", \"Apr\", \"Mar\", \"Mar\", \"Mar\", \"Mar\", \"Feb\", \"Feb\", \"Feb\", \"Feb\", \"Feb\", \"Jan\"], \"xaxis\": \"x6\", \"y\": [12010.0, 11657.0, 11307.0, 10953.0, 10676.0, 10488.0, 10293.0, 10129.0, 9991.0, 9839.0, 9723.0, 9587.0, 9507.0, 9391.0, 9295.0, 9196.0, 9116.0, 9036.0, 8921.0, 8818.0, 8721.0, 8626.0, 8510.0, 8419.0, 8310.0, 8172.0, 8041.0, 7828.0, 7576.0, 7289.0, 6768.0, 6304.0, 5705.0, 4840.0, 3846.0, 2877.0, 1983.0, 946.0, 304.0, 72.0, 7.0, 9180.0, 9180.0, 9180.0, 9180.0, 9180.0, 9180.0, 9180.0, 9180.0], \"yaxis\": \"y6\"}, {\"alignmentgroup\": \"True\", \"bingroup\": \"x\", \"histfunc\": \"sum\", \"hovertemplate\": \"Year=2020<br>Dayofweek=4<br>month=%{x}<br>sum of death=%{y}<extra></extra>\", \"legendgroup\": \"2020\", \"marker\": {\"color\": \"#EF553B\"}, \"name\": \"2020\", \"offsetgroup\": \"2020\", \"orientation\": \"v\", \"showlegend\": false, \"type\": \"histogram\", \"x\": [\"Dec\", \"Dec\", \"Dec\", \"Dec\", \"Nov\", \"Nov\", \"Nov\", \"Nov\", \"Oct\", \"Oct\", \"Oct\", \"Oct\", \"Oct\", \"Sep\", \"Sep\", \"Sep\", \"Sep\", \"Aug\", \"Aug\", \"Aug\", \"Aug\", \"Jul\", \"Jul\", \"Jul\", \"Jul\", \"Jul\", \"Jun\", \"Jun\", \"Jun\", \"Jun\", \"May\", \"May\", \"May\", \"May\", \"May\", \"Apr\", \"Apr\", \"Apr\", \"Apr\", \"Mar\", \"Mar\", \"Mar\", \"Mar\", \"Feb\", \"Feb\", \"Feb\", \"Feb\", \"Jan\", \"Jan\"], \"xaxis\": \"x5\", \"y\": [11963.0, 11610.0, 11257.0, 10910.0, 10635.0, 10469.0, 10265.0, 10106.0, 9975.0, 9830.0, 9702.0, 9577.0, 9490.0, 9373.0, 9269.0, 9180.0, 9100.0, 9023.0, 8901.0, 8804.0, 8709.0, 8609.0, 8498.0, 8402.0, 8296.0, 8149.0, 8013.0, 7800.0, 7538.0, 7235.0, 6718.0, 6228.0, 5592.0, 4702.0, 3716.0, 2877.0, 1822.0, 832.0, 265.0, 57.0, 5.0, 9180.0, 9180.0, 9180.0, 9180.0, 9180.0, 9180.0, 9180.0, 9180.0], \"yaxis\": \"y5\"}, {\"alignmentgroup\": \"True\", \"bingroup\": \"x\", \"histfunc\": \"sum\", \"hovertemplate\": \"Year=2020<br>Dayofweek=3<br>month=%{x}<br>sum of death=%{y}<extra></extra>\", \"legendgroup\": \"2020\", \"marker\": {\"color\": \"#EF553B\"}, \"name\": \"2020\", \"offsetgroup\": \"2020\", \"orientation\": \"v\", \"showlegend\": false, \"type\": \"histogram\", \"x\": [\"Dec\", \"Dec\", \"Dec\", \"Dec\", \"Dec\", \"Nov\", \"Nov\", \"Nov\", \"Nov\", \"Oct\", \"Oct\", \"Oct\", \"Oct\", \"Oct\", \"Sep\", \"Sep\", \"Sep\", \"Sep\", \"Aug\", \"Aug\", \"Aug\", \"Aug\", \"Jul\", \"Jul\", \"Jul\", \"Jul\", \"Jul\", \"Jun\", \"Jun\", \"Jun\", \"Jun\", \"May\", \"May\", \"May\", \"May\", \"Apr\", \"Apr\", \"Apr\", \"Apr\", \"Apr\", \"Mar\", \"Mar\", \"Mar\", \"Mar\", \"Feb\", \"Feb\", \"Feb\", \"Feb\", \"Jan\", \"Jan\"], \"xaxis\": \"x4\", \"y\": [12423.0, 11963.0, 11558.0, 11209.0, 10874.0, 10604.0, 10435.0, 10242.0, 10085.0, 9951.0, 9810.0, 9672.0, 9565.0, 9480.0, 9362.0, 9260.0, 9166.0, 9077.0, 9007.0, 8888.0, 8790.0, 8691.0, 8595.0, 8484.0, 8380.0, 8268.0, 8132.0, 7963.0, 7770.0, 7492.0, 7201.0, 6640.0, 6148.0, 5482.0, 4552.0, 3562.0, 2769.0, 1667.0, 725.0, 229.0, 42.0, 3.0, 9180.0, 9180.0, 9180.0, 9180.0, 9180.0, 9180.0, 9180.0, 9180.0], \"yaxis\": \"y4\"}, {\"alignmentgroup\": \"True\", \"bingroup\": \"x\", \"histfunc\": \"sum\", \"hovertemplate\": \"Year=2020<br>Dayofweek=2<br>month=%{x}<br>sum of death=%{y}<extra></extra>\", \"legendgroup\": \"2020\", \"marker\": {\"color\": \"#EF553B\"}, \"name\": \"2020\", \"offsetgroup\": \"2020\", \"orientation\": \"v\", \"showlegend\": false, \"type\": \"histogram\", \"x\": [\"Dec\", \"Dec\", \"Dec\", \"Dec\", \"Dec\", \"Nov\", \"Nov\", \"Nov\", \"Nov\", \"Oct\", \"Oct\", \"Oct\", \"Oct\", \"Sep\", \"Sep\", \"Sep\", \"Sep\", \"Sep\", \"Aug\", \"Aug\", \"Aug\", \"Aug\", \"Jul\", \"Jul\", \"Jul\", \"Jul\", \"Jul\", \"Jun\", \"Jun\", \"Jun\", \"Jun\", \"May\", \"May\", \"May\", \"May\", \"Apr\", \"Apr\", \"Apr\", \"Apr\", \"Apr\", \"Mar\", \"Mar\", \"Mar\", \"Mar\", \"Feb\", \"Feb\", \"Feb\", \"Feb\", \"Jan\", \"Jan\"], \"xaxis\": \"x3\", \"y\": [12338.0, 11887.0, 11513.0, 11166.0, 10824.0, 10604.0, 10407.0, 10222.0, 10062.0, 9924.0, 9780.0, 9647.0, 9557.0, 9456.0, 9347.0, 9245.0, 9146.0, 9060.0, 8987.0, 8876.0, 8769.0, 8659.0, 8580.0, 8468.0, 8368.0, 8243.0, 8081.0, 7938.0, 7734.0, 7454.0, 7152.0, 6547.0, 6066.0, 5315.0, 4420.0, 3405.0, 2597.0, 1502.0, 615.0, 187.0, 33.0, 2.0, 9180.0, 9180.0, 9180.0, 9180.0, 9180.0, 9180.0, 9180.0, 9180.0], \"yaxis\": \"y3\"}, {\"alignmentgroup\": \"True\", \"bingroup\": \"x\", \"histfunc\": \"sum\", \"hovertemplate\": \"Year=2020<br>Dayofweek=1<br>month=%{x}<br>sum of death=%{y}<extra></extra>\", \"legendgroup\": \"2020\", \"marker\": {\"color\": \"#EF553B\"}, \"name\": \"2020\", \"offsetgroup\": \"2020\", \"orientation\": \"v\", \"showlegend\": false, \"type\": \"histogram\", \"x\": [\"Dec\", \"Dec\", \"Dec\", \"Dec\", \"Dec\", \"Nov\", \"Nov\", \"Nov\", \"Nov\", \"Oct\", \"Oct\", \"Oct\", \"Oct\", \"Sep\", \"Sep\", \"Sep\", \"Sep\", \"Sep\", \"Aug\", \"Aug\", \"Aug\", \"Aug\", \"Jul\", \"Jul\", \"Jul\", \"Jul\", \"Jun\", \"Jun\", \"Jun\", \"Jun\", \"Jun\", \"May\", \"May\", \"May\", \"May\", \"Apr\", \"Apr\", \"Apr\", \"Apr\", \"Mar\", \"Mar\", \"Mar\", \"Mar\", \"Mar\", \"Feb\", \"Feb\", \"Feb\", \"Feb\", \"Jan\"], \"xaxis\": \"x2\", \"y\": [12218.0, 11804.0, 11443.0, 11076.0, 10778.0, 10551.0, 10360.0, 10184.0, 10035.0, 9888.0, 9758.0, 9630.0, 9538.0, 9423.0, 9328.0, 9225.0, 9141.0, 9064.0, 8960.0, 8839.0, 8751.0, 8657.0, 8551.0, 8450.0, 8340.0, 8213.0, 8054.0, 7890.0, 7665.0, 7408.0, 7085.0, 6473.0, 5938.0, 5141.0, 4212.0, 3153.0, 2449.0, 1329.0, 515.0, 153.0, 26.0, 9180.0, 9180.0, 9180.0, 9180.0, 9180.0, 9180.0, 9180.0, 9180.0], \"yaxis\": \"y2\"}, {\"alignmentgroup\": \"True\", \"bingroup\": \"x\", \"histfunc\": \"sum\", \"hovertemplate\": \"Year=2020<br>Dayofweek=0<br>month=%{x}<br>sum of death=%{y}<extra></extra>\", \"legendgroup\": \"2020\", \"marker\": {\"color\": \"#EF553B\"}, \"name\": \"2020\", \"offsetgroup\": \"2020\", \"orientation\": \"v\", \"showlegend\": false, \"type\": \"histogram\", \"x\": [\"Dec\", \"Dec\", \"Dec\", \"Dec\", \"Nov\", \"Nov\", \"Nov\", \"Nov\", \"Nov\", \"Oct\", \"Oct\", \"Oct\", \"Oct\", \"Sep\", \"Sep\", \"Sep\", \"Sep\", \"Aug\", \"Aug\", \"Aug\", \"Aug\", \"Aug\", \"Jul\", \"Jul\", \"Jul\", \"Jul\", \"Jun\", \"Jun\", \"Jun\", \"Jun\", \"Jun\", \"May\", \"May\", \"May\", \"May\", \"Apr\", \"Apr\", \"Apr\", \"Apr\", \"Mar\", \"Mar\", \"Mar\", \"Mar\", \"Mar\", \"Feb\", \"Feb\", \"Feb\", \"Feb\", \"Jan\"], \"xaxis\": \"x\", \"y\": [12158.0, 11759.0, 11388.0, 11035.0, 10748.0, 10531.0, 10340.0, 10163.0, 10023.0, 9881.0, 9753.0, 9617.0, 9530.0, 9415.0, 9317.0, 9219.0, 9133.0, 9060.0, 8948.0, 8833.0, 8741.0, 8648.0, 8536.0, 8433.0, 8330.0, 8198.0, 8095.0, 7874.0, 7647.0, 7353.0, 7035.0, 6416.0, 5862.0, 5108.0, 4090.0, 3003.0, 2303.0, 1211.0, 448.0, 124.0, 17.0, 9180.0, 9180.0, 9180.0, 9180.0, 9180.0, 9180.0, 9180.0, 9180.0], \"yaxis\": \"y\"}],                        {\"annotations\": [{\"font\": {}, \"showarrow\": false, \"text\": \"Dayofweek=0\", \"textangle\": 90, \"x\": 0.98, \"xanchor\": \"left\", \"xref\": \"paper\", \"y\": 0.05857142857142857, \"yanchor\": \"middle\", \"yref\": \"paper\"}, {\"font\": {}, \"showarrow\": false, \"text\": \"Dayofweek=1\", \"textangle\": 90, \"x\": 0.98, \"xanchor\": \"left\", \"xref\": \"paper\", \"y\": 0.2057142857142857, \"yanchor\": \"middle\", \"yref\": \"paper\"}, {\"font\": {}, \"showarrow\": false, \"text\": \"Dayofweek=2\", \"textangle\": 90, \"x\": 0.98, \"xanchor\": \"left\", \"xref\": \"paper\", \"y\": 0.35285714285714287, \"yanchor\": \"middle\", \"yref\": \"paper\"}, {\"font\": {}, \"showarrow\": false, \"text\": \"Dayofweek=3\", \"textangle\": 90, \"x\": 0.98, \"xanchor\": \"left\", \"xref\": \"paper\", \"y\": 0.49999999999999994, \"yanchor\": \"middle\", \"yref\": \"paper\"}, {\"font\": {}, \"showarrow\": false, \"text\": \"Dayofweek=4\", \"textangle\": 90, \"x\": 0.98, \"xanchor\": \"left\", \"xref\": \"paper\", \"y\": 0.647142857142857, \"yanchor\": \"middle\", \"yref\": \"paper\"}, {\"font\": {}, \"showarrow\": false, \"text\": \"Dayofweek=5\", \"textangle\": 90, \"x\": 0.98, \"xanchor\": \"left\", \"xref\": \"paper\", \"y\": 0.7942857142857143, \"yanchor\": \"middle\", \"yref\": \"paper\"}, {\"font\": {}, \"showarrow\": false, \"text\": \"Dayofweek=6\", \"textangle\": 90, \"x\": 0.98, \"xanchor\": \"left\", \"xref\": \"paper\", \"y\": 0.9414285714285713, \"yanchor\": \"middle\", \"yref\": \"paper\"}], \"barmode\": \"relative\", \"height\": 1000, \"legend\": {\"title\": {\"text\": \"Year\"}, \"tracegroupgap\": 0}, \"template\": {\"data\": {\"bar\": [{\"error_x\": {\"color\": \"#2a3f5f\"}, \"error_y\": {\"color\": \"#2a3f5f\"}, \"marker\": {\"line\": {\"color\": \"#E5ECF6\", \"width\": 0.5}}, \"type\": \"bar\"}], \"barpolar\": [{\"marker\": {\"line\": {\"color\": \"#E5ECF6\", \"width\": 0.5}}, \"type\": \"barpolar\"}], \"carpet\": [{\"aaxis\": {\"endlinecolor\": \"#2a3f5f\", \"gridcolor\": \"white\", \"linecolor\": \"white\", \"minorgridcolor\": \"white\", \"startlinecolor\": \"#2a3f5f\"}, \"baxis\": {\"endlinecolor\": \"#2a3f5f\", \"gridcolor\": \"white\", \"linecolor\": \"white\", \"minorgridcolor\": \"white\", \"startlinecolor\": \"#2a3f5f\"}, \"type\": \"carpet\"}], \"choropleth\": [{\"colorbar\": {\"outlinewidth\": 0, \"ticks\": \"\"}, \"type\": \"choropleth\"}], \"contour\": [{\"colorbar\": {\"outlinewidth\": 0, \"ticks\": \"\"}, \"colorscale\": [[0.0, \"#0d0887\"], [0.1111111111111111, \"#46039f\"], [0.2222222222222222, \"#7201a8\"], [0.3333333333333333, \"#9c179e\"], [0.4444444444444444, \"#bd3786\"], [0.5555555555555556, \"#d8576b\"], [0.6666666666666666, \"#ed7953\"], [0.7777777777777778, \"#fb9f3a\"], [0.8888888888888888, \"#fdca26\"], [1.0, \"#f0f921\"]], \"type\": \"contour\"}], \"contourcarpet\": [{\"colorbar\": {\"outlinewidth\": 0, \"ticks\": \"\"}, \"type\": \"contourcarpet\"}], \"heatmap\": [{\"colorbar\": {\"outlinewidth\": 0, \"ticks\": \"\"}, \"colorscale\": [[0.0, \"#0d0887\"], [0.1111111111111111, \"#46039f\"], [0.2222222222222222, \"#7201a8\"], [0.3333333333333333, \"#9c179e\"], [0.4444444444444444, \"#bd3786\"], [0.5555555555555556, \"#d8576b\"], [0.6666666666666666, \"#ed7953\"], [0.7777777777777778, \"#fb9f3a\"], [0.8888888888888888, \"#fdca26\"], [1.0, \"#f0f921\"]], \"type\": \"heatmap\"}], \"heatmapgl\": [{\"colorbar\": {\"outlinewidth\": 0, \"ticks\": \"\"}, \"colorscale\": [[0.0, \"#0d0887\"], [0.1111111111111111, \"#46039f\"], [0.2222222222222222, \"#7201a8\"], [0.3333333333333333, \"#9c179e\"], [0.4444444444444444, \"#bd3786\"], [0.5555555555555556, \"#d8576b\"], [0.6666666666666666, \"#ed7953\"], [0.7777777777777778, \"#fb9f3a\"], [0.8888888888888888, \"#fdca26\"], [1.0, \"#f0f921\"]], \"type\": \"heatmapgl\"}], \"histogram\": [{\"marker\": {\"colorbar\": {\"outlinewidth\": 0, \"ticks\": \"\"}}, \"type\": \"histogram\"}], \"histogram2d\": [{\"colorbar\": {\"outlinewidth\": 0, \"ticks\": \"\"}, \"colorscale\": [[0.0, \"#0d0887\"], [0.1111111111111111, \"#46039f\"], [0.2222222222222222, \"#7201a8\"], [0.3333333333333333, \"#9c179e\"], [0.4444444444444444, \"#bd3786\"], [0.5555555555555556, \"#d8576b\"], [0.6666666666666666, \"#ed7953\"], [0.7777777777777778, \"#fb9f3a\"], [0.8888888888888888, \"#fdca26\"], [1.0, \"#f0f921\"]], \"type\": \"histogram2d\"}], \"histogram2dcontour\": [{\"colorbar\": {\"outlinewidth\": 0, \"ticks\": \"\"}, \"colorscale\": [[0.0, \"#0d0887\"], [0.1111111111111111, \"#46039f\"], [0.2222222222222222, \"#7201a8\"], [0.3333333333333333, \"#9c179e\"], [0.4444444444444444, \"#bd3786\"], [0.5555555555555556, \"#d8576b\"], [0.6666666666666666, \"#ed7953\"], [0.7777777777777778, \"#fb9f3a\"], [0.8888888888888888, \"#fdca26\"], [1.0, \"#f0f921\"]], \"type\": \"histogram2dcontour\"}], \"mesh3d\": [{\"colorbar\": {\"outlinewidth\": 0, \"ticks\": \"\"}, \"type\": \"mesh3d\"}], \"parcoords\": [{\"line\": {\"colorbar\": {\"outlinewidth\": 0, \"ticks\": \"\"}}, \"type\": \"parcoords\"}], \"pie\": [{\"automargin\": true, \"type\": \"pie\"}], \"scatter\": [{\"marker\": {\"colorbar\": {\"outlinewidth\": 0, \"ticks\": \"\"}}, \"type\": \"scatter\"}], \"scatter3d\": [{\"line\": {\"colorbar\": {\"outlinewidth\": 0, \"ticks\": \"\"}}, \"marker\": {\"colorbar\": {\"outlinewidth\": 0, \"ticks\": \"\"}}, \"type\": \"scatter3d\"}], \"scattercarpet\": [{\"marker\": {\"colorbar\": {\"outlinewidth\": 0, \"ticks\": \"\"}}, \"type\": \"scattercarpet\"}], \"scattergeo\": [{\"marker\": {\"colorbar\": {\"outlinewidth\": 0, \"ticks\": \"\"}}, \"type\": \"scattergeo\"}], \"scattergl\": [{\"marker\": {\"colorbar\": {\"outlinewidth\": 0, \"ticks\": \"\"}}, \"type\": \"scattergl\"}], \"scattermapbox\": [{\"marker\": {\"colorbar\": {\"outlinewidth\": 0, \"ticks\": \"\"}}, \"type\": \"scattermapbox\"}], \"scatterpolar\": [{\"marker\": {\"colorbar\": {\"outlinewidth\": 0, \"ticks\": \"\"}}, \"type\": \"scatterpolar\"}], \"scatterpolargl\": [{\"marker\": {\"colorbar\": {\"outlinewidth\": 0, \"ticks\": \"\"}}, \"type\": \"scatterpolargl\"}], \"scatterternary\": [{\"marker\": {\"colorbar\": {\"outlinewidth\": 0, \"ticks\": \"\"}}, \"type\": \"scatterternary\"}], \"surface\": [{\"colorbar\": {\"outlinewidth\": 0, \"ticks\": \"\"}, \"colorscale\": [[0.0, \"#0d0887\"], [0.1111111111111111, \"#46039f\"], [0.2222222222222222, \"#7201a8\"], [0.3333333333333333, \"#9c179e\"], [0.4444444444444444, \"#bd3786\"], [0.5555555555555556, \"#d8576b\"], [0.6666666666666666, \"#ed7953\"], [0.7777777777777778, \"#fb9f3a\"], [0.8888888888888888, \"#fdca26\"], [1.0, \"#f0f921\"]], \"type\": \"surface\"}], \"table\": [{\"cells\": {\"fill\": {\"color\": \"#EBF0F8\"}, \"line\": {\"color\": \"white\"}}, \"header\": {\"fill\": {\"color\": \"#C8D4E3\"}, \"line\": {\"color\": \"white\"}}, \"type\": \"table\"}]}, \"layout\": {\"annotationdefaults\": {\"arrowcolor\": \"#2a3f5f\", \"arrowhead\": 0, \"arrowwidth\": 1}, \"autotypenumbers\": \"strict\", \"coloraxis\": {\"colorbar\": {\"outlinewidth\": 0, \"ticks\": \"\"}}, \"colorscale\": {\"diverging\": [[0, \"#8e0152\"], [0.1, \"#c51b7d\"], [0.2, \"#de77ae\"], [0.3, \"#f1b6da\"], [0.4, \"#fde0ef\"], [0.5, \"#f7f7f7\"], [0.6, \"#e6f5d0\"], [0.7, \"#b8e186\"], [0.8, \"#7fbc41\"], [0.9, \"#4d9221\"], [1, \"#276419\"]], \"sequential\": [[0.0, \"#0d0887\"], [0.1111111111111111, \"#46039f\"], [0.2222222222222222, \"#7201a8\"], [0.3333333333333333, \"#9c179e\"], [0.4444444444444444, \"#bd3786\"], [0.5555555555555556, \"#d8576b\"], [0.6666666666666666, \"#ed7953\"], [0.7777777777777778, \"#fb9f3a\"], [0.8888888888888888, \"#fdca26\"], [1.0, \"#f0f921\"]], \"sequentialminus\": [[0.0, \"#0d0887\"], [0.1111111111111111, \"#46039f\"], [0.2222222222222222, \"#7201a8\"], [0.3333333333333333, \"#9c179e\"], [0.4444444444444444, \"#bd3786\"], [0.5555555555555556, \"#d8576b\"], [0.6666666666666666, \"#ed7953\"], [0.7777777777777778, \"#fb9f3a\"], [0.8888888888888888, \"#fdca26\"], [1.0, \"#f0f921\"]]}, \"colorway\": [\"#636efa\", \"#EF553B\", \"#00cc96\", \"#ab63fa\", \"#FFA15A\", \"#19d3f3\", \"#FF6692\", \"#B6E880\", \"#FF97FF\", \"#FECB52\"], \"font\": {\"color\": \"#2a3f5f\"}, \"geo\": {\"bgcolor\": \"white\", \"lakecolor\": \"white\", \"landcolor\": \"#E5ECF6\", \"showlakes\": true, \"showland\": true, \"subunitcolor\": \"white\"}, \"hoverlabel\": {\"align\": \"left\"}, \"hovermode\": \"closest\", \"mapbox\": {\"style\": \"light\"}, \"paper_bgcolor\": \"white\", \"plot_bgcolor\": \"#E5ECF6\", \"polar\": {\"angularaxis\": {\"gridcolor\": \"white\", \"linecolor\": \"white\", \"ticks\": \"\"}, \"bgcolor\": \"#E5ECF6\", \"radialaxis\": {\"gridcolor\": \"white\", \"linecolor\": \"white\", \"ticks\": \"\"}}, \"scene\": {\"xaxis\": {\"backgroundcolor\": \"#E5ECF6\", \"gridcolor\": \"white\", \"gridwidth\": 2, \"linecolor\": \"white\", \"showbackground\": true, \"ticks\": \"\", \"zerolinecolor\": \"white\"}, \"yaxis\": {\"backgroundcolor\": \"#E5ECF6\", \"gridcolor\": \"white\", \"gridwidth\": 2, \"linecolor\": \"white\", \"showbackground\": true, \"ticks\": \"\", \"zerolinecolor\": \"white\"}, \"zaxis\": {\"backgroundcolor\": \"#E5ECF6\", \"gridcolor\": \"white\", \"gridwidth\": 2, \"linecolor\": \"white\", \"showbackground\": true, \"ticks\": \"\", \"zerolinecolor\": \"white\"}}, \"shapedefaults\": {\"line\": {\"color\": \"#2a3f5f\"}}, \"ternary\": {\"aaxis\": {\"gridcolor\": \"white\", \"linecolor\": \"white\", \"ticks\": \"\"}, \"baxis\": {\"gridcolor\": \"white\", \"linecolor\": \"white\", \"ticks\": \"\"}, \"bgcolor\": \"#E5ECF6\", \"caxis\": {\"gridcolor\": \"white\", \"linecolor\": \"white\", \"ticks\": \"\"}}, \"title\": {\"x\": 0.05}, \"xaxis\": {\"automargin\": true, \"gridcolor\": \"white\", \"linecolor\": \"white\", \"ticks\": \"\", \"title\": {\"standoff\": 15}, \"zerolinecolor\": \"white\", \"zerolinewidth\": 2}, \"yaxis\": {\"automargin\": true, \"gridcolor\": \"white\", \"linecolor\": \"white\", \"ticks\": \"\", \"title\": {\"standoff\": 15}, \"zerolinecolor\": \"white\", \"zerolinewidth\": 2}}}, \"title\": {\"text\": \"Deaths Every Month\"}, \"width\": 1000, \"xaxis\": {\"anchor\": \"y\", \"domain\": [0.0, 0.98], \"title\": {\"text\": \"month\"}}, \"xaxis2\": {\"anchor\": \"y2\", \"domain\": [0.0, 0.98], \"matches\": \"x\", \"showticklabels\": false}, \"xaxis3\": {\"anchor\": \"y3\", \"domain\": [0.0, 0.98], \"matches\": \"x\", \"showticklabels\": false}, \"xaxis4\": {\"anchor\": \"y4\", \"domain\": [0.0, 0.98], \"matches\": \"x\", \"showticklabels\": false}, \"xaxis5\": {\"anchor\": \"y5\", \"domain\": [0.0, 0.98], \"matches\": \"x\", \"showticklabels\": false}, \"xaxis6\": {\"anchor\": \"y6\", \"domain\": [0.0, 0.98], \"matches\": \"x\", \"showticklabels\": false}, \"xaxis7\": {\"anchor\": \"y7\", \"domain\": [0.0, 0.98], \"matches\": \"x\", \"showticklabels\": false}, \"yaxis\": {\"anchor\": \"x\", \"domain\": [0.0, 0.11714285714285715], \"title\": {\"text\": \"sum of death\"}}, \"yaxis2\": {\"anchor\": \"x2\", \"domain\": [0.14714285714285713, 0.2642857142857143], \"matches\": \"y\", \"title\": {\"text\": \"sum of death\"}}, \"yaxis3\": {\"anchor\": \"x3\", \"domain\": [0.29428571428571426, 0.4114285714285714], \"matches\": \"y\", \"title\": {\"text\": \"sum of death\"}}, \"yaxis4\": {\"anchor\": \"x4\", \"domain\": [0.4414285714285714, 0.5585714285714285], \"matches\": \"y\", \"title\": {\"text\": \"sum of death\"}}, \"yaxis5\": {\"anchor\": \"x5\", \"domain\": [0.5885714285714285, 0.7057142857142856], \"matches\": \"y\", \"title\": {\"text\": \"sum of death\"}}, \"yaxis6\": {\"anchor\": \"x6\", \"domain\": [0.7357142857142858, 0.8528571428571429], \"matches\": \"y\", \"title\": {\"text\": \"sum of death\"}}, \"yaxis7\": {\"anchor\": \"x7\", \"domain\": [0.8828571428571428, 0.9999999999999999], \"matches\": \"y\", \"title\": {\"text\": \"sum of death\"}}},                        {\"responsive\": true}                    ).then(function(){\n",
       "                            \n",
       "var gd = document.getElementById('acd3202e-1791-4ef5-975d-0b343370c09f');\n",
       "var x = new MutationObserver(function (mutations, observer) {{\n",
       "        var display = window.getComputedStyle(gd).display;\n",
       "        if (!display || display === 'none') {{\n",
       "            console.log([gd, 'removed!']);\n",
       "            Plotly.purge(gd);\n",
       "            observer.disconnect();\n",
       "        }}\n",
       "}});\n",
       "\n",
       "// Listen for the removal of the full notebook cells\n",
       "var notebookContainer = gd.closest('#notebook-container');\n",
       "if (notebookContainer) {{\n",
       "    x.observe(notebookContainer, {childList: true});\n",
       "}}\n",
       "\n",
       "// Listen for the clearing of the current output cell\n",
       "var outputEl = gd.closest('.output');\n",
       "if (outputEl) {{\n",
       "    x.observe(outputEl, {childList: true});\n",
       "}}\n",
       "\n",
       "                        })                };                });            </script>        </div>"
      ]
     },
     "metadata": {},
     "output_type": "display_data"
    }
   ],
   "source": [
    "fig = px.histogram(df_1, x='month', y='death',title='Deaths Every Month',color='Year',facet_row='Dayofweek',width=1000, height=1000)\n",
    "fig"
   ]
  },
  {
   "cell_type": "code",
   "execution_count": 140,
   "id": "7ffb6312",
   "metadata": {},
   "outputs": [],
   "source": [
    "df_f=df_1.copy()"
   ]
  },
  {
   "cell_type": "code",
   "execution_count": 142,
   "id": "1955102f",
   "metadata": {},
   "outputs": [],
   "source": [
    "df_f['Date']=df['date']"
   ]
  },
  {
   "cell_type": "code",
   "execution_count": 146,
   "id": "539e5261",
   "metadata": {},
   "outputs": [
    {
     "data": {
      "application/vnd.jupyter.widget-view+json": {
       "model_id": "5f1fd6010c2d420da7cebc25ee7106c6"
      },
      "text/plain": [
       "              death  deathConfirmed  deathIncrease  deathProbable  \\\n",
       "Date                                                                \n",
       "2021-03-07  16417.0         16085.0             43         332.00   \n",
       "2021-03-06  16374.0         16044.0             52         330.00   \n",
       "2021-03-05  16322.0         15992.0             26         330.00   \n",
       "2021-03-04  16296.0         15967.0             44         329.00   \n",
       "2021-03-03  16252.0         15925.0             70         327.00   \n",
       "...             ...             ...            ...            ...   \n",
       "2020-01-26   9180.0          4004.0              0         235.75   \n",
       "2020-01-25   9180.0          4004.0              0         235.75   \n",
       "2020-01-24   9180.0          4004.0              0         235.75   \n",
       "2020-01-23   9180.0          4004.0              0         235.75   \n",
       "2020-01-22   9180.0          4004.0              0         235.75   \n",
       "\n",
       "            hospitalizedCumulative  hospitalizedCurrently  \\\n",
       "Date                                                        \n",
       "2021-03-07                 19713.0                  665.0   \n",
       "2021-03-06                 19713.0                  687.0   \n",
       "2021-03-05                 19713.0                  716.0   \n",
       "2021-03-04                 19713.0                  741.0   \n",
       "2021-03-03                 19713.0                  755.0   \n",
       "...                            ...                    ...   \n",
       "2020-01-26                    61.0                 1370.0   \n",
       "2020-01-25                    61.0                 1370.0   \n",
       "2020-01-24                    61.0                 1370.0   \n",
       "2020-01-23                    61.0                 1370.0   \n",
       "2020-01-22                    61.0                 1370.0   \n",
       "\n",
       "            hospitalizedIncrease  inIcuCurrently   negative  negativeIncrease  \\\n",
       "Date                                                                            \n",
       "2021-03-07                     0           174.0  4404792.0              8028   \n",
       "2021-03-06                     0           176.0  4396764.0              7826   \n",
       "2021-03-05                     0           180.0  4388938.0              8907   \n",
       "2021-03-04                     0           168.0  4380031.0              8554   \n",
       "2021-03-03                   269           173.0  4371477.0              8511   \n",
       "...                          ...             ...        ...               ...   \n",
       "2020-01-26                     0           973.0       92.0                 0   \n",
       "2020-01-25                     0           973.0       92.0                 0   \n",
       "2020-01-24                     0           973.0       92.0                 0   \n",
       "2020-01-23                     0           973.0       92.0                 0   \n",
       "2020-01-22                     0           973.0       92.0                 0   \n",
       "\n",
       "            ...  Day  Dayofweek  Dayofyear  Is_month_end  Is_month_start  \\\n",
       "Date        ...                                                            \n",
       "2021-03-07  ...    7          6         66         False           False   \n",
       "2021-03-06  ...    6          5         65         False           False   \n",
       "2021-03-05  ...    5          4         64         False           False   \n",
       "2021-03-04  ...    4          3         63         False           False   \n",
       "2021-03-03  ...    3          2         62         False           False   \n",
       "...         ...  ...        ...        ...           ...             ...   \n",
       "2020-01-26  ...   26          6         26         False           False   \n",
       "2020-01-25  ...   25          5         25         False           False   \n",
       "2020-01-24  ...   24          4         24         False           False   \n",
       "2020-01-23  ...   23          3         23         False           False   \n",
       "2020-01-22  ...   22          2         22         False           False   \n",
       "\n",
       "            Is_quarter_end  Is_quarter_start  Is_year_end  Is_year_start  \\\n",
       "Date                                                                       \n",
       "2021-03-07           False             False        False          False   \n",
       "2021-03-06           False             False        False          False   \n",
       "2021-03-05           False             False        False          False   \n",
       "2021-03-04           False             False        False          False   \n",
       "2021-03-03           False             False        False          False   \n",
       "...                    ...               ...          ...            ...   \n",
       "2020-01-26           False             False        False          False   \n",
       "2020-01-25           False             False        False          False   \n",
       "2020-01-24           False             False        False          False   \n",
       "2020-01-23           False             False        False          False   \n",
       "2020-01-22           False             False        False          False   \n",
       "\n",
       "                 Elapsed  \n",
       "Date                      \n",
       "2021-03-07  1.615075e+09  \n",
       "2021-03-06  1.614989e+09  \n",
       "2021-03-05  1.614902e+09  \n",
       "2021-03-04  1.614816e+09  \n",
       "2021-03-03  1.614730e+09  \n",
       "...                  ...  \n",
       "2020-01-26  1.579997e+09  \n",
       "2020-01-25  1.579910e+09  \n",
       "2020-01-24  1.579824e+09  \n",
       "2020-01-23  1.579738e+09  \n",
       "2020-01-22  1.579651e+09  \n",
       "\n",
       "[411 rows x 41 columns]"
      ]
     },
     "metadata": {},
     "output_type": "display_data"
    }
   ],
   "source": [
    "df_f.index=pd.to_datetime(df_f['Date'],format='%Y-%m-%d')\n",
    "del df_f['Date']\n",
    "df_f = df_f.reset_index()\n",
    "df_f"
   ]
  },
  {
   "cell_type": "code",
   "execution_count": 150,
   "id": "a2c665ff",
   "metadata": {},
   "outputs": [],
   "source": [
    "train = df_f[df_f.index < pd.to_datetime(\"2021-01-01\", format='%Y-%m-%d')]\n",
    "test = df_f[df_f.index >= pd.to_datetime(\"2021-01-01\", format='%Y-%m-%d')]"
   ]
  },
  {
   "cell_type": "code",
   "execution_count": 158,
   "id": "92ef9ef9",
   "metadata": {},
   "outputs": [
    {
     "data": {
      "application/vnd.jupyter.widget-view+json": {
       "model_id": "d28c8875bb304022bba8de1ab93d3a2b"
      },
      "text/plain": [
       "              death  deathConfirmed  deathIncrease  deathProbable  \\\n",
       "Date                                                                \n",
       "2020-12-31  12423.0         12157.0             85         266.00   \n",
       "2020-12-30  12338.0         12076.0            120         262.00   \n",
       "2020-12-29  12218.0         11958.0             60         260.00   \n",
       "2020-12-28  12158.0         11900.0             48         258.00   \n",
       "2020-12-27  12110.0         11852.0            100         258.00   \n",
       "...             ...             ...            ...            ...   \n",
       "2020-01-26   9180.0          4004.0              0         235.75   \n",
       "2020-01-25   9180.0          4004.0              0         235.75   \n",
       "2020-01-24   9180.0          4004.0              0         235.75   \n",
       "2020-01-23   9180.0          4004.0              0         235.75   \n",
       "2020-01-22   9180.0          4004.0              0         235.75   \n",
       "\n",
       "            hospitalizedCumulative  hospitalizedCurrently  \\\n",
       "Date                                                        \n",
       "2020-12-31                 16098.0                 2271.0   \n",
       "2020-12-30                 15905.0                 2257.0   \n",
       "2020-12-29                 15905.0                 2259.0   \n",
       "2020-12-28                 15905.0                 2230.0   \n",
       "2020-12-27                 15905.0                 2156.0   \n",
       "...                            ...                    ...   \n",
       "2020-01-26                    61.0                 1370.0   \n",
       "2020-01-25                    61.0                 1370.0   \n",
       "2020-01-24                    61.0                 1370.0   \n",
       "2020-01-23                    61.0                 1370.0   \n",
       "2020-01-22                    61.0                 1370.0   \n",
       "\n",
       "            hospitalizedIncrease  inIcuCurrently   negative  negativeIncrease  \\\n",
       "Date                                                                            \n",
       "2020-12-31                   193           417.0  3658165.0             17397   \n",
       "2020-12-30                     0           433.0  3640768.0             15115   \n",
       "2020-12-29                     0           431.0  3625653.0             10993   \n",
       "2020-12-28                     0           430.0  3614660.0             10932   \n",
       "2020-12-27                     0           416.0  3603728.0              8646   \n",
       "...                          ...             ...        ...               ...   \n",
       "2020-01-26                     0           973.0       92.0                 0   \n",
       "2020-01-25                     0           973.0       92.0                 0   \n",
       "2020-01-24                     0           973.0       92.0                 0   \n",
       "2020-01-23                     0           973.0       92.0                 0   \n",
       "2020-01-22                     0           973.0       92.0                 0   \n",
       "\n",
       "            ...  Day  Dayofweek  Dayofyear  Is_month_end  Is_month_start  \\\n",
       "Date        ...                                                            \n",
       "2020-12-31  ...   31          3        366          True           False   \n",
       "2020-12-30  ...   30          2        365         False           False   \n",
       "2020-12-29  ...   29          1        364         False           False   \n",
       "2020-12-28  ...   28          0        363         False           False   \n",
       "2020-12-27  ...   27          6        362         False           False   \n",
       "...         ...  ...        ...        ...           ...             ...   \n",
       "2020-01-26  ...   26          6         26         False           False   \n",
       "2020-01-25  ...   25          5         25         False           False   \n",
       "2020-01-24  ...   24          4         24         False           False   \n",
       "2020-01-23  ...   23          3         23         False           False   \n",
       "2020-01-22  ...   22          2         22         False           False   \n",
       "\n",
       "            Is_quarter_end  Is_quarter_start  Is_year_end  Is_year_start  \\\n",
       "Date                                                                       \n",
       "2020-12-31            True             False         True          False   \n",
       "2020-12-30           False             False        False          False   \n",
       "2020-12-29           False             False        False          False   \n",
       "2020-12-28           False             False        False          False   \n",
       "2020-12-27           False             False        False          False   \n",
       "...                    ...               ...          ...            ...   \n",
       "2020-01-26           False             False        False          False   \n",
       "2020-01-25           False             False        False          False   \n",
       "2020-01-24           False             False        False          False   \n",
       "2020-01-23           False             False        False          False   \n",
       "2020-01-22           False             False        False          False   \n",
       "\n",
       "                 Elapsed  \n",
       "Date                      \n",
       "2020-12-31  1.609373e+09  \n",
       "2020-12-30  1.609286e+09  \n",
       "2020-12-29  1.609200e+09  \n",
       "2020-12-28  1.609114e+09  \n",
       "2020-12-27  1.609027e+09  \n",
       "...                  ...  \n",
       "2020-01-26  1.579997e+09  \n",
       "2020-01-25  1.579910e+09  \n",
       "2020-01-24  1.579824e+09  \n",
       "2020-01-23  1.579738e+09  \n",
       "2020-01-22  1.579651e+09  \n",
       "\n",
       "[345 rows x 41 columns]"
      ]
     },
     "metadata": {},
     "output_type": "display_data"
    }
   ],
   "source": [
    "import pandas as pd; import numpy as np\n",
    "train = train.reset_index()\n",
    "train"
   ]
  },
  {
   "cell_type": "code",
   "execution_count": 160,
   "id": "d7228841",
   "metadata": {},
   "outputs": [
    {
     "data": {
      "image/png": "[encoded data removed]",
      "text/plain": [
       "<Figure size 432x288 with 1 Axes>"
      ]
     },
     "metadata": {
      "needs_background": "light"
     },
     "output_type": "display_data"
    }
   ],
   "source": [
    "# plt.plot(df_f.index, df_f['positiveIncrease'], )\n",
    "plt.plot(train.positive, color = \"black\")\n",
    "plt.plot(test.positive, color = \"red\")\n",
    "plt.ylabel('Covid')\n",
    "plt.xlabel('Date')\n",
    "plt.xticks(rotation=45)\n",
    "plt.title(\"Train/Test split for COVID Data\")\n",
    "plt.show()"
   ]
  },
  {
   "cell_type": "code",
   "execution_count": 161,
   "id": "cd55f5f5",
   "metadata": {},
   "outputs": [],
   "source": [
    "from statsmodels.tsa.statespace.sarimax import SARIMAX"
   ]
  },
  {
   "cell_type": "code",
   "execution_count": 163,
   "id": "42c66936",
   "metadata": {},
   "outputs": [],
   "source": [
    "y = train['positive']"
   ]
  },
  {
   "cell_type": "code",
   "execution_count": 164,
   "id": "33a3514a",
   "metadata": {},
   "outputs": [],
   "source": [
    "ARMAmodel = SARIMAX(y, order = (1, 0, 1))"
   ]
  },
  {
   "cell_type": "code",
   "execution_count": 165,
   "id": "a476e43a",
   "metadata": {},
   "outputs": [],
   "source": [
    "ARMAmodel = ARMAmodel.fit()"
   ]
  },
  {
   "cell_type": "code",
   "execution_count": 179,
   "id": "9c01b9e4",
   "metadata": {},
   "outputs": [],
   "source": [
    "y_pred = ARMAmodel.get_forecast(len(test.index))\n",
    "y_pred_df = y_pred.conf_int(alpha = 0.05) \n",
    "y_pred_df[\"Predictions\"] = ARMAmodel.predict(start = y_pred_df.index[0], end = y_pred_df.index[-1])\n",
    "y_pred_df.index = test.index\n"
   ]
  },
  {
   "cell_type": "code",
   "execution_count": null,
   "id": "aad85fb0",
   "metadata": {},
   "outputs": [],
   "source": [
    "y_pred_out = y_pred_df[\"Predictions\"] + train.positive[-1]"
   ]
  },
  {
   "cell_type": "code",
   "execution_count": 181,
   "id": "68e28b88",
   "metadata": {},
   "outputs": [
    {
     "data": {
      "text/plain": [
       "2.0"
      ]
     },
     "execution_count": 181,
     "metadata": {},
     "output_type": "execute_result"
    }
   ],
   "source": [
    " train.positive[-1]"
   ]
  },
  {
   "cell_type": "code",
   "execution_count": 180,
   "id": "61e9135e",
   "metadata": {},
   "outputs": [
    {
     "data": {
      "text/plain": [
       "<matplotlib.legend.Legend at 0x293fb5e5208>"
      ]
     },
     "execution_count": 180,
     "metadata": {},
     "output_type": "execute_result"
    },
    {
     "data": {
      "image/png": "[encoded data removed]",
      "text/plain": [
       "<Figure size 432x288 with 1 Axes>"
      ]
     },
     "metadata": {
      "needs_background": "light"
     },
     "output_type": "display_data"
    }
   ],
   "source": [
    "plt.plot(y_pred_out, color='red', label = 'Predictions')\n",
    "plt.plot(test.positive, color = 'blue', label = 'ground truth')\n",
    "plt.legend()"
   ]
  },
  {
   "cell_type": "code",
   "execution_count": 187,
   "id": "9613c3e8",
   "metadata": {},
   "outputs": [],
   "source": [
    "#cols=[\"Year\",\"Month\",\"Day\"]\n",
    "#df_1['date'] = df_1[cols].apply(lambda x: '-'.join(x.values.astype(str)), axis=\"columns\")\n",
    "df_f1=df_f.copy()\n",
    "#df_f1 = df_f1.set_index(df_f1['date'])\n",
    "df_f1 = df_f1.sort_index()\n",
    "\n",
    "train_1 = df_f1['2020-01-10':'2021-01-01']\n",
    "test_1  = df_f1['2021-01-01':]"
   ]
  },
  {
   "cell_type": "code",
   "execution_count": 192,
   "id": "f6094d75",
   "metadata": {},
   "outputs": [
    {
     "data": {
      "text/plain": [
       "[<matplotlib.lines.Line2D at 0x29404121308>]"
      ]
     },
     "execution_count": 192,
     "metadata": {},
     "output_type": "execute_result"
    },
    {
     "data": {
      "image/png": "[encoded data removed]",
      "text/plain": [
       "<Figure size 432x288 with 1 Axes>"
      ]
     },
     "metadata": {
      "needs_background": "light"
     },
     "output_type": "display_data"
    }
   ],
   "source": [
    "import statsmodels.api as sm\n",
    "model=sm.tsa.statespace.SARIMAX(train_1['positive'], order = (1, 1, 1), seasonal_order = (1,1,1,12))\n",
    "results=model.fit()\n",
    "yhat = results.predict(start = 344, end = 409, dynamic = True)\n",
    "\n",
    "\n",
    "# Plotting\n",
    "\n",
    "import matplotlib.pyplot as plt\n",
    "plt.plot(test_1['positive'], color = 'blue')\n",
    "plt.plot(yhat, color = 'red')"
   ]
  },
  {
   "cell_type": "code",
   "execution_count": 193,
   "id": "a1f50035",
   "metadata": {},
   "outputs": [
    {
     "name": "stdout",
     "output_type": "stream",
     "text": [
      "205.03676936636725\n"
     ]
    }
   ],
   "source": [
    "from sklearn.metrics import mean_squared_error\n",
    "import math\n",
    "\n",
    "rmse = math.sqrt(mean_squared_error(test_1.positive, yhat, squared=False))\n",
    "print(rmse)"
   ]
  },
  {
   "cell_type": "code",
   "execution_count": null,
   "id": "dcbcd727",
   "metadata": {},
   "outputs": [],
   "source": []
  }
 ],
 "metadata": {
  "kernelspec": {
   "display_name": "Python 3 (ipykernel)",
   "language": "python",
   "name": "python3"
  },
  "language_info": {
   "codemirror_mode": {
    "name": "ipython",
    "version": 3
   },
   "file_extension": ".py",
   "mimetype": "text/x-python",
   "name": "python",
   "nbconvert_exporter": "python",
   "pygments_lexer": "ipython3",
   "version": "3.7.11"
  }
 },
 "nbformat": 4,
 "nbformat_minor": 5
}
