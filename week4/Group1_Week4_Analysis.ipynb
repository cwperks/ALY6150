{
 "cells": [
  {
   "cell_type": "code",
   "execution_count": 2,
   "id": "093f9c8f",
   "metadata": {},
   "outputs": [],
   "source": [
    "# Group 1\n",
    "\n",
    "# Craig Perkins\n",
    "# Sneha Sharma Satheesha\n",
    "# Pranay Bindela\n",
    "\n",
    "import pandas as pd\n",
    "import seaborn as sns\n",
    "import matplotlib.pyplot as plt\n",
    "import bamboolib\n",
    "from sklearn.impute import KNNImputer\n",
    "import numpy as np"
   ]
  },
  {
   "cell_type": "code",
   "execution_count": 2,
   "id": "75798648",
   "metadata": {},
   "outputs": [],
   "source": [
    "df = pd.read_csv('../data/massachusetts-history.csv')"
   ]
  },
  {
   "cell_type": "code",
   "execution_count": 3,
   "id": "3cda673f",
   "metadata": {},
   "outputs": [
    {
     "data": {
      "application/vnd.jupyter.widget-view+json": {
       "model_id": "d8a496bb81e643f4852d6c8661062f09"
      },
      "text/plain": [
       "           date state    death  deathConfirmed  deathIncrease  deathProbable  \\\n",
       "0    2021-03-07    MA  16417.0         16085.0             43          332.0   \n",
       "1    2021-03-06    MA  16374.0         16044.0             52          330.0   \n",
       "2    2021-03-05    MA  16322.0         15992.0             26          330.0   \n",
       "3    2021-03-04    MA  16296.0         15967.0             44          329.0   \n",
       "4    2021-03-03    MA  16252.0         15925.0             70          327.0   \n",
       "..          ...   ...      ...             ...            ...            ...   \n",
       "406  2020-01-26    MA      NaN             NaN              0            NaN   \n",
       "407  2020-01-25    MA      NaN             NaN              0            NaN   \n",
       "408  2020-01-24    MA      NaN             NaN              0            NaN   \n",
       "409  2020-01-23    MA      NaN             NaN              0            NaN   \n",
       "410  2020-01-22    MA      NaN             NaN              0            NaN   \n",
       "\n",
       "     hospitalized  hospitalizedCumulative  hospitalizedCurrently  \\\n",
       "0         19713.0                 19713.0                  665.0   \n",
       "1         19713.0                 19713.0                  687.0   \n",
       "2         19713.0                 19713.0                  716.0   \n",
       "3         19713.0                 19713.0                  741.0   \n",
       "4         19713.0                 19713.0                  755.0   \n",
       "..            ...                     ...                    ...   \n",
       "406           NaN                     NaN                    NaN   \n",
       "407           NaN                     NaN                    NaN   \n",
       "408           NaN                     NaN                    NaN   \n",
       "409           NaN                     NaN                    NaN   \n",
       "410           NaN                     NaN                    NaN   \n",
       "\n",
       "     hospitalizedIncrease  ...  totalTestResults  totalTestResultsIncrease  \\\n",
       "0                       0  ...          16825551                     96578   \n",
       "1                       0  ...          16728973                    100359   \n",
       "2                       0  ...          16628614                    106263   \n",
       "3                       0  ...          16522351                    102362   \n",
       "4                     269  ...          16419989                    102052   \n",
       "..                    ...  ...               ...                       ...   \n",
       "406                     0  ...                 2                         0   \n",
       "407                     0  ...                 2                         0   \n",
       "408                     0  ...                 2                         0   \n",
       "409                     0  ...                 2                         1   \n",
       "410                     0  ...                 1                         0   \n",
       "\n",
       "     totalTestsAntibody  totalTestsAntigen  totalTestsPeopleAntibody  \\\n",
       "0                   NaN                NaN                  156185.0   \n",
       "1                   NaN                NaN                  156185.0   \n",
       "2                   NaN                NaN                  156185.0   \n",
       "3                   NaN                NaN                  156185.0   \n",
       "4                   NaN                NaN                  154697.0   \n",
       "..                  ...                ...                       ...   \n",
       "406                 NaN                NaN                       NaN   \n",
       "407                 NaN                NaN                       NaN   \n",
       "408                 NaN                NaN                       NaN   \n",
       "409                 NaN                NaN                       NaN   \n",
       "410                 NaN                NaN                       NaN   \n",
       "\n",
       "     totalTestsPeopleAntigen  totalTestsPeopleViral  \\\n",
       "0                   580372.0              4963875.0   \n",
       "1                   578153.0              4954566.0   \n",
       "2                   574434.0              4945245.0   \n",
       "3                   571445.0              4934661.0   \n",
       "4                   568678.0              4924697.0   \n",
       "..                       ...                    ...   \n",
       "406                      NaN                    NaN   \n",
       "407                      NaN                    NaN   \n",
       "408                      NaN                    NaN   \n",
       "409                      NaN                    NaN   \n",
       "410                      NaN                    NaN   \n",
       "\n",
       "     totalTestsPeopleViralIncrease  totalTestsViral  totalTestsViralIncrease  \n",
       "0                             9309         16825551                    96578  \n",
       "1                             9321         16728973                   100359  \n",
       "2                            10584         16628614                   106263  \n",
       "3                             9964         16522351                   102362  \n",
       "4                            10064         16419989                   102052  \n",
       "..                             ...              ...                      ...  \n",
       "406                              0                2                        0  \n",
       "407                              0                2                        0  \n",
       "408                              0                2                        0  \n",
       "409                              0                2                        1  \n",
       "410                              0                1                        1  \n",
       "\n",
       "[411 rows x 41 columns]"
      ]
     },
     "metadata": {},
     "output_type": "display_data"
    }
   ],
   "source": [
    "df"
   ]
  },
  {
   "cell_type": "code",
   "execution_count": 12,
   "id": "bd1e2d5b",
   "metadata": {},
   "outputs": [
    {
     "data": {
      "application/vnd.jupyter.widget-view+json": {
       "model_id": "d9a503c7e5f44e028c374175efe647f3"
      },
      "text/plain": [
       "         date state    death  deathConfirmed  deathIncrease  deathProbable  \\\n",
       "0  2021-03-07    MA  16417.0         16085.0             43          332.0   \n",
       "1  2021-03-06    MA  16374.0         16044.0             52          330.0   \n",
       "2  2021-03-05    MA  16322.0         15992.0             26          330.0   \n",
       "3  2021-03-04    MA  16296.0         15967.0             44          329.0   \n",
       "4  2021-03-03    MA  16252.0         15925.0             70          327.0   \n",
       "5  2021-03-02    MA  16182.0         15859.0             38          323.0   \n",
       "6  2021-03-01    MA  16144.0         15822.0             26          322.0   \n",
       "7  2021-02-28    MA  16118.0         15796.0             51          322.0   \n",
       "8  2021-02-27    MA  16067.0         15744.0             43          323.0   \n",
       "9  2021-02-26    MA  16024.0         15703.0             46          321.0   \n",
       "\n",
       "   hospitalized  hospitalizedCumulative  hospitalizedCurrently  \\\n",
       "0       19713.0                 19713.0                  665.0   \n",
       "1       19713.0                 19713.0                  687.0   \n",
       "2       19713.0                 19713.0                  716.0   \n",
       "3       19713.0                 19713.0                  741.0   \n",
       "4       19713.0                 19713.0                  755.0   \n",
       "5       19444.0                 19444.0                  775.0   \n",
       "6       19444.0                 19444.0                  788.0   \n",
       "7       19444.0                 19444.0                  760.0   \n",
       "8       19444.0                 19444.0                  785.0   \n",
       "9       19444.0                 19444.0                  807.0   \n",
       "\n",
       "   hospitalizedIncrease  ...  totalTestResults  totalTestResultsIncrease  \\\n",
       "0                     0  ...          16825551                     96578   \n",
       "1                     0  ...          16728973                    100359   \n",
       "2                     0  ...          16628614                    106263   \n",
       "3                     0  ...          16522351                    102362   \n",
       "4                   269  ...          16419989                    102052   \n",
       "5                     0  ...          16317937                     56007   \n",
       "6                     0  ...          16261930                     53839   \n",
       "7                     0  ...          16208091                    102571   \n",
       "8                     0  ...          16105520                    108261   \n",
       "9                     0  ...          15997259                    102584   \n",
       "\n",
       "   totalTestsAntibody  totalTestsAntigen  totalTestsPeopleAntibody  \\\n",
       "0                 NaN                NaN                  156185.0   \n",
       "1                 NaN                NaN                  156185.0   \n",
       "2                 NaN                NaN                  156185.0   \n",
       "3                 NaN                NaN                  156185.0   \n",
       "4                 NaN                NaN                  154697.0   \n",
       "5                 NaN                NaN                  154697.0   \n",
       "6                 NaN                NaN                  154697.0   \n",
       "7                 NaN                NaN                  154697.0   \n",
       "8                 NaN                NaN                  154697.0   \n",
       "9                 NaN                NaN                  154697.0   \n",
       "\n",
       "   totalTestsPeopleAntigen  totalTestsPeopleViral  \\\n",
       "0                 580372.0              4963875.0   \n",
       "1                 578153.0              4954566.0   \n",
       "2                 574434.0              4945245.0   \n",
       "3                 571445.0              4934661.0   \n",
       "4                 568678.0              4924697.0   \n",
       "5                 564788.0              4914633.0   \n",
       "6                 561797.0              4906907.0   \n",
       "7                 559897.0              4898841.0   \n",
       "8                 557826.0              4888954.0   \n",
       "9                 554801.0              4878999.0   \n",
       "\n",
       "   totalTestsPeopleViralIncrease  totalTestsViral  totalTestsViralIncrease  \n",
       "0                           9309         16825551                    96578  \n",
       "1                           9321         16728973                   100359  \n",
       "2                          10584         16628614                   106263  \n",
       "3                           9964         16522351                   102362  \n",
       "4                          10064         16419989                   102052  \n",
       "5                           7726         16317937                    56007  \n",
       "6                           8066         16261930                    53839  \n",
       "7                           9887         16208091                   102571  \n",
       "8                           9955         16105520                   108261  \n",
       "9                          11203         15997259                   102584  \n",
       "\n",
       "[10 rows x 41 columns]"
      ]
     },
     "metadata": {},
     "output_type": "display_data"
    }
   ],
   "source": [
    "df.head(10)"
   ]
  },
  {
   "cell_type": "code",
   "execution_count": 13,
   "id": "841664cc",
   "metadata": {},
   "outputs": [],
   "source": [
    "columns_to_drop = [\n",
    "    'state',\n",
    "    'hospitalized',\n",
    "    'inIcuCumulative',\n",
    "    'negativeTestsAntibody',\n",
    "    'negativeTestsPeopleAntibody',\n",
    "    'negativeTestViral',\n",
    "    'onVentilatorCumulative',\n",
    "    'positiveScore',\n",
    "    'positiveTestsAntibody',\n",
    "    'positiveTestsAntigen',\n",
    "    'positiveTestsPeopleAntigen',\n",
    "    'totalTestEncountersViral',\n",
    "    'totalTestEncountersViralIncrease',\n",
    "    'totalTestsAntibody',\n",
    "    'totalTestsAntigen',\n",
    "    'totalTestsViral',\n",
    "    'totalTestsViralIncrease'\n",
    "]\n",
    "\n",
    "df.drop(columns=columns_to_drop, inplace=True, errors='ignore')"
   ]
  },
  {
   "cell_type": "code",
   "execution_count": 14,
   "id": "60b9a878",
   "metadata": {},
   "outputs": [
    {
     "data": {
      "application/vnd.jupyter.widget-view+json": {
       "model_id": "463d42b43c9b44b5ab3a8500ce221fa8"
      },
      "text/plain": [
       "                                      300         117         19          133  \\\n",
       "date                           2020-05-11  2020-11-10  2021-02-16  2020-10-25   \n",
       "death                              5108.0     10184.0     15567.0      9864.0   \n",
       "deathConfirmed                     5108.0      9957.0     15257.0      9640.0   \n",
       "deathIncrease                         129          21          50          25   \n",
       "deathProbable                         NaN       227.0       310.0       224.0   \n",
       "hospitalizedCumulative             7732.0     13373.0     18859.0     13142.0   \n",
       "hospitalizedCurrently              3102.0       618.0      1096.0       538.0   \n",
       "hospitalizedIncrease                  115           0           0          16   \n",
       "inIcuCurrently                      813.0       150.0       275.0       109.0   \n",
       "negative                         316266.0   2757216.0   4242966.0   2485042.0   \n",
       "negativeIncrease                     5670       13697        5070       15923   \n",
       "negativeTestsViral                    NaN         NaN         NaN         NaN   \n",
       "onVentilatorCurrently                 NaN        68.0       177.0        45.0   \n",
       "positive                          78462.0    174881.0    560576.0    150565.0   \n",
       "positiveCasesViral                78462.0    169976.0    531702.0    147120.0   \n",
       "positiveIncrease                      669        2154        1226        1077   \n",
       "positiveTestsPeopleAntibody           NaN     11842.0     14572.0         NaN   \n",
       "positiveTestsViral                  98664      217992      636172      191267   \n",
       "recovered                             NaN    131646.0    453740.0    122856.0   \n",
       "totalTestResults                   496747     6826328    15057893     5668015   \n",
       "totalTestResultsIncrease            15642       58341       46488       82846   \n",
       "totalTestsPeopleAntibody              NaN    128053.0    151476.0    125829.0   \n",
       "totalTestsPeopleAntigen               NaN    207947.0    524006.0    174264.0   \n",
       "totalTestsPeopleViral                 NaN   2927192.0   4774668.0   2632162.0   \n",
       "totalTestsPeopleViralIncrease           0       15744        6037       17020   \n",
       "\n",
       "                                      255  \n",
       "date                           2020-06-25  \n",
       "death                              7963.0  \n",
       "deathConfirmed                     7776.0  \n",
       "deathIncrease                          25  \n",
       "deathProbable                       187.0  \n",
       "hospitalizedCumulative            11252.0  \n",
       "hospitalizedCurrently               822.0  \n",
       "hospitalizedIncrease                   33  \n",
       "inIcuCurrently                      174.0  \n",
       "negative                         697619.0  \n",
       "negativeIncrease                    10158  \n",
       "negativeTestsViral                    NaN  \n",
       "onVentilatorCurrently               101.0  \n",
       "positive                         107837.0  \n",
       "positiveCasesViral               102922.0  \n",
       "positiveIncrease                      226  \n",
       "positiveTestsPeopleAntibody           NaN  \n",
       "positiveTestsViral                 136298  \n",
       "recovered                         93157.0  \n",
       "totalTestResults                  1044011  \n",
       "totalTestResultsIncrease            12646  \n",
       "totalTestsPeopleAntibody          66753.0  \n",
       "totalTestsPeopleAntigen               NaN  \n",
       "totalTestsPeopleViral            800541.0  \n",
       "totalTestsPeopleViralIncrease       10318  "
      ]
     },
     "metadata": {},
     "output_type": "display_data"
    }
   ],
   "source": [
    "df.sample(5).T"
   ]
  },
  {
   "cell_type": "code",
   "execution_count": 15,
   "id": "225f2889",
   "metadata": {},
   "outputs": [
    {
     "data": {
      "application/vnd.jupyter.widget-view+json": {
       "model_id": "b607ada0cbaa47f5808b8c81250ea884"
      },
      "text/plain": [
       "              date         death  deathConfirmed  deathIncrease  \\\n",
       "count          411    355.000000      309.000000     411.000000   \n",
       "unique         411           NaN             NaN            NaN   \n",
       "top     2021-03-07           NaN             NaN            NaN   \n",
       "freq             1           NaN             NaN            NaN   \n",
       "mean           NaN   9001.850704     9939.190939      39.944039   \n",
       "std            NaN   4018.084799     2770.754902      42.868879   \n",
       "min            NaN      2.000000     4004.000000     -41.000000   \n",
       "25%            NaN   7635.500000     8213.000000      11.000000   \n",
       "50%            NaN   9180.000000     9295.000000      26.000000   \n",
       "75%            NaN  11121.000000    11465.000000      55.000000   \n",
       "max            NaN  16417.000000    16085.000000     252.000000   \n",
       "\n",
       "        deathProbable  hospitalizedCumulative  hospitalizedCurrently  \\\n",
       "count      280.000000              352.000000             338.000000   \n",
       "unique            NaN                     NaN                    NaN   \n",
       "top               NaN                     NaN                    NaN   \n",
       "freq              NaN                     NaN                    NaN   \n",
       "mean       235.750000            12131.892045            1313.405325   \n",
       "std         42.025274             4566.262957            1006.610011   \n",
       "min        136.000000               61.000000             290.000000   \n",
       "25%        215.000000            10910.500000             499.250000   \n",
       "50%        225.500000            12428.500000             933.000000   \n",
       "75%        258.000000            14503.500000            1991.000000   \n",
       "max        332.000000            19713.000000            3977.000000   \n",
       "\n",
       "        hospitalizedIncrease  inIcuCurrently      negative  ...  \\\n",
       "count             411.000000      327.000000  3.600000e+02  ...   \n",
       "unique                   NaN             NaN           NaN  ...   \n",
       "top                      NaN             NaN           NaN  ...   \n",
       "freq                     NaN             NaN           NaN  ...   \n",
       "mean               47.963504      287.015291  1.924693e+06  ...   \n",
       "std               102.890333      262.224655  1.449497e+06  ...   \n",
       "min               -91.000000       47.000000  9.200000e+01  ...   \n",
       "25%                 0.000000       84.500000  5.757992e+05  ...   \n",
       "50%                10.000000      199.000000  1.761343e+06  ...   \n",
       "75%                34.500000      411.000000  3.265508e+06  ...   \n",
       "max               971.000000     1089.000000  4.404792e+06  ...   \n",
       "\n",
       "        positiveIncrease  positiveTestsPeopleAntibody  positiveTestsViral  \\\n",
       "count         411.000000                   122.000000          411.000000   \n",
       "unique               NaN                          NaN                 NaN   \n",
       "top                  NaN                          NaN                 NaN   \n",
       "freq                 NaN                          NaN                 NaN   \n",
       "mean         1438.822384                 13242.663934       206835.328467   \n",
       "std          1836.895292                  1121.706732       192159.733119   \n",
       "min         -7757.000000                 11842.000000            0.000000   \n",
       "25%           232.000000                 12193.000000        83805.000000   \n",
       "50%           669.000000                 12915.000000       150223.000000   \n",
       "75%          2036.500000                 14275.000000       259444.000000   \n",
       "max          9003.000000                 15425.000000       668145.000000   \n",
       "\n",
       "            recovered  totalTestResults  totalTestResultsIncrease  \\\n",
       "count      284.000000      4.110000e+02                411.000000   \n",
       "unique            NaN               NaN                       NaN   \n",
       "top               NaN               NaN                       NaN   \n",
       "freq              NaN               NaN                       NaN   \n",
       "mean    184355.890845      4.480452e+06              40938.077859   \n",
       "std     126671.341160      5.064169e+06              38421.004316   \n",
       "min      78108.000000      1.000000e+00                  0.000000   \n",
       "25%      99021.000000      3.944020e+05               7414.000000   \n",
       "50%     118892.000000      1.853032e+06              22176.000000   \n",
       "75%     229910.000000      8.065778e+06              71320.000000   \n",
       "max     508745.000000      1.682555e+07             143342.000000   \n",
       "\n",
       "        totalTestsPeopleAntibody  totalTestsPeopleAntigen  \\\n",
       "count                 279.000000               208.000000   \n",
       "unique                       NaN                      NaN   \n",
       "top                          NaN                      NaN   \n",
       "freq                         NaN                      NaN   \n",
       "mean               117576.043011            277565.307692   \n",
       "std                 28315.933825            158647.623123   \n",
       "min                 46565.000000             62738.000000   \n",
       "25%                101961.000000            136166.500000   \n",
       "50%                124340.000000            248248.000000   \n",
       "75%                139022.000000            417204.250000   \n",
       "max                156185.000000            580372.000000   \n",
       "\n",
       "        totalTestsPeopleViral  totalTestsPeopleViralIncrease  \n",
       "count            2.990000e+02                     411.000000  \n",
       "unique                    NaN                            NaN  \n",
       "top                       NaN                            NaN  \n",
       "freq                      NaN                            NaN  \n",
       "mean             2.516167e+06                   12077.554745  \n",
       "std              1.452953e+06                   21183.568231  \n",
       "min              4.014960e+05                       0.000000  \n",
       "25%              1.118648e+06                       0.000000  \n",
       "50%              2.380392e+06                   11350.000000  \n",
       "75%              3.859957e+06                   17737.000000  \n",
       "max              4.963875e+06                  401496.000000  \n",
       "\n",
       "[11 rows x 25 columns]"
      ]
     },
     "metadata": {},
     "output_type": "display_data"
    }
   ],
   "source": [
    "df.describe(include='all')"
   ]
  },
  {
   "cell_type": "code",
   "execution_count": 16,
   "id": "bf9744d2",
   "metadata": {},
   "outputs": [],
   "source": [
    "df['date'] =  pd.to_datetime(df['date'], infer_datetime_format=True)"
   ]
  },
  {
   "cell_type": "code",
   "execution_count": 17,
   "id": "e9c3b075",
   "metadata": {},
   "outputs": [
    {
     "data": {
      "text/plain": [
       "Text(0, 0.5, 'Date')"
      ]
     },
     "execution_count": 17,
     "metadata": {},
     "output_type": "execute_result"
    },
    {
     "data": {
      "image/png": "[encoded data removed]",
      "text/plain": [
       "<Figure size 640x480 with 1 Axes>"
      ]
     },
     "metadata": {},
     "output_type": "display_data"
    }
   ],
   "source": [
    "lines = df.plot.line(x='date', y='positiveIncrease', title='COVID-19 Positive Tests for Massachussetts (COVID-Tracking Project)')\n",
    "lines.set_xlabel(\"Number of Positive Tests\")\n",
    "lines.set_ylabel(\"Date\")"
   ]
  },
  {
   "cell_type": "code",
   "execution_count": 18,
   "id": "25e5175b",
   "metadata": {},
   "outputs": [],
   "source": [
    "# Remote the bad datapoint(s)\n",
    "\n",
    "rows_with_negative = df[df['positiveIncrease'] < 0]"
   ]
  },
  {
   "cell_type": "code",
   "execution_count": 19,
   "id": "fd0932fa",
   "metadata": {},
   "outputs": [],
   "source": [
    "df.loc[df['positiveIncrease'] < 0, ['positiveIncrease']] = 0"
   ]
  },
  {
   "cell_type": "code",
   "execution_count": 20,
   "id": "de95ee9b",
   "metadata": {},
   "outputs": [
    {
     "data": {
      "text/plain": [
       "Text(0, 0.5, 'Date')"
      ]
     },
     "execution_count": 20,
     "metadata": {},
     "output_type": "execute_result"
    },
    {
     "data": {
      "image/png": "[encoded data removed]",
      "text/plain": [
       "<Figure size 640x480 with 1 Axes>"
      ]
     },
     "metadata": {},
     "output_type": "display_data"
    }
   ],
   "source": [
    "lines = df.plot.line(x='date', y='positiveIncrease', title='COVID-19 Positive Tests for Massachussetts (COVID-Tracking Project)')\n",
    "lines.set_xlabel(\"Number of Positive Tests\")\n",
    "lines.set_ylabel(\"Date\")\n"
   ]
  },
  {
   "cell_type": "code",
   "execution_count": 21,
   "id": "5cf9b9f0",
   "metadata": {},
   "outputs": [
    {
     "data": {
      "text/plain": [
       "Text(0, 0.5, 'Date')"
      ]
     },
     "execution_count": 21,
     "metadata": {},
     "output_type": "execute_result"
    },
    {
     "data": {
      "image/png": "[encoded data removed]",
      "text/plain": [
       "<Figure size 640x480 with 1 Axes>"
      ]
     },
     "metadata": {},
     "output_type": "display_data"
    }
   ],
   "source": [
    "df.loc[df['negativeIncrease'] < 0, ['negativeIncrease']] = 0\n",
    "lines = df.plot.line(x='date', y='negativeIncrease', title='COVID-19 Negative Tests for Massachussetts (COVID-Tracking Project)')\n",
    "lines.set_xlabel(\"Number of Negative Tests\")\n",
    "lines.set_ylabel(\"Date\")"
   ]
  },
  {
   "cell_type": "code",
   "execution_count": 48,
   "id": "2800d7be",
   "metadata": {},
   "outputs": [],
   "source": [
    "df = df.drop(columns=['negativeTestsViral'])\n",
    "df = df.drop(columns=['positiveTestsPeopleAntibody'])"
   ]
  },
  {
   "cell_type": "code",
   "execution_count": 49,
   "id": "42e0737e",
   "metadata": {},
   "outputs": [
    {
     "data": {
      "image/png": "[encoded data removed]",
      "text/plain": [
       "<Figure size 432x288 with 2 Axes>"
      ]
     },
     "metadata": {
      "needs_background": "light"
     },
     "output_type": "display_data"
    },
    {
     "data": {
      "text/plain": [
       "<Figure size 720x792 with 0 Axes>"
      ]
     },
     "metadata": {},
     "output_type": "display_data"
    }
   ],
   "source": [
    "matrix = df.corr().round(2)\n",
    "x=matrix[['recovered','deathProbable','onVentilatorCurrently','totalTestsPeopleAntibody']]\n",
    "sns.heatmap(x, annot=True)\n",
    "f = plt.figure()\n",
    "f.set_figwidth(10)\n",
    "f.set_figheight(11)\n",
    "plt.show()"
   ]
  },
  {
   "cell_type": "code",
   "execution_count": 50,
   "id": "1b5557ff",
   "metadata": {},
   "outputs": [
    {
     "data": {
      "application/vnd.jupyter.widget-view+json": {
       "model_id": "0df9bcfac31e4b6e8860470f5e5f3f87"
      },
      "text/plain": [
       "          date    death  deathConfirmed  deathIncrease  deathProbable  \\\n",
       "0   2021-03-07  16417.0         16085.0             43         332.00   \n",
       "1   2021-03-06  16374.0         16044.0             52         330.00   \n",
       "2   2021-03-05  16322.0         15992.0             26         330.00   \n",
       "3   2021-03-04  16296.0         15967.0             44         329.00   \n",
       "4   2021-03-03  16252.0         15925.0             70         327.00   \n",
       "..         ...      ...             ...            ...            ...   \n",
       "406 2020-01-26      NaN             NaN              0         235.75   \n",
       "407 2020-01-25      NaN             NaN              0         235.75   \n",
       "408 2020-01-24      NaN             NaN              0         235.75   \n",
       "409 2020-01-23      NaN             NaN              0         235.75   \n",
       "410 2020-01-22      NaN             NaN              0         235.75   \n",
       "\n",
       "     hospitalizedCumulative  hospitalizedCurrently  hospitalizedIncrease  \\\n",
       "0                   19713.0                  665.0                     0   \n",
       "1                   19713.0                  687.0                     0   \n",
       "2                   19713.0                  716.0                     0   \n",
       "3                   19713.0                  741.0                     0   \n",
       "4                   19713.0                  755.0                   269   \n",
       "..                      ...                    ...                   ...   \n",
       "406                     NaN                    NaN                     0   \n",
       "407                     NaN                    NaN                     0   \n",
       "408                     NaN                    NaN                     0   \n",
       "409                     NaN                    NaN                     0   \n",
       "410                     NaN                    NaN                     0   \n",
       "\n",
       "     inIcuCurrently   negative  ...  positiveIncrease  positiveTestsViral  \\\n",
       "0             174.0  4404792.0  ...              1425              668145   \n",
       "1             176.0  4396764.0  ...              1722              666605   \n",
       "2             180.0  4388938.0  ...              1899              664893   \n",
       "3             168.0  4380031.0  ...              1567              662972   \n",
       "4             173.0  4371477.0  ...              1899              661370   \n",
       "..              ...        ...  ...               ...                 ...   \n",
       "406             NaN        NaN  ...                 0                   0   \n",
       "407             NaN        NaN  ...                 0                   0   \n",
       "408             NaN        NaN  ...                 0                   0   \n",
       "409             NaN        NaN  ...                 0                   0   \n",
       "410             NaN        NaN  ...                 0                   0   \n",
       "\n",
       "     recovered  totalTestResults  totalTestResultsIncrease  \\\n",
       "0     508745.0          16825551                     96578   \n",
       "1     508745.0          16728973                    100359   \n",
       "2     508745.0          16628614                    106263   \n",
       "3     508745.0          16522351                    102362   \n",
       "4     494740.0          16419989                    102052   \n",
       "..         ...               ...                       ...   \n",
       "406        NaN                 2                         0   \n",
       "407        NaN                 2                         0   \n",
       "408        NaN                 2                         0   \n",
       "409        NaN                 2                         1   \n",
       "410        NaN                 1                         0   \n",
       "\n",
       "     totalTestsPeopleAntibody  totalTestsPeopleAntigen  totalTestsPeopleViral  \\\n",
       "0               156185.000000            580372.000000              4963875.0   \n",
       "1               156185.000000            578153.000000              4954566.0   \n",
       "2               156185.000000            574434.000000              4945245.0   \n",
       "3               156185.000000            571445.000000              4934661.0   \n",
       "4               154697.000000            568678.000000              4924697.0   \n",
       "..                        ...                      ...                    ...   \n",
       "406             117576.043011            277565.307692                    NaN   \n",
       "407             117576.043011            277565.307692                    NaN   \n",
       "408             117576.043011            277565.307692                    NaN   \n",
       "409             117576.043011            277565.307692                    NaN   \n",
       "410             117576.043011            277565.307692                    NaN   \n",
       "\n",
       "     totalTestsPeopleViralIncrease  recovered_imputed  \n",
       "0                             9309      508745.000000  \n",
       "1                             9321      508745.000000  \n",
       "2                            10584      508745.000000  \n",
       "3                             9964      508745.000000  \n",
       "4                            10064      494740.000000  \n",
       "..                             ...                ...  \n",
       "406                              0      184355.890845  \n",
       "407                              0      184355.890845  \n",
       "408                              0      184355.890845  \n",
       "409                              0      184355.890845  \n",
       "410                              0      184355.890845  \n",
       "\n",
       "[411 rows x 24 columns]"
      ]
     },
     "metadata": {},
     "output_type": "display_data"
    }
   ],
   "source": [
    "imputer=KNNImputer(n_neighbors=5)\n",
    "df['totalTestsPeopleAntigen']=imputer.fit_transform(df[['totalTestsPeopleAntigen']])\n",
    "df['recovered_imputed']=imputer.fit_transform(df[['recovered']])\n",
    "df['deathProbable']=imputer.fit_transform(df[['deathProbable']])\n",
    "df['onVentilatorCurrently']=imputer.fit_transform(df[['onVentilatorCurrently']])\n",
    "df['totalTestsPeopleAntibody']=imputer.fit_transform(df[['totalTestsPeopleAntibody']])\n",
    "df"
   ]
  },
  {
   "cell_type": "code",
   "execution_count": 71,
   "id": "b7d68669",
   "metadata": {},
   "outputs": [
    {
     "name": "stderr",
     "output_type": "stream",
     "text": [
      "C:\\Users\\sneha\\Anaconda3\\envs\\bamboolib\\lib\\site-packages\\scipy\\stats\\stats.py:1713: FutureWarning:\n",
      "\n",
      "Using a non-tuple sequence for multidimensional indexing is deprecated; use `arr[tuple(seq)]` instead of `arr[seq]`. In the future this will be interpreted as an array index, `arr[np.array(seq)]`, which will result either in an error or a different result.\n",
      "\n"
     ]
    },
    {
     "data": {
      "text/plain": [
       "<AxesSubplot:xlabel='death'>"
      ]
     },
     "execution_count": 71,
     "metadata": {},
     "output_type": "execute_result"
    },
    {
     "data": {
      "image/png": "[encoded data removed]",
      "text/plain": [
       "<Figure size 432x288 with 1 Axes>"
      ]
     },
     "metadata": {
      "needs_background": "light"
     },
     "output_type": "display_data"
    }
   ],
   "source": [
    "sns.distplot(df['death'], hist=False, rug=True)"
   ]
  },
  {
   "cell_type": "code",
   "execution_count": 72,
   "id": "f4ceb8b8",
   "metadata": {},
   "outputs": [
    {
     "name": "stderr",
     "output_type": "stream",
     "text": [
      "C:\\Users\\sneha\\Anaconda3\\envs\\bamboolib\\lib\\site-packages\\scipy\\stats\\stats.py:1713: FutureWarning:\n",
      "\n",
      "Using a non-tuple sequence for multidimensional indexing is deprecated; use `arr[tuple(seq)]` instead of `arr[seq]`. In the future this will be interpreted as an array index, `arr[np.array(seq)]`, which will result either in an error or a different result.\n",
      "\n"
     ]
    },
    {
     "data": {
      "text/plain": [
       "<AxesSubplot:xlabel='deathIncrease'>"
      ]
     },
     "execution_count": 72,
     "metadata": {},
     "output_type": "execute_result"
    },
    {
     "data": {
      "image/png": "[encoded data removed]",
      "text/plain": [
       "<Figure size 432x288 with 1 Axes>"
      ]
     },
     "metadata": {
      "needs_background": "light"
     },
     "output_type": "display_data"
    }
   ],
   "source": [
    "sns.distplot(df['deathIncrease'], hist=False, rug=True)"
   ]
  },
  {
   "cell_type": "code",
   "execution_count": 75,
   "id": "1a8c834a",
   "metadata": {},
   "outputs": [
    {
     "name": "stderr",
     "output_type": "stream",
     "text": [
      "C:\\Users\\sneha\\Anaconda3\\envs\\bamboolib\\lib\\site-packages\\scipy\\stats\\stats.py:1713: FutureWarning:\n",
      "\n",
      "Using a non-tuple sequence for multidimensional indexing is deprecated; use `arr[tuple(seq)]` instead of `arr[seq]`. In the future this will be interpreted as an array index, `arr[np.array(seq)]`, which will result either in an error or a different result.\n",
      "\n"
     ]
    },
    {
     "data": {
      "text/plain": [
       "<AxesSubplot:xlabel='deathConfirmed'>"
      ]
     },
     "execution_count": 75,
     "metadata": {},
     "output_type": "execute_result"
    },
    {
     "data": {
      "image/png": "[encoded data removed]",
      "text/plain": [
       "<Figure size 432x288 with 1 Axes>"
      ]
     },
     "metadata": {
      "needs_background": "light"
     },
     "output_type": "display_data"
    }
   ],
   "source": [
    "sns.distplot(df['deathConfirmed'], hist=False, rug=True)"
   ]
  },
  {
   "cell_type": "code",
   "execution_count": 85,
   "id": "7f40d39c",
   "metadata": {},
   "outputs": [],
   "source": [
    "df['death'].fillna(df['death'].median(),inplace=True)\n",
    "df['deathIncrease'].fillna(method ='pad',inplace=True)\n",
    "df['deathConfirmed'].fillna(method ='pad',inplace=True)\n",
    "df['hospitalizedCumulative'].fillna(method ='pad',inplace=True)\n",
    "df['hospitalizedCurrently'].fillna(method ='pad',inplace=True)\n",
    "df['inIcuCurrently'].fillna(method ='pad',inplace=True)\n",
    "df['negative'].fillna(method ='pad',inplace=True)\n",
    "df['positive'].fillna(method ='pad',inplace=True)\n",
    "df['positiveCasesViral'].fillna(method ='pad',inplace=True)\n",
    "df['totalTestsPeopleViral'].fillna(method ='pad',inplace=True)"
   ]
  },
  {
   "cell_type": "code",
   "execution_count": 96,
   "id": "4525b81a",
   "metadata": {},
   "outputs": [],
   "source": [
    "import calendar\n",
    "df['year']=df['date'].dt.year\n",
    "df['month']=df['date'].dt.month\n",
    "df['day']=df['date'].dt.day\n",
    "df['day'] = df['day'].astype('string')\n",
    "df['month']=df['month'].apply(lambda x: calendar.month_abbr[x])"
   ]
  },
  {
   "cell_type": "code",
   "execution_count": 98,
   "id": "17fafed0",
   "metadata": {},
   "outputs": [
    {
     "data": {
      "application/vnd.jupyter.widget-view+json": {
       "model_id": "8652ee27aa814379879a4e24dee3c5e9"
      },
      "text/plain": [
       "              death  deathConfirmed  deathIncrease  deathProbable  \\\n",
       "count    411.000000      411.000000     411.000000     411.000000   \n",
       "mean    9026.124088     8466.223844      39.944039     235.750000   \n",
       "std     3734.110091     3515.098040      42.868879      34.667357   \n",
       "min        2.000000     4004.000000     -41.000000     136.000000   \n",
       "25%     8057.000000     4047.000000      11.000000     220.000000   \n",
       "50%     9180.000000     8582.000000      26.000000     235.750000   \n",
       "75%    10577.500000    10345.500000      55.000000     235.750000   \n",
       "max    16417.000000    16085.000000     252.000000     332.000000   \n",
       "\n",
       "       hospitalizedCumulative  hospitalizedCurrently  hospitalizedIncrease  \\\n",
       "count              411.000000             411.000000            411.000000   \n",
       "mean             10399.087591            1323.457421             47.963504   \n",
       "std               5983.966843             912.864906            102.890333   \n",
       "min                 61.000000             290.000000            -91.000000   \n",
       "25%               6564.500000             533.500000              0.000000   \n",
       "50%              12150.000000            1370.000000             10.000000   \n",
       "75%              13817.000000            1743.000000             34.500000   \n",
       "max              19713.000000            3977.000000            971.000000   \n",
       "\n",
       "       inIcuCurrently      negative  negativeIncrease  ...  \\\n",
       "count      411.000000  4.110000e+02        411.000000  ...   \n",
       "mean       427.216545  1.685874e+06      10717.255474  ...   \n",
       "std        362.463999  1.497755e+06       7124.581842  ...   \n",
       "min         47.000000  9.200000e+01          0.000000  ...   \n",
       "25%         96.000000  2.508700e+05       5763.500000  ...   \n",
       "50%        307.000000  1.289001e+06      10594.000000  ...   \n",
       "75%        917.500000  3.047594e+06      15478.500000  ...   \n",
       "max       1089.000000  4.404792e+06      37244.000000  ...   \n",
       "\n",
       "       positiveTestsViral      recovered  totalTestResults  \\\n",
       "count          411.000000     284.000000      4.110000e+02   \n",
       "mean        206835.328467  184355.890845      4.480452e+06   \n",
       "std         192159.733119  126671.341160      5.064169e+06   \n",
       "min              0.000000   78108.000000      1.000000e+00   \n",
       "25%          83805.000000   99021.000000      3.944020e+05   \n",
       "50%         150223.000000  118892.000000      1.853032e+06   \n",
       "75%         259444.000000  229910.000000      8.065778e+06   \n",
       "max         668145.000000  508745.000000      1.682555e+07   \n",
       "\n",
       "       totalTestResultsIncrease  totalTestsPeopleAntibody  \\\n",
       "count                411.000000                411.000000   \n",
       "mean               40938.077859             117576.043011   \n",
       "std                38421.004316              23316.392545   \n",
       "min                    0.000000              46565.000000   \n",
       "25%                 7414.000000             116386.500000   \n",
       "50%                22176.000000             117576.043011   \n",
       "75%                71320.000000             130696.000000   \n",
       "max               143342.000000             156185.000000   \n",
       "\n",
       "       totalTestsPeopleAntigen  totalTestsPeopleViral  \\\n",
       "count               411.000000           4.110000e+02   \n",
       "mean             277565.307692           1.939906e+06   \n",
       "std              112726.705373           1.556623e+06   \n",
       "min               62738.000000           4.014960e+05   \n",
       "25%              245180.500000           4.014960e+05   \n",
       "50%              277565.307692           1.402730e+06   \n",
       "75%              277565.307692           3.253266e+06   \n",
       "max              580372.000000           4.963875e+06   \n",
       "\n",
       "       totalTestsPeopleViralIncrease  recovered_imputed         year  \n",
       "count                     411.000000         411.000000   411.000000  \n",
       "mean                    12077.554745      184355.890845  2020.160584  \n",
       "std                     21183.568231      105239.713755     0.367594  \n",
       "min                         0.000000       78108.000000  2020.000000  \n",
       "25%                         0.000000      105769.000000  2020.000000  \n",
       "50%                     11350.000000      184355.890845  2020.000000  \n",
       "75%                     17737.000000      184355.890845  2020.000000  \n",
       "max                    401496.000000      508745.000000  2021.000000  \n",
       "\n",
       "[8 rows x 24 columns]"
      ]
     },
     "metadata": {},
     "output_type": "display_data"
    }
   ],
   "source": [
    "df.describe()"
   ]
  },
  {
   "cell_type": "code",
   "execution_count": 106,
   "id": "1214b578",
   "metadata": {},
   "outputs": [
    {
     "data": {
      "application/vnd.jupyter.widget-view+json": {
       "model_id": "67f19b17945c435db4f68167f6fe61c9"
      },
      "text/plain": [
       "          date    death  deathConfirmed  deathIncrease  deathProbable  \\\n",
       "0   2021-03-07  16417.0         16085.0             43         332.00   \n",
       "1   2021-03-06  16374.0         16044.0             52         330.00   \n",
       "2   2021-03-05  16322.0         15992.0             26         330.00   \n",
       "3   2021-03-04  16296.0         15967.0             44         329.00   \n",
       "4   2021-03-03  16252.0         15925.0             70         327.00   \n",
       "..         ...      ...             ...            ...            ...   \n",
       "406 2020-01-26   9180.0          4004.0              0         235.75   \n",
       "407 2020-01-25   9180.0          4004.0              0         235.75   \n",
       "408 2020-01-24   9180.0          4004.0              0         235.75   \n",
       "409 2020-01-23   9180.0          4004.0              0         235.75   \n",
       "410 2020-01-22   9180.0          4004.0              0         235.75   \n",
       "\n",
       "     hospitalizedCumulative  hospitalizedCurrently  hospitalizedIncrease  \\\n",
       "0                   19713.0                  665.0                     0   \n",
       "1                   19713.0                  687.0                     0   \n",
       "2                   19713.0                  716.0                     0   \n",
       "3                   19713.0                  741.0                     0   \n",
       "4                   19713.0                  755.0                   269   \n",
       "..                      ...                    ...                   ...   \n",
       "406                    61.0                 1370.0                     0   \n",
       "407                    61.0                 1370.0                     0   \n",
       "408                    61.0                 1370.0                     0   \n",
       "409                    61.0                 1370.0                     0   \n",
       "410                    61.0                 1370.0                     0   \n",
       "\n",
       "     inIcuCurrently   negative  ...  totalTestsPeopleAntibody  \\\n",
       "0             174.0  4404792.0  ...             156185.000000   \n",
       "1             176.0  4396764.0  ...             156185.000000   \n",
       "2             180.0  4388938.0  ...             156185.000000   \n",
       "3             168.0  4380031.0  ...             156185.000000   \n",
       "4             173.0  4371477.0  ...             154697.000000   \n",
       "..              ...        ...  ...                       ...   \n",
       "406           973.0       92.0  ...             117576.043011   \n",
       "407           973.0       92.0  ...             117576.043011   \n",
       "408           973.0       92.0  ...             117576.043011   \n",
       "409           973.0       92.0  ...             117576.043011   \n",
       "410           973.0       92.0  ...             117576.043011   \n",
       "\n",
       "     totalTestsPeopleAntigen  totalTestsPeopleViral  \\\n",
       "0              580372.000000              4963875.0   \n",
       "1              578153.000000              4954566.0   \n",
       "2              574434.000000              4945245.0   \n",
       "3              571445.000000              4934661.0   \n",
       "4              568678.000000              4924697.0   \n",
       "..                       ...                    ...   \n",
       "406            277565.307692               401496.0   \n",
       "407            277565.307692               401496.0   \n",
       "408            277565.307692               401496.0   \n",
       "409            277565.307692               401496.0   \n",
       "410            277565.307692               401496.0   \n",
       "\n",
       "     totalTestsPeopleViralIncrease  recovered_imputed  year  month  day  \\\n",
       "0                             9309      508745.000000  2021    Mar    7   \n",
       "1                             9321      508745.000000  2021    Mar    6   \n",
       "2                            10584      508745.000000  2021    Mar    5   \n",
       "3                             9964      508745.000000  2021    Mar    4   \n",
       "4                            10064      494740.000000  2021    Mar    3   \n",
       "..                             ...                ...   ...    ...  ...   \n",
       "406                              0      184355.890845  2020    Jan   26   \n",
       "407                              0      184355.890845  2020    Jan   25   \n",
       "408                              0      184355.890845  2020    Jan   24   \n",
       "409                              0      184355.890845  2020    Jan   23   \n",
       "410                              0      184355.890845  2020    Jan   22   \n",
       "\n",
       "     deathDecrease  hospitalizedDecreased  \n",
       "0              0.0                    0.0  \n",
       "1              0.0                    0.0  \n",
       "2              0.0                    0.0  \n",
       "3              0.0                    0.0  \n",
       "4              0.0                    0.0  \n",
       "..             ...                    ...  \n",
       "406            0.0                    0.0  \n",
       "407            0.0                    0.0  \n",
       "408            0.0                    0.0  \n",
       "409            0.0                    0.0  \n",
       "410            0.0                    0.0  \n",
       "\n",
       "[411 rows x 29 columns]"
      ]
     },
     "metadata": {},
     "output_type": "display_data"
    }
   ],
   "source": [
    "df['deathDecrease']=df['deathIncrease'][df['deathIncrease']<0]\n",
    "df[['deathDecrease']] = df[['deathDecrease']].fillna(0)\n",
    "df['hospitalizedDecreased']=df['hospitalizedIncrease'][df['hospitalizedIncrease']<0]\n",
    "df[['hospitalizedDecreased']] = df[['hospitalizedDecreased']].fillna(0)\n",
    "import pandas as pd; import numpy as np\n",
    "df['month'] = df['month'].astype('category')\n",
    "df['year'] = df['year'].astype('category')\n",
    "df"
   ]
  },
  {
   "cell_type": "code",
   "execution_count": 109,
   "id": "4c9f5c88",
   "metadata": {},
   "outputs": [],
   "source": [
    "from fastai.tabular.core import add_datepart"
   ]
  },
  {
   "cell_type": "code",
   "execution_count": 110,
   "id": "22a6a1f4",
   "metadata": {},
   "outputs": [],
   "source": [
    "df_1 = df.copy()"
   ]
  },
  {
   "cell_type": "code",
   "execution_count": 114,
   "id": "09f99dbb",
   "metadata": {},
   "outputs": [],
   "source": [
    "df_1 = add_datepart(df_1, 'date')"
   ]
  },
  {
   "cell_type": "code",
   "execution_count": 115,
   "id": "dbabcaaf",
   "metadata": {},
   "outputs": [
    {
     "data": {
      "application/vnd.jupyter.widget-view+json": {
       "model_id": "a7920482d8864496b493039f52b187f3"
      },
      "text/plain": [
       "       death  deathConfirmed  deathIncrease  deathProbable  \\\n",
       "0    16417.0         16085.0             43         332.00   \n",
       "1    16374.0         16044.0             52         330.00   \n",
       "2    16322.0         15992.0             26         330.00   \n",
       "3    16296.0         15967.0             44         329.00   \n",
       "4    16252.0         15925.0             70         327.00   \n",
       "..       ...             ...            ...            ...   \n",
       "406   9180.0          4004.0              0         235.75   \n",
       "407   9180.0          4004.0              0         235.75   \n",
       "408   9180.0          4004.0              0         235.75   \n",
       "409   9180.0          4004.0              0         235.75   \n",
       "410   9180.0          4004.0              0         235.75   \n",
       "\n",
       "     hospitalizedCumulative  hospitalizedCurrently  hospitalizedIncrease  \\\n",
       "0                   19713.0                  665.0                     0   \n",
       "1                   19713.0                  687.0                     0   \n",
       "2                   19713.0                  716.0                     0   \n",
       "3                   19713.0                  741.0                     0   \n",
       "4                   19713.0                  755.0                   269   \n",
       "..                      ...                    ...                   ...   \n",
       "406                    61.0                 1370.0                     0   \n",
       "407                    61.0                 1370.0                     0   \n",
       "408                    61.0                 1370.0                     0   \n",
       "409                    61.0                 1370.0                     0   \n",
       "410                    61.0                 1370.0                     0   \n",
       "\n",
       "     inIcuCurrently   negative  negativeIncrease  ...  Day  Dayofweek  \\\n",
       "0             174.0  4404792.0              8028  ...    7          6   \n",
       "1             176.0  4396764.0              7826  ...    6          5   \n",
       "2             180.0  4388938.0              8907  ...    5          4   \n",
       "3             168.0  4380031.0              8554  ...    4          3   \n",
       "4             173.0  4371477.0              8511  ...    3          2   \n",
       "..              ...        ...               ...  ...  ...        ...   \n",
       "406           973.0       92.0                 0  ...   26          6   \n",
       "407           973.0       92.0                 0  ...   25          5   \n",
       "408           973.0       92.0                 0  ...   24          4   \n",
       "409           973.0       92.0                 0  ...   23          3   \n",
       "410           973.0       92.0                 0  ...   22          2   \n",
       "\n",
       "     Dayofyear  Is_month_end  Is_month_start  Is_quarter_end  \\\n",
       "0           66         False           False           False   \n",
       "1           65         False           False           False   \n",
       "2           64         False           False           False   \n",
       "3           63         False           False           False   \n",
       "4           62         False           False           False   \n",
       "..         ...           ...             ...             ...   \n",
       "406         26         False           False           False   \n",
       "407         25         False           False           False   \n",
       "408         24         False           False           False   \n",
       "409         23         False           False           False   \n",
       "410         22         False           False           False   \n",
       "\n",
       "     Is_quarter_start  Is_year_end  Is_year_start       Elapsed  \n",
       "0               False        False          False  1.615075e+09  \n",
       "1               False        False          False  1.614989e+09  \n",
       "2               False        False          False  1.614902e+09  \n",
       "3               False        False          False  1.614816e+09  \n",
       "4               False        False          False  1.614730e+09  \n",
       "..                ...          ...            ...           ...  \n",
       "406             False        False          False  1.579997e+09  \n",
       "407             False        False          False  1.579910e+09  \n",
       "408             False        False          False  1.579824e+09  \n",
       "409             False        False          False  1.579738e+09  \n",
       "410             False        False          False  1.579651e+09  \n",
       "\n",
       "[411 rows x 41 columns]"
      ]
     },
     "metadata": {},
     "output_type": "display_data"
    }
   ],
   "source": [
    "df_1"
   ]
  },
  {
   "cell_type": "code",
   "execution_count": 112,
   "id": "9500ec4f",
   "metadata": {},
   "outputs": [
    {
     "data": {
      "application/vnd.jupyter.widget-view+json": {
       "model_id": "523b8c5133294fceab0d9fe085a568bd"
      },
      "text/plain": [
       "       death  deathConfirmed  deathIncrease  deathProbable  \\\n",
       "0    16417.0         16085.0             43         332.00   \n",
       "1    16374.0         16044.0             52         330.00   \n",
       "2    16322.0         15992.0             26         330.00   \n",
       "3    16296.0         15967.0             44         329.00   \n",
       "4    16252.0         15925.0             70         327.00   \n",
       "..       ...             ...            ...            ...   \n",
       "406   9180.0          4004.0              0         235.75   \n",
       "407   9180.0          4004.0              0         235.75   \n",
       "408   9180.0          4004.0              0         235.75   \n",
       "409   9180.0          4004.0              0         235.75   \n",
       "410   9180.0          4004.0              0         235.75   \n",
       "\n",
       "     hospitalizedCumulative  hospitalizedCurrently  hospitalizedIncrease  \\\n",
       "0                   19713.0                  665.0                     0   \n",
       "1                   19713.0                  687.0                     0   \n",
       "2                   19713.0                  716.0                     0   \n",
       "3                   19713.0                  741.0                     0   \n",
       "4                   19713.0                  755.0                   269   \n",
       "..                      ...                    ...                   ...   \n",
       "406                    61.0                 1370.0                     0   \n",
       "407                    61.0                 1370.0                     0   \n",
       "408                    61.0                 1370.0                     0   \n",
       "409                    61.0                 1370.0                     0   \n",
       "410                    61.0                 1370.0                     0   \n",
       "\n",
       "     inIcuCurrently   negative  negativeIncrease  ...  Day  Dayofweek  \\\n",
       "0             174.0  4404792.0              8028  ...    7          6   \n",
       "1             176.0  4396764.0              7826  ...    6          5   \n",
       "2             180.0  4388938.0              8907  ...    5          4   \n",
       "3             168.0  4380031.0              8554  ...    4          3   \n",
       "4             173.0  4371477.0              8511  ...    3          2   \n",
       "..              ...        ...               ...  ...  ...        ...   \n",
       "406           973.0       92.0                 0  ...   26          6   \n",
       "407           973.0       92.0                 0  ...   25          5   \n",
       "408           973.0       92.0                 0  ...   24          4   \n",
       "409           973.0       92.0                 0  ...   23          3   \n",
       "410           973.0       92.0                 0  ...   22          2   \n",
       "\n",
       "     Dayofyear  Is_month_end  Is_month_start  Is_quarter_end  \\\n",
       "0           66         False           False           False   \n",
       "1           65         False           False           False   \n",
       "2           64         False           False           False   \n",
       "3           63         False           False           False   \n",
       "4           62         False           False           False   \n",
       "..         ...           ...             ...             ...   \n",
       "406         26         False           False           False   \n",
       "407         25         False           False           False   \n",
       "408         24         False           False           False   \n",
       "409         23         False           False           False   \n",
       "410         22         False           False           False   \n",
       "\n",
       "     Is_quarter_start  Is_year_end  Is_year_start       Elapsed  \n",
       "0               False        False          False  1.615075e+09  \n",
       "1               False        False          False  1.614989e+09  \n",
       "2               False        False          False  1.614902e+09  \n",
       "3               False        False          False  1.614816e+09  \n",
       "4               False        False          False  1.614730e+09  \n",
       "..                ...          ...            ...           ...  \n",
       "406             False        False          False  1.579997e+09  \n",
       "407             False        False          False  1.579910e+09  \n",
       "408             False        False          False  1.579824e+09  \n",
       "409             False        False          False  1.579738e+09  \n",
       "410             False        False          False  1.579651e+09  \n",
       "\n",
       "[411 rows x 41 columns]"
      ]
     },
     "metadata": {},
     "output_type": "display_data"
    }
   ],
   "source": [
    "import pandas as pd; import numpy as np\n",
    "df_1['Year'] = df_1['Year'].astype('category')\n",
    "df_1['month'] = df_1['month'].astype('category')\n",
    "df_1['year'] = df_1['year'].astype('category')\n",
    "df_1"
   ]
  },
  {
   "cell_type": "code",
   "execution_count": 116,
   "id": "9c65614e",
   "metadata": {},
   "outputs": [
    {
     "data": {
      "text/plain": [
       "<AxesSubplot:xlabel='Year', ylabel='positive'>"
      ]
     },
     "execution_count": 116,
     "metadata": {},
     "output_type": "execute_result"
    },
    {
     "data": {
      "image/png": "[encoded data removed]",
      "text/plain": [
       "<Figure size 432x288 with 1 Axes>"
      ]
     },
     "metadata": {
      "needs_background": "light"
     },
     "output_type": "display_data"
    }
   ],
   "source": [
    "sns.barplot(x = 'Year',\n",
    "            y = 'positive',\n",
    "            data = df_1)"
   ]
  },
  {
   "cell_type": "code",
   "execution_count": 124,
   "id": "be593700",
   "metadata": {},
   "outputs": [
    {
     "data": {
      "application/vnd.plotly.v1+json": {
       "config": {
        "plotlyServerURL": "https://plot.ly"
       },
       "data": [
        {
         "alignmentgroup": "True",
         "bingroup": "x",
         "histfunc": "sum",
         "hovertemplate": "Year=2021<br>Dayofweek=6<br>month=%{x}<br>sum of positive=%{y}<extra></extra>",
         "legendgroup": "2021",
         "marker": {
          "color": "#636efa"
         },
         "name": "2021",
         "offsetgroup": "2021",
         "orientation": "v",
         "showlegend": true,
         "type": "histogram",
         "x": [
          "Mar",
          "Feb",
          "Feb",
          "Feb",
          "Feb",
          "Jan",
          "Jan",
          "Jan",
          "Jan",
          "Jan"
         ],
         "xaxis": "x7",
         "y": [
          591356,
          581148,
          569284,
          557777,
          543934,
          524025,
          500037,
          470140,
          432791,
          387662
         ],
         "yaxis": "y7"
        },
        {
         "alignmentgroup": "True",
         "bingroup": "x",
         "histfunc": "sum",
         "hovertemplate": "Year=2021<br>Dayofweek=5<br>month=%{x}<br>sum of positive=%{y}<extra></extra>",
         "legendgroup": "2021",
         "marker": {
          "color": "#636efa"
         },
         "name": "2021",
         "offsetgroup": "2021",
         "orientation": "v",
         "showlegend": false,
         "type": "histogram",
         "x": [
          "Mar",
          "Feb",
          "Feb",
          "Feb",
          "Feb",
          "Jan",
          "Jan",
          "Jan",
          "Jan",
          "Jan"
         ],
         "xaxis": "x6",
         "y": [
          589931,
          579680,
          567764,
          555895,
          540827,
          521360,
          496093,
          465726,
          427135,
          384181
         ],
         "yaxis": "y6"
        },
        {
         "alignmentgroup": "True",
         "bingroup": "x",
         "histfunc": "sum",
         "hovertemplate": "Year=2021<br>Dayofweek=4<br>month=%{x}<br>sum of positive=%{y}<extra></extra>",
         "legendgroup": "2021",
         "marker": {
          "color": "#636efa"
         },
         "name": "2021",
         "offsetgroup": "2021",
         "orientation": "v",
         "showlegend": false,
         "type": "histogram",
         "x": [
          "Mar",
          "Feb",
          "Feb",
          "Feb",
          "Feb",
          "Jan",
          "Jan",
          "Jan",
          "Jan",
          "Jan"
         ],
         "xaxis": "x5",
         "y": [
          588209,
          577980,
          565794,
          553812,
          537208,
          517252,
          491452,
          459927,
          419721,
          375178
         ],
         "yaxis": "y5"
        },
        {
         "alignmentgroup": "True",
         "bingroup": "x",
         "histfunc": "sum",
         "hovertemplate": "Year=2021<br>Dayofweek=3<br>month=%{x}<br>sum of positive=%{y}<extra></extra>",
         "legendgroup": "2021",
         "marker": {
          "color": "#636efa"
         },
         "name": "2021",
         "offsetgroup": "2021",
         "orientation": "v",
         "showlegend": false,
         "type": "histogram",
         "x": [
          "Mar",
          "Feb",
          "Feb",
          "Feb",
          "Feb",
          "Jan",
          "Jan",
          "Jan",
          "Jan"
         ],
         "xaxis": "x4",
         "y": [
          586310,
          575993,
          563976,
          551396,
          533921,
          514134,
          486180,
          454402,
          411601
         ],
         "yaxis": "y4"
        },
        {
         "alignmentgroup": "True",
         "bingroup": "x",
         "histfunc": "sum",
         "hovertemplate": "Year=2021<br>Dayofweek=2<br>month=%{x}<br>sum of positive=%{y}<extra></extra>",
         "legendgroup": "2021",
         "marker": {
          "color": "#636efa"
         },
         "name": "2021",
         "offsetgroup": "2021",
         "orientation": "v",
         "showlegend": false,
         "type": "histogram",
         "x": [
          "Mar",
          "Feb",
          "Feb",
          "Feb",
          "Feb",
          "Jan",
          "Jan",
          "Jan",
          "Jan"
         ],
         "xaxis": "x3",
         "y": [
          584743,
          573885,
          561936,
          548946,
          531117,
          509503,
          481040,
          448447,
          404053
         ],
         "yaxis": "y3"
        },
        {
         "alignmentgroup": "True",
         "bingroup": "x",
         "histfunc": "sum",
         "hovertemplate": "Year=2021<br>Dayofweek=1<br>month=%{x}<br>sum of positive=%{y}<extra></extra>",
         "legendgroup": "2021",
         "marker": {
          "color": "#636efa"
         },
         "name": "2021",
         "offsetgroup": "2021",
         "orientation": "v",
         "showlegend": false,
         "type": "histogram",
         "x": [
          "Mar",
          "Feb",
          "Feb",
          "Feb",
          "Feb",
          "Jan",
          "Jan",
          "Jan",
          "Jan"
         ],
         "xaxis": "x2",
         "y": [
          582844,
          571783,
          560576,
          546896,
          528662,
          506183,
          476526,
          442529,
          397202
         ],
         "yaxis": "y2"
        },
        {
         "alignmentgroup": "True",
         "bingroup": "x",
         "histfunc": "sum",
         "hovertemplate": "Year=2021<br>Dayofweek=0<br>month=%{x}<br>sum of positive=%{y}<extra></extra>",
         "legendgroup": "2021",
         "marker": {
          "color": "#636efa"
         },
         "name": "2021",
         "offsetgroup": "2021",
         "orientation": "v",
         "showlegend": false,
         "type": "histogram",
         "x": [
          "Mar",
          "Feb",
          "Feb",
          "Feb",
          "Feb",
          "Jan",
          "Jan",
          "Jan",
          "Jan"
         ],
         "xaxis": "x",
         "y": [
          582543,
          570546,
          559350,
          545303,
          526423,
          503688,
          473441,
          437042,
          392568
         ],
         "yaxis": "y"
        },
        {
         "alignmentgroup": "True",
         "bingroup": "x",
         "histfunc": "sum",
         "hovertemplate": "Year=2020<br>Dayofweek=6<br>month=%{x}<br>sum of positive=%{y}<extra></extra>",
         "legendgroup": "2020",
         "marker": {
          "color": "#EF553B"
         },
         "name": "2020",
         "offsetgroup": "2020",
         "orientation": "v",
         "showlegend": true,
         "type": "histogram",
         "x": [
          "Dec",
          "Dec",
          "Dec",
          "Dec",
          "Nov",
          "Nov",
          "Nov",
          "Nov",
          "Nov",
          "Oct",
          "Oct",
          "Oct",
          "Oct",
          "Sep",
          "Sep",
          "Sep",
          "Sep",
          "Aug",
          "Aug",
          "Aug",
          "Aug",
          "Aug",
          "Jul",
          "Jul",
          "Jul",
          "Jul",
          "Jun",
          "Jun",
          "Jun",
          "Jun",
          "May",
          "May",
          "May",
          "May",
          "May",
          "Apr",
          "Apr",
          "Apr",
          "Apr",
          "Mar",
          "Mar",
          "Mar",
          "Mar",
          "Mar",
          "Feb",
          "Feb",
          "Feb",
          "Feb",
          "Jan"
         ],
         "xaxis": "x7",
         "y": [
          352736,
          323531,
          290578,
          256844,
          224964,
          206850,
          188275,
          171399,
          159707,
          150565,
          143660,
          138903,
          134947,
          130642,
          127540,
          124826,
          122562,
          128229,
          125360,
          123200,
          121040,
          118458,
          115637,
          113534,
          111597,
          109974,
          108667,
          107061,
          105603,
          103436,
          96965,
          92675,
          86010,
          77793,
          68087,
          54938,
          38077,
          25475,
          12500,
          4955,
          646,
          138,
          13,
          2,
          2,
          2,
          2,
          2,
          2
         ],
         "yaxis": "y7"
        },
        {
         "alignmentgroup": "True",
         "bingroup": "x",
         "histfunc": "sum",
         "hovertemplate": "Year=2020<br>Dayofweek=5<br>month=%{x}<br>sum of positive=%{y}<extra></extra>",
         "legendgroup": "2020",
         "marker": {
          "color": "#EF553B"
         },
         "name": "2020",
         "offsetgroup": "2020",
         "orientation": "v",
         "showlegend": false,
         "type": "histogram",
         "x": [
          "Dec",
          "Dec",
          "Dec",
          "Dec",
          "Nov",
          "Nov",
          "Nov",
          "Nov",
          "Oct",
          "Oct",
          "Oct",
          "Oct",
          "Oct",
          "Sep",
          "Sep",
          "Sep",
          "Sep",
          "Aug",
          "Aug",
          "Aug",
          "Aug",
          "Aug",
          "Jul",
          "Jul",
          "Jul",
          "Jul",
          "Jun",
          "Jun",
          "Jun",
          "Jun",
          "May",
          "May",
          "May",
          "May",
          "May",
          "Apr",
          "Apr",
          "Apr",
          "Apr",
          "Mar",
          "Mar",
          "Mar",
          "Mar",
          "Feb",
          "Feb",
          "Feb",
          "Feb",
          "Feb",
          "Jan"
         ],
         "xaxis": "x6",
         "y": [
          349602,
          319270,
          285725,
          252017,
          222469,
          204155,
          186142,
          169576,
          158576,
          149488,
          142930,
          138340,
          134303,
          130050,
          127181,
          124540,
          122196,
          128030,
          125360,
          122897,
          120711,
          118040,
          115268,
          113238,
          111398,
          109838,
          108443,
          106936,
          105395,
          103132,
          96301,
          91662,
          84933,
          76743,
          66263,
          53348,
          36372,
          22860,
          11736,
          4257,
          525,
          138,
          13,
          2,
          2,
          2,
          2,
          2,
          2
         ],
         "yaxis": "y6"
        },
        {
         "alignmentgroup": "True",
         "bingroup": "x",
         "histfunc": "sum",
         "hovertemplate": "Year=2020<br>Dayofweek=4<br>month=%{x}<br>sum of positive=%{y}<extra></extra>",
         "legendgroup": "2020",
         "marker": {
          "color": "#EF553B"
         },
         "name": "2020",
         "offsetgroup": "2020",
         "orientation": "v",
         "showlegend": false,
         "type": "histogram",
         "x": [
          "Dec",
          "Dec",
          "Dec",
          "Dec",
          "Nov",
          "Nov",
          "Nov",
          "Nov",
          "Oct",
          "Oct",
          "Oct",
          "Oct",
          "Oct",
          "Sep",
          "Sep",
          "Sep",
          "Sep",
          "Aug",
          "Aug",
          "Aug",
          "Aug",
          "Jul",
          "Jul",
          "Jul",
          "Jul",
          "Jul",
          "Jun",
          "Jun",
          "Jun",
          "Jun",
          "May",
          "May",
          "May",
          "May",
          "May",
          "Apr",
          "Apr",
          "Apr",
          "Apr",
          "Mar",
          "Mar",
          "Mar",
          "Mar",
          "Feb",
          "Feb",
          "Feb",
          "Feb",
          "Jan",
          "Jan"
         ],
         "xaxis": "x5",
         "y": [
          341925,
          314926,
          280436,
          246398,
          219252,
          200949,
          183095,
          167274,
          157146,
          148285,
          142346,
          137701,
          133631,
          129481,
          126582,
          123986,
          121758,
          127584,
          125216,
          122531,
          120291,
          117612,
          114985,
          112879,
          111110,
          109628,
          108070,
          106650,
          105059,
          102557,
          95512,
          90889,
          83421,
          75333,
          64311,
          46023,
          34402,
          20974,
          10402,
          3240,
          413,
          123,
          8,
          2,
          2,
          2,
          2,
          2,
          2
         ],
         "yaxis": "y5"
        },
        {
         "alignmentgroup": "True",
         "bingroup": "x",
         "histfunc": "sum",
         "hovertemplate": "Year=2020<br>Dayofweek=3<br>month=%{x}<br>sum of positive=%{y}<extra></extra>",
         "legendgroup": "2020",
         "marker": {
          "color": "#EF553B"
         },
         "name": "2020",
         "offsetgroup": "2020",
         "orientation": "v",
         "showlegend": false,
         "type": "histogram",
         "x": [
          "Dec",
          "Dec",
          "Dec",
          "Dec",
          "Dec",
          "Nov",
          "Nov",
          "Nov",
          "Nov",
          "Oct",
          "Oct",
          "Oct",
          "Oct",
          "Oct",
          "Sep",
          "Sep",
          "Sep",
          "Sep",
          "Aug",
          "Aug",
          "Aug",
          "Aug",
          "Jul",
          "Jul",
          "Jul",
          "Jul",
          "Jul",
          "Jun",
          "Jun",
          "Jun",
          "Jun",
          "May",
          "May",
          "May",
          "May",
          "Apr",
          "Apr",
          "Apr",
          "Apr",
          "Apr",
          "Mar",
          "Mar",
          "Mar",
          "Mar",
          "Feb",
          "Feb",
          "Feb",
          "Feb",
          "Jan",
          "Jan"
         ],
         "xaxis": "x4",
         "y": [
          375178,
          341925,
          309247,
          274781,
          240907,
          214594,
          198550,
          180189,
          165161,
          155564,
          147215,
          141579,
          136936,
          132870,
          128993,
          126128,
          123546,
          121546,
          127124,
          124728,
          122319,
          119874,
          117098,
          114647,
          112581,
          110897,
          109338,
          107837,
          106422,
          104667,
          102063,
          94895,
          90084,
          82182,
          73721,
          62205,
          46023,
          32181,
          18941,
          8966,
          2417,
          328,
          95,
          2,
          2,
          2,
          2,
          2,
          2,
          2
         ],
         "yaxis": "y4"
        },
        {
         "alignmentgroup": "True",
         "bingroup": "x",
         "histfunc": "sum",
         "hovertemplate": "Year=2020<br>Dayofweek=2<br>month=%{x}<br>sum of positive=%{y}<extra></extra>",
         "legendgroup": "2020",
         "marker": {
          "color": "#EF553B"
         },
         "name": "2020",
         "offsetgroup": "2020",
         "orientation": "v",
         "showlegend": false,
         "type": "histogram",
         "x": [
          "Dec",
          "Dec",
          "Dec",
          "Dec",
          "Dec",
          "Nov",
          "Nov",
          "Nov",
          "Nov",
          "Oct",
          "Oct",
          "Oct",
          "Oct",
          "Sep",
          "Sep",
          "Sep",
          "Sep",
          "Sep",
          "Aug",
          "Aug",
          "Aug",
          "Aug",
          "Jul",
          "Jul",
          "Jul",
          "Jul",
          "Jul",
          "Jun",
          "Jun",
          "Jun",
          "Jun",
          "May",
          "May",
          "May",
          "May",
          "Apr",
          "Apr",
          "Apr",
          "Apr",
          "Apr",
          "Mar",
          "Mar",
          "Mar",
          "Mar",
          "Feb",
          "Feb",
          "Feb",
          "Feb",
          "Jan",
          "Jan"
         ],
         "xaxis": "x3",
         "y": [
          367918,
          335988,
          304112,
          269412,
          234232,
          214594,
          195868,
          177541,
          163299,
          154218,
          146166,
          140992,
          136492,
          132116,
          128512,
          125699,
          123143,
          121131,
          126756,
          124415,
          122000,
          119643,
          116684,
          114320,
          112347,
          110602,
          109143,
          107611,
          106151,
          104156,
          101592,
          94220,
          88970,
          80497,
          72025,
          60265,
          42944,
          29918,
          16790,
          7738,
          1838,
          256,
          92,
          2,
          2,
          2,
          2,
          2,
          2,
          2
         ],
         "yaxis": "y3"
        },
        {
         "alignmentgroup": "True",
         "bingroup": "x",
         "histfunc": "sum",
         "hovertemplate": "Year=2020<br>Dayofweek=1<br>month=%{x}<br>sum of positive=%{y}<extra></extra>",
         "legendgroup": "2020",
         "marker": {
          "color": "#EF553B"
         },
         "name": "2020",
         "offsetgroup": "2020",
         "orientation": "v",
         "showlegend": false,
         "type": "histogram",
         "x": [
          "Dec",
          "Dec",
          "Dec",
          "Dec",
          "Dec",
          "Nov",
          "Nov",
          "Nov",
          "Nov",
          "Oct",
          "Oct",
          "Oct",
          "Oct",
          "Sep",
          "Sep",
          "Sep",
          "Sep",
          "Sep",
          "Aug",
          "Aug",
          "Aug",
          "Aug",
          "Jul",
          "Jul",
          "Jul",
          "Jul",
          "Jun",
          "Jun",
          "Jun",
          "Jun",
          "Jun",
          "May",
          "May",
          "May",
          "May",
          "Apr",
          "Apr",
          "Apr",
          "Apr",
          "Mar",
          "Mar",
          "Mar",
          "Mar",
          "Mar",
          "Feb",
          "Feb",
          "Feb",
          "Feb",
          "Jan"
         ],
         "xaxis": "x2",
         "y": [
          361079,
          331174,
          298160,
          263447,
          229205,
          211199,
          192964,
          174881,
          161585,
          153037,
          145464,
          140412,
          135957,
          131584,
          127969,
          125393,
          122962,
          128888,
          126420,
          123588,
          121707,
          119203,
          116182,
          114033,
          112130,
          110338,
          108882,
          107439,
          105885,
          103889,
          101163,
          93693,
          87925,
          79332,
          70271,
          58302,
          41199,
          28163,
          15202,
          6620,
          1159,
          218,
          92,
          2,
          2,
          2,
          2,
          2,
          2
         ],
         "yaxis": "y2"
        },
        {
         "alignmentgroup": "True",
         "bingroup": "x",
         "histfunc": "sum",
         "hovertemplate": "Year=2020<br>Dayofweek=0<br>month=%{x}<br>sum of positive=%{y}<extra></extra>",
         "legendgroup": "2020",
         "marker": {
          "color": "#EF553B"
         },
         "name": "2020",
         "offsetgroup": "2020",
         "orientation": "v",
         "showlegend": false,
         "type": "histogram",
         "x": [
          "Dec",
          "Dec",
          "Dec",
          "Dec",
          "Nov",
          "Nov",
          "Nov",
          "Nov",
          "Nov",
          "Oct",
          "Oct",
          "Oct",
          "Oct",
          "Sep",
          "Sep",
          "Sep",
          "Sep",
          "Aug",
          "Aug",
          "Aug",
          "Aug",
          "Aug",
          "Jul",
          "Jul",
          "Jul",
          "Jul",
          "Jun",
          "Jun",
          "Jun",
          "Jun",
          "Jun",
          "May",
          "May",
          "May",
          "May",
          "Apr",
          "Apr",
          "Apr",
          "Apr",
          "Mar",
          "Mar",
          "Mar",
          "Mar",
          "Mar",
          "Feb",
          "Feb",
          "Feb",
          "Feb",
          "Jan"
         ],
         "xaxis": "x",
         "y": [
          356934,
          327374,
          294231,
          259325,
          226132,
          208623,
          190439,
          172727,
          160549,
          151777,
          144488,
          139663,
          135462,
          131072,
          127796,
          125080,
          122791,
          128533,
          126022,
          123413,
          121315,
          118657,
          115926,
          113789,
          111827,
          110137,
          108768,
          107210,
          105690,
          103626,
          100805,
          93271,
          87052,
          78462,
          69087,
          56462,
          38077,
          26867,
          13837,
          5752,
          777,
          164,
          41,
          2,
          2,
          2,
          2,
          2,
          2
         ],
         "yaxis": "y"
        }
       ],
       "layout": {
        "annotations": [
         {
          "font": {},
          "showarrow": false,
          "text": "Dayofweek=0",
          "textangle": 90,
          "x": 0.98,
          "xanchor": "left",
          "xref": "paper",
          "y": 0.05857142857142857,
          "yanchor": "middle",
          "yref": "paper"
         },
         {
          "font": {},
          "showarrow": false,
          "text": "Dayofweek=1",
          "textangle": 90,
          "x": 0.98,
          "xanchor": "left",
          "xref": "paper",
          "y": 0.2057142857142857,
          "yanchor": "middle",
          "yref": "paper"
         },
         {
          "font": {},
          "showarrow": false,
          "text": "Dayofweek=2",
          "textangle": 90,
          "x": 0.98,
          "xanchor": "left",
          "xref": "paper",
          "y": 0.35285714285714287,
          "yanchor": "middle",
          "yref": "paper"
         },
         {
          "font": {},
          "showarrow": false,
          "text": "Dayofweek=3",
          "textangle": 90,
          "x": 0.98,
          "xanchor": "left",
          "xref": "paper",
          "y": 0.49999999999999994,
          "yanchor": "middle",
          "yref": "paper"
         },
         {
          "font": {},
          "showarrow": false,
          "text": "Dayofweek=4",
          "textangle": 90,
          "x": 0.98,
          "xanchor": "left",
          "xref": "paper",
          "y": 0.647142857142857,
          "yanchor": "middle",
          "yref": "paper"
         },
         {
          "font": {},
          "showarrow": false,
          "text": "Dayofweek=5",
          "textangle": 90,
          "x": 0.98,
          "xanchor": "left",
          "xref": "paper",
          "y": 0.7942857142857143,
          "yanchor": "middle",
          "yref": "paper"
         },
         {
          "font": {},
          "showarrow": false,
          "text": "Dayofweek=6",
          "textangle": 90,
          "x": 0.98,
          "xanchor": "left",
          "xref": "paper",
          "y": 0.9414285714285713,
          "yanchor": "middle",
          "yref": "paper"
         }
        ],
        "barmode": "relative",
        "height": 1000,
        "legend": {
         "title": {
          "text": "Year"
         },
         "tracegroupgap": 0
        },
        "template": {
         "data": {
          "bar": [
           {
            "error_x": {
             "color": "#2a3f5f"
            },
            "error_y": {
             "color": "#2a3f5f"
            },
            "marker": {
             "line": {
              "color": "#E5ECF6",
              "width": 0.5
             }
            },
            "type": "bar"
           }
          ],
          "barpolar": [
           {
            "marker": {
             "line": {
              "color": "#E5ECF6",
              "width": 0.5
             }
            },
            "type": "barpolar"
           }
          ],
          "carpet": [
           {
            "aaxis": {
             "endlinecolor": "#2a3f5f",
             "gridcolor": "white",
             "linecolor": "white",
             "minorgridcolor": "white",
             "startlinecolor": "#2a3f5f"
            },
            "baxis": {
             "endlinecolor": "#2a3f5f",
             "gridcolor": "white",
             "linecolor": "white",
             "minorgridcolor": "white",
             "startlinecolor": "#2a3f5f"
            },
            "type": "carpet"
           }
          ],
          "choropleth": [
           {
            "colorbar": {
             "outlinewidth": 0,
             "ticks": ""
            },
            "type": "choropleth"
           }
          ],
          "contour": [
           {
            "colorbar": {
             "outlinewidth": 0,
             "ticks": ""
            },
            "colorscale": [
             [
              0,
              "#0d0887"
             ],
             [
              0.1111111111111111,
              "#46039f"
             ],
             [
              0.2222222222222222,
              "#7201a8"
             ],
             [
              0.3333333333333333,
              "#9c179e"
             ],
             [
              0.4444444444444444,
              "#bd3786"
             ],
             [
              0.5555555555555556,
              "#d8576b"
             ],
             [
              0.6666666666666666,
              "#ed7953"
             ],
             [
              0.7777777777777778,
              "#fb9f3a"
             ],
             [
              0.8888888888888888,
              "#fdca26"
             ],
             [
              1,
              "#f0f921"
             ]
            ],
            "type": "contour"
           }
          ],
          "contourcarpet": [
           {
            "colorbar": {
             "outlinewidth": 0,
             "ticks": ""
            },
            "type": "contourcarpet"
           }
          ],
          "heatmap": [
           {
            "colorbar": {
             "outlinewidth": 0,
             "ticks": ""
            },
            "colorscale": [
             [
              0,
              "#0d0887"
             ],
             [
              0.1111111111111111,
              "#46039f"
             ],
             [
              0.2222222222222222,
              "#7201a8"
             ],
             [
              0.3333333333333333,
              "#9c179e"
             ],
             [
              0.4444444444444444,
              "#bd3786"
             ],
             [
              0.5555555555555556,
              "#d8576b"
             ],
             [
              0.6666666666666666,
              "#ed7953"
             ],
             [
              0.7777777777777778,
              "#fb9f3a"
             ],
             [
              0.8888888888888888,
              "#fdca26"
             ],
             [
              1,
              "#f0f921"
             ]
            ],
            "type": "heatmap"
           }
          ],
          "heatmapgl": [
           {
            "colorbar": {
             "outlinewidth": 0,
             "ticks": ""
            },
            "colorscale": [
             [
              0,
              "#0d0887"
             ],
             [
              0.1111111111111111,
              "#46039f"
             ],
             [
              0.2222222222222222,
              "#7201a8"
             ],
             [
              0.3333333333333333,
              "#9c179e"
             ],
             [
              0.4444444444444444,
              "#bd3786"
             ],
             [
              0.5555555555555556,
              "#d8576b"
             ],
             [
              0.6666666666666666,
              "#ed7953"
             ],
             [
              0.7777777777777778,
              "#fb9f3a"
             ],
             [
              0.8888888888888888,
              "#fdca26"
             ],
             [
              1,
              "#f0f921"
             ]
            ],
            "type": "heatmapgl"
           }
          ],
          "histogram": [
           {
            "marker": {
             "colorbar": {
              "outlinewidth": 0,
              "ticks": ""
             }
            },
            "type": "histogram"
           }
          ],
          "histogram2d": [
           {
            "colorbar": {
             "outlinewidth": 0,
             "ticks": ""
            },
            "colorscale": [
             [
              0,
              "#0d0887"
             ],
             [
              0.1111111111111111,
              "#46039f"
             ],
             [
              0.2222222222222222,
              "#7201a8"
             ],
             [
              0.3333333333333333,
              "#9c179e"
             ],
             [
              0.4444444444444444,
              "#bd3786"
             ],
             [
              0.5555555555555556,
              "#d8576b"
             ],
             [
              0.6666666666666666,
              "#ed7953"
             ],
             [
              0.7777777777777778,
              "#fb9f3a"
             ],
             [
              0.8888888888888888,
              "#fdca26"
             ],
             [
              1,
              "#f0f921"
             ]
            ],
            "type": "histogram2d"
           }
          ],
          "histogram2dcontour": [
           {
            "colorbar": {
             "outlinewidth": 0,
             "ticks": ""
            },
            "colorscale": [
             [
              0,
              "#0d0887"
             ],
             [
              0.1111111111111111,
              "#46039f"
             ],
             [
              0.2222222222222222,
              "#7201a8"
             ],
             [
              0.3333333333333333,
              "#9c179e"
             ],
             [
              0.4444444444444444,
              "#bd3786"
             ],
             [
              0.5555555555555556,
              "#d8576b"
             ],
             [
              0.6666666666666666,
              "#ed7953"
             ],
             [
              0.7777777777777778,
              "#fb9f3a"
             ],
             [
              0.8888888888888888,
              "#fdca26"
             ],
             [
              1,
              "#f0f921"
             ]
            ],
            "type": "histogram2dcontour"
           }
          ],
          "mesh3d": [
           {
            "colorbar": {
             "outlinewidth": 0,
             "ticks": ""
            },
            "type": "mesh3d"
           }
          ],
          "parcoords": [
           {
            "line": {
             "colorbar": {
              "outlinewidth": 0,
              "ticks": ""
             }
            },
            "type": "parcoords"
           }
          ],
          "pie": [
           {
            "automargin": true,
            "type": "pie"
           }
          ],
          "scatter": [
           {
            "marker": {
             "colorbar": {
              "outlinewidth": 0,
              "ticks": ""
             }
            },
            "type": "scatter"
           }
          ],
          "scatter3d": [
           {
            "line": {
             "colorbar": {
              "outlinewidth": 0,
              "ticks": ""
             }
            },
            "marker": {
             "colorbar": {
              "outlinewidth": 0,
              "ticks": ""
             }
            },
            "type": "scatter3d"
           }
          ],
          "scattercarpet": [
           {
            "marker": {
             "colorbar": {
              "outlinewidth": 0,
              "ticks": ""
             }
            },
            "type": "scattercarpet"
           }
          ],
          "scattergeo": [
           {
            "marker": {
             "colorbar": {
              "outlinewidth": 0,
              "ticks": ""
             }
            },
            "type": "scattergeo"
           }
          ],
          "scattergl": [
           {
            "marker": {
             "colorbar": {
              "outlinewidth": 0,
              "ticks": ""
             }
            },
            "type": "scattergl"
           }
          ],
          "scattermapbox": [
           {
            "marker": {
             "colorbar": {
              "outlinewidth": 0,
              "ticks": ""
             }
            },
            "type": "scattermapbox"
           }
          ],
          "scatterpolar": [
           {
            "marker": {
             "colorbar": {
              "outlinewidth": 0,
              "ticks": ""
             }
            },
            "type": "scatterpolar"
           }
          ],
          "scatterpolargl": [
           {
            "marker": {
             "colorbar": {
              "outlinewidth": 0,
              "ticks": ""
             }
            },
            "type": "scatterpolargl"
           }
          ],
          "scatterternary": [
           {
            "marker": {
             "colorbar": {
              "outlinewidth": 0,
              "ticks": ""
             }
            },
            "type": "scatterternary"
           }
          ],
          "surface": [
           {
            "colorbar": {
             "outlinewidth": 0,
             "ticks": ""
            },
            "colorscale": [
             [
              0,
              "#0d0887"
             ],
             [
              0.1111111111111111,
              "#46039f"
             ],
             [
              0.2222222222222222,
              "#7201a8"
             ],
             [
              0.3333333333333333,
              "#9c179e"
             ],
             [
              0.4444444444444444,
              "#bd3786"
             ],
             [
              0.5555555555555556,
              "#d8576b"
             ],
             [
              0.6666666666666666,
              "#ed7953"
             ],
             [
              0.7777777777777778,
              "#fb9f3a"
             ],
             [
              0.8888888888888888,
              "#fdca26"
             ],
             [
              1,
              "#f0f921"
             ]
            ],
            "type": "surface"
           }
          ],
          "table": [
           {
            "cells": {
             "fill": {
              "color": "#EBF0F8"
             },
             "line": {
              "color": "white"
             }
            },
            "header": {
             "fill": {
              "color": "#C8D4E3"
             },
             "line": {
              "color": "white"
             }
            },
            "type": "table"
           }
          ]
         },
         "layout": {
          "annotationdefaults": {
           "arrowcolor": "#2a3f5f",
           "arrowhead": 0,
           "arrowwidth": 1
          },
          "autotypenumbers": "strict",
          "coloraxis": {
           "colorbar": {
            "outlinewidth": 0,
            "ticks": ""
           }
          },
          "colorscale": {
           "diverging": [
            [
             0,
             "#8e0152"
            ],
            [
             0.1,
             "#c51b7d"
            ],
            [
             0.2,
             "#de77ae"
            ],
            [
             0.3,
             "#f1b6da"
            ],
            [
             0.4,
             "#fde0ef"
            ],
            [
             0.5,
             "#f7f7f7"
            ],
            [
             0.6,
             "#e6f5d0"
            ],
            [
             0.7,
             "#b8e186"
            ],
            [
             0.8,
             "#7fbc41"
            ],
            [
             0.9,
             "#4d9221"
            ],
            [
             1,
             "#276419"
            ]
           ],
           "sequential": [
            [
             0,
             "#0d0887"
            ],
            [
             0.1111111111111111,
             "#46039f"
            ],
            [
             0.2222222222222222,
             "#7201a8"
            ],
            [
             0.3333333333333333,
             "#9c179e"
            ],
            [
             0.4444444444444444,
             "#bd3786"
            ],
            [
             0.5555555555555556,
             "#d8576b"
            ],
            [
             0.6666666666666666,
             "#ed7953"
            ],
            [
             0.7777777777777778,
             "#fb9f3a"
            ],
            [
             0.8888888888888888,
             "#fdca26"
            ],
            [
             1,
             "#f0f921"
            ]
           ],
           "sequentialminus": [
            [
             0,
             "#0d0887"
            ],
            [
             0.1111111111111111,
             "#46039f"
            ],
            [
             0.2222222222222222,
             "#7201a8"
            ],
            [
             0.3333333333333333,
             "#9c179e"
            ],
            [
             0.4444444444444444,
             "#bd3786"
            ],
            [
             0.5555555555555556,
             "#d8576b"
            ],
            [
             0.6666666666666666,
             "#ed7953"
            ],
            [
             0.7777777777777778,
             "#fb9f3a"
            ],
            [
             0.8888888888888888,
             "#fdca26"
            ],
            [
             1,
             "#f0f921"
            ]
           ]
          },
          "colorway": [
           "#636efa",
           "#EF553B",
           "#00cc96",
           "#ab63fa",
           "#FFA15A",
           "#19d3f3",
           "#FF6692",
           "#B6E880",
           "#FF97FF",
           "#FECB52"
          ],
          "font": {
           "color": "#2a3f5f"
          },
          "geo": {
           "bgcolor": "white",
           "lakecolor": "white",
           "landcolor": "#E5ECF6",
           "showlakes": true,
           "showland": true,
           "subunitcolor": "white"
          },
          "hoverlabel": {
           "align": "left"
          },
          "hovermode": "closest",
          "mapbox": {
           "style": "light"
          },
          "paper_bgcolor": "white",
          "plot_bgcolor": "#E5ECF6",
          "polar": {
           "angularaxis": {
            "gridcolor": "white",
            "linecolor": "white",
            "ticks": ""
           },
           "bgcolor": "#E5ECF6",
           "radialaxis": {
            "gridcolor": "white",
            "linecolor": "white",
            "ticks": ""
           }
          },
          "scene": {
           "xaxis": {
            "backgroundcolor": "#E5ECF6",
            "gridcolor": "white",
            "gridwidth": 2,
            "linecolor": "white",
            "showbackground": true,
            "ticks": "",
            "zerolinecolor": "white"
           },
           "yaxis": {
            "backgroundcolor": "#E5ECF6",
            "gridcolor": "white",
            "gridwidth": 2,
            "linecolor": "white",
            "showbackground": true,
            "ticks": "",
            "zerolinecolor": "white"
           },
           "zaxis": {
            "backgroundcolor": "#E5ECF6",
            "gridcolor": "white",
            "gridwidth": 2,
            "linecolor": "white",
            "showbackground": true,
            "ticks": "",
            "zerolinecolor": "white"
           }
          },
          "shapedefaults": {
           "line": {
            "color": "#2a3f5f"
           }
          },
          "ternary": {
           "aaxis": {
            "gridcolor": "white",
            "linecolor": "white",
            "ticks": ""
           },
           "baxis": {
            "gridcolor": "white",
            "linecolor": "white",
            "ticks": ""
           },
           "bgcolor": "#E5ECF6",
           "caxis": {
            "gridcolor": "white",
            "linecolor": "white",
            "ticks": ""
           }
          },
          "title": {
           "x": 0.05
          },
          "xaxis": {
           "automargin": true,
           "gridcolor": "white",
           "linecolor": "white",
           "ticks": "",
           "title": {
            "standoff": 15
           },
           "zerolinecolor": "white",
           "zerolinewidth": 2
          },
          "yaxis": {
           "automargin": true,
           "gridcolor": "white",
           "linecolor": "white",
           "ticks": "",
           "title": {
            "standoff": 15
           },
           "zerolinecolor": "white",
           "zerolinewidth": 2
          }
         }
        },
        "title": {
         "text": "Positive cases Every Month"
        },
        "width": 1000,
        "xaxis": {
         "anchor": "y",
         "domain": [
          0,
          0.98
         ],
         "title": {
          "text": "month"
         }
        },
        "xaxis2": {
         "anchor": "y2",
         "domain": [
          0,
          0.98
         ],
         "matches": "x",
         "showticklabels": false
        },
        "xaxis3": {
         "anchor": "y3",
         "domain": [
          0,
          0.98
         ],
         "matches": "x",
         "showticklabels": false
        },
        "xaxis4": {
         "anchor": "y4",
         "domain": [
          0,
          0.98
         ],
         "matches": "x",
         "showticklabels": false
        },
        "xaxis5": {
         "anchor": "y5",
         "domain": [
          0,
          0.98
         ],
         "matches": "x",
         "showticklabels": false
        },
        "xaxis6": {
         "anchor": "y6",
         "domain": [
          0,
          0.98
         ],
         "matches": "x",
         "showticklabels": false
        },
        "xaxis7": {
         "anchor": "y7",
         "domain": [
          0,
          0.98
         ],
         "matches": "x",
         "showticklabels": false
        },
        "yaxis": {
         "anchor": "x",
         "domain": [
          0,
          0.11714285714285715
         ],
         "title": {
          "text": "sum of positive"
         }
        },
        "yaxis2": {
         "anchor": "x2",
         "domain": [
          0.14714285714285713,
          0.2642857142857143
         ],
         "matches": "y",
         "title": {
          "text": "sum of positive"
         }
        },
        "yaxis3": {
         "anchor": "x3",
         "domain": [
          0.29428571428571426,
          0.4114285714285714
         ],
         "matches": "y",
         "title": {
          "text": "sum of positive"
         }
        },
        "yaxis4": {
         "anchor": "x4",
         "domain": [
          0.4414285714285714,
          0.5585714285714285
         ],
         "matches": "y",
         "title": {
          "text": "sum of positive"
         }
        },
        "yaxis5": {
         "anchor": "x5",
         "domain": [
          0.5885714285714285,
          0.7057142857142856
         ],
         "matches": "y",
         "title": {
          "text": "sum of positive"
         }
        },
        "yaxis6": {
         "anchor": "x6",
         "domain": [
          0.7357142857142858,
          0.8528571428571429
         ],
         "matches": "y",
         "title": {
          "text": "sum of positive"
         }
        },
        "yaxis7": {
         "anchor": "x7",
         "domain": [
          0.8828571428571428,
          0.9999999999999999
         ],
         "matches": "y",
         "title": {
          "text": "sum of positive"
         }
        }
       }
      },
      "text/html": [
       "<div>                            <div id=\"a2e7f160-837d-4a73-8c43-fa991d5b4e11\" class=\"plotly-graph-div\" style=\"height:1000px; width:1000px;\"></div>            <script type=\"text/javascript\">                require([\"plotly\"], function(Plotly) {                    window.PLOTLYENV=window.PLOTLYENV || {};                                    if (document.getElementById(\"a2e7f160-837d-4a73-8c43-fa991d5b4e11\")) {                    Plotly.newPlot(                        \"a2e7f160-837d-4a73-8c43-fa991d5b4e11\",                        [{\"alignmentgroup\": \"True\", \"bingroup\": \"x\", \"histfunc\": \"sum\", \"hovertemplate\": \"Year=2021<br>Dayofweek=6<br>month=%{x}<br>sum of positive=%{y}<extra></extra>\", \"legendgroup\": \"2021\", \"marker\": {\"color\": \"#636efa\"}, \"name\": \"2021\", \"offsetgroup\": \"2021\", \"orientation\": \"v\", \"showlegend\": true, \"type\": \"histogram\", \"x\": [\"Mar\", \"Feb\", \"Feb\", \"Feb\", \"Feb\", \"Jan\", \"Jan\", \"Jan\", \"Jan\", \"Jan\"], \"xaxis\": \"x7\", \"y\": [591356.0, 581148.0, 569284.0, 557777.0, 543934.0, 524025.0, 500037.0, 470140.0, 432791.0, 387662.0], \"yaxis\": \"y7\"}, {\"alignmentgroup\": \"True\", \"bingroup\": \"x\", \"histfunc\": \"sum\", \"hovertemplate\": \"Year=2021<br>Dayofweek=5<br>month=%{x}<br>sum of positive=%{y}<extra></extra>\", \"legendgroup\": \"2021\", \"marker\": {\"color\": \"#636efa\"}, \"name\": \"2021\", \"offsetgroup\": \"2021\", \"orientation\": \"v\", \"showlegend\": false, \"type\": \"histogram\", \"x\": [\"Mar\", \"Feb\", \"Feb\", \"Feb\", \"Feb\", \"Jan\", \"Jan\", \"Jan\", \"Jan\", \"Jan\"], \"xaxis\": \"x6\", \"y\": [589931.0, 579680.0, 567764.0, 555895.0, 540827.0, 521360.0, 496093.0, 465726.0, 427135.0, 384181.0], \"yaxis\": \"y6\"}, {\"alignmentgroup\": \"True\", \"bingroup\": \"x\", \"histfunc\": \"sum\", \"hovertemplate\": \"Year=2021<br>Dayofweek=4<br>month=%{x}<br>sum of positive=%{y}<extra></extra>\", \"legendgroup\": \"2021\", \"marker\": {\"color\": \"#636efa\"}, \"name\": \"2021\", \"offsetgroup\": \"2021\", \"orientation\": \"v\", \"showlegend\": false, \"type\": \"histogram\", \"x\": [\"Mar\", \"Feb\", \"Feb\", \"Feb\", \"Feb\", \"Jan\", \"Jan\", \"Jan\", \"Jan\", \"Jan\"], \"xaxis\": \"x5\", \"y\": [588209.0, 577980.0, 565794.0, 553812.0, 537208.0, 517252.0, 491452.0, 459927.0, 419721.0, 375178.0], \"yaxis\": \"y5\"}, {\"alignmentgroup\": \"True\", \"bingroup\": \"x\", \"histfunc\": \"sum\", \"hovertemplate\": \"Year=2021<br>Dayofweek=3<br>month=%{x}<br>sum of positive=%{y}<extra></extra>\", \"legendgroup\": \"2021\", \"marker\": {\"color\": \"#636efa\"}, \"name\": \"2021\", \"offsetgroup\": \"2021\", \"orientation\": \"v\", \"showlegend\": false, \"type\": \"histogram\", \"x\": [\"Mar\", \"Feb\", \"Feb\", \"Feb\", \"Feb\", \"Jan\", \"Jan\", \"Jan\", \"Jan\"], \"xaxis\": \"x4\", \"y\": [586310.0, 575993.0, 563976.0, 551396.0, 533921.0, 514134.0, 486180.0, 454402.0, 411601.0], \"yaxis\": \"y4\"}, {\"alignmentgroup\": \"True\", \"bingroup\": \"x\", \"histfunc\": \"sum\", \"hovertemplate\": \"Year=2021<br>Dayofweek=2<br>month=%{x}<br>sum of positive=%{y}<extra></extra>\", \"legendgroup\": \"2021\", \"marker\": {\"color\": \"#636efa\"}, \"name\": \"2021\", \"offsetgroup\": \"2021\", \"orientation\": \"v\", \"showlegend\": false, \"type\": \"histogram\", \"x\": [\"Mar\", \"Feb\", \"Feb\", \"Feb\", \"Feb\", \"Jan\", \"Jan\", \"Jan\", \"Jan\"], \"xaxis\": \"x3\", \"y\": [584743.0, 573885.0, 561936.0, 548946.0, 531117.0, 509503.0, 481040.0, 448447.0, 404053.0], \"yaxis\": \"y3\"}, {\"alignmentgroup\": \"True\", \"bingroup\": \"x\", \"histfunc\": \"sum\", \"hovertemplate\": \"Year=2021<br>Dayofweek=1<br>month=%{x}<br>sum of positive=%{y}<extra></extra>\", \"legendgroup\": \"2021\", \"marker\": {\"color\": \"#636efa\"}, \"name\": \"2021\", \"offsetgroup\": \"2021\", \"orientation\": \"v\", \"showlegend\": false, \"type\": \"histogram\", \"x\": [\"Mar\", \"Feb\", \"Feb\", \"Feb\", \"Feb\", \"Jan\", \"Jan\", \"Jan\", \"Jan\"], \"xaxis\": \"x2\", \"y\": [582844.0, 571783.0, 560576.0, 546896.0, 528662.0, 506183.0, 476526.0, 442529.0, 397202.0], \"yaxis\": \"y2\"}, {\"alignmentgroup\": \"True\", \"bingroup\": \"x\", \"histfunc\": \"sum\", \"hovertemplate\": \"Year=2021<br>Dayofweek=0<br>month=%{x}<br>sum of positive=%{y}<extra></extra>\", \"legendgroup\": \"2021\", \"marker\": {\"color\": \"#636efa\"}, \"name\": \"2021\", \"offsetgroup\": \"2021\", \"orientation\": \"v\", \"showlegend\": false, \"type\": \"histogram\", \"x\": [\"Mar\", \"Feb\", \"Feb\", \"Feb\", \"Feb\", \"Jan\", \"Jan\", \"Jan\", \"Jan\"], \"xaxis\": \"x\", \"y\": [582543.0, 570546.0, 559350.0, 545303.0, 526423.0, 503688.0, 473441.0, 437042.0, 392568.0], \"yaxis\": \"y\"}, {\"alignmentgroup\": \"True\", \"bingroup\": \"x\", \"histfunc\": \"sum\", \"hovertemplate\": \"Year=2020<br>Dayofweek=6<br>month=%{x}<br>sum of positive=%{y}<extra></extra>\", \"legendgroup\": \"2020\", \"marker\": {\"color\": \"#EF553B\"}, \"name\": \"2020\", \"offsetgroup\": \"2020\", \"orientation\": \"v\", \"showlegend\": true, \"type\": \"histogram\", \"x\": [\"Dec\", \"Dec\", \"Dec\", \"Dec\", \"Nov\", \"Nov\", \"Nov\", \"Nov\", \"Nov\", \"Oct\", \"Oct\", \"Oct\", \"Oct\", \"Sep\", \"Sep\", \"Sep\", \"Sep\", \"Aug\", \"Aug\", \"Aug\", \"Aug\", \"Aug\", \"Jul\", \"Jul\", \"Jul\", \"Jul\", \"Jun\", \"Jun\", \"Jun\", \"Jun\", \"May\", \"May\", \"May\", \"May\", \"May\", \"Apr\", \"Apr\", \"Apr\", \"Apr\", \"Mar\", \"Mar\", \"Mar\", \"Mar\", \"Mar\", \"Feb\", \"Feb\", \"Feb\", \"Feb\", \"Jan\"], \"xaxis\": \"x7\", \"y\": [352736.0, 323531.0, 290578.0, 256844.0, 224964.0, 206850.0, 188275.0, 171399.0, 159707.0, 150565.0, 143660.0, 138903.0, 134947.0, 130642.0, 127540.0, 124826.0, 122562.0, 128229.0, 125360.0, 123200.0, 121040.0, 118458.0, 115637.0, 113534.0, 111597.0, 109974.0, 108667.0, 107061.0, 105603.0, 103436.0, 96965.0, 92675.0, 86010.0, 77793.0, 68087.0, 54938.0, 38077.0, 25475.0, 12500.0, 4955.0, 646.0, 138.0, 13.0, 2.0, 2.0, 2.0, 2.0, 2.0, 2.0], \"yaxis\": \"y7\"}, {\"alignmentgroup\": \"True\", \"bingroup\": \"x\", \"histfunc\": \"sum\", \"hovertemplate\": \"Year=2020<br>Dayofweek=5<br>month=%{x}<br>sum of positive=%{y}<extra></extra>\", \"legendgroup\": \"2020\", \"marker\": {\"color\": \"#EF553B\"}, \"name\": \"2020\", \"offsetgroup\": \"2020\", \"orientation\": \"v\", \"showlegend\": false, \"type\": \"histogram\", \"x\": [\"Dec\", \"Dec\", \"Dec\", \"Dec\", \"Nov\", \"Nov\", \"Nov\", \"Nov\", \"Oct\", \"Oct\", \"Oct\", \"Oct\", \"Oct\", \"Sep\", \"Sep\", \"Sep\", \"Sep\", \"Aug\", \"Aug\", \"Aug\", \"Aug\", \"Aug\", \"Jul\", \"Jul\", \"Jul\", \"Jul\", \"Jun\", \"Jun\", \"Jun\", \"Jun\", \"May\", \"May\", \"May\", \"May\", \"May\", \"Apr\", \"Apr\", \"Apr\", \"Apr\", \"Mar\", \"Mar\", \"Mar\", \"Mar\", \"Feb\", \"Feb\", \"Feb\", \"Feb\", \"Feb\", \"Jan\"], \"xaxis\": \"x6\", \"y\": [349602.0, 319270.0, 285725.0, 252017.0, 222469.0, 204155.0, 186142.0, 169576.0, 158576.0, 149488.0, 142930.0, 138340.0, 134303.0, 130050.0, 127181.0, 124540.0, 122196.0, 128030.0, 125360.0, 122897.0, 120711.0, 118040.0, 115268.0, 113238.0, 111398.0, 109838.0, 108443.0, 106936.0, 105395.0, 103132.0, 96301.0, 91662.0, 84933.0, 76743.0, 66263.0, 53348.0, 36372.0, 22860.0, 11736.0, 4257.0, 525.0, 138.0, 13.0, 2.0, 2.0, 2.0, 2.0, 2.0, 2.0], \"yaxis\": \"y6\"}, {\"alignmentgroup\": \"True\", \"bingroup\": \"x\", \"histfunc\": \"sum\", \"hovertemplate\": \"Year=2020<br>Dayofweek=4<br>month=%{x}<br>sum of positive=%{y}<extra></extra>\", \"legendgroup\": \"2020\", \"marker\": {\"color\": \"#EF553B\"}, \"name\": \"2020\", \"offsetgroup\": \"2020\", \"orientation\": \"v\", \"showlegend\": false, \"type\": \"histogram\", \"x\": [\"Dec\", \"Dec\", \"Dec\", \"Dec\", \"Nov\", \"Nov\", \"Nov\", \"Nov\", \"Oct\", \"Oct\", \"Oct\", \"Oct\", \"Oct\", \"Sep\", \"Sep\", \"Sep\", \"Sep\", \"Aug\", \"Aug\", \"Aug\", \"Aug\", \"Jul\", \"Jul\", \"Jul\", \"Jul\", \"Jul\", \"Jun\", \"Jun\", \"Jun\", \"Jun\", \"May\", \"May\", \"May\", \"May\", \"May\", \"Apr\", \"Apr\", \"Apr\", \"Apr\", \"Mar\", \"Mar\", \"Mar\", \"Mar\", \"Feb\", \"Feb\", \"Feb\", \"Feb\", \"Jan\", \"Jan\"], \"xaxis\": \"x5\", \"y\": [341925.0, 314926.0, 280436.0, 246398.0, 219252.0, 200949.0, 183095.0, 167274.0, 157146.0, 148285.0, 142346.0, 137701.0, 133631.0, 129481.0, 126582.0, 123986.0, 121758.0, 127584.0, 125216.0, 122531.0, 120291.0, 117612.0, 114985.0, 112879.0, 111110.0, 109628.0, 108070.0, 106650.0, 105059.0, 102557.0, 95512.0, 90889.0, 83421.0, 75333.0, 64311.0, 46023.0, 34402.0, 20974.0, 10402.0, 3240.0, 413.0, 123.0, 8.0, 2.0, 2.0, 2.0, 2.0, 2.0, 2.0], \"yaxis\": \"y5\"}, {\"alignmentgroup\": \"True\", \"bingroup\": \"x\", \"histfunc\": \"sum\", \"hovertemplate\": \"Year=2020<br>Dayofweek=3<br>month=%{x}<br>sum of positive=%{y}<extra></extra>\", \"legendgroup\": \"2020\", \"marker\": {\"color\": \"#EF553B\"}, \"name\": \"2020\", \"offsetgroup\": \"2020\", \"orientation\": \"v\", \"showlegend\": false, \"type\": \"histogram\", \"x\": [\"Dec\", \"Dec\", \"Dec\", \"Dec\", \"Dec\", \"Nov\", \"Nov\", \"Nov\", \"Nov\", \"Oct\", \"Oct\", \"Oct\", \"Oct\", \"Oct\", \"Sep\", \"Sep\", \"Sep\", \"Sep\", \"Aug\", \"Aug\", \"Aug\", \"Aug\", \"Jul\", \"Jul\", \"Jul\", \"Jul\", \"Jul\", \"Jun\", \"Jun\", \"Jun\", \"Jun\", \"May\", \"May\", \"May\", \"May\", \"Apr\", \"Apr\", \"Apr\", \"Apr\", \"Apr\", \"Mar\", \"Mar\", \"Mar\", \"Mar\", \"Feb\", \"Feb\", \"Feb\", \"Feb\", \"Jan\", \"Jan\"], \"xaxis\": \"x4\", \"y\": [375178.0, 341925.0, 309247.0, 274781.0, 240907.0, 214594.0, 198550.0, 180189.0, 165161.0, 155564.0, 147215.0, 141579.0, 136936.0, 132870.0, 128993.0, 126128.0, 123546.0, 121546.0, 127124.0, 124728.0, 122319.0, 119874.0, 117098.0, 114647.0, 112581.0, 110897.0, 109338.0, 107837.0, 106422.0, 104667.0, 102063.0, 94895.0, 90084.0, 82182.0, 73721.0, 62205.0, 46023.0, 32181.0, 18941.0, 8966.0, 2417.0, 328.0, 95.0, 2.0, 2.0, 2.0, 2.0, 2.0, 2.0, 2.0], \"yaxis\": \"y4\"}, {\"alignmentgroup\": \"True\", \"bingroup\": \"x\", \"histfunc\": \"sum\", \"hovertemplate\": \"Year=2020<br>Dayofweek=2<br>month=%{x}<br>sum of positive=%{y}<extra></extra>\", \"legendgroup\": \"2020\", \"marker\": {\"color\": \"#EF553B\"}, \"name\": \"2020\", \"offsetgroup\": \"2020\", \"orientation\": \"v\", \"showlegend\": false, \"type\": \"histogram\", \"x\": [\"Dec\", \"Dec\", \"Dec\", \"Dec\", \"Dec\", \"Nov\", \"Nov\", \"Nov\", \"Nov\", \"Oct\", \"Oct\", \"Oct\", \"Oct\", \"Sep\", \"Sep\", \"Sep\", \"Sep\", \"Sep\", \"Aug\", \"Aug\", \"Aug\", \"Aug\", \"Jul\", \"Jul\", \"Jul\", \"Jul\", \"Jul\", \"Jun\", \"Jun\", \"Jun\", \"Jun\", \"May\", \"May\", \"May\", \"May\", \"Apr\", \"Apr\", \"Apr\", \"Apr\", \"Apr\", \"Mar\", \"Mar\", \"Mar\", \"Mar\", \"Feb\", \"Feb\", \"Feb\", \"Feb\", \"Jan\", \"Jan\"], \"xaxis\": \"x3\", \"y\": [367918.0, 335988.0, 304112.0, 269412.0, 234232.0, 214594.0, 195868.0, 177541.0, 163299.0, 154218.0, 146166.0, 140992.0, 136492.0, 132116.0, 128512.0, 125699.0, 123143.0, 121131.0, 126756.0, 124415.0, 122000.0, 119643.0, 116684.0, 114320.0, 112347.0, 110602.0, 109143.0, 107611.0, 106151.0, 104156.0, 101592.0, 94220.0, 88970.0, 80497.0, 72025.0, 60265.0, 42944.0, 29918.0, 16790.0, 7738.0, 1838.0, 256.0, 92.0, 2.0, 2.0, 2.0, 2.0, 2.0, 2.0, 2.0], \"yaxis\": \"y3\"}, {\"alignmentgroup\": \"True\", \"bingroup\": \"x\", \"histfunc\": \"sum\", \"hovertemplate\": \"Year=2020<br>Dayofweek=1<br>month=%{x}<br>sum of positive=%{y}<extra></extra>\", \"legendgroup\": \"2020\", \"marker\": {\"color\": \"#EF553B\"}, \"name\": \"2020\", \"offsetgroup\": \"2020\", \"orientation\": \"v\", \"showlegend\": false, \"type\": \"histogram\", \"x\": [\"Dec\", \"Dec\", \"Dec\", \"Dec\", \"Dec\", \"Nov\", \"Nov\", \"Nov\", \"Nov\", \"Oct\", \"Oct\", \"Oct\", \"Oct\", \"Sep\", \"Sep\", \"Sep\", \"Sep\", \"Sep\", \"Aug\", \"Aug\", \"Aug\", \"Aug\", \"Jul\", \"Jul\", \"Jul\", \"Jul\", \"Jun\", \"Jun\", \"Jun\", \"Jun\", \"Jun\", \"May\", \"May\", \"May\", \"May\", \"Apr\", \"Apr\", \"Apr\", \"Apr\", \"Mar\", \"Mar\", \"Mar\", \"Mar\", \"Mar\", \"Feb\", \"Feb\", \"Feb\", \"Feb\", \"Jan\"], \"xaxis\": \"x2\", \"y\": [361079.0, 331174.0, 298160.0, 263447.0, 229205.0, 211199.0, 192964.0, 174881.0, 161585.0, 153037.0, 145464.0, 140412.0, 135957.0, 131584.0, 127969.0, 125393.0, 122962.0, 128888.0, 126420.0, 123588.0, 121707.0, 119203.0, 116182.0, 114033.0, 112130.0, 110338.0, 108882.0, 107439.0, 105885.0, 103889.0, 101163.0, 93693.0, 87925.0, 79332.0, 70271.0, 58302.0, 41199.0, 28163.0, 15202.0, 6620.0, 1159.0, 218.0, 92.0, 2.0, 2.0, 2.0, 2.0, 2.0, 2.0], \"yaxis\": \"y2\"}, {\"alignmentgroup\": \"True\", \"bingroup\": \"x\", \"histfunc\": \"sum\", \"hovertemplate\": \"Year=2020<br>Dayofweek=0<br>month=%{x}<br>sum of positive=%{y}<extra></extra>\", \"legendgroup\": \"2020\", \"marker\": {\"color\": \"#EF553B\"}, \"name\": \"2020\", \"offsetgroup\": \"2020\", \"orientation\": \"v\", \"showlegend\": false, \"type\": \"histogram\", \"x\": [\"Dec\", \"Dec\", \"Dec\", \"Dec\", \"Nov\", \"Nov\", \"Nov\", \"Nov\", \"Nov\", \"Oct\", \"Oct\", \"Oct\", \"Oct\", \"Sep\", \"Sep\", \"Sep\", \"Sep\", \"Aug\", \"Aug\", \"Aug\", \"Aug\", \"Aug\", \"Jul\", \"Jul\", \"Jul\", \"Jul\", \"Jun\", \"Jun\", \"Jun\", \"Jun\", \"Jun\", \"May\", \"May\", \"May\", \"May\", \"Apr\", \"Apr\", \"Apr\", \"Apr\", \"Mar\", \"Mar\", \"Mar\", \"Mar\", \"Mar\", \"Feb\", \"Feb\", \"Feb\", \"Feb\", \"Jan\"], \"xaxis\": \"x\", \"y\": [356934.0, 327374.0, 294231.0, 259325.0, 226132.0, 208623.0, 190439.0, 172727.0, 160549.0, 151777.0, 144488.0, 139663.0, 135462.0, 131072.0, 127796.0, 125080.0, 122791.0, 128533.0, 126022.0, 123413.0, 121315.0, 118657.0, 115926.0, 113789.0, 111827.0, 110137.0, 108768.0, 107210.0, 105690.0, 103626.0, 100805.0, 93271.0, 87052.0, 78462.0, 69087.0, 56462.0, 38077.0, 26867.0, 13837.0, 5752.0, 777.0, 164.0, 41.0, 2.0, 2.0, 2.0, 2.0, 2.0, 2.0], \"yaxis\": \"y\"}],                        {\"annotations\": [{\"font\": {}, \"showarrow\": false, \"text\": \"Dayofweek=0\", \"textangle\": 90, \"x\": 0.98, \"xanchor\": \"left\", \"xref\": \"paper\", \"y\": 0.05857142857142857, \"yanchor\": \"middle\", \"yref\": \"paper\"}, {\"font\": {}, \"showarrow\": false, \"text\": \"Dayofweek=1\", \"textangle\": 90, \"x\": 0.98, \"xanchor\": \"left\", \"xref\": \"paper\", \"y\": 0.2057142857142857, \"yanchor\": \"middle\", \"yref\": \"paper\"}, {\"font\": {}, \"showarrow\": false, \"text\": \"Dayofweek=2\", \"textangle\": 90, \"x\": 0.98, \"xanchor\": \"left\", \"xref\": \"paper\", \"y\": 0.35285714285714287, \"yanchor\": \"middle\", \"yref\": \"paper\"}, {\"font\": {}, \"showarrow\": false, \"text\": \"Dayofweek=3\", \"textangle\": 90, \"x\": 0.98, \"xanchor\": \"left\", \"xref\": \"paper\", \"y\": 0.49999999999999994, \"yanchor\": \"middle\", \"yref\": \"paper\"}, {\"font\": {}, \"showarrow\": false, \"text\": \"Dayofweek=4\", \"textangle\": 90, \"x\": 0.98, \"xanchor\": \"left\", \"xref\": \"paper\", \"y\": 0.647142857142857, \"yanchor\": \"middle\", \"yref\": \"paper\"}, {\"font\": {}, \"showarrow\": false, \"text\": \"Dayofweek=5\", \"textangle\": 90, \"x\": 0.98, \"xanchor\": \"left\", \"xref\": \"paper\", \"y\": 0.7942857142857143, \"yanchor\": \"middle\", \"yref\": \"paper\"}, {\"font\": {}, \"showarrow\": false, \"text\": \"Dayofweek=6\", \"textangle\": 90, \"x\": 0.98, \"xanchor\": \"left\", \"xref\": \"paper\", \"y\": 0.9414285714285713, \"yanchor\": \"middle\", \"yref\": \"paper\"}], \"barmode\": \"relative\", \"height\": 1000, \"legend\": {\"title\": {\"text\": \"Year\"}, \"tracegroupgap\": 0}, \"template\": {\"data\": {\"bar\": [{\"error_x\": {\"color\": \"#2a3f5f\"}, \"error_y\": {\"color\": \"#2a3f5f\"}, \"marker\": {\"line\": {\"color\": \"#E5ECF6\", \"width\": 0.5}}, \"type\": \"bar\"}], \"barpolar\": [{\"marker\": {\"line\": {\"color\": \"#E5ECF6\", \"width\": 0.5}}, \"type\": \"barpolar\"}], \"carpet\": [{\"aaxis\": {\"endlinecolor\": \"#2a3f5f\", \"gridcolor\": \"white\", \"linecolor\": \"white\", \"minorgridcolor\": \"white\", \"startlinecolor\": \"#2a3f5f\"}, \"baxis\": {\"endlinecolor\": \"#2a3f5f\", \"gridcolor\": \"white\", \"linecolor\": \"white\", \"minorgridcolor\": \"white\", \"startlinecolor\": \"#2a3f5f\"}, \"type\": \"carpet\"}], \"choropleth\": [{\"colorbar\": {\"outlinewidth\": 0, \"ticks\": \"\"}, \"type\": \"choropleth\"}], \"contour\": [{\"colorbar\": {\"outlinewidth\": 0, \"ticks\": \"\"}, \"colorscale\": [[0.0, \"#0d0887\"], [0.1111111111111111, \"#46039f\"], [0.2222222222222222, \"#7201a8\"], [0.3333333333333333, \"#9c179e\"], [0.4444444444444444, \"#bd3786\"], [0.5555555555555556, \"#d8576b\"], [0.6666666666666666, \"#ed7953\"], [0.7777777777777778, \"#fb9f3a\"], [0.8888888888888888, \"#fdca26\"], [1.0, \"#f0f921\"]], \"type\": \"contour\"}], \"contourcarpet\": [{\"colorbar\": {\"outlinewidth\": 0, \"ticks\": \"\"}, \"type\": \"contourcarpet\"}], \"heatmap\": [{\"colorbar\": {\"outlinewidth\": 0, \"ticks\": \"\"}, \"colorscale\": [[0.0, \"#0d0887\"], [0.1111111111111111, \"#46039f\"], [0.2222222222222222, \"#7201a8\"], [0.3333333333333333, \"#9c179e\"], [0.4444444444444444, \"#bd3786\"], [0.5555555555555556, \"#d8576b\"], [0.6666666666666666, \"#ed7953\"], [0.7777777777777778, \"#fb9f3a\"], [0.8888888888888888, \"#fdca26\"], [1.0, \"#f0f921\"]], \"type\": \"heatmap\"}], \"heatmapgl\": [{\"colorbar\": {\"outlinewidth\": 0, \"ticks\": \"\"}, \"colorscale\": [[0.0, \"#0d0887\"], [0.1111111111111111, \"#46039f\"], [0.2222222222222222, \"#7201a8\"], [0.3333333333333333, \"#9c179e\"], [0.4444444444444444, \"#bd3786\"], [0.5555555555555556, \"#d8576b\"], [0.6666666666666666, \"#ed7953\"], [0.7777777777777778, \"#fb9f3a\"], [0.8888888888888888, \"#fdca26\"], [1.0, \"#f0f921\"]], \"type\": \"heatmapgl\"}], \"histogram\": [{\"marker\": {\"colorbar\": {\"outlinewidth\": 0, \"ticks\": \"\"}}, \"type\": \"histogram\"}], \"histogram2d\": [{\"colorbar\": {\"outlinewidth\": 0, \"ticks\": \"\"}, \"colorscale\": [[0.0, \"#0d0887\"], [0.1111111111111111, \"#46039f\"], [0.2222222222222222, \"#7201a8\"], [0.3333333333333333, \"#9c179e\"], [0.4444444444444444, \"#bd3786\"], [0.5555555555555556, \"#d8576b\"], [0.6666666666666666, \"#ed7953\"], [0.7777777777777778, \"#fb9f3a\"], [0.8888888888888888, \"#fdca26\"], [1.0, \"#f0f921\"]], \"type\": \"histogram2d\"}], \"histogram2dcontour\": [{\"colorbar\": {\"outlinewidth\": 0, \"ticks\": \"\"}, \"colorscale\": [[0.0, \"#0d0887\"], [0.1111111111111111, \"#46039f\"], [0.2222222222222222, \"#7201a8\"], [0.3333333333333333, \"#9c179e\"], [0.4444444444444444, \"#bd3786\"], [0.5555555555555556, \"#d8576b\"], [0.6666666666666666, \"#ed7953\"], [0.7777777777777778, \"#fb9f3a\"], [0.8888888888888888, \"#fdca26\"], [1.0, \"#f0f921\"]], \"type\": \"histogram2dcontour\"}], \"mesh3d\": [{\"colorbar\": {\"outlinewidth\": 0, \"ticks\": \"\"}, \"type\": \"mesh3d\"}], \"parcoords\": [{\"line\": {\"colorbar\": {\"outlinewidth\": 0, \"ticks\": \"\"}}, \"type\": \"parcoords\"}], \"pie\": [{\"automargin\": true, \"type\": \"pie\"}], \"scatter\": [{\"marker\": {\"colorbar\": {\"outlinewidth\": 0, \"ticks\": \"\"}}, \"type\": \"scatter\"}], \"scatter3d\": [{\"line\": {\"colorbar\": {\"outlinewidth\": 0, \"ticks\": \"\"}}, \"marker\": {\"colorbar\": {\"outlinewidth\": 0, \"ticks\": \"\"}}, \"type\": \"scatter3d\"}], \"scattercarpet\": [{\"marker\": {\"colorbar\": {\"outlinewidth\": 0, \"ticks\": \"\"}}, \"type\": \"scattercarpet\"}], \"scattergeo\": [{\"marker\": {\"colorbar\": {\"outlinewidth\": 0, \"ticks\": \"\"}}, \"type\": \"scattergeo\"}], \"scattergl\": [{\"marker\": {\"colorbar\": {\"outlinewidth\": 0, \"ticks\": \"\"}}, \"type\": \"scattergl\"}], \"scattermapbox\": [{\"marker\": {\"colorbar\": {\"outlinewidth\": 0, \"ticks\": \"\"}}, \"type\": \"scattermapbox\"}], \"scatterpolar\": [{\"marker\": {\"colorbar\": {\"outlinewidth\": 0, \"ticks\": \"\"}}, \"type\": \"scatterpolar\"}], \"scatterpolargl\": [{\"marker\": {\"colorbar\": {\"outlinewidth\": 0, \"ticks\": \"\"}}, \"type\": \"scatterpolargl\"}], \"scatterternary\": [{\"marker\": {\"colorbar\": {\"outlinewidth\": 0, \"ticks\": \"\"}}, \"type\": \"scatterternary\"}], \"surface\": [{\"colorbar\": {\"outlinewidth\": 0, \"ticks\": \"\"}, \"colorscale\": [[0.0, \"#0d0887\"], [0.1111111111111111, \"#46039f\"], [0.2222222222222222, \"#7201a8\"], [0.3333333333333333, \"#9c179e\"], [0.4444444444444444, \"#bd3786\"], [0.5555555555555556, \"#d8576b\"], [0.6666666666666666, \"#ed7953\"], [0.7777777777777778, \"#fb9f3a\"], [0.8888888888888888, \"#fdca26\"], [1.0, \"#f0f921\"]], \"type\": \"surface\"}], \"table\": [{\"cells\": {\"fill\": {\"color\": \"#EBF0F8\"}, \"line\": {\"color\": \"white\"}}, \"header\": {\"fill\": {\"color\": \"#C8D4E3\"}, \"line\": {\"color\": \"white\"}}, \"type\": \"table\"}]}, \"layout\": {\"annotationdefaults\": {\"arrowcolor\": \"#2a3f5f\", \"arrowhead\": 0, \"arrowwidth\": 1}, \"autotypenumbers\": \"strict\", \"coloraxis\": {\"colorbar\": {\"outlinewidth\": 0, \"ticks\": \"\"}}, \"colorscale\": {\"diverging\": [[0, \"#8e0152\"], [0.1, \"#c51b7d\"], [0.2, \"#de77ae\"], [0.3, \"#f1b6da\"], [0.4, \"#fde0ef\"], [0.5, \"#f7f7f7\"], [0.6, \"#e6f5d0\"], [0.7, \"#b8e186\"], [0.8, \"#7fbc41\"], [0.9, \"#4d9221\"], [1, \"#276419\"]], \"sequential\": [[0.0, \"#0d0887\"], [0.1111111111111111, \"#46039f\"], [0.2222222222222222, \"#7201a8\"], [0.3333333333333333, \"#9c179e\"], [0.4444444444444444, \"#bd3786\"], [0.5555555555555556, \"#d8576b\"], [0.6666666666666666, \"#ed7953\"], [0.7777777777777778, \"#fb9f3a\"], [0.8888888888888888, \"#fdca26\"], [1.0, \"#f0f921\"]], \"sequentialminus\": [[0.0, \"#0d0887\"], [0.1111111111111111, \"#46039f\"], [0.2222222222222222, \"#7201a8\"], [0.3333333333333333, \"#9c179e\"], [0.4444444444444444, \"#bd3786\"], [0.5555555555555556, \"#d8576b\"], [0.6666666666666666, \"#ed7953\"], [0.7777777777777778, \"#fb9f3a\"], [0.8888888888888888, \"#fdca26\"], [1.0, \"#f0f921\"]]}, \"colorway\": [\"#636efa\", \"#EF553B\", \"#00cc96\", \"#ab63fa\", \"#FFA15A\", \"#19d3f3\", \"#FF6692\", \"#B6E880\", \"#FF97FF\", \"#FECB52\"], \"font\": {\"color\": \"#2a3f5f\"}, \"geo\": {\"bgcolor\": \"white\", \"lakecolor\": \"white\", \"landcolor\": \"#E5ECF6\", \"showlakes\": true, \"showland\": true, \"subunitcolor\": \"white\"}, \"hoverlabel\": {\"align\": \"left\"}, \"hovermode\": \"closest\", \"mapbox\": {\"style\": \"light\"}, \"paper_bgcolor\": \"white\", \"plot_bgcolor\": \"#E5ECF6\", \"polar\": {\"angularaxis\": {\"gridcolor\": \"white\", \"linecolor\": \"white\", \"ticks\": \"\"}, \"bgcolor\": \"#E5ECF6\", \"radialaxis\": {\"gridcolor\": \"white\", \"linecolor\": \"white\", \"ticks\": \"\"}}, \"scene\": {\"xaxis\": {\"backgroundcolor\": \"#E5ECF6\", \"gridcolor\": \"white\", \"gridwidth\": 2, \"linecolor\": \"white\", \"showbackground\": true, \"ticks\": \"\", \"zerolinecolor\": \"white\"}, \"yaxis\": {\"backgroundcolor\": \"#E5ECF6\", \"gridcolor\": \"white\", \"gridwidth\": 2, \"linecolor\": \"white\", \"showbackground\": true, \"ticks\": \"\", \"zerolinecolor\": \"white\"}, \"zaxis\": {\"backgroundcolor\": \"#E5ECF6\", \"gridcolor\": \"white\", \"gridwidth\": 2, \"linecolor\": \"white\", \"showbackground\": true, \"ticks\": \"\", \"zerolinecolor\": \"white\"}}, \"shapedefaults\": {\"line\": {\"color\": \"#2a3f5f\"}}, \"ternary\": {\"aaxis\": {\"gridcolor\": \"white\", \"linecolor\": \"white\", \"ticks\": \"\"}, \"baxis\": {\"gridcolor\": \"white\", \"linecolor\": \"white\", \"ticks\": \"\"}, \"bgcolor\": \"#E5ECF6\", \"caxis\": {\"gridcolor\": \"white\", \"linecolor\": \"white\", \"ticks\": \"\"}}, \"title\": {\"x\": 0.05}, \"xaxis\": {\"automargin\": true, \"gridcolor\": \"white\", \"linecolor\": \"white\", \"ticks\": \"\", \"title\": {\"standoff\": 15}, \"zerolinecolor\": \"white\", \"zerolinewidth\": 2}, \"yaxis\": {\"automargin\": true, \"gridcolor\": \"white\", \"linecolor\": \"white\", \"ticks\": \"\", \"title\": {\"standoff\": 15}, \"zerolinecolor\": \"white\", \"zerolinewidth\": 2}}}, \"title\": {\"text\": \"Positive cases Every Month\"}, \"width\": 1000, \"xaxis\": {\"anchor\": \"y\", \"domain\": [0.0, 0.98], \"title\": {\"text\": \"month\"}}, \"xaxis2\": {\"anchor\": \"y2\", \"domain\": [0.0, 0.98], \"matches\": \"x\", \"showticklabels\": false}, \"xaxis3\": {\"anchor\": \"y3\", \"domain\": [0.0, 0.98], \"matches\": \"x\", \"showticklabels\": false}, \"xaxis4\": {\"anchor\": \"y4\", \"domain\": [0.0, 0.98], \"matches\": \"x\", \"showticklabels\": false}, \"xaxis5\": {\"anchor\": \"y5\", \"domain\": [0.0, 0.98], \"matches\": \"x\", \"showticklabels\": false}, \"xaxis6\": {\"anchor\": \"y6\", \"domain\": [0.0, 0.98], \"matches\": \"x\", \"showticklabels\": false}, \"xaxis7\": {\"anchor\": \"y7\", \"domain\": [0.0, 0.98], \"matches\": \"x\", \"showticklabels\": false}, \"yaxis\": {\"anchor\": \"x\", \"domain\": [0.0, 0.11714285714285715], \"title\": {\"text\": \"sum of positive\"}}, \"yaxis2\": {\"anchor\": \"x2\", \"domain\": [0.14714285714285713, 0.2642857142857143], \"matches\": \"y\", \"title\": {\"text\": \"sum of positive\"}}, \"yaxis3\": {\"anchor\": \"x3\", \"domain\": [0.29428571428571426, 0.4114285714285714], \"matches\": \"y\", \"title\": {\"text\": \"sum of positive\"}}, \"yaxis4\": {\"anchor\": \"x4\", \"domain\": [0.4414285714285714, 0.5585714285714285], \"matches\": \"y\", \"title\": {\"text\": \"sum of positive\"}}, \"yaxis5\": {\"anchor\": \"x5\", \"domain\": [0.5885714285714285, 0.7057142857142856], \"matches\": \"y\", \"title\": {\"text\": \"sum of positive\"}}, \"yaxis6\": {\"anchor\": \"x6\", \"domain\": [0.7357142857142858, 0.8528571428571429], \"matches\": \"y\", \"title\": {\"text\": \"sum of positive\"}}, \"yaxis7\": {\"anchor\": \"x7\", \"domain\": [0.8828571428571428, 0.9999999999999999], \"matches\": \"y\", \"title\": {\"text\": \"sum of positive\"}}},                        {\"responsive\": true}                    ).then(function(){\n",
       "                            \n",
       "var gd = document.getElementById('a2e7f160-837d-4a73-8c43-fa991d5b4e11');\n",
       "var x = new MutationObserver(function (mutations, observer) {{\n",
       "        var display = window.getComputedStyle(gd).display;\n",
       "        if (!display || display === 'none') {{\n",
       "            console.log([gd, 'removed!']);\n",
       "            Plotly.purge(gd);\n",
       "            observer.disconnect();\n",
       "        }}\n",
       "}});\n",
       "\n",
       "// Listen for the removal of the full notebook cells\n",
       "var notebookContainer = gd.closest('#notebook-container');\n",
       "if (notebookContainer) {{\n",
       "    x.observe(notebookContainer, {childList: true});\n",
       "}}\n",
       "\n",
       "// Listen for the clearing of the current output cell\n",
       "var outputEl = gd.closest('.output');\n",
       "if (outputEl) {{\n",
       "    x.observe(outputEl, {childList: true});\n",
       "}}\n",
       "\n",
       "                        })                };                });            </script>        </div>"
      ]
     },
     "metadata": {},
     "output_type": "display_data"
    }
   ],
   "source": [
    "import plotly.express as px\n",
    "fig = px.histogram(df_1, x='month', y='positive',title='Positive cases Every Month',color='Year',facet_row='Dayofweek',width=1000, height=1000)\n",
    "fig"
   ]
  },
  {
   "cell_type": "code",
   "execution_count": 126,
   "id": "54482ac4",
   "metadata": {},
   "outputs": [
    {
     "data": {
      "application/vnd.plotly.v1+json": {
       "config": {
        "plotlyServerURL": "https://plot.ly"
       },
       "data": [
        {
         "alignmentgroup": "True",
         "bingroup": "x",
         "histfunc": "sum",
         "hovertemplate": "Year=2021<br>Dayofweek=6<br>month=%{x}<br>sum of death=%{y}<extra></extra>",
         "legendgroup": "2021",
         "marker": {
          "color": "#636efa"
         },
         "name": "2021",
         "offsetgroup": "2021",
         "orientation": "v",
         "showlegend": true,
         "type": "histogram",
         "x": [
          "Mar",
          "Feb",
          "Feb",
          "Feb",
          "Feb",
          "Jan",
          "Jan",
          "Jan",
          "Jan",
          "Jan"
         ],
         "xaxis": "x7",
         "y": [
          16417,
          16118,
          15826,
          15484,
          14999,
          14577,
          14133,
          13652,
          13151,
          12610
         ],
         "yaxis": "y7"
        },
        {
         "alignmentgroup": "True",
         "bingroup": "x",
         "histfunc": "sum",
         "hovertemplate": "Year=2021<br>Dayofweek=5<br>month=%{x}<br>sum of death=%{y}<extra></extra>",
         "legendgroup": "2021",
         "marker": {
          "color": "#636efa"
         },
         "name": "2021",
         "offsetgroup": "2021",
         "orientation": "v",
         "showlegend": false,
         "type": "histogram",
         "x": [
          "Mar",
          "Feb",
          "Feb",
          "Feb",
          "Feb",
          "Jan",
          "Jan",
          "Jan",
          "Jan",
          "Jan"
         ],
         "xaxis": "x6",
         "y": [
          16374,
          16067,
          15779,
          15424,
          14921,
          14531,
          14064,
          13583,
          13074,
          12502
         ],
         "yaxis": "y6"
        },
        {
         "alignmentgroup": "True",
         "bingroup": "x",
         "histfunc": "sum",
         "hovertemplate": "Year=2021<br>Dayofweek=4<br>month=%{x}<br>sum of death=%{y}<extra></extra>",
         "legendgroup": "2021",
         "marker": {
          "color": "#636efa"
         },
         "name": "2021",
         "offsetgroup": "2021",
         "orientation": "v",
         "showlegend": false,
         "type": "histogram",
         "x": [
          "Mar",
          "Feb",
          "Feb",
          "Feb",
          "Feb",
          "Jan",
          "Jan",
          "Jan",
          "Jan",
          "Jan"
         ],
         "xaxis": "x5",
         "y": [
          16322,
          16024,
          15726,
          15358,
          14859,
          14444,
          13987,
          13509,
          12985,
          12423
         ],
         "yaxis": "y5"
        },
        {
         "alignmentgroup": "True",
         "bingroup": "x",
         "histfunc": "sum",
         "hovertemplate": "Year=2021<br>Dayofweek=3<br>month=%{x}<br>sum of death=%{y}<extra></extra>",
         "legendgroup": "2021",
         "marker": {
          "color": "#636efa"
         },
         "name": "2021",
         "offsetgroup": "2021",
         "orientation": "v",
         "showlegend": false,
         "type": "histogram",
         "x": [
          "Mar",
          "Feb",
          "Feb",
          "Feb",
          "Feb",
          "Jan",
          "Jan",
          "Jan",
          "Jan"
         ],
         "xaxis": "x4",
         "y": [
          16296,
          15978,
          15686,
          15269,
          14784,
          14348,
          13906,
          13433,
          12909
         ],
         "yaxis": "y4"
        },
        {
         "alignmentgroup": "True",
         "bingroup": "x",
         "histfunc": "sum",
         "hovertemplate": "Year=2021<br>Dayofweek=2<br>month=%{x}<br>sum of death=%{y}<extra></extra>",
         "legendgroup": "2021",
         "marker": {
          "color": "#636efa"
         },
         "name": "2021",
         "offsetgroup": "2021",
         "orientation": "v",
         "showlegend": false,
         "type": "histogram",
         "x": [
          "Mar",
          "Feb",
          "Feb",
          "Feb",
          "Feb",
          "Jan",
          "Jan",
          "Jan",
          "Jan"
         ],
         "xaxis": "x3",
         "y": [
          16252,
          15945,
          15623,
          15207,
          14708,
          14304,
          13829,
          13359,
          12836
         ],
         "yaxis": "y3"
        },
        {
         "alignmentgroup": "True",
         "bingroup": "x",
         "histfunc": "sum",
         "hovertemplate": "Year=2021<br>Dayofweek=1<br>month=%{x}<br>sum of death=%{y}<extra></extra>",
         "legendgroup": "2021",
         "marker": {
          "color": "#636efa"
         },
         "name": "2021",
         "offsetgroup": "2021",
         "orientation": "v",
         "showlegend": false,
         "type": "histogram",
         "x": [
          "Mar",
          "Feb",
          "Feb",
          "Feb",
          "Feb",
          "Jan",
          "Jan",
          "Jan",
          "Jan"
         ],
         "xaxis": "x2",
         "y": [
          16182,
          15883,
          15567,
          15124,
          14652,
          14220,
          13749,
          13273,
          12734
         ],
         "yaxis": "y2"
        },
        {
         "alignmentgroup": "True",
         "bingroup": "x",
         "histfunc": "sum",
         "hovertemplate": "Year=2021<br>Dayofweek=0<br>month=%{x}<br>sum of death=%{y}<extra></extra>",
         "legendgroup": "2021",
         "marker": {
          "color": "#636efa"
         },
         "name": "2021",
         "offsetgroup": "2021",
         "orientation": "v",
         "showlegend": false,
         "type": "histogram",
         "x": [
          "Mar",
          "Feb",
          "Feb",
          "Feb",
          "Feb",
          "Jan",
          "Jan",
          "Jan",
          "Jan"
         ],
         "xaxis": "x",
         "y": [
          16144,
          15853,
          15517,
          15054,
          14607,
          14178,
          13705,
          13206,
          12671
         ],
         "yaxis": "y"
        },
        {
         "alignmentgroup": "True",
         "bingroup": "x",
         "histfunc": "sum",
         "hovertemplate": "Year=2020<br>Dayofweek=6<br>month=%{x}<br>sum of death=%{y}<extra></extra>",
         "legendgroup": "2020",
         "marker": {
          "color": "#EF553B"
         },
         "name": "2020",
         "offsetgroup": "2020",
         "orientation": "v",
         "showlegend": true,
         "type": "histogram",
         "x": [
          "Dec",
          "Dec",
          "Dec",
          "Dec",
          "Nov",
          "Nov",
          "Nov",
          "Nov",
          "Nov",
          "Oct",
          "Oct",
          "Oct",
          "Oct",
          "Sep",
          "Sep",
          "Sep",
          "Sep",
          "Aug",
          "Aug",
          "Aug",
          "Aug",
          "Aug",
          "Jul",
          "Jul",
          "Jul",
          "Jul",
          "Jun",
          "Jun",
          "Jun",
          "Jun",
          "May",
          "May",
          "May",
          "May",
          "May",
          "Apr",
          "Apr",
          "Apr",
          "Apr",
          "Mar",
          "Mar",
          "Mar",
          "Mar",
          "Mar",
          "Feb",
          "Feb",
          "Feb",
          "Feb",
          "Jan"
         ],
         "xaxis": "x7",
         "y": [
          12110,
          11717,
          11349,
          11004,
          10722,
          10512,
          10329,
          10149,
          10013,
          9864,
          9737,
          9604,
          9510,
          9404,
          9310,
          9210,
          9125,
          9049,
          8921,
          8829,
          8735,
          8638,
          8529,
          8431,
          8325,
          8183,
          8060,
          7858,
          7624,
          7316,
          6846,
          6372,
          5797,
          4979,
          4004,
          2899,
          2146,
          1056,
          370,
          99,
          11,
          9180,
          9180,
          9180,
          9180,
          9180,
          9180,
          9180,
          9180
         ],
         "yaxis": "y7"
        },
        {
         "alignmentgroup": "True",
         "bingroup": "x",
         "histfunc": "sum",
         "hovertemplate": "Year=2020<br>Dayofweek=5<br>month=%{x}<br>sum of death=%{y}<extra></extra>",
         "legendgroup": "2020",
         "marker": {
          "color": "#EF553B"
         },
         "name": "2020",
         "offsetgroup": "2020",
         "orientation": "v",
         "showlegend": false,
         "type": "histogram",
         "x": [
          "Dec",
          "Dec",
          "Dec",
          "Dec",
          "Nov",
          "Nov",
          "Nov",
          "Nov",
          "Oct",
          "Oct",
          "Oct",
          "Oct",
          "Oct",
          "Sep",
          "Sep",
          "Sep",
          "Sep",
          "Aug",
          "Aug",
          "Aug",
          "Aug",
          "Aug",
          "Jul",
          "Jul",
          "Jul",
          "Jul",
          "Jun",
          "Jun",
          "Jun",
          "Jun",
          "May",
          "May",
          "May",
          "May",
          "May",
          "Apr",
          "Apr",
          "Apr",
          "Apr",
          "Mar",
          "Mar",
          "Mar",
          "Mar",
          "Feb",
          "Feb",
          "Feb",
          "Feb",
          "Feb",
          "Jan"
         ],
         "xaxis": "x6",
         "y": [
          12010,
          11657,
          11307,
          10953,
          10676,
          10488,
          10293,
          10129,
          9991,
          9839,
          9723,
          9587,
          9507,
          9391,
          9295,
          9196,
          9116,
          9036,
          8921,
          8818,
          8721,
          8626,
          8510,
          8419,
          8310,
          8172,
          8041,
          7828,
          7576,
          7289,
          6768,
          6304,
          5705,
          4840,
          3846,
          2877,
          1983,
          946,
          304,
          72,
          7,
          9180,
          9180,
          9180,
          9180,
          9180,
          9180,
          9180,
          9180
         ],
         "yaxis": "y6"
        },
        {
         "alignmentgroup": "True",
         "bingroup": "x",
         "histfunc": "sum",
         "hovertemplate": "Year=2020<br>Dayofweek=4<br>month=%{x}<br>sum of death=%{y}<extra></extra>",
         "legendgroup": "2020",
         "marker": {
          "color": "#EF553B"
         },
         "name": "2020",
         "offsetgroup": "2020",
         "orientation": "v",
         "showlegend": false,
         "type": "histogram",
         "x": [
          "Dec",
          "Dec",
          "Dec",
          "Dec",
          "Nov",
          "Nov",
          "Nov",
          "Nov",
          "Oct",
          "Oct",
          "Oct",
          "Oct",
          "Oct",
          "Sep",
          "Sep",
          "Sep",
          "Sep",
          "Aug",
          "Aug",
          "Aug",
          "Aug",
          "Jul",
          "Jul",
          "Jul",
          "Jul",
          "Jul",
          "Jun",
          "Jun",
          "Jun",
          "Jun",
          "May",
          "May",
          "May",
          "May",
          "May",
          "Apr",
          "Apr",
          "Apr",
          "Apr",
          "Mar",
          "Mar",
          "Mar",
          "Mar",
          "Feb",
          "Feb",
          "Feb",
          "Feb",
          "Jan",
          "Jan"
         ],
         "xaxis": "x5",
         "y": [
          11963,
          11610,
          11257,
          10910,
          10635,
          10469,
          10265,
          10106,
          9975,
          9830,
          9702,
          9577,
          9490,
          9373,
          9269,
          9180,
          9100,
          9023,
          8901,
          8804,
          8709,
          8609,
          8498,
          8402,
          8296,
          8149,
          8013,
          7800,
          7538,
          7235,
          6718,
          6228,
          5592,
          4702,
          3716,
          2877,
          1822,
          832,
          265,
          57,
          5,
          9180,
          9180,
          9180,
          9180,
          9180,
          9180,
          9180,
          9180
         ],
         "yaxis": "y5"
        },
        {
         "alignmentgroup": "True",
         "bingroup": "x",
         "histfunc": "sum",
         "hovertemplate": "Year=2020<br>Dayofweek=3<br>month=%{x}<br>sum of death=%{y}<extra></extra>",
         "legendgroup": "2020",
         "marker": {
          "color": "#EF553B"
         },
         "name": "2020",
         "offsetgroup": "2020",
         "orientation": "v",
         "showlegend": false,
         "type": "histogram",
         "x": [
          "Dec",
          "Dec",
          "Dec",
          "Dec",
          "Dec",
          "Nov",
          "Nov",
          "Nov",
          "Nov",
          "Oct",
          "Oct",
          "Oct",
          "Oct",
          "Oct",
          "Sep",
          "Sep",
          "Sep",
          "Sep",
          "Aug",
          "Aug",
          "Aug",
          "Aug",
          "Jul",
          "Jul",
          "Jul",
          "Jul",
          "Jul",
          "Jun",
          "Jun",
          "Jun",
          "Jun",
          "May",
          "May",
          "May",
          "May",
          "Apr",
          "Apr",
          "Apr",
          "Apr",
          "Apr",
          "Mar",
          "Mar",
          "Mar",
          "Mar",
          "Feb",
          "Feb",
          "Feb",
          "Feb",
          "Jan",
          "Jan"
         ],
         "xaxis": "x4",
         "y": [
          12423,
          11963,
          11558,
          11209,
          10874,
          10604,
          10435,
          10242,
          10085,
          9951,
          9810,
          9672,
          9565,
          9480,
          9362,
          9260,
          9166,
          9077,
          9007,
          8888,
          8790,
          8691,
          8595,
          8484,
          8380,
          8268,
          8132,
          7963,
          7770,
          7492,
          7201,
          6640,
          6148,
          5482,
          4552,
          3562,
          2769,
          1667,
          725,
          229,
          42,
          3,
          9180,
          9180,
          9180,
          9180,
          9180,
          9180,
          9180,
          9180
         ],
         "yaxis": "y4"
        },
        {
         "alignmentgroup": "True",
         "bingroup": "x",
         "histfunc": "sum",
         "hovertemplate": "Year=2020<br>Dayofweek=2<br>month=%{x}<br>sum of death=%{y}<extra></extra>",
         "legendgroup": "2020",
         "marker": {
          "color": "#EF553B"
         },
         "name": "2020",
         "offsetgroup": "2020",
         "orientation": "v",
         "showlegend": false,
         "type": "histogram",
         "x": [
          "Dec",
          "Dec",
          "Dec",
          "Dec",
          "Dec",
          "Nov",
          "Nov",
          "Nov",
          "Nov",
          "Oct",
          "Oct",
          "Oct",
          "Oct",
          "Sep",
          "Sep",
          "Sep",
          "Sep",
          "Sep",
          "Aug",
          "Aug",
          "Aug",
          "Aug",
          "Jul",
          "Jul",
          "Jul",
          "Jul",
          "Jul",
          "Jun",
          "Jun",
          "Jun",
          "Jun",
          "May",
          "May",
          "May",
          "May",
          "Apr",
          "Apr",
          "Apr",
          "Apr",
          "Apr",
          "Mar",
          "Mar",
          "Mar",
          "Mar",
          "Feb",
          "Feb",
          "Feb",
          "Feb",
          "Jan",
          "Jan"
         ],
         "xaxis": "x3",
         "y": [
          12338,
          11887,
          11513,
          11166,
          10824,
          10604,
          10407,
          10222,
          10062,
          9924,
          9780,
          9647,
          9557,
          9456,
          9347,
          9245,
          9146,
          9060,
          8987,
          8876,
          8769,
          8659,
          8580,
          8468,
          8368,
          8243,
          8081,
          7938,
          7734,
          7454,
          7152,
          6547,
          6066,
          5315,
          4420,
          3405,
          2597,
          1502,
          615,
          187,
          33,
          2,
          9180,
          9180,
          9180,
          9180,
          9180,
          9180,
          9180,
          9180
         ],
         "yaxis": "y3"
        },
        {
         "alignmentgroup": "True",
         "bingroup": "x",
         "histfunc": "sum",
         "hovertemplate": "Year=2020<br>Dayofweek=1<br>month=%{x}<br>sum of death=%{y}<extra></extra>",
         "legendgroup": "2020",
         "marker": {
          "color": "#EF553B"
         },
         "name": "2020",
         "offsetgroup": "2020",
         "orientation": "v",
         "showlegend": false,
         "type": "histogram",
         "x": [
          "Dec",
          "Dec",
          "Dec",
          "Dec",
          "Dec",
          "Nov",
          "Nov",
          "Nov",
          "Nov",
          "Oct",
          "Oct",
          "Oct",
          "Oct",
          "Sep",
          "Sep",
          "Sep",
          "Sep",
          "Sep",
          "Aug",
          "Aug",
          "Aug",
          "Aug",
          "Jul",
          "Jul",
          "Jul",
          "Jul",
          "Jun",
          "Jun",
          "Jun",
          "Jun",
          "Jun",
          "May",
          "May",
          "May",
          "May",
          "Apr",
          "Apr",
          "Apr",
          "Apr",
          "Mar",
          "Mar",
          "Mar",
          "Mar",
          "Mar",
          "Feb",
          "Feb",
          "Feb",
          "Feb",
          "Jan"
         ],
         "xaxis": "x2",
         "y": [
          12218,
          11804,
          11443,
          11076,
          10778,
          10551,
          10360,
          10184,
          10035,
          9888,
          9758,
          9630,
          9538,
          9423,
          9328,
          9225,
          9141,
          9064,
          8960,
          8839,
          8751,
          8657,
          8551,
          8450,
          8340,
          8213,
          8054,
          7890,
          7665,
          7408,
          7085,
          6473,
          5938,
          5141,
          4212,
          3153,
          2449,
          1329,
          515,
          153,
          26,
          9180,
          9180,
          9180,
          9180,
          9180,
          9180,
          9180,
          9180
         ],
         "yaxis": "y2"
        },
        {
         "alignmentgroup": "True",
         "bingroup": "x",
         "histfunc": "sum",
         "hovertemplate": "Year=2020<br>Dayofweek=0<br>month=%{x}<br>sum of death=%{y}<extra></extra>",
         "legendgroup": "2020",
         "marker": {
          "color": "#EF553B"
         },
         "name": "2020",
         "offsetgroup": "2020",
         "orientation": "v",
         "showlegend": false,
         "type": "histogram",
         "x": [
          "Dec",
          "Dec",
          "Dec",
          "Dec",
          "Nov",
          "Nov",
          "Nov",
          "Nov",
          "Nov",
          "Oct",
          "Oct",
          "Oct",
          "Oct",
          "Sep",
          "Sep",
          "Sep",
          "Sep",
          "Aug",
          "Aug",
          "Aug",
          "Aug",
          "Aug",
          "Jul",
          "Jul",
          "Jul",
          "Jul",
          "Jun",
          "Jun",
          "Jun",
          "Jun",
          "Jun",
          "May",
          "May",
          "May",
          "May",
          "Apr",
          "Apr",
          "Apr",
          "Apr",
          "Mar",
          "Mar",
          "Mar",
          "Mar",
          "Mar",
          "Feb",
          "Feb",
          "Feb",
          "Feb",
          "Jan"
         ],
         "xaxis": "x",
         "y": [
          12158,
          11759,
          11388,
          11035,
          10748,
          10531,
          10340,
          10163,
          10023,
          9881,
          9753,
          9617,
          9530,
          9415,
          9317,
          9219,
          9133,
          9060,
          8948,
          8833,
          8741,
          8648,
          8536,
          8433,
          8330,
          8198,
          8095,
          7874,
          7647,
          7353,
          7035,
          6416,
          5862,
          5108,
          4090,
          3003,
          2303,
          1211,
          448,
          124,
          17,
          9180,
          9180,
          9180,
          9180,
          9180,
          9180,
          9180,
          9180
         ],
         "yaxis": "y"
        }
       ],
       "layout": {
        "annotations": [
         {
          "font": {},
          "showarrow": false,
          "text": "Dayofweek=0",
          "textangle": 90,
          "x": 0.98,
          "xanchor": "left",
          "xref": "paper",
          "y": 0.05857142857142857,
          "yanchor": "middle",
          "yref": "paper"
         },
         {
          "font": {},
          "showarrow": false,
          "text": "Dayofweek=1",
          "textangle": 90,
          "x": 0.98,
          "xanchor": "left",
          "xref": "paper",
          "y": 0.2057142857142857,
          "yanchor": "middle",
          "yref": "paper"
         },
         {
          "font": {},
          "showarrow": false,
          "text": "Dayofweek=2",
          "textangle": 90,
          "x": 0.98,
          "xanchor": "left",
          "xref": "paper",
          "y": 0.35285714285714287,
          "yanchor": "middle",
          "yref": "paper"
         },
         {
          "font": {},
          "showarrow": false,
          "text": "Dayofweek=3",
          "textangle": 90,
          "x": 0.98,
          "xanchor": "left",
          "xref": "paper",
          "y": 0.49999999999999994,
          "yanchor": "middle",
          "yref": "paper"
         },
         {
          "font": {},
          "showarrow": false,
          "text": "Dayofweek=4",
          "textangle": 90,
          "x": 0.98,
          "xanchor": "left",
          "xref": "paper",
          "y": 0.647142857142857,
          "yanchor": "middle",
          "yref": "paper"
         },
         {
          "font": {},
          "showarrow": false,
          "text": "Dayofweek=5",
          "textangle": 90,
          "x": 0.98,
          "xanchor": "left",
          "xref": "paper",
          "y": 0.7942857142857143,
          "yanchor": "middle",
          "yref": "paper"
         },
         {
          "font": {},
          "showarrow": false,
          "text": "Dayofweek=6",
          "textangle": 90,
          "x": 0.98,
          "xanchor": "left",
          "xref": "paper",
          "y": 0.9414285714285713,
          "yanchor": "middle",
          "yref": "paper"
         }
        ],
        "barmode": "relative",
        "height": 1000,
        "legend": {
         "title": {
          "text": "Year"
         },
         "tracegroupgap": 0
        },
        "template": {
         "data": {
          "bar": [
           {
            "error_x": {
             "color": "#2a3f5f"
            },
            "error_y": {
             "color": "#2a3f5f"
            },
            "marker": {
             "line": {
              "color": "#E5ECF6",
              "width": 0.5
             }
            },
            "type": "bar"
           }
          ],
          "barpolar": [
           {
            "marker": {
             "line": {
              "color": "#E5ECF6",
              "width": 0.5
             }
            },
            "type": "barpolar"
           }
          ],
          "carpet": [
           {
            "aaxis": {
             "endlinecolor": "#2a3f5f",
             "gridcolor": "white",
             "linecolor": "white",
             "minorgridcolor": "white",
             "startlinecolor": "#2a3f5f"
            },
            "baxis": {
             "endlinecolor": "#2a3f5f",
             "gridcolor": "white",
             "linecolor": "white",
             "minorgridcolor": "white",
             "startlinecolor": "#2a3f5f"
            },
            "type": "carpet"
           }
          ],
          "choropleth": [
           {
            "colorbar": {
             "outlinewidth": 0,
             "ticks": ""
            },
            "type": "choropleth"
           }
          ],
          "contour": [
           {
            "colorbar": {
             "outlinewidth": 0,
             "ticks": ""
            },
            "colorscale": [
             [
              0,
              "#0d0887"
             ],
             [
              0.1111111111111111,
              "#46039f"
             ],
             [
              0.2222222222222222,
              "#7201a8"
             ],
             [
              0.3333333333333333,
              "#9c179e"
             ],
             [
              0.4444444444444444,
              "#bd3786"
             ],
             [
              0.5555555555555556,
              "#d8576b"
             ],
             [
              0.6666666666666666,
              "#ed7953"
             ],
             [
              0.7777777777777778,
              "#fb9f3a"
             ],
             [
              0.8888888888888888,
              "#fdca26"
             ],
             [
              1,
              "#f0f921"
             ]
            ],
            "type": "contour"
           }
          ],
          "contourcarpet": [
           {
            "colorbar": {
             "outlinewidth": 0,
             "ticks": ""
            },
            "type": "contourcarpet"
           }
          ],
          "heatmap": [
           {
            "colorbar": {
             "outlinewidth": 0,
             "ticks": ""
            },
            "colorscale": [
             [
              0,
              "#0d0887"
             ],
             [
              0.1111111111111111,
              "#46039f"
             ],
             [
              0.2222222222222222,
              "#7201a8"
             ],
             [
              0.3333333333333333,
              "#9c179e"
             ],
             [
              0.4444444444444444,
              "#bd3786"
             ],
             [
              0.5555555555555556,
              "#d8576b"
             ],
             [
              0.6666666666666666,
              "#ed7953"
             ],
             [
              0.7777777777777778,
              "#fb9f3a"
             ],
             [
              0.8888888888888888,
              "#fdca26"
             ],
             [
              1,
              "#f0f921"
             ]
            ],
            "type": "heatmap"
           }
          ],
          "heatmapgl": [
           {
            "colorbar": {
             "outlinewidth": 0,
             "ticks": ""
            },
            "colorscale": [
             [
              0,
              "#0d0887"
             ],
             [
              0.1111111111111111,
              "#46039f"
             ],
             [
              0.2222222222222222,
              "#7201a8"
             ],
             [
              0.3333333333333333,
              "#9c179e"
             ],
             [
              0.4444444444444444,
              "#bd3786"
             ],
             [
              0.5555555555555556,
              "#d8576b"
             ],
             [
              0.6666666666666666,
              "#ed7953"
             ],
             [
              0.7777777777777778,
              "#fb9f3a"
             ],
             [
              0.8888888888888888,
              "#fdca26"
             ],
             [
              1,
              "#f0f921"
             ]
            ],
            "type": "heatmapgl"
           }
          ],
          "histogram": [
           {
            "marker": {
             "colorbar": {
              "outlinewidth": 0,
              "ticks": ""
             }
            },
            "type": "histogram"
           }
          ],
          "histogram2d": [
           {
            "colorbar": {
             "outlinewidth": 0,
             "ticks": ""
            },
            "colorscale": [
             [
              0,
              "#0d0887"
             ],
             [
              0.1111111111111111,
              "#46039f"
             ],
             [
              0.2222222222222222,
              "#7201a8"
             ],
             [
              0.3333333333333333,
              "#9c179e"
             ],
             [
              0.4444444444444444,
              "#bd3786"
             ],
             [
              0.5555555555555556,
              "#d8576b"
             ],
             [
              0.6666666666666666,
              "#ed7953"
             ],
             [
              0.7777777777777778,
              "#fb9f3a"
             ],
             [
              0.8888888888888888,
              "#fdca26"
             ],
             [
              1,
              "#f0f921"
             ]
            ],
            "type": "histogram2d"
           }
          ],
          "histogram2dcontour": [
           {
            "colorbar": {
             "outlinewidth": 0,
             "ticks": ""
            },
            "colorscale": [
             [
              0,
              "#0d0887"
             ],
             [
              0.1111111111111111,
              "#46039f"
             ],
             [
              0.2222222222222222,
              "#7201a8"
             ],
             [
              0.3333333333333333,
              "#9c179e"
             ],
             [
              0.4444444444444444,
              "#bd3786"
             ],
             [
              0.5555555555555556,
              "#d8576b"
             ],
             [
              0.6666666666666666,
              "#ed7953"
             ],
             [
              0.7777777777777778,
              "#fb9f3a"
             ],
             [
              0.8888888888888888,
              "#fdca26"
             ],
             [
              1,
              "#f0f921"
             ]
            ],
            "type": "histogram2dcontour"
           }
          ],
          "mesh3d": [
           {
            "colorbar": {
             "outlinewidth": 0,
             "ticks": ""
            },
            "type": "mesh3d"
           }
          ],
          "parcoords": [
           {
            "line": {
             "colorbar": {
              "outlinewidth": 0,
              "ticks": ""
             }
            },
            "type": "parcoords"
           }
          ],
          "pie": [
           {
            "automargin": true,
            "type": "pie"
           }
          ],
          "scatter": [
           {
            "marker": {
             "colorbar": {
              "outlinewidth": 0,
              "ticks": ""
             }
            },
            "type": "scatter"
           }
          ],
          "scatter3d": [
           {
            "line": {
             "colorbar": {
              "outlinewidth": 0,
              "ticks": ""
             }
            },
            "marker": {
             "colorbar": {
              "outlinewidth": 0,
              "ticks": ""
             }
            },
            "type": "scatter3d"
           }
          ],
          "scattercarpet": [
           {
            "marker": {
             "colorbar": {
              "outlinewidth": 0,
              "ticks": ""
             }
            },
            "type": "scattercarpet"
           }
          ],
          "scattergeo": [
           {
            "marker": {
             "colorbar": {
              "outlinewidth": 0,
              "ticks": ""
             }
            },
            "type": "scattergeo"
           }
          ],
          "scattergl": [
           {
            "marker": {
             "colorbar": {
              "outlinewidth": 0,
              "ticks": ""
             }
            },
            "type": "scattergl"
           }
          ],
          "scattermapbox": [
           {
            "marker": {
             "colorbar": {
              "outlinewidth": 0,
              "ticks": ""
             }
            },
            "type": "scattermapbox"
           }
          ],
          "scatterpolar": [
           {
            "marker": {
             "colorbar": {
              "outlinewidth": 0,
              "ticks": ""
             }
            },
            "type": "scatterpolar"
           }
          ],
          "scatterpolargl": [
           {
            "marker": {
             "colorbar": {
              "outlinewidth": 0,
              "ticks": ""
             }
            },
            "type": "scatterpolargl"
           }
          ],
          "scatterternary": [
           {
            "marker": {
             "colorbar": {
              "outlinewidth": 0,
              "ticks": ""
             }
            },
            "type": "scatterternary"
           }
          ],
          "surface": [
           {
            "colorbar": {
             "outlinewidth": 0,
             "ticks": ""
            },
            "colorscale": [
             [
              0,
              "#0d0887"
             ],
             [
              0.1111111111111111,
              "#46039f"
             ],
             [
              0.2222222222222222,
              "#7201a8"
             ],
             [
              0.3333333333333333,
              "#9c179e"
             ],
             [
              0.4444444444444444,
              "#bd3786"
             ],
             [
              0.5555555555555556,
              "#d8576b"
             ],
             [
              0.6666666666666666,
              "#ed7953"
             ],
             [
              0.7777777777777778,
              "#fb9f3a"
             ],
             [
              0.8888888888888888,
              "#fdca26"
             ],
             [
              1,
              "#f0f921"
             ]
            ],
            "type": "surface"
           }
          ],
          "table": [
           {
            "cells": {
             "fill": {
              "color": "#EBF0F8"
             },
             "line": {
              "color": "white"
             }
            },
            "header": {
             "fill": {
              "color": "#C8D4E3"
             },
             "line": {
              "color": "white"
             }
            },
            "type": "table"
           }
          ]
         },
         "layout": {
          "annotationdefaults": {
           "arrowcolor": "#2a3f5f",
           "arrowhead": 0,
           "arrowwidth": 1
          },
          "autotypenumbers": "strict",
          "coloraxis": {
           "colorbar": {
            "outlinewidth": 0,
            "ticks": ""
           }
          },
          "colorscale": {
           "diverging": [
            [
             0,
             "#8e0152"
            ],
            [
             0.1,
             "#c51b7d"
            ],
            [
             0.2,
             "#de77ae"
            ],
            [
             0.3,
             "#f1b6da"
            ],
            [
             0.4,
             "#fde0ef"
            ],
            [
             0.5,
             "#f7f7f7"
            ],
            [
             0.6,
             "#e6f5d0"
            ],
            [
             0.7,
             "#b8e186"
            ],
            [
             0.8,
             "#7fbc41"
            ],
            [
             0.9,
             "#4d9221"
            ],
            [
             1,
             "#276419"
            ]
           ],
           "sequential": [
            [
             0,
             "#0d0887"
            ],
            [
             0.1111111111111111,
             "#46039f"
            ],
            [
             0.2222222222222222,
             "#7201a8"
            ],
            [
             0.3333333333333333,
             "#9c179e"
            ],
            [
             0.4444444444444444,
             "#bd3786"
            ],
            [
             0.5555555555555556,
             "#d8576b"
            ],
            [
             0.6666666666666666,
             "#ed7953"
            ],
            [
             0.7777777777777778,
             "#fb9f3a"
            ],
            [
             0.8888888888888888,
             "#fdca26"
            ],
            [
             1,
             "#f0f921"
            ]
           ],
           "sequentialminus": [
            [
             0,
             "#0d0887"
            ],
            [
             0.1111111111111111,
             "#46039f"
            ],
            [
             0.2222222222222222,
             "#7201a8"
            ],
            [
             0.3333333333333333,
             "#9c179e"
            ],
            [
             0.4444444444444444,
             "#bd3786"
            ],
            [
             0.5555555555555556,
             "#d8576b"
            ],
            [
             0.6666666666666666,
             "#ed7953"
            ],
            [
             0.7777777777777778,
             "#fb9f3a"
            ],
            [
             0.8888888888888888,
             "#fdca26"
            ],
            [
             1,
             "#f0f921"
            ]
           ]
          },
          "colorway": [
           "#636efa",
           "#EF553B",
           "#00cc96",
           "#ab63fa",
           "#FFA15A",
           "#19d3f3",
           "#FF6692",
           "#B6E880",
           "#FF97FF",
           "#FECB52"
          ],
          "font": {
           "color": "#2a3f5f"
          },
          "geo": {
           "bgcolor": "white",
           "lakecolor": "white",
           "landcolor": "#E5ECF6",
           "showlakes": true,
           "showland": true,
           "subunitcolor": "white"
          },
          "hoverlabel": {
           "align": "left"
          },
          "hovermode": "closest",
          "mapbox": {
           "style": "light"
          },
          "paper_bgcolor": "white",
          "plot_bgcolor": "#E5ECF6",
          "polar": {
           "angularaxis": {
            "gridcolor": "white",
            "linecolor": "white",
            "ticks": ""
           },
           "bgcolor": "#E5ECF6",
           "radialaxis": {
            "gridcolor": "white",
            "linecolor": "white",
            "ticks": ""
           }
          },
          "scene": {
           "xaxis": {
            "backgroundcolor": "#E5ECF6",
            "gridcolor": "white",
            "gridwidth": 2,
            "linecolor": "white",
            "showbackground": true,
            "ticks": "",
            "zerolinecolor": "white"
           },
           "yaxis": {
            "backgroundcolor": "#E5ECF6",
            "gridcolor": "white",
            "gridwidth": 2,
            "linecolor": "white",
            "showbackground": true,
            "ticks": "",
            "zerolinecolor": "white"
           },
           "zaxis": {
            "backgroundcolor": "#E5ECF6",
            "gridcolor": "white",
            "gridwidth": 2,
            "linecolor": "white",
            "showbackground": true,
            "ticks": "",
            "zerolinecolor": "white"
           }
          },
          "shapedefaults": {
           "line": {
            "color": "#2a3f5f"
           }
          },
          "ternary": {
           "aaxis": {
            "gridcolor": "white",
            "linecolor": "white",
            "ticks": ""
           },
           "baxis": {
            "gridcolor": "white",
            "linecolor": "white",
            "ticks": ""
           },
           "bgcolor": "#E5ECF6",
           "caxis": {
            "gridcolor": "white",
            "linecolor": "white",
            "ticks": ""
           }
          },
          "title": {
           "x": 0.05
          },
          "xaxis": {
           "automargin": true,
           "gridcolor": "white",
           "linecolor": "white",
           "ticks": "",
           "title": {
            "standoff": 15
           },
           "zerolinecolor": "white",
           "zerolinewidth": 2
          },
          "yaxis": {
           "automargin": true,
           "gridcolor": "white",
           "linecolor": "white",
           "ticks": "",
           "title": {
            "standoff": 15
           },
           "zerolinecolor": "white",
           "zerolinewidth": 2
          }
         }
        },
        "title": {
         "text": "Deaths Every Month"
        },
        "width": 1000,
        "xaxis": {
         "anchor": "y",
         "domain": [
          0,
          0.98
         ],
         "title": {
          "text": "month"
         }
        },
        "xaxis2": {
         "anchor": "y2",
         "domain": [
          0,
          0.98
         ],
         "matches": "x",
         "showticklabels": false
        },
        "xaxis3": {
         "anchor": "y3",
         "domain": [
          0,
          0.98
         ],
         "matches": "x",
         "showticklabels": false
        },
        "xaxis4": {
         "anchor": "y4",
         "domain": [
          0,
          0.98
         ],
         "matches": "x",
         "showticklabels": false
        },
        "xaxis5": {
         "anchor": "y5",
         "domain": [
          0,
          0.98
         ],
         "matches": "x",
         "showticklabels": false
        },
        "xaxis6": {
         "anchor": "y6",
         "domain": [
          0,
          0.98
         ],
         "matches": "x",
         "showticklabels": false
        },
        "xaxis7": {
         "anchor": "y7",
         "domain": [
          0,
          0.98
         ],
         "matches": "x",
         "showticklabels": false
        },
        "yaxis": {
         "anchor": "x",
         "domain": [
          0,
          0.11714285714285715
         ],
         "title": {
          "text": "sum of death"
         }
        },
        "yaxis2": {
         "anchor": "x2",
         "domain": [
          0.14714285714285713,
          0.2642857142857143
         ],
         "matches": "y",
         "title": {
          "text": "sum of death"
         }
        },
        "yaxis3": {
         "anchor": "x3",
         "domain": [
          0.29428571428571426,
          0.4114285714285714
         ],
         "matches": "y",
         "title": {
          "text": "sum of death"
         }
        },
        "yaxis4": {
         "anchor": "x4",
         "domain": [
          0.4414285714285714,
          0.5585714285714285
         ],
         "matches": "y",
         "title": {
          "text": "sum of death"
         }
        },
        "yaxis5": {
         "anchor": "x5",
         "domain": [
          0.5885714285714285,
          0.7057142857142856
         ],
         "matches": "y",
         "title": {
          "text": "sum of death"
         }
        },
        "yaxis6": {
         "anchor": "x6",
         "domain": [
          0.7357142857142858,
          0.8528571428571429
         ],
         "matches": "y",
         "title": {
          "text": "sum of death"
         }
        },
        "yaxis7": {
         "anchor": "x7",
         "domain": [
          0.8828571428571428,
          0.9999999999999999
         ],
         "matches": "y",
         "title": {
          "text": "sum of death"
         }
        }
       }
      },
      "text/html": [
       "<div>                            <div id=\"acd3202e-1791-4ef5-975d-0b343370c09f\" class=\"plotly-graph-div\" style=\"height:1000px; width:1000px;\"></div>            <script type=\"text/javascript\">                require([\"plotly\"], function(Plotly) {                    window.PLOTLYENV=window.PLOTLYENV || {};                                    if (document.getElementById(\"acd3202e-1791-4ef5-975d-0b343370c09f\")) {                    Plotly.newPlot(                        \"acd3202e-1791-4ef5-975d-0b343370c09f\",                        [{\"alignmentgroup\": \"True\", \"bingroup\": \"x\", \"histfunc\": \"sum\", \"hovertemplate\": \"Year=2021<br>Dayofweek=6<br>month=%{x}<br>sum of death=%{y}<extra></extra>\", \"legendgroup\": \"2021\", \"marker\": {\"color\": \"#636efa\"}, \"name\": \"2021\", \"offsetgroup\": \"2021\", \"orientation\": \"v\", \"showlegend\": true, \"type\": \"histogram\", \"x\": [\"Mar\", \"Feb\", \"Feb\", \"Feb\", \"Feb\", \"Jan\", \"Jan\", \"Jan\", \"Jan\", \"Jan\"], \"xaxis\": \"x7\", \"y\": [16417.0, 16118.0, 15826.0, 15484.0, 14999.0, 14577.0, 14133.0, 13652.0, 13151.0, 12610.0], \"yaxis\": \"y7\"}, {\"alignmentgroup\": \"True\", \"bingroup\": \"x\", \"histfunc\": \"sum\", \"hovertemplate\": \"Year=2021<br>Dayofweek=5<br>month=%{x}<br>sum of death=%{y}<extra></extra>\", \"legendgroup\": \"2021\", \"marker\": {\"color\": \"#636efa\"}, \"name\": \"2021\", \"offsetgroup\": \"2021\", \"orientation\": \"v\", \"showlegend\": false, \"type\": \"histogram\", \"x\": [\"Mar\", \"Feb\", \"Feb\", \"Feb\", \"Feb\", \"Jan\", \"Jan\", \"Jan\", \"Jan\", \"Jan\"], \"xaxis\": \"x6\", \"y\": [16374.0, 16067.0, 15779.0, 15424.0, 14921.0, 14531.0, 14064.0, 13583.0, 13074.0, 12502.0], \"yaxis\": \"y6\"}, {\"alignmentgroup\": \"True\", \"bingroup\": \"x\", \"histfunc\": \"sum\", \"hovertemplate\": \"Year=2021<br>Dayofweek=4<br>month=%{x}<br>sum of death=%{y}<extra></extra>\", \"legendgroup\": \"2021\", \"marker\": {\"color\": \"#636efa\"}, \"name\": \"2021\", \"offsetgroup\": \"2021\", \"orientation\": \"v\", \"showlegend\": false, \"type\": \"histogram\", \"x\": [\"Mar\", \"Feb\", \"Feb\", \"Feb\", \"Feb\", \"Jan\", \"Jan\", \"Jan\", \"Jan\", \"Jan\"], \"xaxis\": \"x5\", \"y\": [16322.0, 16024.0, 15726.0, 15358.0, 14859.0, 14444.0, 13987.0, 13509.0, 12985.0, 12423.0], \"yaxis\": \"y5\"}, {\"alignmentgroup\": \"True\", \"bingroup\": \"x\", \"histfunc\": \"sum\", \"hovertemplate\": \"Year=2021<br>Dayofweek=3<br>month=%{x}<br>sum of death=%{y}<extra></extra>\", \"legendgroup\": \"2021\", \"marker\": {\"color\": \"#636efa\"}, \"name\": \"2021\", \"offsetgroup\": \"2021\", \"orientation\": \"v\", \"showlegend\": false, \"type\": \"histogram\", \"x\": [\"Mar\", \"Feb\", \"Feb\", \"Feb\", \"Feb\", \"Jan\", \"Jan\", \"Jan\", \"Jan\"], \"xaxis\": \"x4\", \"y\": [16296.0, 15978.0, 15686.0, 15269.0, 14784.0, 14348.0, 13906.0, 13433.0, 12909.0], \"yaxis\": \"y4\"}, {\"alignmentgroup\": \"True\", \"bingroup\": \"x\", \"histfunc\": \"sum\", \"hovertemplate\": \"Year=2021<br>Dayofweek=2<br>month=%{x}<br>sum of death=%{y}<extra></extra>\", \"legendgroup\": \"2021\", \"marker\": {\"color\": \"#636efa\"}, \"name\": \"2021\", \"offsetgroup\": \"2021\", \"orientation\": \"v\", \"showlegend\": false, \"type\": \"histogram\", \"x\": [\"Mar\", \"Feb\", \"Feb\", \"Feb\", \"Feb\", \"Jan\", \"Jan\", \"Jan\", \"Jan\"], \"xaxis\": \"x3\", \"y\": [16252.0, 15945.0, 15623.0, 15207.0, 14708.0, 14304.0, 13829.0, 13359.0, 12836.0], \"yaxis\": \"y3\"}, {\"alignmentgroup\": \"True\", \"bingroup\": \"x\", \"histfunc\": \"sum\", \"hovertemplate\": \"Year=2021<br>Dayofweek=1<br>month=%{x}<br>sum of death=%{y}<extra></extra>\", \"legendgroup\": \"2021\", \"marker\": {\"color\": \"#636efa\"}, \"name\": \"2021\", \"offsetgroup\": \"2021\", \"orientation\": \"v\", \"showlegend\": false, \"type\": \"histogram\", \"x\": [\"Mar\", \"Feb\", \"Feb\", \"Feb\", \"Feb\", \"Jan\", \"Jan\", \"Jan\", \"Jan\"], \"xaxis\": \"x2\", \"y\": [16182.0, 15883.0, 15567.0, 15124.0, 14652.0, 14220.0, 13749.0, 13273.0, 12734.0], \"yaxis\": \"y2\"}, {\"alignmentgroup\": \"True\", \"bingroup\": \"x\", \"histfunc\": \"sum\", \"hovertemplate\": \"Year=2021<br>Dayofweek=0<br>month=%{x}<br>sum of death=%{y}<extra></extra>\", \"legendgroup\": \"2021\", \"marker\": {\"color\": \"#636efa\"}, \"name\": \"2021\", \"offsetgroup\": \"2021\", \"orientation\": \"v\", \"showlegend\": false, \"type\": \"histogram\", \"x\": [\"Mar\", \"Feb\", \"Feb\", \"Feb\", \"Feb\", \"Jan\", \"Jan\", \"Jan\", \"Jan\"], \"xaxis\": \"x\", \"y\": [16144.0, 15853.0, 15517.0, 15054.0, 14607.0, 14178.0, 13705.0, 13206.0, 12671.0], \"yaxis\": \"y\"}, {\"alignmentgroup\": \"True\", \"bingroup\": \"x\", \"histfunc\": \"sum\", \"hovertemplate\": \"Year=2020<br>Dayofweek=6<br>month=%{x}<br>sum of death=%{y}<extra></extra>\", \"legendgroup\": \"2020\", \"marker\": {\"color\": \"#EF553B\"}, \"name\": \"2020\", \"offsetgroup\": \"2020\", \"orientation\": \"v\", \"showlegend\": true, \"type\": \"histogram\", \"x\": [\"Dec\", \"Dec\", \"Dec\", \"Dec\", \"Nov\", \"Nov\", \"Nov\", \"Nov\", \"Nov\", \"Oct\", \"Oct\", \"Oct\", \"Oct\", \"Sep\", \"Sep\", \"Sep\", \"Sep\", \"Aug\", \"Aug\", \"Aug\", \"Aug\", \"Aug\", \"Jul\", \"Jul\", \"Jul\", \"Jul\", \"Jun\", \"Jun\", \"Jun\", \"Jun\", \"May\", \"May\", \"May\", \"May\", \"May\", \"Apr\", \"Apr\", \"Apr\", \"Apr\", \"Mar\", \"Mar\", \"Mar\", \"Mar\", \"Mar\", \"Feb\", \"Feb\", \"Feb\", \"Feb\", \"Jan\"], \"xaxis\": \"x7\", \"y\": [12110.0, 11717.0, 11349.0, 11004.0, 10722.0, 10512.0, 10329.0, 10149.0, 10013.0, 9864.0, 9737.0, 9604.0, 9510.0, 9404.0, 9310.0, 9210.0, 9125.0, 9049.0, 8921.0, 8829.0, 8735.0, 8638.0, 8529.0, 8431.0, 8325.0, 8183.0, 8060.0, 7858.0, 7624.0, 7316.0, 6846.0, 6372.0, 5797.0, 4979.0, 4004.0, 2899.0, 2146.0, 1056.0, 370.0, 99.0, 11.0, 9180.0, 9180.0, 9180.0, 9180.0, 9180.0, 9180.0, 9180.0, 9180.0], \"yaxis\": \"y7\"}, {\"alignmentgroup\": \"True\", \"bingroup\": \"x\", \"histfunc\": \"sum\", \"hovertemplate\": \"Year=2020<br>Dayofweek=5<br>month=%{x}<br>sum of death=%{y}<extra></extra>\", \"legendgroup\": \"2020\", \"marker\": {\"color\": \"#EF553B\"}, \"name\": \"2020\", \"offsetgroup\": \"2020\", \"orientation\": \"v\", \"showlegend\": false, \"type\": \"histogram\", \"x\": [\"Dec\", \"Dec\", \"Dec\", \"Dec\", \"Nov\", \"Nov\", \"Nov\", \"Nov\", \"Oct\", \"Oct\", \"Oct\", \"Oct\", \"Oct\", \"Sep\", \"Sep\", \"Sep\", \"Sep\", \"Aug\", \"Aug\", \"Aug\", \"Aug\", \"Aug\", \"Jul\", \"Jul\", \"Jul\", \"Jul\", \"Jun\", \"Jun\", \"Jun\", \"Jun\", \"May\", \"May\", \"May\", \"May\", \"May\", \"Apr\", \"Apr\", \"Apr\", \"Apr\", \"Mar\", \"Mar\", \"Mar\", \"Mar\", \"Feb\", \"Feb\", \"Feb\", \"Feb\", \"Feb\", \"Jan\"], \"xaxis\": \"x6\", \"y\": [12010.0, 11657.0, 11307.0, 10953.0, 10676.0, 10488.0, 10293.0, 10129.0, 9991.0, 9839.0, 9723.0, 9587.0, 9507.0, 9391.0, 9295.0, 9196.0, 9116.0, 9036.0, 8921.0, 8818.0, 8721.0, 8626.0, 8510.0, 8419.0, 8310.0, 8172.0, 8041.0, 7828.0, 7576.0, 7289.0, 6768.0, 6304.0, 5705.0, 4840.0, 3846.0, 2877.0, 1983.0, 946.0, 304.0, 72.0, 7.0, 9180.0, 9180.0, 9180.0, 9180.0, 9180.0, 9180.0, 9180.0, 9180.0], \"yaxis\": \"y6\"}, {\"alignmentgroup\": \"True\", \"bingroup\": \"x\", \"histfunc\": \"sum\", \"hovertemplate\": \"Year=2020<br>Dayofweek=4<br>month=%{x}<br>sum of death=%{y}<extra></extra>\", \"legendgroup\": \"2020\", \"marker\": {\"color\": \"#EF553B\"}, \"name\": \"2020\", \"offsetgroup\": \"2020\", \"orientation\": \"v\", \"showlegend\": false, \"type\": \"histogram\", \"x\": [\"Dec\", \"Dec\", \"Dec\", \"Dec\", \"Nov\", \"Nov\", \"Nov\", \"Nov\", \"Oct\", \"Oct\", \"Oct\", \"Oct\", \"Oct\", \"Sep\", \"Sep\", \"Sep\", \"Sep\", \"Aug\", \"Aug\", \"Aug\", \"Aug\", \"Jul\", \"Jul\", \"Jul\", \"Jul\", \"Jul\", \"Jun\", \"Jun\", \"Jun\", \"Jun\", \"May\", \"May\", \"May\", \"May\", \"May\", \"Apr\", \"Apr\", \"Apr\", \"Apr\", \"Mar\", \"Mar\", \"Mar\", \"Mar\", \"Feb\", \"Feb\", \"Feb\", \"Feb\", \"Jan\", \"Jan\"], \"xaxis\": \"x5\", \"y\": [11963.0, 11610.0, 11257.0, 10910.0, 10635.0, 10469.0, 10265.0, 10106.0, 9975.0, 9830.0, 9702.0, 9577.0, 9490.0, 9373.0, 9269.0, 9180.0, 9100.0, 9023.0, 8901.0, 8804.0, 8709.0, 8609.0, 8498.0, 8402.0, 8296.0, 8149.0, 8013.0, 7800.0, 7538.0, 7235.0, 6718.0, 6228.0, 5592.0, 4702.0, 3716.0, 2877.0, 1822.0, 832.0, 265.0, 57.0, 5.0, 9180.0, 9180.0, 9180.0, 9180.0, 9180.0, 9180.0, 9180.0, 9180.0], \"yaxis\": \"y5\"}, {\"alignmentgroup\": \"True\", \"bingroup\": \"x\", \"histfunc\": \"sum\", \"hovertemplate\": \"Year=2020<br>Dayofweek=3<br>month=%{x}<br>sum of death=%{y}<extra></extra>\", \"legendgroup\": \"2020\", \"marker\": {\"color\": \"#EF553B\"}, \"name\": \"2020\", \"offsetgroup\": \"2020\", \"orientation\": \"v\", \"showlegend\": false, \"type\": \"histogram\", \"x\": [\"Dec\", \"Dec\", \"Dec\", \"Dec\", \"Dec\", \"Nov\", \"Nov\", \"Nov\", \"Nov\", \"Oct\", \"Oct\", \"Oct\", \"Oct\", \"Oct\", \"Sep\", \"Sep\", \"Sep\", \"Sep\", \"Aug\", \"Aug\", \"Aug\", \"Aug\", \"Jul\", \"Jul\", \"Jul\", \"Jul\", \"Jul\", \"Jun\", \"Jun\", \"Jun\", \"Jun\", \"May\", \"May\", \"May\", \"May\", \"Apr\", \"Apr\", \"Apr\", \"Apr\", \"Apr\", \"Mar\", \"Mar\", \"Mar\", \"Mar\", \"Feb\", \"Feb\", \"Feb\", \"Feb\", \"Jan\", \"Jan\"], \"xaxis\": \"x4\", \"y\": [12423.0, 11963.0, 11558.0, 11209.0, 10874.0, 10604.0, 10435.0, 10242.0, 10085.0, 9951.0, 9810.0, 9672.0, 9565.0, 9480.0, 9362.0, 9260.0, 9166.0, 9077.0, 9007.0, 8888.0, 8790.0, 8691.0, 8595.0, 8484.0, 8380.0, 8268.0, 8132.0, 7963.0, 7770.0, 7492.0, 7201.0, 6640.0, 6148.0, 5482.0, 4552.0, 3562.0, 2769.0, 1667.0, 725.0, 229.0, 42.0, 3.0, 9180.0, 9180.0, 9180.0, 9180.0, 9180.0, 9180.0, 9180.0, 9180.0], \"yaxis\": \"y4\"}, {\"alignmentgroup\": \"True\", \"bingroup\": \"x\", \"histfunc\": \"sum\", \"hovertemplate\": \"Year=2020<br>Dayofweek=2<br>month=%{x}<br>sum of death=%{y}<extra></extra>\", \"legendgroup\": \"2020\", \"marker\": {\"color\": \"#EF553B\"}, \"name\": \"2020\", \"offsetgroup\": \"2020\", \"orientation\": \"v\", \"showlegend\": false, \"type\": \"histogram\", \"x\": [\"Dec\", \"Dec\", \"Dec\", \"Dec\", \"Dec\", \"Nov\", \"Nov\", \"Nov\", \"Nov\", \"Oct\", \"Oct\", \"Oct\", \"Oct\", \"Sep\", \"Sep\", \"Sep\", \"Sep\", \"Sep\", \"Aug\", \"Aug\", \"Aug\", \"Aug\", \"Jul\", \"Jul\", \"Jul\", \"Jul\", \"Jul\", \"Jun\", \"Jun\", \"Jun\", \"Jun\", \"May\", \"May\", \"May\", \"May\", \"Apr\", \"Apr\", \"Apr\", \"Apr\", \"Apr\", \"Mar\", \"Mar\", \"Mar\", \"Mar\", \"Feb\", \"Feb\", \"Feb\", \"Feb\", \"Jan\", \"Jan\"], \"xaxis\": \"x3\", \"y\": [12338.0, 11887.0, 11513.0, 11166.0, 10824.0, 10604.0, 10407.0, 10222.0, 10062.0, 9924.0, 9780.0, 9647.0, 9557.0, 9456.0, 9347.0, 9245.0, 9146.0, 9060.0, 8987.0, 8876.0, 8769.0, 8659.0, 8580.0, 8468.0, 8368.0, 8243.0, 8081.0, 7938.0, 7734.0, 7454.0, 7152.0, 6547.0, 6066.0, 5315.0, 4420.0, 3405.0, 2597.0, 1502.0, 615.0, 187.0, 33.0, 2.0, 9180.0, 9180.0, 9180.0, 9180.0, 9180.0, 9180.0, 9180.0, 9180.0], \"yaxis\": \"y3\"}, {\"alignmentgroup\": \"True\", \"bingroup\": \"x\", \"histfunc\": \"sum\", \"hovertemplate\": \"Year=2020<br>Dayofweek=1<br>month=%{x}<br>sum of death=%{y}<extra></extra>\", \"legendgroup\": \"2020\", \"marker\": {\"color\": \"#EF553B\"}, \"name\": \"2020\", \"offsetgroup\": \"2020\", \"orientation\": \"v\", \"showlegend\": false, \"type\": \"histogram\", \"x\": [\"Dec\", \"Dec\", \"Dec\", \"Dec\", \"Dec\", \"Nov\", \"Nov\", \"Nov\", \"Nov\", \"Oct\", \"Oct\", \"Oct\", \"Oct\", \"Sep\", \"Sep\", \"Sep\", \"Sep\", \"Sep\", \"Aug\", \"Aug\", \"Aug\", \"Aug\", \"Jul\", \"Jul\", \"Jul\", \"Jul\", \"Jun\", \"Jun\", \"Jun\", \"Jun\", \"Jun\", \"May\", \"May\", \"May\", \"May\", \"Apr\", \"Apr\", \"Apr\", \"Apr\", \"Mar\", \"Mar\", \"Mar\", \"Mar\", \"Mar\", \"Feb\", \"Feb\", \"Feb\", \"Feb\", \"Jan\"], \"xaxis\": \"x2\", \"y\": [12218.0, 11804.0, 11443.0, 11076.0, 10778.0, 10551.0, 10360.0, 10184.0, 10035.0, 9888.0, 9758.0, 9630.0, 9538.0, 9423.0, 9328.0, 9225.0, 9141.0, 9064.0, 8960.0, 8839.0, 8751.0, 8657.0, 8551.0, 8450.0, 8340.0, 8213.0, 8054.0, 7890.0, 7665.0, 7408.0, 7085.0, 6473.0, 5938.0, 5141.0, 4212.0, 3153.0, 2449.0, 1329.0, 515.0, 153.0, 26.0, 9180.0, 9180.0, 9180.0, 9180.0, 9180.0, 9180.0, 9180.0, 9180.0], \"yaxis\": \"y2\"}, {\"alignmentgroup\": \"True\", \"bingroup\": \"x\", \"histfunc\": \"sum\", \"hovertemplate\": \"Year=2020<br>Dayofweek=0<br>month=%{x}<br>sum of death=%{y}<extra></extra>\", \"legendgroup\": \"2020\", \"marker\": {\"color\": \"#EF553B\"}, \"name\": \"2020\", \"offsetgroup\": \"2020\", \"orientation\": \"v\", \"showlegend\": false, \"type\": \"histogram\", \"x\": [\"Dec\", \"Dec\", \"Dec\", \"Dec\", \"Nov\", \"Nov\", \"Nov\", \"Nov\", \"Nov\", \"Oct\", \"Oct\", \"Oct\", \"Oct\", \"Sep\", \"Sep\", \"Sep\", \"Sep\", \"Aug\", \"Aug\", \"Aug\", \"Aug\", \"Aug\", \"Jul\", \"Jul\", \"Jul\", \"Jul\", \"Jun\", \"Jun\", \"Jun\", \"Jun\", \"Jun\", \"May\", \"May\", \"May\", \"May\", \"Apr\", \"Apr\", \"Apr\", \"Apr\", \"Mar\", \"Mar\", \"Mar\", \"Mar\", \"Mar\", \"Feb\", \"Feb\", \"Feb\", \"Feb\", \"Jan\"], \"xaxis\": \"x\", \"y\": [12158.0, 11759.0, 11388.0, 11035.0, 10748.0, 10531.0, 10340.0, 10163.0, 10023.0, 9881.0, 9753.0, 9617.0, 9530.0, 9415.0, 9317.0, 9219.0, 9133.0, 9060.0, 8948.0, 8833.0, 8741.0, 8648.0, 8536.0, 8433.0, 8330.0, 8198.0, 8095.0, 7874.0, 7647.0, 7353.0, 7035.0, 6416.0, 5862.0, 5108.0, 4090.0, 3003.0, 2303.0, 1211.0, 448.0, 124.0, 17.0, 9180.0, 9180.0, 9180.0, 9180.0, 9180.0, 9180.0, 9180.0, 9180.0], \"yaxis\": \"y\"}],                        {\"annotations\": [{\"font\": {}, \"showarrow\": false, \"text\": \"Dayofweek=0\", \"textangle\": 90, \"x\": 0.98, \"xanchor\": \"left\", \"xref\": \"paper\", \"y\": 0.05857142857142857, \"yanchor\": \"middle\", \"yref\": \"paper\"}, {\"font\": {}, \"showarrow\": false, \"text\": \"Dayofweek=1\", \"textangle\": 90, \"x\": 0.98, \"xanchor\": \"left\", \"xref\": \"paper\", \"y\": 0.2057142857142857, \"yanchor\": \"middle\", \"yref\": \"paper\"}, {\"font\": {}, \"showarrow\": false, \"text\": \"Dayofweek=2\", \"textangle\": 90, \"x\": 0.98, \"xanchor\": \"left\", \"xref\": \"paper\", \"y\": 0.35285714285714287, \"yanchor\": \"middle\", \"yref\": \"paper\"}, {\"font\": {}, \"showarrow\": false, \"text\": \"Dayofweek=3\", \"textangle\": 90, \"x\": 0.98, \"xanchor\": \"left\", \"xref\": \"paper\", \"y\": 0.49999999999999994, \"yanchor\": \"middle\", \"yref\": \"paper\"}, {\"font\": {}, \"showarrow\": false, \"text\": \"Dayofweek=4\", \"textangle\": 90, \"x\": 0.98, \"xanchor\": \"left\", \"xref\": \"paper\", \"y\": 0.647142857142857, \"yanchor\": \"middle\", \"yref\": \"paper\"}, {\"font\": {}, \"showarrow\": false, \"text\": \"Dayofweek=5\", \"textangle\": 90, \"x\": 0.98, \"xanchor\": \"left\", \"xref\": \"paper\", \"y\": 0.7942857142857143, \"yanchor\": \"middle\", \"yref\": \"paper\"}, {\"font\": {}, \"showarrow\": false, \"text\": \"Dayofweek=6\", \"textangle\": 90, \"x\": 0.98, \"xanchor\": \"left\", \"xref\": \"paper\", \"y\": 0.9414285714285713, \"yanchor\": \"middle\", \"yref\": \"paper\"}], \"barmode\": \"relative\", \"height\": 1000, \"legend\": {\"title\": {\"text\": \"Year\"}, \"tracegroupgap\": 0}, \"template\": {\"data\": {\"bar\": [{\"error_x\": {\"color\": \"#2a3f5f\"}, \"error_y\": {\"color\": \"#2a3f5f\"}, \"marker\": {\"line\": {\"color\": \"#E5ECF6\", \"width\": 0.5}}, \"type\": \"bar\"}], \"barpolar\": [{\"marker\": {\"line\": {\"color\": \"#E5ECF6\", \"width\": 0.5}}, \"type\": \"barpolar\"}], \"carpet\": [{\"aaxis\": {\"endlinecolor\": \"#2a3f5f\", \"gridcolor\": \"white\", \"linecolor\": \"white\", \"minorgridcolor\": \"white\", \"startlinecolor\": \"#2a3f5f\"}, \"baxis\": {\"endlinecolor\": \"#2a3f5f\", \"gridcolor\": \"white\", \"linecolor\": \"white\", \"minorgridcolor\": \"white\", \"startlinecolor\": \"#2a3f5f\"}, \"type\": \"carpet\"}], \"choropleth\": [{\"colorbar\": {\"outlinewidth\": 0, \"ticks\": \"\"}, \"type\": \"choropleth\"}], \"contour\": [{\"colorbar\": {\"outlinewidth\": 0, \"ticks\": \"\"}, \"colorscale\": [[0.0, \"#0d0887\"], [0.1111111111111111, \"#46039f\"], [0.2222222222222222, \"#7201a8\"], [0.3333333333333333, \"#9c179e\"], [0.4444444444444444, \"#bd3786\"], [0.5555555555555556, \"#d8576b\"], [0.6666666666666666, \"#ed7953\"], [0.7777777777777778, \"#fb9f3a\"], [0.8888888888888888, \"#fdca26\"], [1.0, \"#f0f921\"]], \"type\": \"contour\"}], \"contourcarpet\": [{\"colorbar\": {\"outlinewidth\": 0, \"ticks\": \"\"}, \"type\": \"contourcarpet\"}], \"heatmap\": [{\"colorbar\": {\"outlinewidth\": 0, \"ticks\": \"\"}, \"colorscale\": [[0.0, \"#0d0887\"], [0.1111111111111111, \"#46039f\"], [0.2222222222222222, \"#7201a8\"], [0.3333333333333333, \"#9c179e\"], [0.4444444444444444, \"#bd3786\"], [0.5555555555555556, \"#d8576b\"], [0.6666666666666666, \"#ed7953\"], [0.7777777777777778, \"#fb9f3a\"], [0.8888888888888888, \"#fdca26\"], [1.0, \"#f0f921\"]], \"type\": \"heatmap\"}], \"heatmapgl\": [{\"colorbar\": {\"outlinewidth\": 0, \"ticks\": \"\"}, \"colorscale\": [[0.0, \"#0d0887\"], [0.1111111111111111, \"#46039f\"], [0.2222222222222222, \"#7201a8\"], [0.3333333333333333, \"#9c179e\"], [0.4444444444444444, \"#bd3786\"], [0.5555555555555556, \"#d8576b\"], [0.6666666666666666, \"#ed7953\"], [0.7777777777777778, \"#fb9f3a\"], [0.8888888888888888, \"#fdca26\"], [1.0, \"#f0f921\"]], \"type\": \"heatmapgl\"}], \"histogram\": [{\"marker\": {\"colorbar\": {\"outlinewidth\": 0, \"ticks\": \"\"}}, \"type\": \"histogram\"}], \"histogram2d\": [{\"colorbar\": {\"outlinewidth\": 0, \"ticks\": \"\"}, \"colorscale\": [[0.0, \"#0d0887\"], [0.1111111111111111, \"#46039f\"], [0.2222222222222222, \"#7201a8\"], [0.3333333333333333, \"#9c179e\"], [0.4444444444444444, \"#bd3786\"], [0.5555555555555556, \"#d8576b\"], [0.6666666666666666, \"#ed7953\"], [0.7777777777777778, \"#fb9f3a\"], [0.8888888888888888, \"#fdca26\"], [1.0, \"#f0f921\"]], \"type\": \"histogram2d\"}], \"histogram2dcontour\": [{\"colorbar\": {\"outlinewidth\": 0, \"ticks\": \"\"}, \"colorscale\": [[0.0, \"#0d0887\"], [0.1111111111111111, \"#46039f\"], [0.2222222222222222, \"#7201a8\"], [0.3333333333333333, \"#9c179e\"], [0.4444444444444444, \"#bd3786\"], [0.5555555555555556, \"#d8576b\"], [0.6666666666666666, \"#ed7953\"], [0.7777777777777778, \"#fb9f3a\"], [0.8888888888888888, \"#fdca26\"], [1.0, \"#f0f921\"]], \"type\": \"histogram2dcontour\"}], \"mesh3d\": [{\"colorbar\": {\"outlinewidth\": 0, \"ticks\": \"\"}, \"type\": \"mesh3d\"}], \"parcoords\": [{\"line\": {\"colorbar\": {\"outlinewidth\": 0, \"ticks\": \"\"}}, \"type\": \"parcoords\"}], \"pie\": [{\"automargin\": true, \"type\": \"pie\"}], \"scatter\": [{\"marker\": {\"colorbar\": {\"outlinewidth\": 0, \"ticks\": \"\"}}, \"type\": \"scatter\"}], \"scatter3d\": [{\"line\": {\"colorbar\": {\"outlinewidth\": 0, \"ticks\": \"\"}}, \"marker\": {\"colorbar\": {\"outlinewidth\": 0, \"ticks\": \"\"}}, \"type\": \"scatter3d\"}], \"scattercarpet\": [{\"marker\": {\"colorbar\": {\"outlinewidth\": 0, \"ticks\": \"\"}}, \"type\": \"scattercarpet\"}], \"scattergeo\": [{\"marker\": {\"colorbar\": {\"outlinewidth\": 0, \"ticks\": \"\"}}, \"type\": \"scattergeo\"}], \"scattergl\": [{\"marker\": {\"colorbar\": {\"outlinewidth\": 0, \"ticks\": \"\"}}, \"type\": \"scattergl\"}], \"scattermapbox\": [{\"marker\": {\"colorbar\": {\"outlinewidth\": 0, \"ticks\": \"\"}}, \"type\": \"scattermapbox\"}], \"scatterpolar\": [{\"marker\": {\"colorbar\": {\"outlinewidth\": 0, \"ticks\": \"\"}}, \"type\": \"scatterpolar\"}], \"scatterpolargl\": [{\"marker\": {\"colorbar\": {\"outlinewidth\": 0, \"ticks\": \"\"}}, \"type\": \"scatterpolargl\"}], \"scatterternary\": [{\"marker\": {\"colorbar\": {\"outlinewidth\": 0, \"ticks\": \"\"}}, \"type\": \"scatterternary\"}], \"surface\": [{\"colorbar\": {\"outlinewidth\": 0, \"ticks\": \"\"}, \"colorscale\": [[0.0, \"#0d0887\"], [0.1111111111111111, \"#46039f\"], [0.2222222222222222, \"#7201a8\"], [0.3333333333333333, \"#9c179e\"], [0.4444444444444444, \"#bd3786\"], [0.5555555555555556, \"#d8576b\"], [0.6666666666666666, \"#ed7953\"], [0.7777777777777778, \"#fb9f3a\"], [0.8888888888888888, \"#fdca26\"], [1.0, \"#f0f921\"]], \"type\": \"surface\"}], \"table\": [{\"cells\": {\"fill\": {\"color\": \"#EBF0F8\"}, \"line\": {\"color\": \"white\"}}, \"header\": {\"fill\": {\"color\": \"#C8D4E3\"}, \"line\": {\"color\": \"white\"}}, \"type\": \"table\"}]}, \"layout\": {\"annotationdefaults\": {\"arrowcolor\": \"#2a3f5f\", \"arrowhead\": 0, \"arrowwidth\": 1}, \"autotypenumbers\": \"strict\", \"coloraxis\": {\"colorbar\": {\"outlinewidth\": 0, \"ticks\": \"\"}}, \"colorscale\": {\"diverging\": [[0, \"#8e0152\"], [0.1, \"#c51b7d\"], [0.2, \"#de77ae\"], [0.3, \"#f1b6da\"], [0.4, \"#fde0ef\"], [0.5, \"#f7f7f7\"], [0.6, \"#e6f5d0\"], [0.7, \"#b8e186\"], [0.8, \"#7fbc41\"], [0.9, \"#4d9221\"], [1, \"#276419\"]], \"sequential\": [[0.0, \"#0d0887\"], [0.1111111111111111, \"#46039f\"], [0.2222222222222222, \"#7201a8\"], [0.3333333333333333, \"#9c179e\"], [0.4444444444444444, \"#bd3786\"], [0.5555555555555556, \"#d8576b\"], [0.6666666666666666, \"#ed7953\"], [0.7777777777777778, \"#fb9f3a\"], [0.8888888888888888, \"#fdca26\"], [1.0, \"#f0f921\"]], \"sequentialminus\": [[0.0, \"#0d0887\"], [0.1111111111111111, \"#46039f\"], [0.2222222222222222, \"#7201a8\"], [0.3333333333333333, \"#9c179e\"], [0.4444444444444444, \"#bd3786\"], [0.5555555555555556, \"#d8576b\"], [0.6666666666666666, \"#ed7953\"], [0.7777777777777778, \"#fb9f3a\"], [0.8888888888888888, \"#fdca26\"], [1.0, \"#f0f921\"]]}, \"colorway\": [\"#636efa\", \"#EF553B\", \"#00cc96\", \"#ab63fa\", \"#FFA15A\", \"#19d3f3\", \"#FF6692\", \"#B6E880\", \"#FF97FF\", \"#FECB52\"], \"font\": {\"color\": \"#2a3f5f\"}, \"geo\": {\"bgcolor\": \"white\", \"lakecolor\": \"white\", \"landcolor\": \"#E5ECF6\", \"showlakes\": true, \"showland\": true, \"subunitcolor\": \"white\"}, \"hoverlabel\": {\"align\": \"left\"}, \"hovermode\": \"closest\", \"mapbox\": {\"style\": \"light\"}, \"paper_bgcolor\": \"white\", \"plot_bgcolor\": \"#E5ECF6\", \"polar\": {\"angularaxis\": {\"gridcolor\": \"white\", \"linecolor\": \"white\", \"ticks\": \"\"}, \"bgcolor\": \"#E5ECF6\", \"radialaxis\": {\"gridcolor\": \"white\", \"linecolor\": \"white\", \"ticks\": \"\"}}, \"scene\": {\"xaxis\": {\"backgroundcolor\": \"#E5ECF6\", \"gridcolor\": \"white\", \"gridwidth\": 2, \"linecolor\": \"white\", \"showbackground\": true, \"ticks\": \"\", \"zerolinecolor\": \"white\"}, \"yaxis\": {\"backgroundcolor\": \"#E5ECF6\", \"gridcolor\": \"white\", \"gridwidth\": 2, \"linecolor\": \"white\", \"showbackground\": true, \"ticks\": \"\", \"zerolinecolor\": \"white\"}, \"zaxis\": {\"backgroundcolor\": \"#E5ECF6\", \"gridcolor\": \"white\", \"gridwidth\": 2, \"linecolor\": \"white\", \"showbackground\": true, \"ticks\": \"\", \"zerolinecolor\": \"white\"}}, \"shapedefaults\": {\"line\": {\"color\": \"#2a3f5f\"}}, \"ternary\": {\"aaxis\": {\"gridcolor\": \"white\", \"linecolor\": \"white\", \"ticks\": \"\"}, \"baxis\": {\"gridcolor\": \"white\", \"linecolor\": \"white\", \"ticks\": \"\"}, \"bgcolor\": \"#E5ECF6\", \"caxis\": {\"gridcolor\": \"white\", \"linecolor\": \"white\", \"ticks\": \"\"}}, \"title\": {\"x\": 0.05}, \"xaxis\": {\"automargin\": true, \"gridcolor\": \"white\", \"linecolor\": \"white\", \"ticks\": \"\", \"title\": {\"standoff\": 15}, \"zerolinecolor\": \"white\", \"zerolinewidth\": 2}, \"yaxis\": {\"automargin\": true, \"gridcolor\": \"white\", \"linecolor\": \"white\", \"ticks\": \"\", \"title\": {\"standoff\": 15}, \"zerolinecolor\": \"white\", \"zerolinewidth\": 2}}}, \"title\": {\"text\": \"Deaths Every Month\"}, \"width\": 1000, \"xaxis\": {\"anchor\": \"y\", \"domain\": [0.0, 0.98], \"title\": {\"text\": \"month\"}}, \"xaxis2\": {\"anchor\": \"y2\", \"domain\": [0.0, 0.98], \"matches\": \"x\", \"showticklabels\": false}, \"xaxis3\": {\"anchor\": \"y3\", \"domain\": [0.0, 0.98], \"matches\": \"x\", \"showticklabels\": false}, \"xaxis4\": {\"anchor\": \"y4\", \"domain\": [0.0, 0.98], \"matches\": \"x\", \"showticklabels\": false}, \"xaxis5\": {\"anchor\": \"y5\", \"domain\": [0.0, 0.98], \"matches\": \"x\", \"showticklabels\": false}, \"xaxis6\": {\"anchor\": \"y6\", \"domain\": [0.0, 0.98], \"matches\": \"x\", \"showticklabels\": false}, \"xaxis7\": {\"anchor\": \"y7\", \"domain\": [0.0, 0.98], \"matches\": \"x\", \"showticklabels\": false}, \"yaxis\": {\"anchor\": \"x\", \"domain\": [0.0, 0.11714285714285715], \"title\": {\"text\": \"sum of death\"}}, \"yaxis2\": {\"anchor\": \"x2\", \"domain\": [0.14714285714285713, 0.2642857142857143], \"matches\": \"y\", \"title\": {\"text\": \"sum of death\"}}, \"yaxis3\": {\"anchor\": \"x3\", \"domain\": [0.29428571428571426, 0.4114285714285714], \"matches\": \"y\", \"title\": {\"text\": \"sum of death\"}}, \"yaxis4\": {\"anchor\": \"x4\", \"domain\": [0.4414285714285714, 0.5585714285714285], \"matches\": \"y\", \"title\": {\"text\": \"sum of death\"}}, \"yaxis5\": {\"anchor\": \"x5\", \"domain\": [0.5885714285714285, 0.7057142857142856], \"matches\": \"y\", \"title\": {\"text\": \"sum of death\"}}, \"yaxis6\": {\"anchor\": \"x6\", \"domain\": [0.7357142857142858, 0.8528571428571429], \"matches\": \"y\", \"title\": {\"text\": \"sum of death\"}}, \"yaxis7\": {\"anchor\": \"x7\", \"domain\": [0.8828571428571428, 0.9999999999999999], \"matches\": \"y\", \"title\": {\"text\": \"sum of death\"}}},                        {\"responsive\": true}                    ).then(function(){\n",
       "                            \n",
       "var gd = document.getElementById('acd3202e-1791-4ef5-975d-0b343370c09f');\n",
       "var x = new MutationObserver(function (mutations, observer) {{\n",
       "        var display = window.getComputedStyle(gd).display;\n",
       "        if (!display || display === 'none') {{\n",
       "            console.log([gd, 'removed!']);\n",
       "            Plotly.purge(gd);\n",
       "            observer.disconnect();\n",
       "        }}\n",
       "}});\n",
       "\n",
       "// Listen for the removal of the full notebook cells\n",
       "var notebookContainer = gd.closest('#notebook-container');\n",
       "if (notebookContainer) {{\n",
       "    x.observe(notebookContainer, {childList: true});\n",
       "}}\n",
       "\n",
       "// Listen for the clearing of the current output cell\n",
       "var outputEl = gd.closest('.output');\n",
       "if (outputEl) {{\n",
       "    x.observe(outputEl, {childList: true});\n",
       "}}\n",
       "\n",
       "                        })                };                });            </script>        </div>"
      ]
     },
     "metadata": {},
     "output_type": "display_data"
    }
   ],
   "source": [
    "fig = px.histogram(df_1, x='month', y='death',title='Deaths Every Month',color='Year',facet_row='Dayofweek',width=1000, height=1000)\n",
    "fig"
   ]
  },
  {
   "cell_type": "code",
   "execution_count": 140,
   "id": "7ffb6312",
   "metadata": {},
   "outputs": [],
   "source": [
    "df_f=df_1.copy()"
   ]
  },
  {
   "cell_type": "code",
   "execution_count": 142,
   "id": "1955102f",
   "metadata": {},
   "outputs": [],
   "source": [
    "df_f['Date']=df['date']"
   ]
  },
  {
   "cell_type": "code",
   "execution_count": 146,
   "id": "539e5261",
   "metadata": {},
   "outputs": [
    {
     "data": {
      "application/vnd.jupyter.widget-view+json": {
       "model_id": "5f1fd6010c2d420da7cebc25ee7106c6"
      },
      "text/plain": [
       "              death  deathConfirmed  deathIncrease  deathProbable  \\\n",
       "Date                                                                \n",
       "2021-03-07  16417.0         16085.0             43         332.00   \n",
       "2021-03-06  16374.0         16044.0             52         330.00   \n",
       "2021-03-05  16322.0         15992.0             26         330.00   \n",
       "2021-03-04  16296.0         15967.0             44         329.00   \n",
       "2021-03-03  16252.0         15925.0             70         327.00   \n",
       "...             ...             ...            ...            ...   \n",
       "2020-01-26   9180.0          4004.0              0         235.75   \n",
       "2020-01-25   9180.0          4004.0              0         235.75   \n",
       "2020-01-24   9180.0          4004.0              0         235.75   \n",
       "2020-01-23   9180.0          4004.0              0         235.75   \n",
       "2020-01-22   9180.0          4004.0              0         235.75   \n",
       "\n",
       "            hospitalizedCumulative  hospitalizedCurrently  \\\n",
       "Date                                                        \n",
       "2021-03-07                 19713.0                  665.0   \n",
       "2021-03-06                 19713.0                  687.0   \n",
       "2021-03-05                 19713.0                  716.0   \n",
       "2021-03-04                 19713.0                  741.0   \n",
       "2021-03-03                 19713.0                  755.0   \n",
       "...                            ...                    ...   \n",
       "2020-01-26                    61.0                 1370.0   \n",
       "2020-01-25                    61.0                 1370.0   \n",
       "2020-01-24                    61.0                 1370.0   \n",
       "2020-01-23                    61.0                 1370.0   \n",
       "2020-01-22                    61.0                 1370.0   \n",
       "\n",
       "            hospitalizedIncrease  inIcuCurrently   negative  negativeIncrease  \\\n",
       "Date                                                                            \n",
       "2021-03-07                     0           174.0  4404792.0              8028   \n",
       "2021-03-06                     0           176.0  4396764.0              7826   \n",
       "2021-03-05                     0           180.0  4388938.0              8907   \n",
       "2021-03-04                     0           168.0  4380031.0              8554   \n",
       "2021-03-03                   269           173.0  4371477.0              8511   \n",
       "...                          ...             ...        ...               ...   \n",
       "2020-01-26                     0           973.0       92.0                 0   \n",
       "2020-01-25                     0           973.0       92.0                 0   \n",
       "2020-01-24                     0           973.0       92.0                 0   \n",
       "2020-01-23                     0           973.0       92.0                 0   \n",
       "2020-01-22                     0           973.0       92.0                 0   \n",
       "\n",
       "            ...  Day  Dayofweek  Dayofyear  Is_month_end  Is_month_start  \\\n",
       "Date        ...                                                            \n",
       "2021-03-07  ...    7          6         66         False           False   \n",
       "2021-03-06  ...    6          5         65         False           False   \n",
       "2021-03-05  ...    5          4         64         False           False   \n",
       "2021-03-04  ...    4          3         63         False           False   \n",
       "2021-03-03  ...    3          2         62         False           False   \n",
       "...         ...  ...        ...        ...           ...             ...   \n",
       "2020-01-26  ...   26          6         26         False           False   \n",
       "2020-01-25  ...   25          5         25         False           False   \n",
       "2020-01-24  ...   24          4         24         False           False   \n",
       "2020-01-23  ...   23          3         23         False           False   \n",
       "2020-01-22  ...   22          2         22         False           False   \n",
       "\n",
       "            Is_quarter_end  Is_quarter_start  Is_year_end  Is_year_start  \\\n",
       "Date                                                                       \n",
       "2021-03-07           False             False        False          False   \n",
       "2021-03-06           False             False        False          False   \n",
       "2021-03-05           False             False        False          False   \n",
       "2021-03-04           False             False        False          False   \n",
       "2021-03-03           False             False        False          False   \n",
       "...                    ...               ...          ...            ...   \n",
       "2020-01-26           False             False        False          False   \n",
       "2020-01-25           False             False        False          False   \n",
       "2020-01-24           False             False        False          False   \n",
       "2020-01-23           False             False        False          False   \n",
       "2020-01-22           False             False        False          False   \n",
       "\n",
       "                 Elapsed  \n",
       "Date                      \n",
       "2021-03-07  1.615075e+09  \n",
       "2021-03-06  1.614989e+09  \n",
       "2021-03-05  1.614902e+09  \n",
       "2021-03-04  1.614816e+09  \n",
       "2021-03-03  1.614730e+09  \n",
       "...                  ...  \n",
       "2020-01-26  1.579997e+09  \n",
       "2020-01-25  1.579910e+09  \n",
       "2020-01-24  1.579824e+09  \n",
       "2020-01-23  1.579738e+09  \n",
       "2020-01-22  1.579651e+09  \n",
       "\n",
       "[411 rows x 41 columns]"
      ]
     },
     "metadata": {},
     "output_type": "display_data"
    }
   ],
   "source": [
    "df_f.index=pd.to_datetime(df_f['Date'],format='%Y-%m-%d')\n",
    "del df_f['Date']\n",
    "df_f = df_f.reset_index()\n",
    "df_f"
   ]
  },
  {
   "cell_type": "code",
   "execution_count": 150,
   "id": "a2c665ff",
   "metadata": {},
   "outputs": [],
   "source": [
    "train = df_f[df_f.index < pd.to_datetime(\"2021-01-01\", format='%Y-%m-%d')]\n",
    "test = df_f[df_f.index >= pd.to_datetime(\"2021-01-01\", format='%Y-%m-%d')]"
   ]
  },
  {
   "cell_type": "code",
   "execution_count": 158,
   "id": "92ef9ef9",
   "metadata": {},
   "outputs": [
    {
     "data": {
      "application/vnd.jupyter.widget-view+json": {
       "model_id": "d28c8875bb304022bba8de1ab93d3a2b"
      },
      "text/plain": [
       "              death  deathConfirmed  deathIncrease  deathProbable  \\\n",
       "Date                                                                \n",
       "2020-12-31  12423.0         12157.0             85         266.00   \n",
       "2020-12-30  12338.0         12076.0            120         262.00   \n",
       "2020-12-29  12218.0         11958.0             60         260.00   \n",
       "2020-12-28  12158.0         11900.0             48         258.00   \n",
       "2020-12-27  12110.0         11852.0            100         258.00   \n",
       "...             ...             ...            ...            ...   \n",
       "2020-01-26   9180.0          4004.0              0         235.75   \n",
       "2020-01-25   9180.0          4004.0              0         235.75   \n",
       "2020-01-24   9180.0          4004.0              0         235.75   \n",
       "2020-01-23   9180.0          4004.0              0         235.75   \n",
       "2020-01-22   9180.0          4004.0              0         235.75   \n",
       "\n",
       "            hospitalizedCumulative  hospitalizedCurrently  \\\n",
       "Date                                                        \n",
       "2020-12-31                 16098.0                 2271.0   \n",
       "2020-12-30                 15905.0                 2257.0   \n",
       "2020-12-29                 15905.0                 2259.0   \n",
       "2020-12-28                 15905.0                 2230.0   \n",
       "2020-12-27                 15905.0                 2156.0   \n",
       "...                            ...                    ...   \n",
       "2020-01-26                    61.0                 1370.0   \n",
       "2020-01-25                    61.0                 1370.0   \n",
       "2020-01-24                    61.0                 1370.0   \n",
       "2020-01-23                    61.0                 1370.0   \n",
       "2020-01-22                    61.0                 1370.0   \n",
       "\n",
       "            hospitalizedIncrease  inIcuCurrently   negative  negativeIncrease  \\\n",
       "Date                                                                            \n",
       "2020-12-31                   193           417.0  3658165.0             17397   \n",
       "2020-12-30                     0           433.0  3640768.0             15115   \n",
       "2020-12-29                     0           431.0  3625653.0             10993   \n",
       "2020-12-28                     0           430.0  3614660.0             10932   \n",
       "2020-12-27                     0           416.0  3603728.0              8646   \n",
       "...                          ...             ...        ...               ...   \n",
       "2020-01-26                     0           973.0       92.0                 0   \n",
       "2020-01-25                     0           973.0       92.0                 0   \n",
       "2020-01-24                     0           973.0       92.0                 0   \n",
       "2020-01-23                     0           973.0       92.0                 0   \n",
       "2020-01-22                     0           973.0       92.0                 0   \n",
       "\n",
       "            ...  Day  Dayofweek  Dayofyear  Is_month_end  Is_month_start  \\\n",
       "Date        ...                                                            \n",
       "2020-12-31  ...   31          3        366          True           False   \n",
       "2020-12-30  ...   30          2        365         False           False   \n",
       "2020-12-29  ...   29          1        364         False           False   \n",
       "2020-12-28  ...   28          0        363         False           False   \n",
       "2020-12-27  ...   27          6        362         False           False   \n",
       "...         ...  ...        ...        ...           ...             ...   \n",
       "2020-01-26  ...   26          6         26         False           False   \n",
       "2020-01-25  ...   25          5         25         False           False   \n",
       "2020-01-24  ...   24          4         24         False           False   \n",
       "2020-01-23  ...   23          3         23         False           False   \n",
       "2020-01-22  ...   22          2         22         False           False   \n",
       "\n",
       "            Is_quarter_end  Is_quarter_start  Is_year_end  Is_year_start  \\\n",
       "Date                                                                       \n",
       "2020-12-31            True             False         True          False   \n",
       "2020-12-30           False             False        False          False   \n",
       "2020-12-29           False             False        False          False   \n",
       "2020-12-28           False             False        False          False   \n",
       "2020-12-27           False             False        False          False   \n",
       "...                    ...               ...          ...            ...   \n",
       "2020-01-26           False             False        False          False   \n",
       "2020-01-25           False             False        False          False   \n",
       "2020-01-24           False             False        False          False   \n",
       "2020-01-23           False             False        False          False   \n",
       "2020-01-22           False             False        False          False   \n",
       "\n",
       "                 Elapsed  \n",
       "Date                      \n",
       "2020-12-31  1.609373e+09  \n",
       "2020-12-30  1.609286e+09  \n",
       "2020-12-29  1.609200e+09  \n",
       "2020-12-28  1.609114e+09  \n",
       "2020-12-27  1.609027e+09  \n",
       "...                  ...  \n",
       "2020-01-26  1.579997e+09  \n",
       "2020-01-25  1.579910e+09  \n",
       "2020-01-24  1.579824e+09  \n",
       "2020-01-23  1.579738e+09  \n",
       "2020-01-22  1.579651e+09  \n",
       "\n",
       "[345 rows x 41 columns]"
      ]
     },
     "metadata": {},
     "output_type": "display_data"
    }
   ],
   "source": [
    "import pandas as pd; import numpy as np\n",
    "train = train.reset_index()\n",
    "train"
   ]
  },
  {
   "cell_type": "code",
   "execution_count": 160,
   "id": "d7228841",
   "metadata": {},
   "outputs": [
    {
     "data": {
      "image/png": "[encoded data removed]",
      "text/plain": [
       "<Figure size 432x288 with 1 Axes>"
      ]
     },
     "metadata": {
      "needs_background": "light"
     },
     "output_type": "display_data"
    }
   ],
   "source": [
    "# plt.plot(df_f.index, df_f['positiveIncrease'], )\n",
    "plt.plot(train.positive, color = \"black\")\n",
    "plt.plot(test.positive, color = \"red\")\n",
    "plt.ylabel('Covid')\n",
    "plt.xlabel('Date')\n",
    "plt.xticks(rotation=45)\n",
    "plt.title(\"Train/Test split for COVID Data\")\n",
    "plt.show()"
   ]
  },
  {
   "cell_type": "code",
   "execution_count": 161,
   "id": "cd55f5f5",
   "metadata": {},
   "outputs": [],
   "source": [
    "from statsmodels.tsa.statespace.sarimax import SARIMAX"
   ]
  },
  {
   "cell_type": "code",
   "execution_count": 163,
   "id": "42c66936",
   "metadata": {},
   "outputs": [],
   "source": [
    "y = train['positive']"
   ]
  },
  {
   "cell_type": "code",
   "execution_count": 164,
   "id": "33a3514a",
   "metadata": {},
   "outputs": [],
   "source": [
    "ARMAmodel = SARIMAX(y, order = (1, 0, 1))"
   ]
  },
  {
   "cell_type": "code",
   "execution_count": 165,
   "id": "a476e43a",
   "metadata": {},
   "outputs": [],
   "source": [
    "ARMAmodel = ARMAmodel.fit()"
   ]
  },
  {
   "cell_type": "code",
   "execution_count": 179,
   "id": "9c01b9e4",
   "metadata": {},
   "outputs": [],
   "source": [
    "y_pred = ARMAmodel.get_forecast(len(test.index))\n",
    "y_pred_df = y_pred.conf_int(alpha = 0.05) \n",
    "y_pred_df[\"Predictions\"] = ARMAmodel.predict(start = y_pred_df.index[0], end = y_pred_df.index[-1])\n",
    "y_pred_df.index = test.index\n"
   ]
  },
  {
   "cell_type": "code",
   "execution_count": null,
   "id": "aad85fb0",
   "metadata": {},
   "outputs": [],
   "source": [
    "y_pred_out = y_pred_df[\"Predictions\"] + train.positive[-1]"
   ]
  },
  {
   "cell_type": "code",
   "execution_count": 181,
   "id": "68e28b88",
   "metadata": {},
   "outputs": [
    {
     "data": {
      "text/plain": [
       "2.0"
      ]
     },
     "execution_count": 181,
     "metadata": {},
     "output_type": "execute_result"
    }
   ],
   "source": [
    " train.positive[-1]"
   ]
  },
  {
   "cell_type": "code",
   "execution_count": 180,
   "id": "61e9135e",
   "metadata": {},
   "outputs": [
    {
     "data": {
      "text/plain": [
       "<matplotlib.legend.Legend at 0x293fb5e5208>"
      ]
     },
     "execution_count": 180,
     "metadata": {},
     "output_type": "execute_result"
    },
    {
     "data": {
      "image/png": "[encoded data removed]",
      "text/plain": [
       "<Figure size 432x288 with 1 Axes>"
      ]
     },
     "metadata": {
      "needs_background": "light"
     },
     "output_type": "display_data"
    }
   ],
   "source": [
    "plt.plot(y_pred_out, color='red', label = 'Predictions')\n",
    "plt.plot(test.positive, color = 'blue', label = 'ground truth')\n",
    "plt.legend()"
   ]
  },
  {
   "cell_type": "code",
   "execution_count": 187,
   "id": "9613c3e8",
   "metadata": {},
   "outputs": [],
   "source": [
    "#cols=[\"Year\",\"Month\",\"Day\"]\n",
    "#df_1['date'] = df_1[cols].apply(lambda x: '-'.join(x.values.astype(str)), axis=\"columns\")\n",
    "df_f1=df_f.copy()\n",
    "#df_f1 = df_f1.set_index(df_f1['date'])\n",
    "df_f1 = df_f1.sort_index()\n",
    "\n",
    "train_1 = df_f1['2020-01-10':'2021-01-01']\n",
    "test_1  = df_f1['2021-01-01':]"
   ]
  },
  {
   "cell_type": "code",
   "execution_count": 192,
   "id": "f6094d75",
   "metadata": {},
   "outputs": [
    {
     "data": {
      "text/plain": [
       "[<matplotlib.lines.Line2D at 0x29404121308>]"
      ]
     },
     "execution_count": 192,
     "metadata": {},
     "output_type": "execute_result"
    },
    {
     "data": {
      "image/png": "[encoded data removed]",
      "text/plain": [
       "<Figure size 432x288 with 1 Axes>"
      ]
     },
     "metadata": {
      "needs_background": "light"
     },
     "output_type": "display_data"
    }
   ],
   "source": [
    "import statsmodels.api as sm\n",
    "model=sm.tsa.statespace.SARIMAX(train_1['positive'], order = (1, 1, 1), seasonal_order = (1,1,1,12))\n",
    "results=model.fit()\n",
    "yhat = results.predict(start = 344, end = 409, dynamic = True)\n",
    "\n",
    "\n",
    "# Plotting\n",
    "\n",
    "import matplotlib.pyplot as plt\n",
    "plt.plot(test_1['positive'], color = 'blue')\n",
    "plt.plot(yhat, color = 'red')"
   ]
  },
  {
   "cell_type": "code",
   "execution_count": 193,
   "id": "a1f50035",
   "metadata": {},
   "outputs": [
    {
     "name": "stdout",
     "output_type": "stream",
     "text": [
      "205.03676936636725\n"
     ]
    }
   ],
   "source": [
    "from sklearn.metrics import mean_squared_error\n",
    "import math\n",
    "\n",
    "rmse = math.sqrt(mean_squared_error(test_1.positive, yhat, squared=False))\n",
    "print(rmse)"
   ]
  },
  {
   "cell_type": "code",
   "execution_count": 22,
   "id": "dcbcd727",
   "metadata": {},
   "outputs": [
    {
     "data": {
      "application/vnd.jupyter.widget-view+json": {
       "model_id": "a74dd3703bf8494c9329181878af9cd3"
      },
      "text/plain": [
       "          date    death  deathConfirmed  deathIncrease  deathProbable  \\\n",
       "0   2021-03-07  16417.0         16085.0             43          332.0   \n",
       "1   2021-03-06  16374.0         16044.0             52          330.0   \n",
       "2   2021-03-05  16322.0         15992.0             26          330.0   \n",
       "3   2021-03-04  16296.0         15967.0             44          329.0   \n",
       "4   2021-03-03  16252.0         15925.0             70          327.0   \n",
       "..         ...      ...             ...            ...            ...   \n",
       "406 2020-01-26      NaN             NaN              0            NaN   \n",
       "407 2020-01-25      NaN             NaN              0            NaN   \n",
       "408 2020-01-24      NaN             NaN              0            NaN   \n",
       "409 2020-01-23      NaN             NaN              0            NaN   \n",
       "410 2020-01-22      NaN             NaN              0            NaN   \n",
       "\n",
       "     hospitalizedCumulative  hospitalizedCurrently  hospitalizedIncrease  \\\n",
       "0                   19713.0                  665.0                     0   \n",
       "1                   19713.0                  687.0                     0   \n",
       "2                   19713.0                  716.0                     0   \n",
       "3                   19713.0                  741.0                     0   \n",
       "4                   19713.0                  755.0                   269   \n",
       "..                      ...                    ...                   ...   \n",
       "406                     NaN                    NaN                     0   \n",
       "407                     NaN                    NaN                     0   \n",
       "408                     NaN                    NaN                     0   \n",
       "409                     NaN                    NaN                     0   \n",
       "410                     NaN                    NaN                     0   \n",
       "\n",
       "     inIcuCurrently   negative  ...  positiveIncrease  \\\n",
       "0             174.0  4404792.0  ...              1425   \n",
       "1             176.0  4396764.0  ...              1722   \n",
       "2             180.0  4388938.0  ...              1899   \n",
       "3             168.0  4380031.0  ...              1567   \n",
       "4             173.0  4371477.0  ...              1899   \n",
       "..              ...        ...  ...               ...   \n",
       "406             NaN        NaN  ...                 0   \n",
       "407             NaN        NaN  ...                 0   \n",
       "408             NaN        NaN  ...                 0   \n",
       "409             NaN        NaN  ...                 0   \n",
       "410             NaN        NaN  ...                 0   \n",
       "\n",
       "     positiveTestsPeopleAntibody  positiveTestsViral  recovered  \\\n",
       "0                        15425.0              668145   508745.0   \n",
       "1                        15425.0              666605   508745.0   \n",
       "2                        15425.0              664893   508745.0   \n",
       "3                        15425.0              662972   508745.0   \n",
       "4                        15162.0              661370   494740.0   \n",
       "..                           ...                 ...        ...   \n",
       "406                          NaN                   0        NaN   \n",
       "407                          NaN                   0        NaN   \n",
       "408                          NaN                   0        NaN   \n",
       "409                          NaN                   0        NaN   \n",
       "410                          NaN                   0        NaN   \n",
       "\n",
       "     totalTestResults  totalTestResultsIncrease  totalTestsPeopleAntibody  \\\n",
       "0            16825551                     96578                  156185.0   \n",
       "1            16728973                    100359                  156185.0   \n",
       "2            16628614                    106263                  156185.0   \n",
       "3            16522351                    102362                  156185.0   \n",
       "4            16419989                    102052                  154697.0   \n",
       "..                ...                       ...                       ...   \n",
       "406                 2                         0                       NaN   \n",
       "407                 2                         0                       NaN   \n",
       "408                 2                         0                       NaN   \n",
       "409                 2                         1                       NaN   \n",
       "410                 1                         0                       NaN   \n",
       "\n",
       "     totalTestsPeopleAntigen  totalTestsPeopleViral  \\\n",
       "0                   580372.0              4963875.0   \n",
       "1                   578153.0              4954566.0   \n",
       "2                   574434.0              4945245.0   \n",
       "3                   571445.0              4934661.0   \n",
       "4                   568678.0              4924697.0   \n",
       "..                       ...                    ...   \n",
       "406                      NaN                    NaN   \n",
       "407                      NaN                    NaN   \n",
       "408                      NaN                    NaN   \n",
       "409                      NaN                    NaN   \n",
       "410                      NaN                    NaN   \n",
       "\n",
       "     totalTestsPeopleViralIncrease  \n",
       "0                             9309  \n",
       "1                             9321  \n",
       "2                            10584  \n",
       "3                             9964  \n",
       "4                            10064  \n",
       "..                             ...  \n",
       "406                              0  \n",
       "407                              0  \n",
       "408                              0  \n",
       "409                              0  \n",
       "410                              0  \n",
       "\n",
       "[411 rows x 25 columns]"
      ]
     },
     "metadata": {},
     "output_type": "display_data"
    }
   ],
   "source": [
    "# Week 4 Analysis\n",
    "\n",
    "# Further develop your summary statistics tables by combing it with subset analysis (e.g. by gender or year or country)\n",
    "# Two or four of subset analysis\n",
    "\n",
    "# Subgroup by Year\n",
    "# Subgroup by Season\n",
    "# Subgroup by Month\n",
    "# Subgroup by \n",
    "\n",
    "df\n"
   ]
  },
  {
   "cell_type": "code",
   "execution_count": 28,
   "id": "31382df6",
   "metadata": {},
   "outputs": [],
   "source": [
    "df[\"Year\"] = df[\"date\"].dt.year\n",
    "df[\"Month\"] = df[\"date\"].dt.month\n",
    "df[\"Quarter\"] = df[\"date\"].dt.quarter"
   ]
  },
  {
   "cell_type": "code",
   "execution_count": 44,
   "id": "f1da24a9",
   "metadata": {},
   "outputs": [
    {
     "data": {
      "application/vnd.jupyter.widget-view+json": {
       "model_id": "68cb8a5391ed432d8a3f34e9e312a46d"
      },
      "text/plain": [
       "   Year  death_count    death_mean    death_std  death_min  death_25%  \\\n",
       "0  2020        289.0   7715.373702  3254.546296        2.0    6718.00   \n",
       "1  2021         66.0  14635.060606  1190.553134    12423.0   13665.25   \n",
       "\n",
       "   death_50%  death_75%  death_max  deathConfirmed_count  ...  Month_75%  \\\n",
       "0     8735.0     9758.0    12423.0                 243.0  ...       10.0   \n",
       "1    14680.0    15716.0    16417.0                  66.0  ...        2.0   \n",
       "\n",
       "   Month_max  Quarter_count  Quarter_mean  Quarter_std  Quarter_min  \\\n",
       "0       12.0          345.0      2.597101     1.087718          1.0   \n",
       "1        3.0           66.0      1.000000     0.000000          1.0   \n",
       "\n",
       "   Quarter_25%  Quarter_50%  Quarter_75%  Quarter_max  \n",
       "0          2.0          3.0          4.0          4.0  \n",
       "1          1.0          1.0          1.0          1.0  \n",
       "\n",
       "[2 rows x 209 columns]"
      ]
     },
     "metadata": {},
     "output_type": "display_data"
    }
   ],
   "source": [
    "by_year = df.groupby('Year').describe()\n",
    "import pandas as pd; import numpy as np\n",
    "by_year.columns = [\"_\".join([str(index) for index in multi_index]) for multi_index in by_year.columns.ravel()]\n",
    "by_year = by_year.reset_index()\n",
    "by_year"
   ]
  },
  {
   "cell_type": "code",
   "execution_count": 46,
   "id": "86decb7e",
   "metadata": {},
   "outputs": [
    {
     "data": {
      "application/vnd.jupyter.widget-view+json": {
       "model_id": "4f47641a48c14335927b5bbfa74fbf56"
      },
      "text/plain": [
       "      death                                                                   \\\n",
       "      count          mean          std      min       25%      50%       75%   \n",
       "Month                                                                          \n",
       "1      31.0  13544.677419   645.546972  12423.0  13029.50  13583.0  14098.50   \n",
       "2      28.0  15430.071429   470.927605  14607.0  15040.25  15500.5  15832.75   \n",
       "3      21.0   5458.952381  7843.672899      2.0     17.00     72.0  16182.00   \n",
       "4      30.0   1668.200000  1098.747544    187.0    642.50   1584.5   2726.00   \n",
       "5      31.0   5510.548387   961.757310   3716.0   4771.00   5705.0   6338.00   \n",
       "6      30.0   7632.933333   321.799138   7035.0   7366.75   7656.0   7886.00   \n",
       "7      31.0   8370.419355   149.575794   8081.0   8255.50   8380.0   8491.00   \n",
       "8      31.0   8833.387097   134.177911   8626.0   8728.00   8829.0   8934.50   \n",
       "9      30.0   9245.100000   118.522906   9060.0   9142.25   9235.0   9342.25   \n",
       "10     31.0   9707.000000   157.260294   9480.0   9571.00   9702.0   9834.50   \n",
       "11     30.0  10346.066667   225.854688  10013.0  10152.50  10334.5  10526.25   \n",
       "12     31.0  11524.548387   480.698994  10778.0  11121.00  11513.0  11925.00   \n",
       "\n",
       "               deathConfirmed                ...    Year         Quarter       \\\n",
       "           max          count          mean  ...     75%     max   count mean   \n",
       "Month                                        ...                                \n",
       "1      14577.0           31.0  13264.612903  ...  2021.0  2021.0    41.0  1.0   \n",
       "2      16118.0           28.0  15121.464286  ...  2021.0  2021.0    57.0  1.0   \n",
       "3      16417.0            7.0  15956.285714  ...  2020.0  2021.0    38.0  1.0   \n",
       "4       3562.0            0.0           NaN  ...  2020.0  2020.0    30.0  2.0   \n",
       "5       6846.0           29.0   5623.827586  ...  2020.0  2020.0    31.0  2.0   \n",
       "6       8095.0           30.0   7467.833333  ...  2020.0  2020.0    30.0  2.0   \n",
       "7       8609.0           31.0   8154.612903  ...  2020.0  2020.0    31.0  3.0   \n",
       "8       9060.0           31.0   8607.645161  ...  2020.0  2020.0    31.0  3.0   \n",
       "9       9456.0           30.0   9034.366667  ...  2020.0  2020.0    30.0  3.0   \n",
       "10      9991.0           31.0   9487.774194  ...  2020.0  2020.0    31.0  4.0   \n",
       "11     10748.0           30.0  10116.600000  ...  2020.0  2020.0    30.0  4.0   \n",
       "12     12423.0           31.0  11274.387097  ...  2020.0  2020.0    31.0  4.0   \n",
       "\n",
       "                                     \n",
       "       std  min  25%  50%  75%  max  \n",
       "Month                                \n",
       "1      0.0  1.0  1.0  1.0  1.0  1.0  \n",
       "2      0.0  1.0  1.0  1.0  1.0  1.0  \n",
       "3      0.0  1.0  1.0  1.0  1.0  1.0  \n",
       "4      0.0  2.0  2.0  2.0  2.0  2.0  \n",
       "5      0.0  2.0  2.0  2.0  2.0  2.0  \n",
       "6      0.0  2.0  2.0  2.0  2.0  2.0  \n",
       "7      0.0  3.0  3.0  3.0  3.0  3.0  \n",
       "8      0.0  3.0  3.0  3.0  3.0  3.0  \n",
       "9      0.0  3.0  3.0  3.0  3.0  3.0  \n",
       "10     0.0  4.0  4.0  4.0  4.0  4.0  \n",
       "11     0.0  4.0  4.0  4.0  4.0  4.0  \n",
       "12     0.0  4.0  4.0  4.0  4.0  4.0  \n",
       "\n",
       "[12 rows x 208 columns]"
      ]
     },
     "metadata": {},
     "output_type": "display_data"
    }
   ],
   "source": [
    "by_month = df.groupby('Month').describe()\n",
    "import pandas as pd; import numpy as np\n",
    "by_month.columns = [\"_\".join([str(index) for index in multi_index]) for multi_index in by_month.columns.ravel()]\n",
    "by_month = by_month.reset_index()\n",
    "by_month"
   ]
  },
  {
   "cell_type": "code",
   "execution_count": 36,
   "id": "8fbc8d0e",
   "metadata": {},
   "outputs": [
    {
     "data": {
      "application/vnd.jupyter.widget-view+json": {
       "model_id": "f8754c0579284018863aef9a8a846db9"
      },
      "text/plain": [
       "        death                                                                 \\\n",
       "        count          mean          std     min       25%      50%      75%   \n",
       "Quarter                                                                        \n",
       "1        80.0  12082.062500  5681.754414     2.0  12890.75  14262.0  15529.5   \n",
       "2        91.0   4943.527473  2613.107241   187.0   2823.00   5705.0   7334.5   \n",
       "3        92.0   8811.641304   382.371363  8081.0   8494.50   8823.5   9135.0   \n",
       "4        92.0  10527.826087   824.274568  9480.0   9836.75  10334.5  11098.5   \n",
       "\n",
       "                 deathConfirmed                ...    Year          Month  \\\n",
       "             max          count          mean  ...     75%     max  count   \n",
       "Quarter                                        ...                          \n",
       "1        16417.0           66.0  14337.848485  ...  2021.0  2021.0  136.0   \n",
       "2         8095.0           59.0   6561.457627  ...  2020.0  2020.0   91.0   \n",
       "3         9456.0           92.0   8594.141304  ...  2020.0  2020.0   92.0   \n",
       "4        12423.0           92.0  10294.836957  ...  2020.0  2020.0   92.0   \n",
       "\n",
       "                                                            \n",
       "              mean       std   min   25%   50%   75%   max  \n",
       "Quarter                                                     \n",
       "1         1.977941  0.764654   1.0   1.0   2.0   3.0   3.0  \n",
       "2         5.000000  0.816497   4.0   4.0   5.0   6.0   6.0  \n",
       "3         7.989130  0.818664   7.0   7.0   8.0   9.0   9.0  \n",
       "4        11.000000  0.825420  10.0  10.0  11.0  12.0  12.0  \n",
       "\n",
       "[4 rows x 208 columns]"
      ]
     },
     "metadata": {},
     "output_type": "display_data"
    }
   ],
   "source": [
    "by_quarter = df.groupby('Quarter').describe()\n",
    "import pandas as pd; import numpy as np\n",
    "by_quarter.columns = [\"_\".join([str(index) for index in multi_index]) for multi_index in by_quarter.columns.ravel()]\n",
    "by_quarter = by_quarter.reset_index()\n",
    "by_quarter"
   ]
  },
  {
   "cell_type": "code",
   "execution_count": 38,
   "id": "6d208f89",
   "metadata": {},
   "outputs": [
    {
     "data": {
      "application/vnd.jupyter.widget-view+json": {
       "model_id": "2c671ce11bef4828af61b67f3d2cb085"
      },
      "text/plain": [
       "        death                                                                 \\\n",
       "        count          mean          std     min      25%      50%       75%   \n",
       "Quarter                                                                        \n",
       "1        14.0     46.500000    48.653801     2.0     8.00     29.5     68.25   \n",
       "2        91.0   4943.527473  2613.107241   187.0  2823.00   5705.0   7334.50   \n",
       "3        92.0   8811.641304   382.371363  8081.0  8494.50   8823.5   9135.00   \n",
       "4        92.0  10527.826087   824.274568  9480.0  9836.75  10334.5  11098.50   \n",
       "\n",
       "                 deathConfirmed                ...    Year         Month  \\\n",
       "             max          count          mean  ...     75%     max count   \n",
       "Quarter                                        ...                         \n",
       "1          153.0            0.0           NaN  ...  2020.0  2020.0  70.0   \n",
       "2         8095.0           59.0   6561.457627  ...  2020.0  2020.0  91.0   \n",
       "3         9456.0           92.0   8594.141304  ...  2020.0  2020.0  92.0   \n",
       "4        12423.0           92.0  10294.836957  ...  2020.0  2020.0  92.0   \n",
       "\n",
       "                                                           \n",
       "             mean       std   min   25%   50%   75%   max  \n",
       "Quarter                                                    \n",
       "1         2.30000  0.709153   1.0   2.0   2.0   3.0   3.0  \n",
       "2         5.00000  0.816497   4.0   4.0   5.0   6.0   6.0  \n",
       "3         7.98913  0.818664   7.0   7.0   8.0   9.0   9.0  \n",
       "4        11.00000  0.825420  10.0  10.0  11.0  12.0  12.0  \n",
       "\n",
       "[4 rows x 208 columns]"
      ]
     },
     "metadata": {},
     "output_type": "display_data"
    }
   ],
   "source": [
    "by_quarter_2020 = df[df[\"Year\"] == 2020].groupby('Quarter').describe()\n",
    "import pandas as pd; import numpy as np\n",
    "by_quarter_2020.columns = [\"_\".join([str(index) for index in multi_index]) for multi_index in by_quarter_2020.columns.ravel()]\n",
    "by_quarter_2020 = by_quarter_2020.reset_index()\n",
    "by_quarter_2020"
   ]
  },
  {
   "cell_type": "code",
   "execution_count": 15,
   "id": "4fb416f9",
   "metadata": {},
   "outputs": [],
   "source": [
    "# Further transform or create new variables as necessary - important but less visible part of data analytical work"
   ]
  },
  {
   "cell_type": "code",
   "execution_count": 40,
   "id": "fa489644",
   "metadata": {},
   "outputs": [],
   "source": [
    "# Further merge additional data set if possible (population, holidays, days of week, etc.) - important but less visible part of data analytical work\n",
    "\n",
    "mass_gov = pd.read_excel(\"../data/covid-19-dashboard_12-01-2022.xlsx\", sheet_name=None)\n"
   ]
  },
  {
   "cell_type": "code",
   "execution_count": 54,
   "id": "36d15c29",
   "metadata": {},
   "outputs": [
    {
     "data": {
      "application/vnd.jupyter.widget-view+json": {
       "model_id": "bd0630c5dad5462685d47863a68c7710"
      },
      "text/plain": [
       "      End Date       Date  Number positive tests: 0-4 years  \\\n",
       "0   2020-03-07 2020-03-01                                 0   \n",
       "1   2020-03-14 2020-03-08                                 0   \n",
       "2   2020-03-21 2020-03-15                                 6   \n",
       "3   2020-03-28 2020-03-22                                17   \n",
       "4   2020-04-04 2020-03-29                                33   \n",
       "..         ...        ...                               ...   \n",
       "139 2022-11-05 2022-10-30                               457   \n",
       "140 2022-11-12 2022-11-06                               396   \n",
       "141 2022-11-19 2022-11-13                               330   \n",
       "142 2022-11-26 2022-11-20                               350   \n",
       "143 2022-12-03 2022-11-27                               157   \n",
       "\n",
       "     Number positive tests: 5-9 years  Number positive tests: 10-14 years  \\\n",
       "0                                   2                                   0   \n",
       "1                                   0                                   0   \n",
       "2                                   7                                   3   \n",
       "3                                  13                                  14   \n",
       "4                                  18                                  32   \n",
       "..                                ...                                 ...   \n",
       "139                               144                                 170   \n",
       "140                               152                                 150   \n",
       "141                               116                                 134   \n",
       "142                               123                                 120   \n",
       "143                                44                                  58   \n",
       "\n",
       "     Number positive tests: 15-19 years  Number positive tests: 20-29 years  \\\n",
       "0                                     2                                   2   \n",
       "1                                     6                                  33   \n",
       "2                                    22                                 337   \n",
       "3                                    63                                 785   \n",
       "4                                   104                                1001   \n",
       "..                                  ...                                 ...   \n",
       "139                                 207                                 708   \n",
       "140                                 177                                 590   \n",
       "141                                 172                                 559   \n",
       "142                                 158                                 604   \n",
       "143                                  55                                 263   \n",
       "\n",
       "     Number positive tests: 30-39 years  Number positive tests: 40-49 years  \\\n",
       "0                                     8                                  24   \n",
       "1                                    47                                  56   \n",
       "2                                   300                                 287   \n",
       "3                                   927                                 814   \n",
       "4                                  1246                                1337   \n",
       "..                                  ...                                 ...   \n",
       "139                                 759                                 596   \n",
       "140                                 734                                 588   \n",
       "141                                 643                                 461   \n",
       "142                                 607                                 460   \n",
       "143                                 292                                 237   \n",
       "\n",
       "     Number positive tests: 50-59 years  ...  \\\n",
       "0                                    20  ...   \n",
       "1                                    43  ...   \n",
       "2                                   322  ...   \n",
       "3                                   981  ...   \n",
       "4                                  1671  ...   \n",
       "..                                  ...  ...   \n",
       "139                                 799  ...   \n",
       "140                                 725  ...   \n",
       "141                                 641  ...   \n",
       "142                                 625  ...   \n",
       "143                                 284  ...   \n",
       "\n",
       "     Rate of positive tests: 15-19 years  Rate of positive tests: 20-29 years  \\\n",
       "0                               0.439128                             0.197932   \n",
       "1                               1.317385                             3.265870   \n",
       "2                               4.830411                            33.351459   \n",
       "3                              13.832541                            77.688118   \n",
       "4                              22.834671                            99.064721   \n",
       "..                                   ...                                  ...   \n",
       "139                            45.449777                            70.067754   \n",
       "140                            38.862853                            58.389795   \n",
       "141                            37.765032                            55.321857   \n",
       "142                            34.691134                            59.775316   \n",
       "143                            12.076028                            26.027994   \n",
       "\n",
       "     Rate of positive tests: 30-39 years  Rate of positive tests: 40-49 years  \\\n",
       "0                               0.837462                             2.813632   \n",
       "1                               4.920089                             6.565142   \n",
       "2                              31.404823                            33.646355   \n",
       "3                              97.040903                            95.429035   \n",
       "4                             130.434698                           156.742776   \n",
       "..                                   ...                                  ...   \n",
       "139                            79.454202                            69.871873   \n",
       "140                            76.837134                            68.933996   \n",
       "141                            67.311004                            54.045191   \n",
       "142                            63.542425                            53.927956   \n",
       "143                            30.567361                            27.784621   \n",
       "\n",
       "     Rate of positive tests: 50-59 years  Rate of positive tests: 60-69 years  \\\n",
       "0                               2.040480                             1.060931   \n",
       "1                               4.387032                             2.475505   \n",
       "2                              32.851724                            28.763010   \n",
       "3                             100.085533                            84.167169   \n",
       "4                             170.482086                           152.066733   \n",
       "..                                   ...                                  ...   \n",
       "139                            81.517167                           104.678495   \n",
       "140                            73.967392                            85.228099   \n",
       "141                            65.397377                            83.459881   \n",
       "142                            63.764993                            80.866495   \n",
       "143                            28.974813                            32.299446   \n",
       "\n",
       "     Rate of positive tests: 70-79 years  Rate of positive tests: 80+ years  \\\n",
       "0                               0.582001                           0.331457   \n",
       "1                               3.880009                           1.657287   \n",
       "2                              26.190061                          33.808654   \n",
       "3                              84.196198                         130.594213   \n",
       "4                             185.270435                         455.422460   \n",
       "..                                   ...                                ...   \n",
       "139                           144.142338                         203.183383   \n",
       "140                           123.772290                         191.250917   \n",
       "141                           117.564276                         164.734325   \n",
       "142                           116.400273                         176.003877   \n",
       "143                            46.172108                          82.532891   \n",
       "\n",
       "     Rate of positive tests: Unknown age  Rate of positive tests: Total  \n",
       "0                                      -                       1.009969  \n",
       "1                                      -                       3.285956  \n",
       "2                                      -                      25.106982  \n",
       "3                                      -                      73.343682  \n",
       "4                                      -                     129.020016  \n",
       "..                                   ...                            ...  \n",
       "139                                    -                      86.544407  \n",
       "140                                    -                      77.525809  \n",
       "141                                    -                      69.232681  \n",
       "142                                    -                      69.190006  \n",
       "143                                    -                      30.597801  \n",
       "\n",
       "[144 rows x 41 columns]"
      ]
     },
     "metadata": {},
     "output_type": "display_data"
    }
   ],
   "source": [
    "by_age = mass_gov[\"TestingPosByAge\"]\n",
    "by_age"
   ]
  },
  {
   "cell_type": "code",
   "execution_count": 55,
   "id": "6c9b0418",
   "metadata": {},
   "outputs": [
    {
     "data": {
      "text/plain": [
       "Text(0, 0.5, 'Date')"
      ]
     },
     "execution_count": 55,
     "metadata": {},
     "output_type": "execute_result"
    },
    {
     "data": {
      "image/png": "[encoded data removed]",
      "text/plain": [
       "<Figure size 640x480 with 1 Axes>"
      ]
     },
     "metadata": {},
     "output_type": "display_data"
    }
   ],
   "source": [
    "cols = [\n",
    "    'Number positive tests: 0-4 years',\n",
    "    'Number positive tests: 5-9 years',\n",
    "    'Number positive tests: 10-14 years',\n",
    "    'Number positive tests: 15-19 years',\n",
    "    'Number positive tests: 20-29 years',\n",
    "    'Number positive tests: 30-39 years',\n",
    "    'Number positive tests: 40-49 years',\n",
    "    'Number positive tests: 50-59 years',\n",
    "    'Number positive tests: 60-69 years',\n",
    "    'Number positive tests: 70-79 years',\n",
    "    'Number positive tests: 80+ years'\n",
    "]\n",
    "\n",
    "by_age_plot = by_age.plot.line(x='Date', y=cols, title='COVID-19 Positive Tests for Massachussetts by Age (Mass.gov)')\n",
    "by_age_plot.set_xlabel(\"Number of Positive Tests\")\n",
    "by_age_plot.set_ylabel(\"Date\")\n"
   ]
  },
  {
   "cell_type": "code",
   "execution_count": 3,
   "id": "6066fe9b",
   "metadata": {},
   "outputs": [],
   "source": [
    "nyt = pd.read_csv(\"../data/ma-counties.csv\")"
   ]
  },
  {
   "cell_type": "code",
   "execution_count": 30,
   "id": "34587169",
   "metadata": {},
   "outputs": [],
   "source": [
    "nyt.drop(columns=\"Unnamed: 0\", inplace=True, errors=\"ignore\")\n",
    "\n",
    "nyt = nyt[~pd.isnull(nyt[\"fips\"])]\n",
    "nyt[\"fips\"] = nyt[\"fips\"].astype(int)"
   ]
  },
  {
   "cell_type": "code",
   "execution_count": 32,
   "id": "eeafc2f9",
   "metadata": {},
   "outputs": [
    {
     "data": {
      "application/vnd.jupyter.widget-view+json": {
       "model_id": "d39e773da222491cac5da006078adef7"
      },
      "text/plain": [
       "         date   county          state   fips  cases  deaths\n",
       "0  2020-02-01  Suffolk  Massachusetts  25025      1     0.0\n",
       "1  2020-02-02  Suffolk  Massachusetts  25025      1     0.0\n",
       "2  2020-02-03  Suffolk  Massachusetts  25025      1     0.0\n",
       "3  2020-02-04  Suffolk  Massachusetts  25025      1     0.0\n",
       "4  2020-02-05  Suffolk  Massachusetts  25025      1     0.0"
      ]
     },
     "metadata": {},
     "output_type": "display_data"
    }
   ],
   "source": [
    "nyt.head()"
   ]
  },
  {
   "cell_type": "code",
   "execution_count": 39,
   "id": "ee2b75c4",
   "metadata": {},
   "outputs": [
    {
     "data": {
      "application/vnd.jupyter.widget-view+json": {
       "model_id": "289e862941404f9babee297c0ed5be05"
      },
      "text/plain": [
       "          cases     deaths\n",
       "fips                      \n",
       "25001  10219817   287787.0\n",
       "25003   5690875   167640.0\n",
       "25005  47192814  1080422.0\n",
       "25007    981079       58.0\n",
       "25009  68333775  1541151.0\n",
       "25011   2435932    76482.0\n",
       "25013  39024977   984400.0\n",
       "25015   7239268   188134.0\n",
       "25017  99483632  2419423.0\n",
       "25019   1041738      408.0\n",
       "25021  39998389  1160409.0\n",
       "25023  35876564   935764.0\n",
       "25025  67718998  1208500.0\n",
       "25027  57887763  1423217.0"
      ]
     },
     "metadata": {},
     "output_type": "display_data"
    }
   ],
   "source": [
    "total_fips = nyt.groupby(\"fips\").sum()\n",
    "import pandas as pd; import numpy as np\n",
    "total_fips = total_fips.reset_index()\n",
    "total_fips"
   ]
  },
  {
   "cell_type": "code",
   "execution_count": 25,
   "id": "93f07cf2",
   "metadata": {},
   "outputs": [
    {
     "data": {
      "application/vnd.jupyter.widget-view+json": {
       "model_id": "06e0c925f0df472bab004f276689629c"
      },
      "text/plain": [
       "            date      county          state     fips   cases  deaths\n",
       "6019  2021-04-16  Barnstable  Massachusetts  25001.0   13125   454.0\n",
       "6020  2021-04-16   Berkshire  Massachusetts  25003.0    6023   282.0\n",
       "6021  2021-04-16     Bristol  Massachusetts  25005.0   62872  1666.0\n",
       "6022  2021-04-16       Dukes  Massachusetts  25007.0    1153     0.0\n",
       "6023  2021-04-16       Essex  Massachusetts  25009.0   93110  2328.0\n",
       "6024  2021-04-16    Franklin  Massachusetts  25011.0    2360   111.0\n",
       "6025  2021-04-16     Hampden  Massachusetts  25013.0   48673  1476.0\n",
       "6026  2021-04-16   Hampshire  Massachusetts  25015.0    8728   286.0\n",
       "6027  2021-04-16   Middlesex  Massachusetts  25017.0  128832  3694.0\n",
       "6028  2021-04-16   Nantucket  Massachusetts  25019.0    1422     0.0\n",
       "6029  2021-04-16     Norfolk  Massachusetts  25021.0   52291  1760.0\n",
       "6030  2021-04-16    Plymouth  Massachusetts  25023.0   46432  1392.0\n",
       "6031  2021-04-16     Suffolk  Massachusetts  25025.0   88820  1808.0\n",
       "6033  2021-04-16   Worcester  Massachusetts  25027.0   73453  2177.0"
      ]
     },
     "metadata": {},
     "output_type": "display_data"
    }
   ],
   "source": [
    "# Pick my bday to visualize 04-16-2021\n",
    "\n",
    "bday = nyt[nyt[\"date\"] == \"2021-04-16\"]\n",
    "bday = bday[~pd.isnull(bday[\"fips\"])]\n",
    "bday"
   ]
  },
  {
   "cell_type": "code",
   "execution_count": 26,
   "id": "e905eb1d",
   "metadata": {},
   "outputs": [
    {
     "data": {
      "text/plain": [
       "date      0\n",
       "county    0\n",
       "state     0\n",
       "fips      0\n",
       "cases     0\n",
       "deaths    0\n",
       "dtype: int64"
      ]
     },
     "execution_count": 26,
     "metadata": {},
     "output_type": "execute_result"
    }
   ],
   "source": [
    "bday.isna().sum()"
   ]
  },
  {
   "cell_type": "code",
   "execution_count": 28,
   "id": "7acb17ab",
   "metadata": {},
   "outputs": [
    {
     "data": {
      "application/vnd.plotly.v1+json": {
       "config": {
        "plotlyServerURL": "https://plot.ly"
       },
       "data": [
        {
         "fill": "toself",
         "fillcolor": "rgb(68, 1, 84)",
         "hoverinfo": "none",
         "line": {
          "color": "rgb(0, 0, 0)",
          "width": 0
         },
         "mode": "lines",
         "name": "1153",
         "type": "scatter",
         "x": [
          -70.8071,
          -70.710222,
          -70.67518799999999,
          -70.790395,
          -70.8071,
          null,
          -70.832039,
          -70.811965,
          -70.80156099999999,
          -70.80924499999999,
          -70.832039,
          null,
          -70.838777,
          -70.774974,
          -70.700964,
          -70.603555,
          -70.501306,
          -70.452497,
          -70.44623299999999,
          -70.452244,
          -70.70982599999999,
          -70.775665,
          -70.838777,
          null,
          -70.840375,
          -70.820595,
          -70.80805099999999,
          -70.836868,
          -70.840375,
          null,
          -70.904786,
          -70.857103,
          -70.848563,
          -70.87121599999999,
          -70.904786,
          null,
          -70.925416,
          -70.920666,
          -70.915165,
          -70.92118599999999,
          -70.925416,
          null,
          -70.949185,
          -70.927475,
          -70.907496,
          -70.948757,
          -70.949185,
          null
         ],
         "y": [
          41.458576,
          41.518915,
          41.513949,
          41.446535,
          41.458576,
          null,
          41.259495,
          41.264838999999995,
          41.25841,
          41.249068,
          41.259495,
          null,
          41.347209,
          41.349176,
          41.43401,
          41.482383999999996,
          41.385391,
          41.42143,
          41.39648,
          41.349827999999995,
          41.341722999999995,
          41.300982,
          41.347209,
          null,
          41.452875,
          41.458507,
          41.445037,
          41.441967999999996,
          41.452875,
          null,
          41.427752999999996,
          41.450253,
          41.432843999999996,
          41.422084999999996,
          41.427752999999996,
          null,
          41.451732,
          41.454553,
          41.451034,
          41.445392999999996,
          41.451732,
          null,
          41.415776,
          41.431810999999996,
          41.421512,
          41.409037999999995,
          41.415776,
          null
         ]
        },
        {
         "fill": "toself",
         "fillcolor": "rgb(72, 24, 106)",
         "hoverinfo": "none",
         "line": {
          "color": "rgb(0, 0, 0)",
          "width": 0
         },
         "mode": "lines",
         "name": "1422",
         "type": "scatter",
         "x": [
          -70.234054,
          -70.06256499999999,
          -70.024421,
          -70.049053,
          -70.02038,
          -69.96018099999999,
          -70.100495,
          -70.234054,
          null,
          -70.277262,
          -70.246552,
          -70.242739,
          -70.259665,
          -70.277262,
          null,
          -70.30897,
          -70.29202699999999,
          -70.28932499999999,
          -70.307001,
          -70.30897,
          null
         ],
         "y": [
          41.285652999999996,
          41.308726,
          41.360622,
          41.391701999999995,
          41.369006,
          41.264545999999996,
          41.240553,
          41.285652999999996,
          null,
          41.310506,
          41.306186,
          41.28919,
          41.296006,
          41.310506,
          null,
          41.336057,
          41.337787999999996,
          41.335021999999995,
          41.332391,
          41.336057,
          null
         ]
        },
        {
         "fill": "toself",
         "fillcolor": "rgb(71, 45, 123)",
         "hoverinfo": "none",
         "line": {
          "color": "rgb(0, 0, 0)",
          "width": 0
         },
         "mode": "lines",
         "name": "2360",
         "type": "scatter",
         "x": [
          -73.0230149955487,
          -72.28303287565089,
          -72.225314,
          -72.276434,
          -72.244868,
          -72.291288,
          -72.314782,
          -72.36032399999999,
          -72.375022,
          -72.704392,
          -72.70087699999999,
          -72.87113599999999,
          -72.87684899999999,
          -72.975409,
          -72.955111,
          -72.995635,
          -72.948758,
          -73.023709,
          -73.0230149955487,
          null
         ],
         "y": [
          42.7411352241426,
          42.72155870837909,
          42.630426,
          42.577374,
          42.513439,
          42.479524999999995,
          42.339777,
          42.307449999999996,
          42.420819,
          42.40555,
          42.45292,
          42.484041,
          42.541197,
          42.556036999999996,
          42.665869,
          42.673342,
          42.704091999999996,
          42.70269,
          42.7411352241426,
          null
         ]
        },
        {
         "fill": "toself",
         "fillcolor": "rgb(66, 64, 134)",
         "hoverinfo": "none",
         "line": {
          "color": "rgb(0, 0, 0)",
          "width": 0
         },
         "mode": "lines",
         "name": "6023",
         "type": "scatter",
         "x": [
          -73.50814199999999,
          -73.264957,
          -73.0230149955487,
          -73.023709,
          -72.949742,
          -72.995635,
          -72.951039,
          -73.01168299999999,
          -73.068508,
          -73.06288599999999,
          -73.000173,
          -73.034916,
          -73.071113,
          -73.0532880861326,
          -73.49687899999999,
          -73.50814199999999,
          null
         ],
         "y": [
          42.086256999999996,
          42.74594,
          42.7411352241426,
          42.70269,
          42.705103,
          42.673342,
          42.641006,
          42.379683,
          42.38072,
          42.328950999999996,
          42.312678,
          42.143682,
          42.148205999999995,
          42.039861968461295,
          42.049675,
          42.086256999999996,
          null
         ]
        },
        {
         "fill": "toself",
         "fillcolor": "rgb(51, 99, 141)",
         "hoverinfo": "none",
         "line": {
          "color": "rgb(0, 0, 0)",
          "width": 0
         },
         "mode": "lines",
         "name": "8728",
         "type": "scatter",
         "x": [
          -73.065772,
          -73.01168299999999,
          -72.975409,
          -72.87684899999999,
          -72.87113599999999,
          -72.70087699999999,
          -72.704392,
          -72.375022,
          -72.355942,
          -72.284239,
          -72.274639,
          -72.20328099999999,
          -72.21046,
          -72.395478,
          -72.403947,
          -72.602233,
          -72.61313799999999,
          -72.690457,
          -72.686861,
          -72.78103899999999,
          -72.813422,
          -72.87218,
          -72.912302,
          -72.880602,
          -72.88520799999999,
          -72.953825,
          -73.029398,
          -73.06288599999999,
          -73.065772,
          null
         ],
         "y": [
          42.389111,
          42.379683,
          42.556036999999996,
          42.541197,
          42.484041,
          42.45292,
          42.40555,
          42.420819,
          42.303401,
          42.352056999999995,
          42.301963,
          42.291182,
          42.247205,
          42.185736999999996,
          42.231846999999995,
          42.213291,
          42.286265,
          42.213052,
          42.183389999999996,
          42.199749,
          42.245004,
          42.216439,
          42.239132999999995,
          42.265381999999995,
          42.332612,
          42.34386,
          42.308568,
          42.328950999999996,
          42.389111,
          null
         ]
        },
        {
         "fill": "toself",
         "fillcolor": "rgb(44, 114, 142)",
         "hoverinfo": "none",
         "line": {
          "color": "rgb(0, 0, 0)",
          "width": 0
         },
         "mode": "lines",
         "name": "13125",
         "type": "scatter",
         "x": [
          -70.686981,
          -70.640948,
          -70.65326999999999,
          -70.62480000000001,
          -70.662036,
          -70.62544,
          -70.632555,
          -70.5372893339932,
          -70.471552,
          -70.259205,
          -70.008462,
          -70.000188,
          -70.044995,
          -70.06900999999999,
          -70.095595,
          -70.15541499999999,
          -70.190834,
          -70.238087,
          -70.082624,
          -69.986085,
          -69.928393,
          -69.997682,
          -69.970489,
          -70.014211,
          -70.195193,
          -70.265424,
          -70.28132,
          -70.35163399999999,
          -70.485571,
          -70.686981,
          null
         ],
         "y": [
          41.529489999999996,
          41.577324999999995,
          41.638982,
          41.655727,
          41.68094,
          41.698691,
          41.762904,
          41.8108590611294,
          41.761562999999995,
          41.713954,
          41.800785999999995,
          41.886938,
          41.930049,
          41.884924,
          42.032832,
          42.062408999999995,
          42.020027999999996,
          42.072877999999996,
          42.054657,
          41.949597,
          41.708449,
          41.54233,
          41.645458,
          41.671971,
          41.647912999999996,
          41.609333,
          41.635124999999995,
          41.634687,
          41.554244,
          41.529489999999996,
          null
         ]
        },
        {
         "fill": "toself",
         "fillcolor": "rgb(38, 130, 142)",
         "hoverinfo": "none",
         "line": {
          "color": "rgb(0, 0, 0)",
          "width": 0
         },
         "mode": "lines",
         "name": "46432",
         "type": "scatter",
         "x": [
          -70.883352,
          -70.880207,
          -70.873953,
          -70.87604999999999,
          -70.883352,
          null,
          -70.891755,
          -70.886251,
          -70.884777,
          -70.887529,
          -70.891755,
          null,
          -70.892296,
          -70.888954,
          -70.888775,
          -70.891952,
          -70.892296,
          null,
          -70.89840699999999,
          -70.89721,
          -70.8956,
          -70.895156,
          -70.89840699999999,
          null,
          -70.898439,
          -70.897063,
          -70.894065,
          -70.89608,
          -70.898439,
          null,
          -70.95107999999999,
          -70.935272,
          -70.92638,
          -70.937332,
          -70.95107999999999,
          null,
          -71.079343,
          -70.924877,
          -70.932435,
          -70.875908,
          -70.90442999999999,
          -70.87828499999999,
          -70.887317,
          -70.92392,
          -70.88268,
          -70.82466072392849,
          -70.85338,
          -70.827015,
          -70.76633799999999,
          -70.597892,
          -70.63913699999999,
          -70.614223,
          -70.650874,
          -70.710034,
          -70.646785,
          -70.650826,
          -70.623513,
          -70.539189,
          -70.5372893339932,
          -70.632555,
          -70.620785,
          -70.674064,
          -70.656596,
          -70.718739,
          -70.715593,
          -70.748868,
          -70.765463,
          -70.809001,
          -70.801063,
          -70.8431763095007,
          -70.921782,
          -71.026288,
          -71.03657,
          -70.973717,
          -70.996804,
          -71.04948499999999,
          -71.079343,
          null
         ],
         "y": [
          42.340491,
          42.342307,
          42.343634,
          42.341229,
          42.340491,
          null,
          42.338856,
          42.339946,
          42.339327999999995,
          42.338201999999995,
          42.338856,
          null,
          42.328393999999996,
          42.328902,
          42.328461,
          42.327231,
          42.328393999999996,
          null,
          42.340266,
          42.343323999999996,
          42.343892,
          42.338879,
          42.340266,
          null,
          42.331191,
          42.333952,
          42.33498,
          42.330355,
          42.331191,
          null,
          42.289725999999995,
          42.302101,
          42.301406,
          42.284915999999996,
          42.289725999999995,
          null,
          42.095993,
          42.157579999999996,
          42.252644,
          42.256853,
          42.280772999999996,
          42.278310999999995,
          42.297652,
          42.305035,
          42.310393,
          42.265934645772305,
          42.239607,
          42.200786,
          42.254742,
          42.004549999999995,
          41.993894999999995,
          42.011148999999996,
          42.046247,
          41.999544,
          41.949309,
          41.98218,
          41.943273,
          41.926773,
          41.8108590611294,
          41.762904,
          41.74753,
          41.691371,
          41.715401,
          41.73574,
          41.675258,
          41.697446,
          41.641574999999996,
          41.658390999999995,
          41.629512999999996,
          41.628486815378,
          41.791244,
          41.778887999999995,
          41.816525,
          41.860879,
          41.927403999999996,
          41.963094,
          42.095993,
          null
         ]
        },
        {
         "fill": "toself",
         "fillcolor": "rgb(31, 160, 136)",
         "hoverinfo": "none",
         "line": {
          "color": "rgb(0, 0, 0)",
          "width": 0
         },
         "mode": "lines",
         "name": "48673",
         "type": "scatter",
         "x": [
          -73.074845,
          -73.071113,
          -73.034916,
          -73.000173,
          -72.89563799999999,
          -72.880602,
          -72.912302,
          -72.87218,
          -72.813422,
          -72.78103899999999,
          -72.686861,
          -72.690457,
          -72.61313799999999,
          -72.602233,
          -72.403947,
          -72.395478,
          -72.221218,
          -72.263924,
          -72.13501099999999,
          -72.13571499999999,
          -72.755838,
          -72.766739,
          -72.816741,
          -72.813541,
          -73.0532880861326,
          -73.074845,
          null
         ],
         "y": [
          42.106145999999995,
          42.148205999999995,
          42.143682,
          42.312678,
          42.340702,
          42.265381999999995,
          42.239132999999995,
          42.216439,
          42.245004,
          42.199749,
          42.183389999999996,
          42.213052,
          42.286265,
          42.213291,
          42.231846999999995,
          42.185736999999996,
          42.245252,
          42.183831,
          42.161784,
          42.0302453396816,
          42.036195,
          42.002995,
          41.997595,
          42.036494,
          42.039861968461295,
          42.106145999999995,
          null
         ]
        },
        {
         "fill": "toself",
         "fillcolor": "rgb(40, 174, 128)",
         "hoverinfo": "none",
         "line": {
          "color": "rgb(0, 0, 0)",
          "width": 0
         },
         "mode": "lines",
         "name": "52291",
         "type": "scatter",
         "x": [
          -70.844664,
          -70.82466072392849,
          -70.78146192304459,
          -70.827015,
          -70.844664,
          null,
          -71.17172,
          -71.12858,
          -71.10656999999999,
          -71.152148,
          -71.17172,
          null,
          -71.503078,
          -71.47811899999999,
          -71.34416999999999,
          -71.33249599999999,
          -71.302922,
          -71.327327,
          -71.23106,
          -71.130771,
          -71.039684963075,
          -70.986667,
          -71.02065499999999,
          -70.953833,
          -70.952679,
          -70.92633599999999,
          -70.9082859092802,
          -70.933491,
          -70.924877,
          -71.364344,
          -71.381401,
          -71.498258301062,
          -71.503078,
          null
         ],
         "y": [
          42.242270999999995,
          42.265934645772305,
          42.2487180195672,
          42.200786,
          42.242270999999995,
          null,
          42.319489999999995,
          42.349696,
          42.349911999999996,
          42.294613,
          42.319489999999995,
          null,
          42.110285,
          42.156782,
          42.200703,
          42.249075,
          42.248273999999995,
          42.313745999999995,
          42.320736,
          42.227926,
          42.305865543089496,
          42.306264999999996,
          42.286575,
          42.280791,
          42.24876,
          42.269791999999995,
          42.26471533061319,
          42.25,
          42.157579999999996,
          41.985293,
          42.018798,
          42.01722023315919,
          42.110285,
          null
         ]
        },
        {
         "fill": "toself",
         "fillcolor": "rgb(63, 188, 115)",
         "hoverinfo": "none",
         "line": {
          "color": "rgb(0, 0, 0)",
          "width": 0
         },
         "mode": "lines",
         "name": "62872",
         "type": "scatter",
         "x": [
          -70.835948,
          -70.823735,
          -70.82191,
          -70.838452,
          -70.835948,
          null,
          -71.38170000000001,
          -71.3814657108006,
          -71.080483,
          -71.04948499999999,
          -70.996804,
          -70.973717,
          -71.03657,
          -71.026288,
          -70.921782,
          -70.886439,
          -70.842039,
          -70.889209,
          -70.913202,
          -70.898607,
          -70.93045599999999,
          -70.953299,
          -70.972287,
          -71.03836199999999,
          -71.07068699999999,
          -71.12057,
          -71.132888,
          -71.19569,
          -71.327896,
          -71.338698,
          -71.38170000000001,
          null
         ],
         "y": [
          41.602516,
          41.598569,
          41.582840999999995,
          41.59646,
          41.602516,
          null,
          41.89375174725279,
          41.9850843199885,
          42.095538999999995,
          41.963094,
          41.927403999999996,
          41.860879,
          41.816525,
          41.778887999999995,
          41.791244,
          41.760231999999995,
          41.593543,
          41.632903999999996,
          41.619265999999996,
          41.592653999999996,
          41.613271,
          41.51501,
          41.530764999999995,
          41.481105,
          41.508877,
          41.497448,
          41.660101999999995,
          41.675101999999995,
          41.780501,
          41.898399,
          41.89375174725279,
          null
         ]
        },
        {
         "fill": "toself",
         "fillcolor": "rgb(132, 212, 75)",
         "hoverinfo": "none",
         "line": {
          "color": "rgb(0, 0, 0)",
          "width": 0
         },
         "mode": "lines",
         "name": "73453",
         "type": "scatter",
         "x": [
          -72.315994,
          -72.291288,
          -72.244868,
          -72.276434,
          -72.225314,
          -72.28303287565089,
          -71.89877002948,
          -71.85848299999999,
          -71.66460099999999,
          -71.678969,
          -71.580287,
          -71.52984099999999,
          -71.5591,
          -71.60425099999999,
          -71.58015,
          -71.62582499999999,
          -71.585168,
          -71.486797,
          -71.506478,
          -71.586759,
          -71.602221,
          -71.478027,
          -71.498258301062,
          -72.13571499999999,
          -72.13501099999999,
          -72.263924,
          -72.20328099999999,
          -72.274639,
          -72.315994,
          null
         ],
         "y": [
          42.394543999999996,
          42.479524999999995,
          42.513439,
          42.577374,
          42.630426,
          42.72155870837909,
          42.7114218822193,
          42.633815,
          42.611598,
          42.530429999999996,
          42.550467,
          42.519841,
          42.411943,
          42.397703,
          42.386998,
          42.349723999999995,
          42.310977,
          42.330189,
          42.264275999999995,
          42.259544999999996,
          42.218101,
          42.165870999999996,
          42.01722023315919,
          42.0302453396816,
          42.161784,
          42.183831,
          42.291182,
          42.301963,
          42.394543999999996,
          null
         ]
        },
        {
         "fill": "toself",
         "fillcolor": "rgb(173, 220, 48)",
         "hoverinfo": "none",
         "line": {
          "color": "rgb(0, 0, 0)",
          "width": 0
         },
         "mode": "lines",
         "name": "88820",
         "type": "scatter",
         "x": [
          -70.93091,
          -70.925969,
          -70.925308,
          -70.93075999999999,
          -70.93091,
          null,
          -70.932091,
          -70.929717,
          -70.922598,
          -70.931414,
          -70.932091,
          null,
          -70.94278,
          -70.940749,
          -70.934947,
          -70.939854,
          -70.94278,
          null,
          -70.958094,
          -70.951492,
          -70.948515,
          -70.95434,
          -70.958094,
          null,
          -70.977402,
          -70.957268,
          -70.952805,
          -70.965732,
          -70.977402,
          null,
          -70.989162,
          -70.98307799999999,
          -70.98566699999999,
          -70.991621,
          -70.989162,
          null,
          -71.017803,
          -71.00686999999999,
          -70.997838,
          -71.0084846185794,
          -71.017803,
          null,
          -71.190904,
          -71.105558,
          -71.15703599999999,
          -71.167625,
          -71.077095,
          -71.018757,
          -70.9599910454674,
          -70.990595,
          -70.95302199999999,
          -70.974183,
          -70.998497,
          -71.044185,
          -71.042782,
          -71.130771,
          -71.190904,
          null
         ],
         "y": [
          42.321605,
          42.321909,
          42.317223,
          42.319027,
          42.321605,
          null,
          42.332698,
          42.333973,
          42.326144,
          42.328267,
          42.332698,
          null,
          42.327180999999996,
          42.328139,
          42.326806999999995,
          42.324245,
          42.327180999999996,
          null,
          42.31165,
          42.313564,
          42.311937,
          42.308586999999996,
          42.31165,
          null,
          42.312294,
          42.331661,
          42.330627,
          42.313469,
          42.312294,
          null,
          42.328303999999996,
          42.327155999999995,
          42.318732999999995,
          42.326294,
          42.328303999999996,
          null,
          42.31312,
          42.321028999999996,
          42.321205,
          42.3057928208765,
          42.31312,
          null,
          42.283248,
          42.343897999999996,
          42.33039,
          42.360073,
          42.358697,
          42.450117999999996,
          42.4438207851563,
          42.407098,
          42.343973,
          42.369565,
          42.368221,
          42.322610999999995,
          42.277102,
          42.227926,
          42.283248,
          null
         ]
        },
        {
         "fill": "toself",
         "fillcolor": "rgb(216, 226, 25)",
         "hoverinfo": "none",
         "line": {
          "color": "rgb(0, 0, 0)",
          "width": 0
         },
         "mode": "lines",
         "name": "93110",
         "type": "scatter",
         "x": [
          -70.580285,
          -70.575088,
          -70.573377,
          -70.575648,
          -70.580285,
          null,
          -70.5920440191217,
          -70.588245,
          -70.58681899999999,
          -70.588037,
          -70.5920440191217,
          null,
          -70.59383199999999,
          -70.587992,
          -70.586344,
          -70.589942,
          -70.59383199999999,
          null,
          -70.723148,
          -70.721223,
          -70.72064,
          -70.721656,
          -70.723148,
          null,
          -70.78305499999999,
          -70.781182,
          -70.780441,
          -70.78208,
          -70.78305499999999,
          null,
          -70.788783,
          -70.787031,
          -70.782252,
          -70.787708,
          -70.788783,
          null,
          -70.80222499999999,
          -70.796224,
          -70.793272,
          -70.802155,
          -70.80222499999999,
          null,
          -70.81688,
          -70.811949,
          -70.812069,
          -70.81457,
          -70.81688,
          null,
          -70.835635,
          -70.83371,
          -70.83322799999999,
          -70.835635,
          -70.835635,
          null,
          -71.250303,
          -71.2551987703894,
          -71.181803,
          -71.167703,
          -71.064201,
          -71.031201,
          -70.902768,
          -70.817296,
          -70.776083,
          -70.691231,
          -70.630077,
          -70.591469,
          -70.654727,
          -70.676733,
          -70.710349,
          -70.87519499999999,
          -70.886366,
          -70.831091,
          -70.93499299999999,
          -70.905692,
          -70.936393,
          -70.939561,
          -70.99985699999999,
          -71.054214,
          -71.03490000000001,
          -71.070978,
          -71.028312,
          -71.05876599999999,
          -71.164974,
          -71.250303,
          null
         ],
         "y": [
          42.636025,
          42.639779999999995,
          42.639506999999995,
          42.634451999999996,
          42.636025,
          null,
          42.6295126856785,
          42.630604999999996,
          42.628156999999995,
          42.626413,
          42.6295126856785,
          null,
          42.660787,
          42.663002999999996,
          42.662248999999996,
          42.658449999999995,
          42.660787,
          null,
          42.568157,
          42.569933,
          42.569659,
          42.566088,
          42.568157,
          null,
          42.553461,
          42.554218,
          42.553868,
          42.551679,
          42.553461,
          null,
          42.534006,
          42.537295,
          42.533716,
          42.530578999999996,
          42.534006,
          null,
          42.550473,
          42.551300999999995,
          42.547444,
          42.547135,
          42.550473,
          null,
          42.514579999999995,
          42.512093,
          42.510276999999995,
          42.511050999999995,
          42.514579999999995,
          null,
          42.4844,
          42.486412,
          42.481442,
          42.481915,
          42.4844,
          null,
          42.660591,
          42.736638343984396,
          42.73759,
          42.807389,
          42.806289,
          42.859089,
          42.88653,
          42.87229,
          42.691264,
          42.655789999999996,
          42.692699,
          42.639821,
          42.582234,
          42.607527,
          42.572568,
          42.544343999999995,
          42.508610999999995,
          42.503595999999995,
          42.457896,
          42.416197,
          42.418096999999996,
          42.456748999999995,
          42.431295999999996,
          42.476903,
          42.506758,
          42.555889,
          42.574082,
          42.609077,
          42.598082,
          42.660591,
          null
         ]
        },
        {
         "fill": "toself",
         "fillcolor": "rgb(253, 231, 37)",
         "hoverinfo": "none",
         "line": {
          "color": "rgb(0, 0, 0)",
          "width": 0
         },
         "mode": "lines",
         "name": "128832",
         "type": "scatter",
         "x": [
          -71.89877002948,
          -71.29420499999999,
          -71.2551987703894,
          -71.255749,
          -71.164974,
          -71.05876599999999,
          -71.033998,
          -71.07515,
          -71.03859899999999,
          -71.054214,
          -71.020377,
          -71.077095,
          -71.167625,
          -71.191155,
          -71.252937,
          -71.32974999999999,
          -71.302922,
          -71.33249599999999,
          -71.34416999999999,
          -71.47811899999999,
          -71.50262599999999,
          -71.55573799999999,
          -71.602221,
          -71.586759,
          -71.506478,
          -71.486797,
          -71.585168,
          -71.62582499999999,
          -71.58015,
          -71.60425099999999,
          -71.5591,
          -71.53878,
          -71.678969,
          -71.66460099999999,
          -71.85848299999999,
          -71.89877002948,
          null
         ],
         "y": [
          42.7114218822193,
          42.69699,
          42.736638343984396,
          42.656929,
          42.598082,
          42.609077,
          42.585493,
          42.531034999999996,
          42.523959999999995,
          42.476903,
          42.43825,
          42.358697,
          42.360073,
          42.283059,
          42.326755999999996,
          42.312991,
          42.248273999999995,
          42.249075,
          42.200703,
          42.156782,
          42.191416,
          42.182503,
          42.218101,
          42.259544999999996,
          42.264275999999995,
          42.330189,
          42.310977,
          42.349723999999995,
          42.386998,
          42.397703,
          42.411943,
          42.543029999999995,
          42.530429999999996,
          42.611598,
          42.633815,
          42.7114218822193,
          null
         ]
        },
        {
         "hoverinfo": "text",
         "legendgroup": "centroids",
         "marker": {
          "color": "white",
          "opacity": 0
         },
         "mode": "markers",
         "name": "US Counties",
         "selected": {
          "marker": {
           "color": "white",
           "opacity": 1,
           "size": 3
          }
         },
         "showlegend": false,
         "text": [
          "County: Suffolk<br>State: Massachusetts<br>FIPS: 25025<br>Value: 88820",
          "County: Suffolk<br>State: Massachusetts<br>FIPS: 25025<br>Value: 88820",
          "County: Suffolk<br>State: Massachusetts<br>FIPS: 25025<br>Value: 88820",
          "County: Suffolk<br>State: Massachusetts<br>FIPS: 25025<br>Value: 88820",
          "County: Suffolk<br>State: Massachusetts<br>FIPS: 25025<br>Value: 88820",
          "County: Suffolk<br>State: Massachusetts<br>FIPS: 25025<br>Value: 88820",
          "County: Suffolk<br>State: Massachusetts<br>FIPS: 25025<br>Value: 88820",
          "County: Suffolk<br>State: Massachusetts<br>FIPS: 25025<br>Value: 88820",
          "County: Plymouth<br>State: Massachusetts<br>FIPS: 25023<br>Value: 46432",
          "County: Plymouth<br>State: Massachusetts<br>FIPS: 25023<br>Value: 46432",
          "County: Plymouth<br>State: Massachusetts<br>FIPS: 25023<br>Value: 46432",
          "County: Plymouth<br>State: Massachusetts<br>FIPS: 25023<br>Value: 46432",
          "County: Plymouth<br>State: Massachusetts<br>FIPS: 25023<br>Value: 46432",
          "County: Plymouth<br>State: Massachusetts<br>FIPS: 25023<br>Value: 46432",
          "County: Plymouth<br>State: Massachusetts<br>FIPS: 25023<br>Value: 46432",
          "County: Norfolk<br>State: Massachusetts<br>FIPS: 25021<br>Value: 52291",
          "County: Norfolk<br>State: Massachusetts<br>FIPS: 25021<br>Value: 52291",
          "County: Norfolk<br>State: Massachusetts<br>FIPS: 25021<br>Value: 52291",
          "County: Nantucket<br>State: Massachusetts<br>FIPS: 25019<br>Value: 1422",
          "County: Nantucket<br>State: Massachusetts<br>FIPS: 25019<br>Value: 1422",
          "County: Nantucket<br>State: Massachusetts<br>FIPS: 25019<br>Value: 1422",
          "County: Essex<br>State: Massachusetts<br>FIPS: 25009<br>Value: 93110",
          "County: Essex<br>State: Massachusetts<br>FIPS: 25009<br>Value: 93110",
          "County: Essex<br>State: Massachusetts<br>FIPS: 25009<br>Value: 93110",
          "County: Essex<br>State: Massachusetts<br>FIPS: 25009<br>Value: 93110",
          "County: Essex<br>State: Massachusetts<br>FIPS: 25009<br>Value: 93110",
          "County: Essex<br>State: Massachusetts<br>FIPS: 25009<br>Value: 93110",
          "County: Essex<br>State: Massachusetts<br>FIPS: 25009<br>Value: 93110",
          "County: Essex<br>State: Massachusetts<br>FIPS: 25009<br>Value: 93110",
          "County: Essex<br>State: Massachusetts<br>FIPS: 25009<br>Value: 93110",
          "County: Essex<br>State: Massachusetts<br>FIPS: 25009<br>Value: 93110",
          "County: Dukes<br>State: Massachusetts<br>FIPS: 25007<br>Value: 1153",
          "County: Dukes<br>State: Massachusetts<br>FIPS: 25007<br>Value: 1153",
          "County: Dukes<br>State: Massachusetts<br>FIPS: 25007<br>Value: 1153",
          "County: Dukes<br>State: Massachusetts<br>FIPS: 25007<br>Value: 1153",
          "County: Dukes<br>State: Massachusetts<br>FIPS: 25007<br>Value: 1153",
          "County: Dukes<br>State: Massachusetts<br>FIPS: 25007<br>Value: 1153",
          "County: Dukes<br>State: Massachusetts<br>FIPS: 25007<br>Value: 1153",
          "County: Bristol<br>State: Massachusetts<br>FIPS: 25005<br>Value: 62872",
          "County: Bristol<br>State: Massachusetts<br>FIPS: 25005<br>Value: 62872",
          "County: Barnstable<br>State: Massachusetts<br>FIPS: 25001<br>Value: 13125",
          "County: Berkshire<br>State: Massachusetts<br>FIPS: 25003<br>Value: 6023",
          "County: Franklin<br>State: Massachusetts<br>FIPS: 25011<br>Value: 2360",
          "County: Hampden<br>State: Massachusetts<br>FIPS: 25013<br>Value: 48673",
          "County: Hampshire<br>State: Massachusetts<br>FIPS: 25015<br>Value: 8728",
          "County: Middlesex<br>State: Massachusetts<br>FIPS: 25017<br>Value: 128832",
          "County: Worcester<br>State: Massachusetts<br>FIPS: 25027<br>Value: 73453"
         ],
         "type": "scatter",
         "unselected": {
          "marker": {
           "opacity": 0
          }
         },
         "x": [
          [
           -70.9280391133086
          ],
          [
           -70.9277790290724
          ],
          [
           -70.9392566238225
          ],
          [
           -70.95387693386199
          ],
          [
           -70.96483627239256
          ],
          [
           -70.98673453708642
          ],
          [
           -71.00940904593837
          ],
          [
           -71.07309884387598
          ],
          [
           -70.8780115397054
          ],
          [
           -70.88824913269262
          ],
          [
           -70.89061026119334
          ],
          [
           -70.8962556436447
          ],
          [
           -70.89636899879952
          ],
          [
           -70.93790606268806
          ],
          [
           -70.81129175746672
          ],
          [
           -70.81892375373486
          ],
          [
           -71.14080910291152
          ],
          [
           -71.22298718443716
          ],
          [
           -70.06245308001775
          ],
          [
           -70.25622674025917
          ],
          [
           -70.29999198079794
          ],
          [
           -70.5762561032735
          ],
          [
           -70.58939860145681
          ],
          [
           -70.59031034835986
          ],
          [
           -70.72192025581093
          ],
          [
           -70.78196293798233
          ],
          [
           -70.78625262527578
          ],
          [
           -70.79886099117257
          ],
          [
           -70.81449732085207
          ],
          [
           -70.83410716515235
          ],
          [
           -70.95218563001502
          ],
          [
           -70.74859518022004
          ],
          [
           -70.81525824004792
          ],
          [
           -70.62802416110435
          ],
          [
           -70.82616655033165
          ],
          [
           -70.87487257159471
          ],
          [
           -70.92128806106592
          ],
          [
           -70.93221404295807
          ],
          [
           -70.82902751053047
          ],
          [
           -71.1147696402744
          ],
          -70.29149042162072,
          -73.20634775606662,
          -72.59183006384409,
          -72.63158760194638,
          -72.66380090627308,
          -71.39178930223044,
          -71.90774522258745
         ],
         "y": [
          [
           42.31980319851328
          ],
          [
           42.329071591519
          ],
          [
           42.326224574458465
          ],
          [
           42.31132022228186
          ],
          [
           42.32072398669129
          ],
          [
           42.32421915511973
          ],
          [
           42.31402646167803
          ],
          [
           42.33389489977019
          ],
          [
           42.34200748566634
          ],
          [
           42.33893924860726
          ],
          [
           42.328087534563856
          ],
          [
           42.341133147558075
          ],
          [
           42.3325953020933
          ],
          [
           42.293505047325354
          ],
          [
           41.950800421004296
          ],
          [
           42.236314997413984
          ],
          [
           42.32427586329445
          ],
          [
           42.15579579570511
          ],
          [
           41.282293001731986
          ],
          [
           41.30179830953805
          ],
          [
           41.33546206041185
          ],
          [
           42.63682463751455
          ],
          [
           42.62851516377598
          ],
          [
           42.66069178061119
          ],
          [
           42.56787849781812
          ],
          [
           42.552997558899115
          ],
          [
           42.53401423495861
          ],
          [
           42.54895706170866
          ],
          [
           42.512385248316136
          ],
          [
           42.48365458222047
          ],
          [
           42.67319136089608
          ],
          [
           41.48409424878505
          ],
          [
           41.25582283776138
          ],
          [
           41.38786601815403
          ],
          [
           41.45004834081349
          ],
          [
           41.43134085009215
          ],
          [
           41.45083824913764
          ],
          [
           41.420115583000246
          ],
          [
           41.59389023049773
          ],
          [
           41.797445412015705
          ],
          41.72417861197711,
          42.37070284099708,
          42.583090626153535,
          42.135099154050955,
          42.340158105022276,
          42.485578780208236,
          42.35142245348082
         ]
        },
        {
         "hoverinfo": "text",
         "legendgroup": "States",
         "line": {
          "color": "rgb(240, 240, 240)",
          "width": 1
         },
         "mode": "lines",
         "showlegend": false,
         "type": "scatter",
         "x": [
          -70.234054,
          -70.06256499999999,
          -70.024421,
          -70.049053,
          -70.02038,
          -69.96018099999999,
          -70.100495,
          -70.234054,
          null,
          -70.277262,
          -70.246552,
          -70.242739,
          -70.259665,
          -70.277262,
          null,
          -70.30897,
          -70.29202699999999,
          -70.28932499999999,
          -70.307001,
          -70.30897,
          null,
          -70.580285,
          -70.575088,
          -70.573377,
          -70.575648,
          -70.580285,
          null,
          -70.5920440191217,
          -70.588245,
          -70.58681899999999,
          -70.588037,
          -70.5920440191217,
          null,
          -70.59383199999999,
          -70.587992,
          -70.586344,
          -70.589942,
          -70.59383199999999,
          null,
          -70.723148,
          -70.721223,
          -70.72064,
          -70.721656,
          -70.723148,
          null,
          -70.78305499999999,
          -70.781182,
          -70.780441,
          -70.78208,
          -70.78305499999999,
          null,
          -70.788783,
          -70.787031,
          -70.782252,
          -70.787708,
          -70.788783,
          null,
          -70.80222499999999,
          -70.796224,
          -70.793272,
          -70.802155,
          -70.80222499999999,
          null,
          -70.8071,
          -70.710222,
          -70.67518799999999,
          -70.790395,
          -70.8071,
          null,
          -70.81688,
          -70.811949,
          -70.812069,
          -70.81457,
          -70.81688,
          null,
          -70.832039,
          -70.811965,
          -70.80156099999999,
          -70.80924499999999,
          -70.832039,
          null,
          -70.835635,
          -70.83371,
          -70.83322799999999,
          -70.835635,
          -70.835635,
          null,
          -70.835948,
          -70.823735,
          -70.82191,
          -70.838452,
          -70.835948,
          null,
          -70.838777,
          -70.774974,
          -70.700964,
          -70.603555,
          -70.501306,
          -70.452497,
          -70.44623299999999,
          -70.452244,
          -70.70982599999999,
          -70.775665,
          -70.838777,
          null,
          -70.840375,
          -70.820595,
          -70.80805099999999,
          -70.836868,
          -70.840375,
          null,
          -70.883352,
          -70.880207,
          -70.873953,
          -70.87604999999999,
          -70.883352,
          null,
          -70.891755,
          -70.886251,
          -70.884777,
          -70.887529,
          -70.891755,
          null,
          -70.892296,
          -70.888954,
          -70.888775,
          -70.891952,
          -70.892296,
          null,
          -70.89840699999999,
          -70.89721,
          -70.8956,
          -70.895156,
          -70.89840699999999,
          null,
          -70.898439,
          -70.897063,
          -70.894065,
          -70.89608,
          -70.898439,
          null,
          -70.904786,
          -70.857103,
          -70.848563,
          -70.87121599999999,
          -70.904786,
          null,
          -70.925416,
          -70.920666,
          -70.915165,
          -70.92118599999999,
          -70.925416,
          null,
          -70.93091,
          -70.925969,
          -70.925308,
          -70.93075999999999,
          -70.93091,
          null,
          -70.932091,
          -70.929717,
          -70.922598,
          -70.931414,
          -70.932091,
          null,
          -70.94278,
          -70.940749,
          -70.934947,
          -70.939854,
          -70.94278,
          null,
          -70.95107999999999,
          -70.935272,
          -70.92638,
          -70.937332,
          -70.95107999999999,
          null,
          -70.949185,
          -70.927475,
          -70.907496,
          -70.948757,
          -70.949185,
          null,
          -70.958094,
          -70.951492,
          -70.948515,
          -70.95434,
          -70.958094,
          null,
          -70.977402,
          -70.957268,
          -70.952805,
          -70.965732,
          -70.977402,
          null,
          -70.989162,
          -70.98307799999999,
          -70.98566699999999,
          -70.991621,
          -70.989162,
          null,
          -73.50814199999999,
          -73.264957,
          -71.29420499999999,
          -71.245504,
          -71.181803,
          -71.16560299999999,
          -71.064201,
          -71.031201,
          -70.902768,
          -70.817296,
          -70.776083,
          -70.691231,
          -70.630077,
          -70.591469,
          -70.654727,
          -70.676733,
          -70.710349,
          -70.87519499999999,
          -70.886366,
          -70.842091,
          -70.83599099999999,
          -70.93499299999999,
          -70.905692,
          -70.960763,
          -70.990595,
          -70.95302199999999,
          -70.974183,
          -70.998497,
          -71.041333,
          -70.997838,
          -71.02065499999999,
          -70.953833,
          -70.952679,
          -70.917056,
          -70.87781,
          -70.90442999999999,
          -70.87828499999999,
          -70.887317,
          -70.923444,
          -70.889456,
          -70.85109299999999,
          -70.76633799999999,
          -70.597892,
          -70.63913699999999,
          -70.614223,
          -70.650874,
          -70.710034,
          -70.646785,
          -70.650826,
          -70.623513,
          -70.539189,
          -70.54102999999999,
          -70.412476,
          -70.259205,
          -70.008462,
          -70.000188,
          -70.044995,
          -70.06900999999999,
          -70.095595,
          -70.15541499999999,
          -70.190834,
          -70.245385,
          -70.18930499999999,
          -70.082624,
          -69.968598,
          -69.928393,
          -70.003861,
          -69.970489,
          -70.014211,
          -70.195193,
          -70.265424,
          -70.28132,
          -70.35163399999999,
          -70.485571,
          -70.65662499999999,
          -70.686981,
          -70.642748,
          -70.65326999999999,
          -70.62480000000001,
          -70.662036,
          -70.62365199999999,
          -70.674064,
          -70.656596,
          -70.718739,
          -70.715593,
          -70.748868,
          -70.765463,
          -70.821598,
          -70.801063,
          -70.85965399999999,
          -70.853447,
          -70.872665,
          -70.913202,
          -70.902051,
          -70.93045599999999,
          -70.92851999999999,
          -71.03836199999999,
          -71.07068699999999,
          -71.12057,
          -71.132888,
          -71.19569,
          -71.34069699999999,
          -71.338698,
          -71.38170000000001,
          -71.381401,
          -72.755838,
          -72.766739,
          -72.816741,
          -72.813541,
          -73.49687899999999,
          -73.50814199999999,
          null,
          null
         ],
         "y": [
          41.285652999999996,
          41.308726,
          41.360622,
          41.391701999999995,
          41.369006,
          41.264545999999996,
          41.240553,
          41.285652999999996,
          null,
          41.310506,
          41.306186,
          41.28919,
          41.296006,
          41.310506,
          null,
          41.336057,
          41.337787999999996,
          41.335021999999995,
          41.332391,
          41.336057,
          null,
          42.636025,
          42.639779999999995,
          42.639506999999995,
          42.634451999999996,
          42.636025,
          null,
          42.6295126856785,
          42.630604999999996,
          42.628156999999995,
          42.626413,
          42.6295126856785,
          null,
          42.660787,
          42.663002999999996,
          42.662248999999996,
          42.658449999999995,
          42.660787,
          null,
          42.568157,
          42.569933,
          42.569659,
          42.566088,
          42.568157,
          null,
          42.553461,
          42.554218,
          42.553868,
          42.551679,
          42.553461,
          null,
          42.534006,
          42.537295,
          42.533716,
          42.530578999999996,
          42.534006,
          null,
          42.550473,
          42.551300999999995,
          42.547444,
          42.547135,
          42.550473,
          null,
          41.458576,
          41.518915,
          41.513949,
          41.446535,
          41.458576,
          null,
          42.514579999999995,
          42.512093,
          42.510276999999995,
          42.511050999999995,
          42.514579999999995,
          null,
          41.259495,
          41.264838999999995,
          41.25841,
          41.249068,
          41.259495,
          null,
          42.4844,
          42.486412,
          42.481442,
          42.481915,
          42.4844,
          null,
          41.602516,
          41.598569,
          41.582840999999995,
          41.59646,
          41.602516,
          null,
          41.347209,
          41.349176,
          41.43401,
          41.482383999999996,
          41.385391,
          41.42143,
          41.39648,
          41.349827999999995,
          41.341722999999995,
          41.300982,
          41.347209,
          null,
          41.452875,
          41.458507,
          41.445037,
          41.441967999999996,
          41.452875,
          null,
          42.340491,
          42.342307,
          42.343634,
          42.341229,
          42.340491,
          null,
          42.338856,
          42.339946,
          42.339327999999995,
          42.338201999999995,
          42.338856,
          null,
          42.328393999999996,
          42.328902,
          42.328461,
          42.327231,
          42.328393999999996,
          null,
          42.340266,
          42.343323999999996,
          42.343892,
          42.338879,
          42.340266,
          null,
          42.331191,
          42.333952,
          42.33498,
          42.330355,
          42.331191,
          null,
          41.427752999999996,
          41.450253,
          41.432843999999996,
          41.422084999999996,
          41.427752999999996,
          null,
          41.451732,
          41.454553,
          41.451034,
          41.445392999999996,
          41.451732,
          null,
          42.321605,
          42.321909,
          42.317223,
          42.319027,
          42.321605,
          null,
          42.332698,
          42.333973,
          42.326144,
          42.328267,
          42.332698,
          null,
          42.327180999999996,
          42.328139,
          42.326806999999995,
          42.324245,
          42.327180999999996,
          null,
          42.289725999999995,
          42.302101,
          42.301406,
          42.284915999999996,
          42.289725999999995,
          null,
          41.415776,
          41.431810999999996,
          41.421512,
          41.409037999999995,
          41.415776,
          null,
          42.31165,
          42.313564,
          42.311937,
          42.308586999999996,
          42.31165,
          null,
          42.312294,
          42.331661,
          42.330627,
          42.313469,
          42.312294,
          null,
          42.328303999999996,
          42.327155999999995,
          42.318732999999995,
          42.326294,
          42.328303999999996,
          null,
          42.086256999999996,
          42.74594,
          42.69699,
          42.742588999999995,
          42.73759,
          42.808689,
          42.806289,
          42.859089,
          42.88653,
          42.87229,
          42.691264,
          42.655789999999996,
          42.692699,
          42.639821,
          42.582234,
          42.607527,
          42.572568,
          42.544343999999995,
          42.508610999999995,
          42.519495,
          42.490496,
          42.457896,
          42.416197,
          42.446011,
          42.407098,
          42.343973,
          42.369565,
          42.368221,
          42.302926,
          42.321205,
          42.286575,
          42.280791,
          42.24876,
          42.272542,
          42.249288,
          42.280772999999996,
          42.278310999999995,
          42.297652,
          42.302398,
          42.310483999999995,
          42.26827,
          42.254742,
          42.004549999999995,
          41.993894999999995,
          42.011148999999996,
          42.046247,
          41.999544,
          41.949309,
          41.98218,
          41.943273,
          41.926773,
          41.815754,
          41.744397,
          41.713954,
          41.800785999999995,
          41.886938,
          41.930049,
          41.884924,
          42.032832,
          42.062408999999995,
          42.020027999999996,
          42.063733,
          42.082336999999995,
          42.054657,
          41.9117,
          41.708449,
          41.540551,
          41.645458,
          41.671971,
          41.647912999999996,
          41.609333,
          41.635124999999995,
          41.634687,
          41.554244,
          41.514779,
          41.529489999999996,
          41.572385,
          41.638982,
          41.655727,
          41.68094,
          41.707398,
          41.691371,
          41.715401,
          41.73574,
          41.675258,
          41.697446,
          41.641574999999996,
          41.654838999999996,
          41.629512999999996,
          41.624123999999995,
          41.582195,
          41.627815999999996,
          41.619265999999996,
          41.591583,
          41.613271,
          41.539775999999996,
          41.481105,
          41.508877,
          41.497448,
          41.660101999999995,
          41.675101999999995,
          41.798300000000005,
          41.898399,
          41.893198999999996,
          42.018798,
          42.036195,
          42.002995,
          41.997595,
          42.036494,
          42.049675,
          42.086256999999996,
          null,
          null
         ]
        }
       ],
       "layout": {
        "annotations": [
         {
          "showarrow": false,
          "text": "<b></b>",
          "x": 1,
          "xanchor": "right",
          "xref": "paper",
          "y": 1.05,
          "yref": "paper"
         }
        ],
        "dragmode": "select",
        "height": 450,
        "hovermode": "closest",
        "legend": {
         "traceorder": "reversed",
         "x": 1,
         "xanchor": "right",
         "y": 1,
         "yanchor": "top"
        },
        "margin": {
         "b": 20,
         "l": 20,
         "r": 20,
         "t": 40
        },
        "width": 900,
        "xaxis": {
         "autorange": false,
         "fixedrange": true,
         "range": [
          -73.77573875,
          -69.66079624999999
         ],
         "showgrid": false,
         "showticklabels": false,
         "zeroline": false
        },
        "yaxis": {
         "autorange": false,
         "fixedrange": true,
         "range": [
          41.240553,
          42.88653
         ],
         "showgrid": false,
         "showticklabels": false,
         "zeroline": false
        }
       }
      },
      "text/html": [
       "<div>                            <div id=\"46af8d29-b0de-44df-9293-13036f320220\" class=\"plotly-graph-div\" style=\"height:450px; width:900px;\"></div>            <script type=\"text/javascript\">                require([\"plotly\"], function(Plotly) {                    window.PLOTLYENV=window.PLOTLYENV || {};                                    if (document.getElementById(\"46af8d29-b0de-44df-9293-13036f320220\")) {                    Plotly.newPlot(                        \"46af8d29-b0de-44df-9293-13036f320220\",                        [{\"fill\":\"toself\",\"fillcolor\":\"rgb(68, 1, 84)\",\"hoverinfo\":\"none\",\"line\":{\"color\":\"rgb(0, 0, 0)\",\"width\":0},\"mode\":\"lines\",\"name\":\"1153\",\"x\":[-70.8071,-70.710222,-70.67518799999999,-70.790395,-70.8071,null,-70.832039,-70.811965,-70.80156099999999,-70.80924499999999,-70.832039,null,-70.838777,-70.774974,-70.700964,-70.603555,-70.501306,-70.452497,-70.44623299999999,-70.452244,-70.70982599999999,-70.775665,-70.838777,null,-70.840375,-70.820595,-70.80805099999999,-70.836868,-70.840375,null,-70.904786,-70.857103,-70.848563,-70.87121599999999,-70.904786,null,-70.925416,-70.920666,-70.915165,-70.92118599999999,-70.925416,null,-70.949185,-70.927475,-70.907496,-70.948757,-70.949185,null],\"y\":[41.458576,41.518915,41.513949,41.446535,41.458576,null,41.259495,41.264838999999995,41.25841,41.249068,41.259495,null,41.347209,41.349176,41.43401,41.482383999999996,41.385391,41.42143,41.39648,41.349827999999995,41.341722999999995,41.300982,41.347209,null,41.452875,41.458507,41.445037,41.441967999999996,41.452875,null,41.427752999999996,41.450253,41.432843999999996,41.422084999999996,41.427752999999996,null,41.451732,41.454553,41.451034,41.445392999999996,41.451732,null,41.415776,41.431810999999996,41.421512,41.409037999999995,41.415776,null],\"type\":\"scatter\"},{\"fill\":\"toself\",\"fillcolor\":\"rgb(72, 24, 106)\",\"hoverinfo\":\"none\",\"line\":{\"color\":\"rgb(0, 0, 0)\",\"width\":0},\"mode\":\"lines\",\"name\":\"1422\",\"x\":[-70.234054,-70.06256499999999,-70.024421,-70.049053,-70.02038,-69.96018099999999,-70.100495,-70.234054,null,-70.277262,-70.246552,-70.242739,-70.259665,-70.277262,null,-70.30897,-70.29202699999999,-70.28932499999999,-70.307001,-70.30897,null],\"y\":[41.285652999999996,41.308726,41.360622,41.391701999999995,41.369006,41.264545999999996,41.240553,41.285652999999996,null,41.310506,41.306186,41.28919,41.296006,41.310506,null,41.336057,41.337787999999996,41.335021999999995,41.332391,41.336057,null],\"type\":\"scatter\"},{\"fill\":\"toself\",\"fillcolor\":\"rgb(71, 45, 123)\",\"hoverinfo\":\"none\",\"line\":{\"color\":\"rgb(0, 0, 0)\",\"width\":0},\"mode\":\"lines\",\"name\":\"2360\",\"x\":[-73.0230149955487,-72.28303287565089,-72.225314,-72.276434,-72.244868,-72.291288,-72.314782,-72.36032399999999,-72.375022,-72.704392,-72.70087699999999,-72.87113599999999,-72.87684899999999,-72.975409,-72.955111,-72.995635,-72.948758,-73.023709,-73.0230149955487,null],\"y\":[42.7411352241426,42.72155870837909,42.630426,42.577374,42.513439,42.479524999999995,42.339777,42.307449999999996,42.420819,42.40555,42.45292,42.484041,42.541197,42.556036999999996,42.665869,42.673342,42.704091999999996,42.70269,42.7411352241426,null],\"type\":\"scatter\"},{\"fill\":\"toself\",\"fillcolor\":\"rgb(66, 64, 134)\",\"hoverinfo\":\"none\",\"line\":{\"color\":\"rgb(0, 0, 0)\",\"width\":0},\"mode\":\"lines\",\"name\":\"6023\",\"x\":[-73.50814199999999,-73.264957,-73.0230149955487,-73.023709,-72.949742,-72.995635,-72.951039,-73.01168299999999,-73.068508,-73.06288599999999,-73.000173,-73.034916,-73.071113,-73.0532880861326,-73.49687899999999,-73.50814199999999,null],\"y\":[42.086256999999996,42.74594,42.7411352241426,42.70269,42.705103,42.673342,42.641006,42.379683,42.38072,42.328950999999996,42.312678,42.143682,42.148205999999995,42.039861968461295,42.049675,42.086256999999996,null],\"type\":\"scatter\"},{\"fill\":\"toself\",\"fillcolor\":\"rgb(51, 99, 141)\",\"hoverinfo\":\"none\",\"line\":{\"color\":\"rgb(0, 0, 0)\",\"width\":0},\"mode\":\"lines\",\"name\":\"8728\",\"x\":[-73.065772,-73.01168299999999,-72.975409,-72.87684899999999,-72.87113599999999,-72.70087699999999,-72.704392,-72.375022,-72.355942,-72.284239,-72.274639,-72.20328099999999,-72.21046,-72.395478,-72.403947,-72.602233,-72.61313799999999,-72.690457,-72.686861,-72.78103899999999,-72.813422,-72.87218,-72.912302,-72.880602,-72.88520799999999,-72.953825,-73.029398,-73.06288599999999,-73.065772,null],\"y\":[42.389111,42.379683,42.556036999999996,42.541197,42.484041,42.45292,42.40555,42.420819,42.303401,42.352056999999995,42.301963,42.291182,42.247205,42.185736999999996,42.231846999999995,42.213291,42.286265,42.213052,42.183389999999996,42.199749,42.245004,42.216439,42.239132999999995,42.265381999999995,42.332612,42.34386,42.308568,42.328950999999996,42.389111,null],\"type\":\"scatter\"},{\"fill\":\"toself\",\"fillcolor\":\"rgb(44, 114, 142)\",\"hoverinfo\":\"none\",\"line\":{\"color\":\"rgb(0, 0, 0)\",\"width\":0},\"mode\":\"lines\",\"name\":\"13125\",\"x\":[-70.686981,-70.640948,-70.65326999999999,-70.62480000000001,-70.662036,-70.62544,-70.632555,-70.5372893339932,-70.471552,-70.259205,-70.008462,-70.000188,-70.044995,-70.06900999999999,-70.095595,-70.15541499999999,-70.190834,-70.238087,-70.082624,-69.986085,-69.928393,-69.997682,-69.970489,-70.014211,-70.195193,-70.265424,-70.28132,-70.35163399999999,-70.485571,-70.686981,null],\"y\":[41.529489999999996,41.577324999999995,41.638982,41.655727,41.68094,41.698691,41.762904,41.8108590611294,41.761562999999995,41.713954,41.800785999999995,41.886938,41.930049,41.884924,42.032832,42.062408999999995,42.020027999999996,42.072877999999996,42.054657,41.949597,41.708449,41.54233,41.645458,41.671971,41.647912999999996,41.609333,41.635124999999995,41.634687,41.554244,41.529489999999996,null],\"type\":\"scatter\"},{\"fill\":\"toself\",\"fillcolor\":\"rgb(38, 130, 142)\",\"hoverinfo\":\"none\",\"line\":{\"color\":\"rgb(0, 0, 0)\",\"width\":0},\"mode\":\"lines\",\"name\":\"46432\",\"x\":[-70.883352,-70.880207,-70.873953,-70.87604999999999,-70.883352,null,-70.891755,-70.886251,-70.884777,-70.887529,-70.891755,null,-70.892296,-70.888954,-70.888775,-70.891952,-70.892296,null,-70.89840699999999,-70.89721,-70.8956,-70.895156,-70.89840699999999,null,-70.898439,-70.897063,-70.894065,-70.89608,-70.898439,null,-70.95107999999999,-70.935272,-70.92638,-70.937332,-70.95107999999999,null,-71.079343,-70.924877,-70.932435,-70.875908,-70.90442999999999,-70.87828499999999,-70.887317,-70.92392,-70.88268,-70.82466072392849,-70.85338,-70.827015,-70.76633799999999,-70.597892,-70.63913699999999,-70.614223,-70.650874,-70.710034,-70.646785,-70.650826,-70.623513,-70.539189,-70.5372893339932,-70.632555,-70.620785,-70.674064,-70.656596,-70.718739,-70.715593,-70.748868,-70.765463,-70.809001,-70.801063,-70.8431763095007,-70.921782,-71.026288,-71.03657,-70.973717,-70.996804,-71.04948499999999,-71.079343,null],\"y\":[42.340491,42.342307,42.343634,42.341229,42.340491,null,42.338856,42.339946,42.339327999999995,42.338201999999995,42.338856,null,42.328393999999996,42.328902,42.328461,42.327231,42.328393999999996,null,42.340266,42.343323999999996,42.343892,42.338879,42.340266,null,42.331191,42.333952,42.33498,42.330355,42.331191,null,42.289725999999995,42.302101,42.301406,42.284915999999996,42.289725999999995,null,42.095993,42.157579999999996,42.252644,42.256853,42.280772999999996,42.278310999999995,42.297652,42.305035,42.310393,42.265934645772305,42.239607,42.200786,42.254742,42.004549999999995,41.993894999999995,42.011148999999996,42.046247,41.999544,41.949309,41.98218,41.943273,41.926773,41.8108590611294,41.762904,41.74753,41.691371,41.715401,41.73574,41.675258,41.697446,41.641574999999996,41.658390999999995,41.629512999999996,41.628486815378,41.791244,41.778887999999995,41.816525,41.860879,41.927403999999996,41.963094,42.095993,null],\"type\":\"scatter\"},{\"fill\":\"toself\",\"fillcolor\":\"rgb(31, 160, 136)\",\"hoverinfo\":\"none\",\"line\":{\"color\":\"rgb(0, 0, 0)\",\"width\":0},\"mode\":\"lines\",\"name\":\"48673\",\"x\":[-73.074845,-73.071113,-73.034916,-73.000173,-72.89563799999999,-72.880602,-72.912302,-72.87218,-72.813422,-72.78103899999999,-72.686861,-72.690457,-72.61313799999999,-72.602233,-72.403947,-72.395478,-72.221218,-72.263924,-72.13501099999999,-72.13571499999999,-72.755838,-72.766739,-72.816741,-72.813541,-73.0532880861326,-73.074845,null],\"y\":[42.106145999999995,42.148205999999995,42.143682,42.312678,42.340702,42.265381999999995,42.239132999999995,42.216439,42.245004,42.199749,42.183389999999996,42.213052,42.286265,42.213291,42.231846999999995,42.185736999999996,42.245252,42.183831,42.161784,42.0302453396816,42.036195,42.002995,41.997595,42.036494,42.039861968461295,42.106145999999995,null],\"type\":\"scatter\"},{\"fill\":\"toself\",\"fillcolor\":\"rgb(40, 174, 128)\",\"hoverinfo\":\"none\",\"line\":{\"color\":\"rgb(0, 0, 0)\",\"width\":0},\"mode\":\"lines\",\"name\":\"52291\",\"x\":[-70.844664,-70.82466072392849,-70.78146192304459,-70.827015,-70.844664,null,-71.17172,-71.12858,-71.10656999999999,-71.152148,-71.17172,null,-71.503078,-71.47811899999999,-71.34416999999999,-71.33249599999999,-71.302922,-71.327327,-71.23106,-71.130771,-71.039684963075,-70.986667,-71.02065499999999,-70.953833,-70.952679,-70.92633599999999,-70.9082859092802,-70.933491,-70.924877,-71.364344,-71.381401,-71.498258301062,-71.503078,null],\"y\":[42.242270999999995,42.265934645772305,42.2487180195672,42.200786,42.242270999999995,null,42.319489999999995,42.349696,42.349911999999996,42.294613,42.319489999999995,null,42.110285,42.156782,42.200703,42.249075,42.248273999999995,42.313745999999995,42.320736,42.227926,42.305865543089496,42.306264999999996,42.286575,42.280791,42.24876,42.269791999999995,42.26471533061319,42.25,42.157579999999996,41.985293,42.018798,42.01722023315919,42.110285,null],\"type\":\"scatter\"},{\"fill\":\"toself\",\"fillcolor\":\"rgb(63, 188, 115)\",\"hoverinfo\":\"none\",\"line\":{\"color\":\"rgb(0, 0, 0)\",\"width\":0},\"mode\":\"lines\",\"name\":\"62872\",\"x\":[-70.835948,-70.823735,-70.82191,-70.838452,-70.835948,null,-71.38170000000001,-71.3814657108006,-71.080483,-71.04948499999999,-70.996804,-70.973717,-71.03657,-71.026288,-70.921782,-70.886439,-70.842039,-70.889209,-70.913202,-70.898607,-70.93045599999999,-70.953299,-70.972287,-71.03836199999999,-71.07068699999999,-71.12057,-71.132888,-71.19569,-71.327896,-71.338698,-71.38170000000001,null],\"y\":[41.602516,41.598569,41.582840999999995,41.59646,41.602516,null,41.89375174725279,41.9850843199885,42.095538999999995,41.963094,41.927403999999996,41.860879,41.816525,41.778887999999995,41.791244,41.760231999999995,41.593543,41.632903999999996,41.619265999999996,41.592653999999996,41.613271,41.51501,41.530764999999995,41.481105,41.508877,41.497448,41.660101999999995,41.675101999999995,41.780501,41.898399,41.89375174725279,null],\"type\":\"scatter\"},{\"fill\":\"toself\",\"fillcolor\":\"rgb(132, 212, 75)\",\"hoverinfo\":\"none\",\"line\":{\"color\":\"rgb(0, 0, 0)\",\"width\":0},\"mode\":\"lines\",\"name\":\"73453\",\"x\":[-72.315994,-72.291288,-72.244868,-72.276434,-72.225314,-72.28303287565089,-71.89877002948,-71.85848299999999,-71.66460099999999,-71.678969,-71.580287,-71.52984099999999,-71.5591,-71.60425099999999,-71.58015,-71.62582499999999,-71.585168,-71.486797,-71.506478,-71.586759,-71.602221,-71.478027,-71.498258301062,-72.13571499999999,-72.13501099999999,-72.263924,-72.20328099999999,-72.274639,-72.315994,null],\"y\":[42.394543999999996,42.479524999999995,42.513439,42.577374,42.630426,42.72155870837909,42.7114218822193,42.633815,42.611598,42.530429999999996,42.550467,42.519841,42.411943,42.397703,42.386998,42.349723999999995,42.310977,42.330189,42.264275999999995,42.259544999999996,42.218101,42.165870999999996,42.01722023315919,42.0302453396816,42.161784,42.183831,42.291182,42.301963,42.394543999999996,null],\"type\":\"scatter\"},{\"fill\":\"toself\",\"fillcolor\":\"rgb(173, 220, 48)\",\"hoverinfo\":\"none\",\"line\":{\"color\":\"rgb(0, 0, 0)\",\"width\":0},\"mode\":\"lines\",\"name\":\"88820\",\"x\":[-70.93091,-70.925969,-70.925308,-70.93075999999999,-70.93091,null,-70.932091,-70.929717,-70.922598,-70.931414,-70.932091,null,-70.94278,-70.940749,-70.934947,-70.939854,-70.94278,null,-70.958094,-70.951492,-70.948515,-70.95434,-70.958094,null,-70.977402,-70.957268,-70.952805,-70.965732,-70.977402,null,-70.989162,-70.98307799999999,-70.98566699999999,-70.991621,-70.989162,null,-71.017803,-71.00686999999999,-70.997838,-71.0084846185794,-71.017803,null,-71.190904,-71.105558,-71.15703599999999,-71.167625,-71.077095,-71.018757,-70.9599910454674,-70.990595,-70.95302199999999,-70.974183,-70.998497,-71.044185,-71.042782,-71.130771,-71.190904,null],\"y\":[42.321605,42.321909,42.317223,42.319027,42.321605,null,42.332698,42.333973,42.326144,42.328267,42.332698,null,42.327180999999996,42.328139,42.326806999999995,42.324245,42.327180999999996,null,42.31165,42.313564,42.311937,42.308586999999996,42.31165,null,42.312294,42.331661,42.330627,42.313469,42.312294,null,42.328303999999996,42.327155999999995,42.318732999999995,42.326294,42.328303999999996,null,42.31312,42.321028999999996,42.321205,42.3057928208765,42.31312,null,42.283248,42.343897999999996,42.33039,42.360073,42.358697,42.450117999999996,42.4438207851563,42.407098,42.343973,42.369565,42.368221,42.322610999999995,42.277102,42.227926,42.283248,null],\"type\":\"scatter\"},{\"fill\":\"toself\",\"fillcolor\":\"rgb(216, 226, 25)\",\"hoverinfo\":\"none\",\"line\":{\"color\":\"rgb(0, 0, 0)\",\"width\":0},\"mode\":\"lines\",\"name\":\"93110\",\"x\":[-70.580285,-70.575088,-70.573377,-70.575648,-70.580285,null,-70.5920440191217,-70.588245,-70.58681899999999,-70.588037,-70.5920440191217,null,-70.59383199999999,-70.587992,-70.586344,-70.589942,-70.59383199999999,null,-70.723148,-70.721223,-70.72064,-70.721656,-70.723148,null,-70.78305499999999,-70.781182,-70.780441,-70.78208,-70.78305499999999,null,-70.788783,-70.787031,-70.782252,-70.787708,-70.788783,null,-70.80222499999999,-70.796224,-70.793272,-70.802155,-70.80222499999999,null,-70.81688,-70.811949,-70.812069,-70.81457,-70.81688,null,-70.835635,-70.83371,-70.83322799999999,-70.835635,-70.835635,null,-71.250303,-71.2551987703894,-71.181803,-71.167703,-71.064201,-71.031201,-70.902768,-70.817296,-70.776083,-70.691231,-70.630077,-70.591469,-70.654727,-70.676733,-70.710349,-70.87519499999999,-70.886366,-70.831091,-70.93499299999999,-70.905692,-70.936393,-70.939561,-70.99985699999999,-71.054214,-71.03490000000001,-71.070978,-71.028312,-71.05876599999999,-71.164974,-71.250303,null],\"y\":[42.636025,42.639779999999995,42.639506999999995,42.634451999999996,42.636025,null,42.6295126856785,42.630604999999996,42.628156999999995,42.626413,42.6295126856785,null,42.660787,42.663002999999996,42.662248999999996,42.658449999999995,42.660787,null,42.568157,42.569933,42.569659,42.566088,42.568157,null,42.553461,42.554218,42.553868,42.551679,42.553461,null,42.534006,42.537295,42.533716,42.530578999999996,42.534006,null,42.550473,42.551300999999995,42.547444,42.547135,42.550473,null,42.514579999999995,42.512093,42.510276999999995,42.511050999999995,42.514579999999995,null,42.4844,42.486412,42.481442,42.481915,42.4844,null,42.660591,42.736638343984396,42.73759,42.807389,42.806289,42.859089,42.88653,42.87229,42.691264,42.655789999999996,42.692699,42.639821,42.582234,42.607527,42.572568,42.544343999999995,42.508610999999995,42.503595999999995,42.457896,42.416197,42.418096999999996,42.456748999999995,42.431295999999996,42.476903,42.506758,42.555889,42.574082,42.609077,42.598082,42.660591,null],\"type\":\"scatter\"},{\"fill\":\"toself\",\"fillcolor\":\"rgb(253, 231, 37)\",\"hoverinfo\":\"none\",\"line\":{\"color\":\"rgb(0, 0, 0)\",\"width\":0},\"mode\":\"lines\",\"name\":\"128832\",\"x\":[-71.89877002948,-71.29420499999999,-71.2551987703894,-71.255749,-71.164974,-71.05876599999999,-71.033998,-71.07515,-71.03859899999999,-71.054214,-71.020377,-71.077095,-71.167625,-71.191155,-71.252937,-71.32974999999999,-71.302922,-71.33249599999999,-71.34416999999999,-71.47811899999999,-71.50262599999999,-71.55573799999999,-71.602221,-71.586759,-71.506478,-71.486797,-71.585168,-71.62582499999999,-71.58015,-71.60425099999999,-71.5591,-71.53878,-71.678969,-71.66460099999999,-71.85848299999999,-71.89877002948,null],\"y\":[42.7114218822193,42.69699,42.736638343984396,42.656929,42.598082,42.609077,42.585493,42.531034999999996,42.523959999999995,42.476903,42.43825,42.358697,42.360073,42.283059,42.326755999999996,42.312991,42.248273999999995,42.249075,42.200703,42.156782,42.191416,42.182503,42.218101,42.259544999999996,42.264275999999995,42.330189,42.310977,42.349723999999995,42.386998,42.397703,42.411943,42.543029999999995,42.530429999999996,42.611598,42.633815,42.7114218822193,null],\"type\":\"scatter\"},{\"hoverinfo\":\"text\",\"legendgroup\":\"centroids\",\"marker\":{\"color\":\"white\",\"opacity\":0},\"mode\":\"markers\",\"name\":\"US Counties\",\"selected\":{\"marker\":{\"color\":\"white\",\"opacity\":1,\"size\":3}},\"showlegend\":false,\"text\":[\"County: Suffolk<br>State: Massachusetts<br>FIPS: 25025<br>Value: 88820\",\"County: Suffolk<br>State: Massachusetts<br>FIPS: 25025<br>Value: 88820\",\"County: Suffolk<br>State: Massachusetts<br>FIPS: 25025<br>Value: 88820\",\"County: Suffolk<br>State: Massachusetts<br>FIPS: 25025<br>Value: 88820\",\"County: Suffolk<br>State: Massachusetts<br>FIPS: 25025<br>Value: 88820\",\"County: Suffolk<br>State: Massachusetts<br>FIPS: 25025<br>Value: 88820\",\"County: Suffolk<br>State: Massachusetts<br>FIPS: 25025<br>Value: 88820\",\"County: Suffolk<br>State: Massachusetts<br>FIPS: 25025<br>Value: 88820\",\"County: Plymouth<br>State: Massachusetts<br>FIPS: 25023<br>Value: 46432\",\"County: Plymouth<br>State: Massachusetts<br>FIPS: 25023<br>Value: 46432\",\"County: Plymouth<br>State: Massachusetts<br>FIPS: 25023<br>Value: 46432\",\"County: Plymouth<br>State: Massachusetts<br>FIPS: 25023<br>Value: 46432\",\"County: Plymouth<br>State: Massachusetts<br>FIPS: 25023<br>Value: 46432\",\"County: Plymouth<br>State: Massachusetts<br>FIPS: 25023<br>Value: 46432\",\"County: Plymouth<br>State: Massachusetts<br>FIPS: 25023<br>Value: 46432\",\"County: Norfolk<br>State: Massachusetts<br>FIPS: 25021<br>Value: 52291\",\"County: Norfolk<br>State: Massachusetts<br>FIPS: 25021<br>Value: 52291\",\"County: Norfolk<br>State: Massachusetts<br>FIPS: 25021<br>Value: 52291\",\"County: Nantucket<br>State: Massachusetts<br>FIPS: 25019<br>Value: 1422\",\"County: Nantucket<br>State: Massachusetts<br>FIPS: 25019<br>Value: 1422\",\"County: Nantucket<br>State: Massachusetts<br>FIPS: 25019<br>Value: 1422\",\"County: Essex<br>State: Massachusetts<br>FIPS: 25009<br>Value: 93110\",\"County: Essex<br>State: Massachusetts<br>FIPS: 25009<br>Value: 93110\",\"County: Essex<br>State: Massachusetts<br>FIPS: 25009<br>Value: 93110\",\"County: Essex<br>State: Massachusetts<br>FIPS: 25009<br>Value: 93110\",\"County: Essex<br>State: Massachusetts<br>FIPS: 25009<br>Value: 93110\",\"County: Essex<br>State: Massachusetts<br>FIPS: 25009<br>Value: 93110\",\"County: Essex<br>State: Massachusetts<br>FIPS: 25009<br>Value: 93110\",\"County: Essex<br>State: Massachusetts<br>FIPS: 25009<br>Value: 93110\",\"County: Essex<br>State: Massachusetts<br>FIPS: 25009<br>Value: 93110\",\"County: Essex<br>State: Massachusetts<br>FIPS: 25009<br>Value: 93110\",\"County: Dukes<br>State: Massachusetts<br>FIPS: 25007<br>Value: 1153\",\"County: Dukes<br>State: Massachusetts<br>FIPS: 25007<br>Value: 1153\",\"County: Dukes<br>State: Massachusetts<br>FIPS: 25007<br>Value: 1153\",\"County: Dukes<br>State: Massachusetts<br>FIPS: 25007<br>Value: 1153\",\"County: Dukes<br>State: Massachusetts<br>FIPS: 25007<br>Value: 1153\",\"County: Dukes<br>State: Massachusetts<br>FIPS: 25007<br>Value: 1153\",\"County: Dukes<br>State: Massachusetts<br>FIPS: 25007<br>Value: 1153\",\"County: Bristol<br>State: Massachusetts<br>FIPS: 25005<br>Value: 62872\",\"County: Bristol<br>State: Massachusetts<br>FIPS: 25005<br>Value: 62872\",\"County: Barnstable<br>State: Massachusetts<br>FIPS: 25001<br>Value: 13125\",\"County: Berkshire<br>State: Massachusetts<br>FIPS: 25003<br>Value: 6023\",\"County: Franklin<br>State: Massachusetts<br>FIPS: 25011<br>Value: 2360\",\"County: Hampden<br>State: Massachusetts<br>FIPS: 25013<br>Value: 48673\",\"County: Hampshire<br>State: Massachusetts<br>FIPS: 25015<br>Value: 8728\",\"County: Middlesex<br>State: Massachusetts<br>FIPS: 25017<br>Value: 128832\",\"County: Worcester<br>State: Massachusetts<br>FIPS: 25027<br>Value: 73453\"],\"unselected\":{\"marker\":{\"opacity\":0}},\"x\":[[-70.9280391133086],[-70.9277790290724],[-70.9392566238225],[-70.95387693386199],[-70.96483627239256],[-70.98673453708642],[-71.00940904593837],[-71.07309884387598],[-70.8780115397054],[-70.88824913269262],[-70.89061026119334],[-70.8962556436447],[-70.89636899879952],[-70.93790606268806],[-70.81129175746672],[-70.81892375373486],[-71.14080910291152],[-71.22298718443716],[-70.06245308001775],[-70.25622674025917],[-70.29999198079794],[-70.5762561032735],[-70.58939860145681],[-70.59031034835986],[-70.72192025581093],[-70.78196293798233],[-70.78625262527578],[-70.79886099117257],[-70.81449732085207],[-70.83410716515235],[-70.95218563001502],[-70.74859518022004],[-70.81525824004792],[-70.62802416110435],[-70.82616655033165],[-70.87487257159471],[-70.92128806106592],[-70.93221404295807],[-70.82902751053047],[-71.1147696402744],-70.29149042162072,-73.20634775606662,-72.59183006384409,-72.63158760194638,-72.66380090627308,-71.39178930223044,-71.90774522258745],\"y\":[[42.31980319851328],[42.329071591519],[42.326224574458465],[42.31132022228186],[42.32072398669129],[42.32421915511973],[42.31402646167803],[42.33389489977019],[42.34200748566634],[42.33893924860726],[42.328087534563856],[42.341133147558075],[42.3325953020933],[42.293505047325354],[41.950800421004296],[42.236314997413984],[42.32427586329445],[42.15579579570511],[41.282293001731986],[41.30179830953805],[41.33546206041185],[42.63682463751455],[42.62851516377598],[42.66069178061119],[42.56787849781812],[42.552997558899115],[42.53401423495861],[42.54895706170866],[42.512385248316136],[42.48365458222047],[42.67319136089608],[41.48409424878505],[41.25582283776138],[41.38786601815403],[41.45004834081349],[41.43134085009215],[41.45083824913764],[41.420115583000246],[41.59389023049773],[41.797445412015705],41.72417861197711,42.37070284099708,42.583090626153535,42.135099154050955,42.340158105022276,42.485578780208236,42.35142245348082],\"type\":\"scatter\"},{\"hoverinfo\":\"text\",\"legendgroup\":\"States\",\"line\":{\"color\":\"rgb(240, 240, 240)\",\"width\":1},\"mode\":\"lines\",\"showlegend\":false,\"x\":[-70.234054,-70.06256499999999,-70.024421,-70.049053,-70.02038,-69.96018099999999,-70.100495,-70.234054,null,-70.277262,-70.246552,-70.242739,-70.259665,-70.277262,null,-70.30897,-70.29202699999999,-70.28932499999999,-70.307001,-70.30897,null,-70.580285,-70.575088,-70.573377,-70.575648,-70.580285,null,-70.5920440191217,-70.588245,-70.58681899999999,-70.588037,-70.5920440191217,null,-70.59383199999999,-70.587992,-70.586344,-70.589942,-70.59383199999999,null,-70.723148,-70.721223,-70.72064,-70.721656,-70.723148,null,-70.78305499999999,-70.781182,-70.780441,-70.78208,-70.78305499999999,null,-70.788783,-70.787031,-70.782252,-70.787708,-70.788783,null,-70.80222499999999,-70.796224,-70.793272,-70.802155,-70.80222499999999,null,-70.8071,-70.710222,-70.67518799999999,-70.790395,-70.8071,null,-70.81688,-70.811949,-70.812069,-70.81457,-70.81688,null,-70.832039,-70.811965,-70.80156099999999,-70.80924499999999,-70.832039,null,-70.835635,-70.83371,-70.83322799999999,-70.835635,-70.835635,null,-70.835948,-70.823735,-70.82191,-70.838452,-70.835948,null,-70.838777,-70.774974,-70.700964,-70.603555,-70.501306,-70.452497,-70.44623299999999,-70.452244,-70.70982599999999,-70.775665,-70.838777,null,-70.840375,-70.820595,-70.80805099999999,-70.836868,-70.840375,null,-70.883352,-70.880207,-70.873953,-70.87604999999999,-70.883352,null,-70.891755,-70.886251,-70.884777,-70.887529,-70.891755,null,-70.892296,-70.888954,-70.888775,-70.891952,-70.892296,null,-70.89840699999999,-70.89721,-70.8956,-70.895156,-70.89840699999999,null,-70.898439,-70.897063,-70.894065,-70.89608,-70.898439,null,-70.904786,-70.857103,-70.848563,-70.87121599999999,-70.904786,null,-70.925416,-70.920666,-70.915165,-70.92118599999999,-70.925416,null,-70.93091,-70.925969,-70.925308,-70.93075999999999,-70.93091,null,-70.932091,-70.929717,-70.922598,-70.931414,-70.932091,null,-70.94278,-70.940749,-70.934947,-70.939854,-70.94278,null,-70.95107999999999,-70.935272,-70.92638,-70.937332,-70.95107999999999,null,-70.949185,-70.927475,-70.907496,-70.948757,-70.949185,null,-70.958094,-70.951492,-70.948515,-70.95434,-70.958094,null,-70.977402,-70.957268,-70.952805,-70.965732,-70.977402,null,-70.989162,-70.98307799999999,-70.98566699999999,-70.991621,-70.989162,null,-73.50814199999999,-73.264957,-71.29420499999999,-71.245504,-71.181803,-71.16560299999999,-71.064201,-71.031201,-70.902768,-70.817296,-70.776083,-70.691231,-70.630077,-70.591469,-70.654727,-70.676733,-70.710349,-70.87519499999999,-70.886366,-70.842091,-70.83599099999999,-70.93499299999999,-70.905692,-70.960763,-70.990595,-70.95302199999999,-70.974183,-70.998497,-71.041333,-70.997838,-71.02065499999999,-70.953833,-70.952679,-70.917056,-70.87781,-70.90442999999999,-70.87828499999999,-70.887317,-70.923444,-70.889456,-70.85109299999999,-70.76633799999999,-70.597892,-70.63913699999999,-70.614223,-70.650874,-70.710034,-70.646785,-70.650826,-70.623513,-70.539189,-70.54102999999999,-70.412476,-70.259205,-70.008462,-70.000188,-70.044995,-70.06900999999999,-70.095595,-70.15541499999999,-70.190834,-70.245385,-70.18930499999999,-70.082624,-69.968598,-69.928393,-70.003861,-69.970489,-70.014211,-70.195193,-70.265424,-70.28132,-70.35163399999999,-70.485571,-70.65662499999999,-70.686981,-70.642748,-70.65326999999999,-70.62480000000001,-70.662036,-70.62365199999999,-70.674064,-70.656596,-70.718739,-70.715593,-70.748868,-70.765463,-70.821598,-70.801063,-70.85965399999999,-70.853447,-70.872665,-70.913202,-70.902051,-70.93045599999999,-70.92851999999999,-71.03836199999999,-71.07068699999999,-71.12057,-71.132888,-71.19569,-71.34069699999999,-71.338698,-71.38170000000001,-71.381401,-72.755838,-72.766739,-72.816741,-72.813541,-73.49687899999999,-73.50814199999999,null,null],\"y\":[41.285652999999996,41.308726,41.360622,41.391701999999995,41.369006,41.264545999999996,41.240553,41.285652999999996,null,41.310506,41.306186,41.28919,41.296006,41.310506,null,41.336057,41.337787999999996,41.335021999999995,41.332391,41.336057,null,42.636025,42.639779999999995,42.639506999999995,42.634451999999996,42.636025,null,42.6295126856785,42.630604999999996,42.628156999999995,42.626413,42.6295126856785,null,42.660787,42.663002999999996,42.662248999999996,42.658449999999995,42.660787,null,42.568157,42.569933,42.569659,42.566088,42.568157,null,42.553461,42.554218,42.553868,42.551679,42.553461,null,42.534006,42.537295,42.533716,42.530578999999996,42.534006,null,42.550473,42.551300999999995,42.547444,42.547135,42.550473,null,41.458576,41.518915,41.513949,41.446535,41.458576,null,42.514579999999995,42.512093,42.510276999999995,42.511050999999995,42.514579999999995,null,41.259495,41.264838999999995,41.25841,41.249068,41.259495,null,42.4844,42.486412,42.481442,42.481915,42.4844,null,41.602516,41.598569,41.582840999999995,41.59646,41.602516,null,41.347209,41.349176,41.43401,41.482383999999996,41.385391,41.42143,41.39648,41.349827999999995,41.341722999999995,41.300982,41.347209,null,41.452875,41.458507,41.445037,41.441967999999996,41.452875,null,42.340491,42.342307,42.343634,42.341229,42.340491,null,42.338856,42.339946,42.339327999999995,42.338201999999995,42.338856,null,42.328393999999996,42.328902,42.328461,42.327231,42.328393999999996,null,42.340266,42.343323999999996,42.343892,42.338879,42.340266,null,42.331191,42.333952,42.33498,42.330355,42.331191,null,41.427752999999996,41.450253,41.432843999999996,41.422084999999996,41.427752999999996,null,41.451732,41.454553,41.451034,41.445392999999996,41.451732,null,42.321605,42.321909,42.317223,42.319027,42.321605,null,42.332698,42.333973,42.326144,42.328267,42.332698,null,42.327180999999996,42.328139,42.326806999999995,42.324245,42.327180999999996,null,42.289725999999995,42.302101,42.301406,42.284915999999996,42.289725999999995,null,41.415776,41.431810999999996,41.421512,41.409037999999995,41.415776,null,42.31165,42.313564,42.311937,42.308586999999996,42.31165,null,42.312294,42.331661,42.330627,42.313469,42.312294,null,42.328303999999996,42.327155999999995,42.318732999999995,42.326294,42.328303999999996,null,42.086256999999996,42.74594,42.69699,42.742588999999995,42.73759,42.808689,42.806289,42.859089,42.88653,42.87229,42.691264,42.655789999999996,42.692699,42.639821,42.582234,42.607527,42.572568,42.544343999999995,42.508610999999995,42.519495,42.490496,42.457896,42.416197,42.446011,42.407098,42.343973,42.369565,42.368221,42.302926,42.321205,42.286575,42.280791,42.24876,42.272542,42.249288,42.280772999999996,42.278310999999995,42.297652,42.302398,42.310483999999995,42.26827,42.254742,42.004549999999995,41.993894999999995,42.011148999999996,42.046247,41.999544,41.949309,41.98218,41.943273,41.926773,41.815754,41.744397,41.713954,41.800785999999995,41.886938,41.930049,41.884924,42.032832,42.062408999999995,42.020027999999996,42.063733,42.082336999999995,42.054657,41.9117,41.708449,41.540551,41.645458,41.671971,41.647912999999996,41.609333,41.635124999999995,41.634687,41.554244,41.514779,41.529489999999996,41.572385,41.638982,41.655727,41.68094,41.707398,41.691371,41.715401,41.73574,41.675258,41.697446,41.641574999999996,41.654838999999996,41.629512999999996,41.624123999999995,41.582195,41.627815999999996,41.619265999999996,41.591583,41.613271,41.539775999999996,41.481105,41.508877,41.497448,41.660101999999995,41.675101999999995,41.798300000000005,41.898399,41.893198999999996,42.018798,42.036195,42.002995,41.997595,42.036494,42.049675,42.086256999999996,null,null],\"type\":\"scatter\"}],                        {\"annotations\":[{\"showarrow\":false,\"text\":\"<b></b>\",\"x\":1,\"xanchor\":\"right\",\"xref\":\"paper\",\"y\":1.05,\"yref\":\"paper\"}],\"dragmode\":\"select\",\"height\":450,\"hovermode\":\"closest\",\"legend\":{\"traceorder\":\"reversed\",\"x\":1,\"xanchor\":\"right\",\"y\":1,\"yanchor\":\"top\"},\"margin\":{\"b\":20,\"l\":20,\"r\":20,\"t\":40},\"width\":900,\"xaxis\":{\"autorange\":false,\"fixedrange\":true,\"range\":[-73.77573875,-69.66079624999999],\"showgrid\":false,\"showticklabels\":false,\"zeroline\":false},\"yaxis\":{\"autorange\":false,\"fixedrange\":true,\"range\":[41.240553,42.88653],\"showgrid\":false,\"showticklabels\":false,\"zeroline\":false}},                        {\"responsive\": true}                    ).then(function(){\n",
       "                            \n",
       "var gd = document.getElementById('46af8d29-b0de-44df-9293-13036f320220');\n",
       "var x = new MutationObserver(function (mutations, observer) {{\n",
       "        var display = window.getComputedStyle(gd).display;\n",
       "        if (!display || display === 'none') {{\n",
       "            console.log([gd, 'removed!']);\n",
       "            Plotly.purge(gd);\n",
       "            observer.disconnect();\n",
       "        }}\n",
       "}});\n",
       "\n",
       "// Listen for the removal of the full notebook cells\n",
       "var notebookContainer = gd.closest('#notebook-container');\n",
       "if (notebookContainer) {{\n",
       "    x.observe(notebookContainer, {childList: true});\n",
       "}}\n",
       "\n",
       "// Listen for the clearing of the current output cell\n",
       "var outputEl = gd.closest('.output');\n",
       "if (outputEl) {{\n",
       "    x.observe(outputEl, {childList: true});\n",
       "}}\n",
       "\n",
       "                        })                };                });            </script>        </div>"
      ]
     },
     "metadata": {},
     "output_type": "display_data"
    }
   ],
   "source": [
    "import plotly.figure_factory as ff\n",
    "\n",
    "fig = ff.create_choropleth(fips=bday['fips'].astype(int), values=bday['cases'], scope=['MA'])\n",
    "fig.layout.template = None\n",
    "fig.show()"
   ]
  },
  {
   "cell_type": "code",
   "execution_count": 41,
   "id": "2e9c8231",
   "metadata": {},
   "outputs": [
    {
     "data": {
      "application/vnd.plotly.v1+json": {
       "config": {
        "plotlyServerURL": "https://plot.ly"
       },
       "data": [
        {
         "fill": "toself",
         "fillcolor": "rgb(68, 1, 84)",
         "hoverinfo": "none",
         "line": {
          "color": "rgb(0, 0, 0)",
          "width": 0
         },
         "mode": "lines",
         "name": "981079",
         "type": "scatter",
         "x": [
          -70.8071,
          -70.710222,
          -70.67518799999999,
          -70.790395,
          -70.8071,
          null,
          -70.832039,
          -70.811965,
          -70.80156099999999,
          -70.80924499999999,
          -70.832039,
          null,
          -70.838777,
          -70.774974,
          -70.700964,
          -70.603555,
          -70.501306,
          -70.452497,
          -70.44623299999999,
          -70.452244,
          -70.70982599999999,
          -70.775665,
          -70.838777,
          null,
          -70.840375,
          -70.820595,
          -70.80805099999999,
          -70.836868,
          -70.840375,
          null,
          -70.904786,
          -70.857103,
          -70.848563,
          -70.87121599999999,
          -70.904786,
          null,
          -70.925416,
          -70.920666,
          -70.915165,
          -70.92118599999999,
          -70.925416,
          null,
          -70.949185,
          -70.927475,
          -70.907496,
          -70.948757,
          -70.949185,
          null
         ],
         "y": [
          41.458576,
          41.518915,
          41.513949,
          41.446535,
          41.458576,
          null,
          41.259495,
          41.264838999999995,
          41.25841,
          41.249068,
          41.259495,
          null,
          41.347209,
          41.349176,
          41.43401,
          41.482383999999996,
          41.385391,
          41.42143,
          41.39648,
          41.349827999999995,
          41.341722999999995,
          41.300982,
          41.347209,
          null,
          41.452875,
          41.458507,
          41.445037,
          41.441967999999996,
          41.452875,
          null,
          41.427752999999996,
          41.450253,
          41.432843999999996,
          41.422084999999996,
          41.427752999999996,
          null,
          41.451732,
          41.454553,
          41.451034,
          41.445392999999996,
          41.451732,
          null,
          41.415776,
          41.431810999999996,
          41.421512,
          41.409037999999995,
          41.415776,
          null
         ]
        },
        {
         "fill": "toself",
         "fillcolor": "rgb(72, 24, 106)",
         "hoverinfo": "none",
         "line": {
          "color": "rgb(0, 0, 0)",
          "width": 0
         },
         "mode": "lines",
         "name": "1041738",
         "type": "scatter",
         "x": [
          -70.234054,
          -70.06256499999999,
          -70.024421,
          -70.049053,
          -70.02038,
          -69.96018099999999,
          -70.100495,
          -70.234054,
          null,
          -70.277262,
          -70.246552,
          -70.242739,
          -70.259665,
          -70.277262,
          null,
          -70.30897,
          -70.29202699999999,
          -70.28932499999999,
          -70.307001,
          -70.30897,
          null
         ],
         "y": [
          41.285652999999996,
          41.308726,
          41.360622,
          41.391701999999995,
          41.369006,
          41.264545999999996,
          41.240553,
          41.285652999999996,
          null,
          41.310506,
          41.306186,
          41.28919,
          41.296006,
          41.310506,
          null,
          41.336057,
          41.337787999999996,
          41.335021999999995,
          41.332391,
          41.336057,
          null
         ]
        },
        {
         "fill": "toself",
         "fillcolor": "rgb(71, 45, 123)",
         "hoverinfo": "none",
         "line": {
          "color": "rgb(0, 0, 0)",
          "width": 0
         },
         "mode": "lines",
         "name": "2435932",
         "type": "scatter",
         "x": [
          -73.0230149955487,
          -72.28303287565089,
          -72.225314,
          -72.276434,
          -72.244868,
          -72.291288,
          -72.314782,
          -72.36032399999999,
          -72.375022,
          -72.704392,
          -72.70087699999999,
          -72.87113599999999,
          -72.87684899999999,
          -72.975409,
          -72.955111,
          -72.995635,
          -72.948758,
          -73.023709,
          -73.0230149955487,
          null
         ],
         "y": [
          42.7411352241426,
          42.72155870837909,
          42.630426,
          42.577374,
          42.513439,
          42.479524999999995,
          42.339777,
          42.307449999999996,
          42.420819,
          42.40555,
          42.45292,
          42.484041,
          42.541197,
          42.556036999999996,
          42.665869,
          42.673342,
          42.704091999999996,
          42.70269,
          42.7411352241426,
          null
         ]
        },
        {
         "fill": "toself",
         "fillcolor": "rgb(66, 64, 134)",
         "hoverinfo": "none",
         "line": {
          "color": "rgb(0, 0, 0)",
          "width": 0
         },
         "mode": "lines",
         "name": "5690875",
         "type": "scatter",
         "x": [
          -73.50814199999999,
          -73.264957,
          -73.0230149955487,
          -73.023709,
          -72.949742,
          -72.995635,
          -72.951039,
          -73.01168299999999,
          -73.068508,
          -73.06288599999999,
          -73.000173,
          -73.034916,
          -73.071113,
          -73.0532880861326,
          -73.49687899999999,
          -73.50814199999999,
          null
         ],
         "y": [
          42.086256999999996,
          42.74594,
          42.7411352241426,
          42.70269,
          42.705103,
          42.673342,
          42.641006,
          42.379683,
          42.38072,
          42.328950999999996,
          42.312678,
          42.143682,
          42.148205999999995,
          42.039861968461295,
          42.049675,
          42.086256999999996,
          null
         ]
        },
        {
         "fill": "toself",
         "fillcolor": "rgb(51, 99, 141)",
         "hoverinfo": "none",
         "line": {
          "color": "rgb(0, 0, 0)",
          "width": 0
         },
         "mode": "lines",
         "name": "7239268",
         "type": "scatter",
         "x": [
          -73.065772,
          -73.01168299999999,
          -72.975409,
          -72.87684899999999,
          -72.87113599999999,
          -72.70087699999999,
          -72.704392,
          -72.375022,
          -72.355942,
          -72.284239,
          -72.274639,
          -72.20328099999999,
          -72.21046,
          -72.395478,
          -72.403947,
          -72.602233,
          -72.61313799999999,
          -72.690457,
          -72.686861,
          -72.78103899999999,
          -72.813422,
          -72.87218,
          -72.912302,
          -72.880602,
          -72.88520799999999,
          -72.953825,
          -73.029398,
          -73.06288599999999,
          -73.065772,
          null
         ],
         "y": [
          42.389111,
          42.379683,
          42.556036999999996,
          42.541197,
          42.484041,
          42.45292,
          42.40555,
          42.420819,
          42.303401,
          42.352056999999995,
          42.301963,
          42.291182,
          42.247205,
          42.185736999999996,
          42.231846999999995,
          42.213291,
          42.286265,
          42.213052,
          42.183389999999996,
          42.199749,
          42.245004,
          42.216439,
          42.239132999999995,
          42.265381999999995,
          42.332612,
          42.34386,
          42.308568,
          42.328950999999996,
          42.389111,
          null
         ]
        },
        {
         "fill": "toself",
         "fillcolor": "rgb(44, 114, 142)",
         "hoverinfo": "none",
         "line": {
          "color": "rgb(0, 0, 0)",
          "width": 0
         },
         "mode": "lines",
         "name": "10219817",
         "type": "scatter",
         "x": [
          -70.686981,
          -70.640948,
          -70.65326999999999,
          -70.62480000000001,
          -70.662036,
          -70.62544,
          -70.632555,
          -70.5372893339932,
          -70.471552,
          -70.259205,
          -70.008462,
          -70.000188,
          -70.044995,
          -70.06900999999999,
          -70.095595,
          -70.15541499999999,
          -70.190834,
          -70.238087,
          -70.082624,
          -69.986085,
          -69.928393,
          -69.997682,
          -69.970489,
          -70.014211,
          -70.195193,
          -70.265424,
          -70.28132,
          -70.35163399999999,
          -70.485571,
          -70.686981,
          null
         ],
         "y": [
          41.529489999999996,
          41.577324999999995,
          41.638982,
          41.655727,
          41.68094,
          41.698691,
          41.762904,
          41.8108590611294,
          41.761562999999995,
          41.713954,
          41.800785999999995,
          41.886938,
          41.930049,
          41.884924,
          42.032832,
          42.062408999999995,
          42.020027999999996,
          42.072877999999996,
          42.054657,
          41.949597,
          41.708449,
          41.54233,
          41.645458,
          41.671971,
          41.647912999999996,
          41.609333,
          41.635124999999995,
          41.634687,
          41.554244,
          41.529489999999996,
          null
         ]
        },
        {
         "fill": "toself",
         "fillcolor": "rgb(38, 130, 142)",
         "hoverinfo": "none",
         "line": {
          "color": "rgb(0, 0, 0)",
          "width": 0
         },
         "mode": "lines",
         "name": "35876564",
         "type": "scatter",
         "x": [
          -70.883352,
          -70.880207,
          -70.873953,
          -70.87604999999999,
          -70.883352,
          null,
          -70.891755,
          -70.886251,
          -70.884777,
          -70.887529,
          -70.891755,
          null,
          -70.892296,
          -70.888954,
          -70.888775,
          -70.891952,
          -70.892296,
          null,
          -70.89840699999999,
          -70.89721,
          -70.8956,
          -70.895156,
          -70.89840699999999,
          null,
          -70.898439,
          -70.897063,
          -70.894065,
          -70.89608,
          -70.898439,
          null,
          -70.95107999999999,
          -70.935272,
          -70.92638,
          -70.937332,
          -70.95107999999999,
          null,
          -71.079343,
          -70.924877,
          -70.932435,
          -70.875908,
          -70.90442999999999,
          -70.87828499999999,
          -70.887317,
          -70.92392,
          -70.88268,
          -70.82466072392849,
          -70.85338,
          -70.827015,
          -70.76633799999999,
          -70.597892,
          -70.63913699999999,
          -70.614223,
          -70.650874,
          -70.710034,
          -70.646785,
          -70.650826,
          -70.623513,
          -70.539189,
          -70.5372893339932,
          -70.632555,
          -70.620785,
          -70.674064,
          -70.656596,
          -70.718739,
          -70.715593,
          -70.748868,
          -70.765463,
          -70.809001,
          -70.801063,
          -70.8431763095007,
          -70.921782,
          -71.026288,
          -71.03657,
          -70.973717,
          -70.996804,
          -71.04948499999999,
          -71.079343,
          null
         ],
         "y": [
          42.340491,
          42.342307,
          42.343634,
          42.341229,
          42.340491,
          null,
          42.338856,
          42.339946,
          42.339327999999995,
          42.338201999999995,
          42.338856,
          null,
          42.328393999999996,
          42.328902,
          42.328461,
          42.327231,
          42.328393999999996,
          null,
          42.340266,
          42.343323999999996,
          42.343892,
          42.338879,
          42.340266,
          null,
          42.331191,
          42.333952,
          42.33498,
          42.330355,
          42.331191,
          null,
          42.289725999999995,
          42.302101,
          42.301406,
          42.284915999999996,
          42.289725999999995,
          null,
          42.095993,
          42.157579999999996,
          42.252644,
          42.256853,
          42.280772999999996,
          42.278310999999995,
          42.297652,
          42.305035,
          42.310393,
          42.265934645772305,
          42.239607,
          42.200786,
          42.254742,
          42.004549999999995,
          41.993894999999995,
          42.011148999999996,
          42.046247,
          41.999544,
          41.949309,
          41.98218,
          41.943273,
          41.926773,
          41.8108590611294,
          41.762904,
          41.74753,
          41.691371,
          41.715401,
          41.73574,
          41.675258,
          41.697446,
          41.641574999999996,
          41.658390999999995,
          41.629512999999996,
          41.628486815378,
          41.791244,
          41.778887999999995,
          41.816525,
          41.860879,
          41.927403999999996,
          41.963094,
          42.095993,
          null
         ]
        },
        {
         "fill": "toself",
         "fillcolor": "rgb(31, 160, 136)",
         "hoverinfo": "none",
         "line": {
          "color": "rgb(0, 0, 0)",
          "width": 0
         },
         "mode": "lines",
         "name": "39024977",
         "type": "scatter",
         "x": [
          -73.074845,
          -73.071113,
          -73.034916,
          -73.000173,
          -72.89563799999999,
          -72.880602,
          -72.912302,
          -72.87218,
          -72.813422,
          -72.78103899999999,
          -72.686861,
          -72.690457,
          -72.61313799999999,
          -72.602233,
          -72.403947,
          -72.395478,
          -72.221218,
          -72.263924,
          -72.13501099999999,
          -72.13571499999999,
          -72.755838,
          -72.766739,
          -72.816741,
          -72.813541,
          -73.0532880861326,
          -73.074845,
          null
         ],
         "y": [
          42.106145999999995,
          42.148205999999995,
          42.143682,
          42.312678,
          42.340702,
          42.265381999999995,
          42.239132999999995,
          42.216439,
          42.245004,
          42.199749,
          42.183389999999996,
          42.213052,
          42.286265,
          42.213291,
          42.231846999999995,
          42.185736999999996,
          42.245252,
          42.183831,
          42.161784,
          42.0302453396816,
          42.036195,
          42.002995,
          41.997595,
          42.036494,
          42.039861968461295,
          42.106145999999995,
          null
         ]
        },
        {
         "fill": "toself",
         "fillcolor": "rgb(40, 174, 128)",
         "hoverinfo": "none",
         "line": {
          "color": "rgb(0, 0, 0)",
          "width": 0
         },
         "mode": "lines",
         "name": "39998389",
         "type": "scatter",
         "x": [
          -70.844664,
          -70.82466072392849,
          -70.78146192304459,
          -70.827015,
          -70.844664,
          null,
          -71.17172,
          -71.12858,
          -71.10656999999999,
          -71.152148,
          -71.17172,
          null,
          -71.503078,
          -71.47811899999999,
          -71.34416999999999,
          -71.33249599999999,
          -71.302922,
          -71.327327,
          -71.23106,
          -71.130771,
          -71.039684963075,
          -70.986667,
          -71.02065499999999,
          -70.953833,
          -70.952679,
          -70.92633599999999,
          -70.9082859092802,
          -70.933491,
          -70.924877,
          -71.364344,
          -71.381401,
          -71.498258301062,
          -71.503078,
          null
         ],
         "y": [
          42.242270999999995,
          42.265934645772305,
          42.2487180195672,
          42.200786,
          42.242270999999995,
          null,
          42.319489999999995,
          42.349696,
          42.349911999999996,
          42.294613,
          42.319489999999995,
          null,
          42.110285,
          42.156782,
          42.200703,
          42.249075,
          42.248273999999995,
          42.313745999999995,
          42.320736,
          42.227926,
          42.305865543089496,
          42.306264999999996,
          42.286575,
          42.280791,
          42.24876,
          42.269791999999995,
          42.26471533061319,
          42.25,
          42.157579999999996,
          41.985293,
          42.018798,
          42.01722023315919,
          42.110285,
          null
         ]
        },
        {
         "fill": "toself",
         "fillcolor": "rgb(63, 188, 115)",
         "hoverinfo": "none",
         "line": {
          "color": "rgb(0, 0, 0)",
          "width": 0
         },
         "mode": "lines",
         "name": "47192814",
         "type": "scatter",
         "x": [
          -70.835948,
          -70.823735,
          -70.82191,
          -70.838452,
          -70.835948,
          null,
          -71.38170000000001,
          -71.3814657108006,
          -71.080483,
          -71.04948499999999,
          -70.996804,
          -70.973717,
          -71.03657,
          -71.026288,
          -70.921782,
          -70.886439,
          -70.842039,
          -70.889209,
          -70.913202,
          -70.898607,
          -70.93045599999999,
          -70.953299,
          -70.972287,
          -71.03836199999999,
          -71.07068699999999,
          -71.12057,
          -71.132888,
          -71.19569,
          -71.327896,
          -71.338698,
          -71.38170000000001,
          null
         ],
         "y": [
          41.602516,
          41.598569,
          41.582840999999995,
          41.59646,
          41.602516,
          null,
          41.89375174725279,
          41.9850843199885,
          42.095538999999995,
          41.963094,
          41.927403999999996,
          41.860879,
          41.816525,
          41.778887999999995,
          41.791244,
          41.760231999999995,
          41.593543,
          41.632903999999996,
          41.619265999999996,
          41.592653999999996,
          41.613271,
          41.51501,
          41.530764999999995,
          41.481105,
          41.508877,
          41.497448,
          41.660101999999995,
          41.675101999999995,
          41.780501,
          41.898399,
          41.89375174725279,
          null
         ]
        },
        {
         "fill": "toself",
         "fillcolor": "rgb(132, 212, 75)",
         "hoverinfo": "none",
         "line": {
          "color": "rgb(0, 0, 0)",
          "width": 0
         },
         "mode": "lines",
         "name": "57887763",
         "type": "scatter",
         "x": [
          -72.315994,
          -72.291288,
          -72.244868,
          -72.276434,
          -72.225314,
          -72.28303287565089,
          -71.89877002948,
          -71.85848299999999,
          -71.66460099999999,
          -71.678969,
          -71.580287,
          -71.52984099999999,
          -71.5591,
          -71.60425099999999,
          -71.58015,
          -71.62582499999999,
          -71.585168,
          -71.486797,
          -71.506478,
          -71.586759,
          -71.602221,
          -71.478027,
          -71.498258301062,
          -72.13571499999999,
          -72.13501099999999,
          -72.263924,
          -72.20328099999999,
          -72.274639,
          -72.315994,
          null
         ],
         "y": [
          42.394543999999996,
          42.479524999999995,
          42.513439,
          42.577374,
          42.630426,
          42.72155870837909,
          42.7114218822193,
          42.633815,
          42.611598,
          42.530429999999996,
          42.550467,
          42.519841,
          42.411943,
          42.397703,
          42.386998,
          42.349723999999995,
          42.310977,
          42.330189,
          42.264275999999995,
          42.259544999999996,
          42.218101,
          42.165870999999996,
          42.01722023315919,
          42.0302453396816,
          42.161784,
          42.183831,
          42.291182,
          42.301963,
          42.394543999999996,
          null
         ]
        },
        {
         "fill": "toself",
         "fillcolor": "rgb(173, 220, 48)",
         "hoverinfo": "none",
         "line": {
          "color": "rgb(0, 0, 0)",
          "width": 0
         },
         "mode": "lines",
         "name": "67718998",
         "type": "scatter",
         "x": [
          -70.93091,
          -70.925969,
          -70.925308,
          -70.93075999999999,
          -70.93091,
          null,
          -70.932091,
          -70.929717,
          -70.922598,
          -70.931414,
          -70.932091,
          null,
          -70.94278,
          -70.940749,
          -70.934947,
          -70.939854,
          -70.94278,
          null,
          -70.958094,
          -70.951492,
          -70.948515,
          -70.95434,
          -70.958094,
          null,
          -70.977402,
          -70.957268,
          -70.952805,
          -70.965732,
          -70.977402,
          null,
          -70.989162,
          -70.98307799999999,
          -70.98566699999999,
          -70.991621,
          -70.989162,
          null,
          -71.017803,
          -71.00686999999999,
          -70.997838,
          -71.0084846185794,
          -71.017803,
          null,
          -71.190904,
          -71.105558,
          -71.15703599999999,
          -71.167625,
          -71.077095,
          -71.018757,
          -70.9599910454674,
          -70.990595,
          -70.95302199999999,
          -70.974183,
          -70.998497,
          -71.044185,
          -71.042782,
          -71.130771,
          -71.190904,
          null
         ],
         "y": [
          42.321605,
          42.321909,
          42.317223,
          42.319027,
          42.321605,
          null,
          42.332698,
          42.333973,
          42.326144,
          42.328267,
          42.332698,
          null,
          42.327180999999996,
          42.328139,
          42.326806999999995,
          42.324245,
          42.327180999999996,
          null,
          42.31165,
          42.313564,
          42.311937,
          42.308586999999996,
          42.31165,
          null,
          42.312294,
          42.331661,
          42.330627,
          42.313469,
          42.312294,
          null,
          42.328303999999996,
          42.327155999999995,
          42.318732999999995,
          42.326294,
          42.328303999999996,
          null,
          42.31312,
          42.321028999999996,
          42.321205,
          42.3057928208765,
          42.31312,
          null,
          42.283248,
          42.343897999999996,
          42.33039,
          42.360073,
          42.358697,
          42.450117999999996,
          42.4438207851563,
          42.407098,
          42.343973,
          42.369565,
          42.368221,
          42.322610999999995,
          42.277102,
          42.227926,
          42.283248,
          null
         ]
        },
        {
         "fill": "toself",
         "fillcolor": "rgb(216, 226, 25)",
         "hoverinfo": "none",
         "line": {
          "color": "rgb(0, 0, 0)",
          "width": 0
         },
         "mode": "lines",
         "name": "68333775",
         "type": "scatter",
         "x": [
          -70.580285,
          -70.575088,
          -70.573377,
          -70.575648,
          -70.580285,
          null,
          -70.5920440191217,
          -70.588245,
          -70.58681899999999,
          -70.588037,
          -70.5920440191217,
          null,
          -70.59383199999999,
          -70.587992,
          -70.586344,
          -70.589942,
          -70.59383199999999,
          null,
          -70.723148,
          -70.721223,
          -70.72064,
          -70.721656,
          -70.723148,
          null,
          -70.78305499999999,
          -70.781182,
          -70.780441,
          -70.78208,
          -70.78305499999999,
          null,
          -70.788783,
          -70.787031,
          -70.782252,
          -70.787708,
          -70.788783,
          null,
          -70.80222499999999,
          -70.796224,
          -70.793272,
          -70.802155,
          -70.80222499999999,
          null,
          -70.81688,
          -70.811949,
          -70.812069,
          -70.81457,
          -70.81688,
          null,
          -70.835635,
          -70.83371,
          -70.83322799999999,
          -70.835635,
          -70.835635,
          null,
          -71.250303,
          -71.2551987703894,
          -71.181803,
          -71.167703,
          -71.064201,
          -71.031201,
          -70.902768,
          -70.817296,
          -70.776083,
          -70.691231,
          -70.630077,
          -70.591469,
          -70.654727,
          -70.676733,
          -70.710349,
          -70.87519499999999,
          -70.886366,
          -70.831091,
          -70.93499299999999,
          -70.905692,
          -70.936393,
          -70.939561,
          -70.99985699999999,
          -71.054214,
          -71.03490000000001,
          -71.070978,
          -71.028312,
          -71.05876599999999,
          -71.164974,
          -71.250303,
          null
         ],
         "y": [
          42.636025,
          42.639779999999995,
          42.639506999999995,
          42.634451999999996,
          42.636025,
          null,
          42.6295126856785,
          42.630604999999996,
          42.628156999999995,
          42.626413,
          42.6295126856785,
          null,
          42.660787,
          42.663002999999996,
          42.662248999999996,
          42.658449999999995,
          42.660787,
          null,
          42.568157,
          42.569933,
          42.569659,
          42.566088,
          42.568157,
          null,
          42.553461,
          42.554218,
          42.553868,
          42.551679,
          42.553461,
          null,
          42.534006,
          42.537295,
          42.533716,
          42.530578999999996,
          42.534006,
          null,
          42.550473,
          42.551300999999995,
          42.547444,
          42.547135,
          42.550473,
          null,
          42.514579999999995,
          42.512093,
          42.510276999999995,
          42.511050999999995,
          42.514579999999995,
          null,
          42.4844,
          42.486412,
          42.481442,
          42.481915,
          42.4844,
          null,
          42.660591,
          42.736638343984396,
          42.73759,
          42.807389,
          42.806289,
          42.859089,
          42.88653,
          42.87229,
          42.691264,
          42.655789999999996,
          42.692699,
          42.639821,
          42.582234,
          42.607527,
          42.572568,
          42.544343999999995,
          42.508610999999995,
          42.503595999999995,
          42.457896,
          42.416197,
          42.418096999999996,
          42.456748999999995,
          42.431295999999996,
          42.476903,
          42.506758,
          42.555889,
          42.574082,
          42.609077,
          42.598082,
          42.660591,
          null
         ]
        },
        {
         "fill": "toself",
         "fillcolor": "rgb(253, 231, 37)",
         "hoverinfo": "none",
         "line": {
          "color": "rgb(0, 0, 0)",
          "width": 0
         },
         "mode": "lines",
         "name": "99483632",
         "type": "scatter",
         "x": [
          -71.89877002948,
          -71.29420499999999,
          -71.2551987703894,
          -71.255749,
          -71.164974,
          -71.05876599999999,
          -71.033998,
          -71.07515,
          -71.03859899999999,
          -71.054214,
          -71.020377,
          -71.077095,
          -71.167625,
          -71.191155,
          -71.252937,
          -71.32974999999999,
          -71.302922,
          -71.33249599999999,
          -71.34416999999999,
          -71.47811899999999,
          -71.50262599999999,
          -71.55573799999999,
          -71.602221,
          -71.586759,
          -71.506478,
          -71.486797,
          -71.585168,
          -71.62582499999999,
          -71.58015,
          -71.60425099999999,
          -71.5591,
          -71.53878,
          -71.678969,
          -71.66460099999999,
          -71.85848299999999,
          -71.89877002948,
          null
         ],
         "y": [
          42.7114218822193,
          42.69699,
          42.736638343984396,
          42.656929,
          42.598082,
          42.609077,
          42.585493,
          42.531034999999996,
          42.523959999999995,
          42.476903,
          42.43825,
          42.358697,
          42.360073,
          42.283059,
          42.326755999999996,
          42.312991,
          42.248273999999995,
          42.249075,
          42.200703,
          42.156782,
          42.191416,
          42.182503,
          42.218101,
          42.259544999999996,
          42.264275999999995,
          42.330189,
          42.310977,
          42.349723999999995,
          42.386998,
          42.397703,
          42.411943,
          42.543029999999995,
          42.530429999999996,
          42.611598,
          42.633815,
          42.7114218822193,
          null
         ]
        },
        {
         "hoverinfo": "text",
         "legendgroup": "centroids",
         "marker": {
          "color": "white",
          "opacity": 0
         },
         "mode": "markers",
         "name": "US Counties",
         "selected": {
          "marker": {
           "color": "white",
           "opacity": 1,
           "size": 3
          }
         },
         "showlegend": false,
         "text": [
          "County: Suffolk<br>State: Massachusetts<br>FIPS: 25025<br>Value: 67718998",
          "County: Suffolk<br>State: Massachusetts<br>FIPS: 25025<br>Value: 67718998",
          "County: Suffolk<br>State: Massachusetts<br>FIPS: 25025<br>Value: 67718998",
          "County: Suffolk<br>State: Massachusetts<br>FIPS: 25025<br>Value: 67718998",
          "County: Suffolk<br>State: Massachusetts<br>FIPS: 25025<br>Value: 67718998",
          "County: Suffolk<br>State: Massachusetts<br>FIPS: 25025<br>Value: 67718998",
          "County: Suffolk<br>State: Massachusetts<br>FIPS: 25025<br>Value: 67718998",
          "County: Suffolk<br>State: Massachusetts<br>FIPS: 25025<br>Value: 67718998",
          "County: Plymouth<br>State: Massachusetts<br>FIPS: 25023<br>Value: 35876564",
          "County: Plymouth<br>State: Massachusetts<br>FIPS: 25023<br>Value: 35876564",
          "County: Plymouth<br>State: Massachusetts<br>FIPS: 25023<br>Value: 35876564",
          "County: Plymouth<br>State: Massachusetts<br>FIPS: 25023<br>Value: 35876564",
          "County: Plymouth<br>State: Massachusetts<br>FIPS: 25023<br>Value: 35876564",
          "County: Plymouth<br>State: Massachusetts<br>FIPS: 25023<br>Value: 35876564",
          "County: Plymouth<br>State: Massachusetts<br>FIPS: 25023<br>Value: 35876564",
          "County: Norfolk<br>State: Massachusetts<br>FIPS: 25021<br>Value: 39998389",
          "County: Norfolk<br>State: Massachusetts<br>FIPS: 25021<br>Value: 39998389",
          "County: Norfolk<br>State: Massachusetts<br>FIPS: 25021<br>Value: 39998389",
          "County: Nantucket<br>State: Massachusetts<br>FIPS: 25019<br>Value: 1041738",
          "County: Nantucket<br>State: Massachusetts<br>FIPS: 25019<br>Value: 1041738",
          "County: Nantucket<br>State: Massachusetts<br>FIPS: 25019<br>Value: 1041738",
          "County: Essex<br>State: Massachusetts<br>FIPS: 25009<br>Value: 68333775",
          "County: Essex<br>State: Massachusetts<br>FIPS: 25009<br>Value: 68333775",
          "County: Essex<br>State: Massachusetts<br>FIPS: 25009<br>Value: 68333775",
          "County: Essex<br>State: Massachusetts<br>FIPS: 25009<br>Value: 68333775",
          "County: Essex<br>State: Massachusetts<br>FIPS: 25009<br>Value: 68333775",
          "County: Essex<br>State: Massachusetts<br>FIPS: 25009<br>Value: 68333775",
          "County: Essex<br>State: Massachusetts<br>FIPS: 25009<br>Value: 68333775",
          "County: Essex<br>State: Massachusetts<br>FIPS: 25009<br>Value: 68333775",
          "County: Essex<br>State: Massachusetts<br>FIPS: 25009<br>Value: 68333775",
          "County: Essex<br>State: Massachusetts<br>FIPS: 25009<br>Value: 68333775",
          "County: Dukes<br>State: Massachusetts<br>FIPS: 25007<br>Value: 981079",
          "County: Dukes<br>State: Massachusetts<br>FIPS: 25007<br>Value: 981079",
          "County: Dukes<br>State: Massachusetts<br>FIPS: 25007<br>Value: 981079",
          "County: Dukes<br>State: Massachusetts<br>FIPS: 25007<br>Value: 981079",
          "County: Dukes<br>State: Massachusetts<br>FIPS: 25007<br>Value: 981079",
          "County: Dukes<br>State: Massachusetts<br>FIPS: 25007<br>Value: 981079",
          "County: Dukes<br>State: Massachusetts<br>FIPS: 25007<br>Value: 981079",
          "County: Bristol<br>State: Massachusetts<br>FIPS: 25005<br>Value: 47192814",
          "County: Bristol<br>State: Massachusetts<br>FIPS: 25005<br>Value: 47192814",
          "County: Barnstable<br>State: Massachusetts<br>FIPS: 25001<br>Value: 10219817",
          "County: Berkshire<br>State: Massachusetts<br>FIPS: 25003<br>Value: 5690875",
          "County: Franklin<br>State: Massachusetts<br>FIPS: 25011<br>Value: 2435932",
          "County: Hampden<br>State: Massachusetts<br>FIPS: 25013<br>Value: 39024977",
          "County: Hampshire<br>State: Massachusetts<br>FIPS: 25015<br>Value: 7239268",
          "County: Middlesex<br>State: Massachusetts<br>FIPS: 25017<br>Value: 99483632",
          "County: Worcester<br>State: Massachusetts<br>FIPS: 25027<br>Value: 57887763"
         ],
         "type": "scatter",
         "unselected": {
          "marker": {
           "opacity": 0
          }
         },
         "x": [
          [
           -70.9280391133086
          ],
          [
           -70.9277790290724
          ],
          [
           -70.9392566238225
          ],
          [
           -70.95387693386199
          ],
          [
           -70.96483627239256
          ],
          [
           -70.98673453708642
          ],
          [
           -71.00940904593837
          ],
          [
           -71.07309884387598
          ],
          [
           -70.8780115397054
          ],
          [
           -70.88824913269262
          ],
          [
           -70.89061026119334
          ],
          [
           -70.8962556436447
          ],
          [
           -70.89636899879952
          ],
          [
           -70.93790606268806
          ],
          [
           -70.81129175746672
          ],
          [
           -70.81892375373486
          ],
          [
           -71.14080910291152
          ],
          [
           -71.22298718443716
          ],
          [
           -70.06245308001775
          ],
          [
           -70.25622674025917
          ],
          [
           -70.29999198079794
          ],
          [
           -70.5762561032735
          ],
          [
           -70.58939860145681
          ],
          [
           -70.59031034835986
          ],
          [
           -70.72192025581093
          ],
          [
           -70.78196293798233
          ],
          [
           -70.78625262527578
          ],
          [
           -70.79886099117257
          ],
          [
           -70.81449732085207
          ],
          [
           -70.83410716515235
          ],
          [
           -70.95218563001502
          ],
          [
           -70.74859518022004
          ],
          [
           -70.81525824004792
          ],
          [
           -70.62802416110435
          ],
          [
           -70.82616655033165
          ],
          [
           -70.87487257159471
          ],
          [
           -70.92128806106592
          ],
          [
           -70.93221404295807
          ],
          [
           -70.82902751053047
          ],
          [
           -71.1147696402744
          ],
          -70.29149042162072,
          -73.20634775606662,
          -72.59183006384409,
          -72.63158760194638,
          -72.66380090627308,
          -71.39178930223044,
          -71.90774522258745
         ],
         "y": [
          [
           42.31980319851328
          ],
          [
           42.329071591519
          ],
          [
           42.326224574458465
          ],
          [
           42.31132022228186
          ],
          [
           42.32072398669129
          ],
          [
           42.32421915511973
          ],
          [
           42.31402646167803
          ],
          [
           42.33389489977019
          ],
          [
           42.34200748566634
          ],
          [
           42.33893924860726
          ],
          [
           42.328087534563856
          ],
          [
           42.341133147558075
          ],
          [
           42.3325953020933
          ],
          [
           42.293505047325354
          ],
          [
           41.950800421004296
          ],
          [
           42.236314997413984
          ],
          [
           42.32427586329445
          ],
          [
           42.15579579570511
          ],
          [
           41.282293001731986
          ],
          [
           41.30179830953805
          ],
          [
           41.33546206041185
          ],
          [
           42.63682463751455
          ],
          [
           42.62851516377598
          ],
          [
           42.66069178061119
          ],
          [
           42.56787849781812
          ],
          [
           42.552997558899115
          ],
          [
           42.53401423495861
          ],
          [
           42.54895706170866
          ],
          [
           42.512385248316136
          ],
          [
           42.48365458222047
          ],
          [
           42.67319136089608
          ],
          [
           41.48409424878505
          ],
          [
           41.25582283776138
          ],
          [
           41.38786601815403
          ],
          [
           41.45004834081349
          ],
          [
           41.43134085009215
          ],
          [
           41.45083824913764
          ],
          [
           41.420115583000246
          ],
          [
           41.59389023049773
          ],
          [
           41.797445412015705
          ],
          41.72417861197711,
          42.37070284099708,
          42.583090626153535,
          42.135099154050955,
          42.340158105022276,
          42.485578780208236,
          42.35142245348082
         ]
        },
        {
         "hoverinfo": "text",
         "legendgroup": "States",
         "line": {
          "color": "rgb(240, 240, 240)",
          "width": 1
         },
         "mode": "lines",
         "showlegend": false,
         "type": "scatter",
         "x": [
          -70.234054,
          -70.06256499999999,
          -70.024421,
          -70.049053,
          -70.02038,
          -69.96018099999999,
          -70.100495,
          -70.234054,
          null,
          -70.277262,
          -70.246552,
          -70.242739,
          -70.259665,
          -70.277262,
          null,
          -70.30897,
          -70.29202699999999,
          -70.28932499999999,
          -70.307001,
          -70.30897,
          null,
          -70.580285,
          -70.575088,
          -70.573377,
          -70.575648,
          -70.580285,
          null,
          -70.5920440191217,
          -70.588245,
          -70.58681899999999,
          -70.588037,
          -70.5920440191217,
          null,
          -70.59383199999999,
          -70.587992,
          -70.586344,
          -70.589942,
          -70.59383199999999,
          null,
          -70.723148,
          -70.721223,
          -70.72064,
          -70.721656,
          -70.723148,
          null,
          -70.78305499999999,
          -70.781182,
          -70.780441,
          -70.78208,
          -70.78305499999999,
          null,
          -70.788783,
          -70.787031,
          -70.782252,
          -70.787708,
          -70.788783,
          null,
          -70.80222499999999,
          -70.796224,
          -70.793272,
          -70.802155,
          -70.80222499999999,
          null,
          -70.8071,
          -70.710222,
          -70.67518799999999,
          -70.790395,
          -70.8071,
          null,
          -70.81688,
          -70.811949,
          -70.812069,
          -70.81457,
          -70.81688,
          null,
          -70.832039,
          -70.811965,
          -70.80156099999999,
          -70.80924499999999,
          -70.832039,
          null,
          -70.835635,
          -70.83371,
          -70.83322799999999,
          -70.835635,
          -70.835635,
          null,
          -70.835948,
          -70.823735,
          -70.82191,
          -70.838452,
          -70.835948,
          null,
          -70.838777,
          -70.774974,
          -70.700964,
          -70.603555,
          -70.501306,
          -70.452497,
          -70.44623299999999,
          -70.452244,
          -70.70982599999999,
          -70.775665,
          -70.838777,
          null,
          -70.840375,
          -70.820595,
          -70.80805099999999,
          -70.836868,
          -70.840375,
          null,
          -70.883352,
          -70.880207,
          -70.873953,
          -70.87604999999999,
          -70.883352,
          null,
          -70.891755,
          -70.886251,
          -70.884777,
          -70.887529,
          -70.891755,
          null,
          -70.892296,
          -70.888954,
          -70.888775,
          -70.891952,
          -70.892296,
          null,
          -70.89840699999999,
          -70.89721,
          -70.8956,
          -70.895156,
          -70.89840699999999,
          null,
          -70.898439,
          -70.897063,
          -70.894065,
          -70.89608,
          -70.898439,
          null,
          -70.904786,
          -70.857103,
          -70.848563,
          -70.87121599999999,
          -70.904786,
          null,
          -70.925416,
          -70.920666,
          -70.915165,
          -70.92118599999999,
          -70.925416,
          null,
          -70.93091,
          -70.925969,
          -70.925308,
          -70.93075999999999,
          -70.93091,
          null,
          -70.932091,
          -70.929717,
          -70.922598,
          -70.931414,
          -70.932091,
          null,
          -70.94278,
          -70.940749,
          -70.934947,
          -70.939854,
          -70.94278,
          null,
          -70.95107999999999,
          -70.935272,
          -70.92638,
          -70.937332,
          -70.95107999999999,
          null,
          -70.949185,
          -70.927475,
          -70.907496,
          -70.948757,
          -70.949185,
          null,
          -70.958094,
          -70.951492,
          -70.948515,
          -70.95434,
          -70.958094,
          null,
          -70.977402,
          -70.957268,
          -70.952805,
          -70.965732,
          -70.977402,
          null,
          -70.989162,
          -70.98307799999999,
          -70.98566699999999,
          -70.991621,
          -70.989162,
          null,
          -73.50814199999999,
          -73.264957,
          -71.29420499999999,
          -71.245504,
          -71.181803,
          -71.16560299999999,
          -71.064201,
          -71.031201,
          -70.902768,
          -70.817296,
          -70.776083,
          -70.691231,
          -70.630077,
          -70.591469,
          -70.654727,
          -70.676733,
          -70.710349,
          -70.87519499999999,
          -70.886366,
          -70.842091,
          -70.83599099999999,
          -70.93499299999999,
          -70.905692,
          -70.960763,
          -70.990595,
          -70.95302199999999,
          -70.974183,
          -70.998497,
          -71.041333,
          -70.997838,
          -71.02065499999999,
          -70.953833,
          -70.952679,
          -70.917056,
          -70.87781,
          -70.90442999999999,
          -70.87828499999999,
          -70.887317,
          -70.923444,
          -70.889456,
          -70.85109299999999,
          -70.76633799999999,
          -70.597892,
          -70.63913699999999,
          -70.614223,
          -70.650874,
          -70.710034,
          -70.646785,
          -70.650826,
          -70.623513,
          -70.539189,
          -70.54102999999999,
          -70.412476,
          -70.259205,
          -70.008462,
          -70.000188,
          -70.044995,
          -70.06900999999999,
          -70.095595,
          -70.15541499999999,
          -70.190834,
          -70.245385,
          -70.18930499999999,
          -70.082624,
          -69.968598,
          -69.928393,
          -70.003861,
          -69.970489,
          -70.014211,
          -70.195193,
          -70.265424,
          -70.28132,
          -70.35163399999999,
          -70.485571,
          -70.65662499999999,
          -70.686981,
          -70.642748,
          -70.65326999999999,
          -70.62480000000001,
          -70.662036,
          -70.62365199999999,
          -70.674064,
          -70.656596,
          -70.718739,
          -70.715593,
          -70.748868,
          -70.765463,
          -70.821598,
          -70.801063,
          -70.85965399999999,
          -70.853447,
          -70.872665,
          -70.913202,
          -70.902051,
          -70.93045599999999,
          -70.92851999999999,
          -71.03836199999999,
          -71.07068699999999,
          -71.12057,
          -71.132888,
          -71.19569,
          -71.34069699999999,
          -71.338698,
          -71.38170000000001,
          -71.381401,
          -72.755838,
          -72.766739,
          -72.816741,
          -72.813541,
          -73.49687899999999,
          -73.50814199999999,
          null,
          null
         ],
         "y": [
          41.285652999999996,
          41.308726,
          41.360622,
          41.391701999999995,
          41.369006,
          41.264545999999996,
          41.240553,
          41.285652999999996,
          null,
          41.310506,
          41.306186,
          41.28919,
          41.296006,
          41.310506,
          null,
          41.336057,
          41.337787999999996,
          41.335021999999995,
          41.332391,
          41.336057,
          null,
          42.636025,
          42.639779999999995,
          42.639506999999995,
          42.634451999999996,
          42.636025,
          null,
          42.6295126856785,
          42.630604999999996,
          42.628156999999995,
          42.626413,
          42.6295126856785,
          null,
          42.660787,
          42.663002999999996,
          42.662248999999996,
          42.658449999999995,
          42.660787,
          null,
          42.568157,
          42.569933,
          42.569659,
          42.566088,
          42.568157,
          null,
          42.553461,
          42.554218,
          42.553868,
          42.551679,
          42.553461,
          null,
          42.534006,
          42.537295,
          42.533716,
          42.530578999999996,
          42.534006,
          null,
          42.550473,
          42.551300999999995,
          42.547444,
          42.547135,
          42.550473,
          null,
          41.458576,
          41.518915,
          41.513949,
          41.446535,
          41.458576,
          null,
          42.514579999999995,
          42.512093,
          42.510276999999995,
          42.511050999999995,
          42.514579999999995,
          null,
          41.259495,
          41.264838999999995,
          41.25841,
          41.249068,
          41.259495,
          null,
          42.4844,
          42.486412,
          42.481442,
          42.481915,
          42.4844,
          null,
          41.602516,
          41.598569,
          41.582840999999995,
          41.59646,
          41.602516,
          null,
          41.347209,
          41.349176,
          41.43401,
          41.482383999999996,
          41.385391,
          41.42143,
          41.39648,
          41.349827999999995,
          41.341722999999995,
          41.300982,
          41.347209,
          null,
          41.452875,
          41.458507,
          41.445037,
          41.441967999999996,
          41.452875,
          null,
          42.340491,
          42.342307,
          42.343634,
          42.341229,
          42.340491,
          null,
          42.338856,
          42.339946,
          42.339327999999995,
          42.338201999999995,
          42.338856,
          null,
          42.328393999999996,
          42.328902,
          42.328461,
          42.327231,
          42.328393999999996,
          null,
          42.340266,
          42.343323999999996,
          42.343892,
          42.338879,
          42.340266,
          null,
          42.331191,
          42.333952,
          42.33498,
          42.330355,
          42.331191,
          null,
          41.427752999999996,
          41.450253,
          41.432843999999996,
          41.422084999999996,
          41.427752999999996,
          null,
          41.451732,
          41.454553,
          41.451034,
          41.445392999999996,
          41.451732,
          null,
          42.321605,
          42.321909,
          42.317223,
          42.319027,
          42.321605,
          null,
          42.332698,
          42.333973,
          42.326144,
          42.328267,
          42.332698,
          null,
          42.327180999999996,
          42.328139,
          42.326806999999995,
          42.324245,
          42.327180999999996,
          null,
          42.289725999999995,
          42.302101,
          42.301406,
          42.284915999999996,
          42.289725999999995,
          null,
          41.415776,
          41.431810999999996,
          41.421512,
          41.409037999999995,
          41.415776,
          null,
          42.31165,
          42.313564,
          42.311937,
          42.308586999999996,
          42.31165,
          null,
          42.312294,
          42.331661,
          42.330627,
          42.313469,
          42.312294,
          null,
          42.328303999999996,
          42.327155999999995,
          42.318732999999995,
          42.326294,
          42.328303999999996,
          null,
          42.086256999999996,
          42.74594,
          42.69699,
          42.742588999999995,
          42.73759,
          42.808689,
          42.806289,
          42.859089,
          42.88653,
          42.87229,
          42.691264,
          42.655789999999996,
          42.692699,
          42.639821,
          42.582234,
          42.607527,
          42.572568,
          42.544343999999995,
          42.508610999999995,
          42.519495,
          42.490496,
          42.457896,
          42.416197,
          42.446011,
          42.407098,
          42.343973,
          42.369565,
          42.368221,
          42.302926,
          42.321205,
          42.286575,
          42.280791,
          42.24876,
          42.272542,
          42.249288,
          42.280772999999996,
          42.278310999999995,
          42.297652,
          42.302398,
          42.310483999999995,
          42.26827,
          42.254742,
          42.004549999999995,
          41.993894999999995,
          42.011148999999996,
          42.046247,
          41.999544,
          41.949309,
          41.98218,
          41.943273,
          41.926773,
          41.815754,
          41.744397,
          41.713954,
          41.800785999999995,
          41.886938,
          41.930049,
          41.884924,
          42.032832,
          42.062408999999995,
          42.020027999999996,
          42.063733,
          42.082336999999995,
          42.054657,
          41.9117,
          41.708449,
          41.540551,
          41.645458,
          41.671971,
          41.647912999999996,
          41.609333,
          41.635124999999995,
          41.634687,
          41.554244,
          41.514779,
          41.529489999999996,
          41.572385,
          41.638982,
          41.655727,
          41.68094,
          41.707398,
          41.691371,
          41.715401,
          41.73574,
          41.675258,
          41.697446,
          41.641574999999996,
          41.654838999999996,
          41.629512999999996,
          41.624123999999995,
          41.582195,
          41.627815999999996,
          41.619265999999996,
          41.591583,
          41.613271,
          41.539775999999996,
          41.481105,
          41.508877,
          41.497448,
          41.660101999999995,
          41.675101999999995,
          41.798300000000005,
          41.898399,
          41.893198999999996,
          42.018798,
          42.036195,
          42.002995,
          41.997595,
          42.036494,
          42.049675,
          42.086256999999996,
          null,
          null
         ]
        }
       ],
       "layout": {
        "annotations": [
         {
          "showarrow": false,
          "text": "<b></b>",
          "x": 1,
          "xanchor": "right",
          "xref": "paper",
          "y": 1.05,
          "yref": "paper"
         }
        ],
        "dragmode": "select",
        "height": 450,
        "hovermode": "closest",
        "legend": {
         "traceorder": "reversed",
         "x": 1,
         "xanchor": "right",
         "y": 1,
         "yanchor": "top"
        },
        "margin": {
         "b": 20,
         "l": 20,
         "r": 20,
         "t": 40
        },
        "title": {
         "text": "Chloropleth of case count by County"
        },
        "width": 900,
        "xaxis": {
         "autorange": false,
         "fixedrange": true,
         "range": [
          -73.77573875,
          -69.66079624999999
         ],
         "showgrid": false,
         "showticklabels": false,
         "zeroline": false
        },
        "yaxis": {
         "autorange": false,
         "fixedrange": true,
         "range": [
          41.240553,
          42.88653
         ],
         "showgrid": false,
         "showticklabels": false,
         "zeroline": false
        }
       }
      },
      "text/html": [
       "<div>                            <div id=\"85a95ab6-6d9b-4691-bcd4-a78ab96fb64f\" class=\"plotly-graph-div\" style=\"height:450px; width:900px;\"></div>            <script type=\"text/javascript\">                require([\"plotly\"], function(Plotly) {                    window.PLOTLYENV=window.PLOTLYENV || {};                                    if (document.getElementById(\"85a95ab6-6d9b-4691-bcd4-a78ab96fb64f\")) {                    Plotly.newPlot(                        \"85a95ab6-6d9b-4691-bcd4-a78ab96fb64f\",                        [{\"fill\":\"toself\",\"fillcolor\":\"rgb(68, 1, 84)\",\"hoverinfo\":\"none\",\"line\":{\"color\":\"rgb(0, 0, 0)\",\"width\":0},\"mode\":\"lines\",\"name\":\"981079\",\"x\":[-70.8071,-70.710222,-70.67518799999999,-70.790395,-70.8071,null,-70.832039,-70.811965,-70.80156099999999,-70.80924499999999,-70.832039,null,-70.838777,-70.774974,-70.700964,-70.603555,-70.501306,-70.452497,-70.44623299999999,-70.452244,-70.70982599999999,-70.775665,-70.838777,null,-70.840375,-70.820595,-70.80805099999999,-70.836868,-70.840375,null,-70.904786,-70.857103,-70.848563,-70.87121599999999,-70.904786,null,-70.925416,-70.920666,-70.915165,-70.92118599999999,-70.925416,null,-70.949185,-70.927475,-70.907496,-70.948757,-70.949185,null],\"y\":[41.458576,41.518915,41.513949,41.446535,41.458576,null,41.259495,41.264838999999995,41.25841,41.249068,41.259495,null,41.347209,41.349176,41.43401,41.482383999999996,41.385391,41.42143,41.39648,41.349827999999995,41.341722999999995,41.300982,41.347209,null,41.452875,41.458507,41.445037,41.441967999999996,41.452875,null,41.427752999999996,41.450253,41.432843999999996,41.422084999999996,41.427752999999996,null,41.451732,41.454553,41.451034,41.445392999999996,41.451732,null,41.415776,41.431810999999996,41.421512,41.409037999999995,41.415776,null],\"type\":\"scatter\"},{\"fill\":\"toself\",\"fillcolor\":\"rgb(72, 24, 106)\",\"hoverinfo\":\"none\",\"line\":{\"color\":\"rgb(0, 0, 0)\",\"width\":0},\"mode\":\"lines\",\"name\":\"1041738\",\"x\":[-70.234054,-70.06256499999999,-70.024421,-70.049053,-70.02038,-69.96018099999999,-70.100495,-70.234054,null,-70.277262,-70.246552,-70.242739,-70.259665,-70.277262,null,-70.30897,-70.29202699999999,-70.28932499999999,-70.307001,-70.30897,null],\"y\":[41.285652999999996,41.308726,41.360622,41.391701999999995,41.369006,41.264545999999996,41.240553,41.285652999999996,null,41.310506,41.306186,41.28919,41.296006,41.310506,null,41.336057,41.337787999999996,41.335021999999995,41.332391,41.336057,null],\"type\":\"scatter\"},{\"fill\":\"toself\",\"fillcolor\":\"rgb(71, 45, 123)\",\"hoverinfo\":\"none\",\"line\":{\"color\":\"rgb(0, 0, 0)\",\"width\":0},\"mode\":\"lines\",\"name\":\"2435932\",\"x\":[-73.0230149955487,-72.28303287565089,-72.225314,-72.276434,-72.244868,-72.291288,-72.314782,-72.36032399999999,-72.375022,-72.704392,-72.70087699999999,-72.87113599999999,-72.87684899999999,-72.975409,-72.955111,-72.995635,-72.948758,-73.023709,-73.0230149955487,null],\"y\":[42.7411352241426,42.72155870837909,42.630426,42.577374,42.513439,42.479524999999995,42.339777,42.307449999999996,42.420819,42.40555,42.45292,42.484041,42.541197,42.556036999999996,42.665869,42.673342,42.704091999999996,42.70269,42.7411352241426,null],\"type\":\"scatter\"},{\"fill\":\"toself\",\"fillcolor\":\"rgb(66, 64, 134)\",\"hoverinfo\":\"none\",\"line\":{\"color\":\"rgb(0, 0, 0)\",\"width\":0},\"mode\":\"lines\",\"name\":\"5690875\",\"x\":[-73.50814199999999,-73.264957,-73.0230149955487,-73.023709,-72.949742,-72.995635,-72.951039,-73.01168299999999,-73.068508,-73.06288599999999,-73.000173,-73.034916,-73.071113,-73.0532880861326,-73.49687899999999,-73.50814199999999,null],\"y\":[42.086256999999996,42.74594,42.7411352241426,42.70269,42.705103,42.673342,42.641006,42.379683,42.38072,42.328950999999996,42.312678,42.143682,42.148205999999995,42.039861968461295,42.049675,42.086256999999996,null],\"type\":\"scatter\"},{\"fill\":\"toself\",\"fillcolor\":\"rgb(51, 99, 141)\",\"hoverinfo\":\"none\",\"line\":{\"color\":\"rgb(0, 0, 0)\",\"width\":0},\"mode\":\"lines\",\"name\":\"7239268\",\"x\":[-73.065772,-73.01168299999999,-72.975409,-72.87684899999999,-72.87113599999999,-72.70087699999999,-72.704392,-72.375022,-72.355942,-72.284239,-72.274639,-72.20328099999999,-72.21046,-72.395478,-72.403947,-72.602233,-72.61313799999999,-72.690457,-72.686861,-72.78103899999999,-72.813422,-72.87218,-72.912302,-72.880602,-72.88520799999999,-72.953825,-73.029398,-73.06288599999999,-73.065772,null],\"y\":[42.389111,42.379683,42.556036999999996,42.541197,42.484041,42.45292,42.40555,42.420819,42.303401,42.352056999999995,42.301963,42.291182,42.247205,42.185736999999996,42.231846999999995,42.213291,42.286265,42.213052,42.183389999999996,42.199749,42.245004,42.216439,42.239132999999995,42.265381999999995,42.332612,42.34386,42.308568,42.328950999999996,42.389111,null],\"type\":\"scatter\"},{\"fill\":\"toself\",\"fillcolor\":\"rgb(44, 114, 142)\",\"hoverinfo\":\"none\",\"line\":{\"color\":\"rgb(0, 0, 0)\",\"width\":0},\"mode\":\"lines\",\"name\":\"10219817\",\"x\":[-70.686981,-70.640948,-70.65326999999999,-70.62480000000001,-70.662036,-70.62544,-70.632555,-70.5372893339932,-70.471552,-70.259205,-70.008462,-70.000188,-70.044995,-70.06900999999999,-70.095595,-70.15541499999999,-70.190834,-70.238087,-70.082624,-69.986085,-69.928393,-69.997682,-69.970489,-70.014211,-70.195193,-70.265424,-70.28132,-70.35163399999999,-70.485571,-70.686981,null],\"y\":[41.529489999999996,41.577324999999995,41.638982,41.655727,41.68094,41.698691,41.762904,41.8108590611294,41.761562999999995,41.713954,41.800785999999995,41.886938,41.930049,41.884924,42.032832,42.062408999999995,42.020027999999996,42.072877999999996,42.054657,41.949597,41.708449,41.54233,41.645458,41.671971,41.647912999999996,41.609333,41.635124999999995,41.634687,41.554244,41.529489999999996,null],\"type\":\"scatter\"},{\"fill\":\"toself\",\"fillcolor\":\"rgb(38, 130, 142)\",\"hoverinfo\":\"none\",\"line\":{\"color\":\"rgb(0, 0, 0)\",\"width\":0},\"mode\":\"lines\",\"name\":\"35876564\",\"x\":[-70.883352,-70.880207,-70.873953,-70.87604999999999,-70.883352,null,-70.891755,-70.886251,-70.884777,-70.887529,-70.891755,null,-70.892296,-70.888954,-70.888775,-70.891952,-70.892296,null,-70.89840699999999,-70.89721,-70.8956,-70.895156,-70.89840699999999,null,-70.898439,-70.897063,-70.894065,-70.89608,-70.898439,null,-70.95107999999999,-70.935272,-70.92638,-70.937332,-70.95107999999999,null,-71.079343,-70.924877,-70.932435,-70.875908,-70.90442999999999,-70.87828499999999,-70.887317,-70.92392,-70.88268,-70.82466072392849,-70.85338,-70.827015,-70.76633799999999,-70.597892,-70.63913699999999,-70.614223,-70.650874,-70.710034,-70.646785,-70.650826,-70.623513,-70.539189,-70.5372893339932,-70.632555,-70.620785,-70.674064,-70.656596,-70.718739,-70.715593,-70.748868,-70.765463,-70.809001,-70.801063,-70.8431763095007,-70.921782,-71.026288,-71.03657,-70.973717,-70.996804,-71.04948499999999,-71.079343,null],\"y\":[42.340491,42.342307,42.343634,42.341229,42.340491,null,42.338856,42.339946,42.339327999999995,42.338201999999995,42.338856,null,42.328393999999996,42.328902,42.328461,42.327231,42.328393999999996,null,42.340266,42.343323999999996,42.343892,42.338879,42.340266,null,42.331191,42.333952,42.33498,42.330355,42.331191,null,42.289725999999995,42.302101,42.301406,42.284915999999996,42.289725999999995,null,42.095993,42.157579999999996,42.252644,42.256853,42.280772999999996,42.278310999999995,42.297652,42.305035,42.310393,42.265934645772305,42.239607,42.200786,42.254742,42.004549999999995,41.993894999999995,42.011148999999996,42.046247,41.999544,41.949309,41.98218,41.943273,41.926773,41.8108590611294,41.762904,41.74753,41.691371,41.715401,41.73574,41.675258,41.697446,41.641574999999996,41.658390999999995,41.629512999999996,41.628486815378,41.791244,41.778887999999995,41.816525,41.860879,41.927403999999996,41.963094,42.095993,null],\"type\":\"scatter\"},{\"fill\":\"toself\",\"fillcolor\":\"rgb(31, 160, 136)\",\"hoverinfo\":\"none\",\"line\":{\"color\":\"rgb(0, 0, 0)\",\"width\":0},\"mode\":\"lines\",\"name\":\"39024977\",\"x\":[-73.074845,-73.071113,-73.034916,-73.000173,-72.89563799999999,-72.880602,-72.912302,-72.87218,-72.813422,-72.78103899999999,-72.686861,-72.690457,-72.61313799999999,-72.602233,-72.403947,-72.395478,-72.221218,-72.263924,-72.13501099999999,-72.13571499999999,-72.755838,-72.766739,-72.816741,-72.813541,-73.0532880861326,-73.074845,null],\"y\":[42.106145999999995,42.148205999999995,42.143682,42.312678,42.340702,42.265381999999995,42.239132999999995,42.216439,42.245004,42.199749,42.183389999999996,42.213052,42.286265,42.213291,42.231846999999995,42.185736999999996,42.245252,42.183831,42.161784,42.0302453396816,42.036195,42.002995,41.997595,42.036494,42.039861968461295,42.106145999999995,null],\"type\":\"scatter\"},{\"fill\":\"toself\",\"fillcolor\":\"rgb(40, 174, 128)\",\"hoverinfo\":\"none\",\"line\":{\"color\":\"rgb(0, 0, 0)\",\"width\":0},\"mode\":\"lines\",\"name\":\"39998389\",\"x\":[-70.844664,-70.82466072392849,-70.78146192304459,-70.827015,-70.844664,null,-71.17172,-71.12858,-71.10656999999999,-71.152148,-71.17172,null,-71.503078,-71.47811899999999,-71.34416999999999,-71.33249599999999,-71.302922,-71.327327,-71.23106,-71.130771,-71.039684963075,-70.986667,-71.02065499999999,-70.953833,-70.952679,-70.92633599999999,-70.9082859092802,-70.933491,-70.924877,-71.364344,-71.381401,-71.498258301062,-71.503078,null],\"y\":[42.242270999999995,42.265934645772305,42.2487180195672,42.200786,42.242270999999995,null,42.319489999999995,42.349696,42.349911999999996,42.294613,42.319489999999995,null,42.110285,42.156782,42.200703,42.249075,42.248273999999995,42.313745999999995,42.320736,42.227926,42.305865543089496,42.306264999999996,42.286575,42.280791,42.24876,42.269791999999995,42.26471533061319,42.25,42.157579999999996,41.985293,42.018798,42.01722023315919,42.110285,null],\"type\":\"scatter\"},{\"fill\":\"toself\",\"fillcolor\":\"rgb(63, 188, 115)\",\"hoverinfo\":\"none\",\"line\":{\"color\":\"rgb(0, 0, 0)\",\"width\":0},\"mode\":\"lines\",\"name\":\"47192814\",\"x\":[-70.835948,-70.823735,-70.82191,-70.838452,-70.835948,null,-71.38170000000001,-71.3814657108006,-71.080483,-71.04948499999999,-70.996804,-70.973717,-71.03657,-71.026288,-70.921782,-70.886439,-70.842039,-70.889209,-70.913202,-70.898607,-70.93045599999999,-70.953299,-70.972287,-71.03836199999999,-71.07068699999999,-71.12057,-71.132888,-71.19569,-71.327896,-71.338698,-71.38170000000001,null],\"y\":[41.602516,41.598569,41.582840999999995,41.59646,41.602516,null,41.89375174725279,41.9850843199885,42.095538999999995,41.963094,41.927403999999996,41.860879,41.816525,41.778887999999995,41.791244,41.760231999999995,41.593543,41.632903999999996,41.619265999999996,41.592653999999996,41.613271,41.51501,41.530764999999995,41.481105,41.508877,41.497448,41.660101999999995,41.675101999999995,41.780501,41.898399,41.89375174725279,null],\"type\":\"scatter\"},{\"fill\":\"toself\",\"fillcolor\":\"rgb(132, 212, 75)\",\"hoverinfo\":\"none\",\"line\":{\"color\":\"rgb(0, 0, 0)\",\"width\":0},\"mode\":\"lines\",\"name\":\"57887763\",\"x\":[-72.315994,-72.291288,-72.244868,-72.276434,-72.225314,-72.28303287565089,-71.89877002948,-71.85848299999999,-71.66460099999999,-71.678969,-71.580287,-71.52984099999999,-71.5591,-71.60425099999999,-71.58015,-71.62582499999999,-71.585168,-71.486797,-71.506478,-71.586759,-71.602221,-71.478027,-71.498258301062,-72.13571499999999,-72.13501099999999,-72.263924,-72.20328099999999,-72.274639,-72.315994,null],\"y\":[42.394543999999996,42.479524999999995,42.513439,42.577374,42.630426,42.72155870837909,42.7114218822193,42.633815,42.611598,42.530429999999996,42.550467,42.519841,42.411943,42.397703,42.386998,42.349723999999995,42.310977,42.330189,42.264275999999995,42.259544999999996,42.218101,42.165870999999996,42.01722023315919,42.0302453396816,42.161784,42.183831,42.291182,42.301963,42.394543999999996,null],\"type\":\"scatter\"},{\"fill\":\"toself\",\"fillcolor\":\"rgb(173, 220, 48)\",\"hoverinfo\":\"none\",\"line\":{\"color\":\"rgb(0, 0, 0)\",\"width\":0},\"mode\":\"lines\",\"name\":\"67718998\",\"x\":[-70.93091,-70.925969,-70.925308,-70.93075999999999,-70.93091,null,-70.932091,-70.929717,-70.922598,-70.931414,-70.932091,null,-70.94278,-70.940749,-70.934947,-70.939854,-70.94278,null,-70.958094,-70.951492,-70.948515,-70.95434,-70.958094,null,-70.977402,-70.957268,-70.952805,-70.965732,-70.977402,null,-70.989162,-70.98307799999999,-70.98566699999999,-70.991621,-70.989162,null,-71.017803,-71.00686999999999,-70.997838,-71.0084846185794,-71.017803,null,-71.190904,-71.105558,-71.15703599999999,-71.167625,-71.077095,-71.018757,-70.9599910454674,-70.990595,-70.95302199999999,-70.974183,-70.998497,-71.044185,-71.042782,-71.130771,-71.190904,null],\"y\":[42.321605,42.321909,42.317223,42.319027,42.321605,null,42.332698,42.333973,42.326144,42.328267,42.332698,null,42.327180999999996,42.328139,42.326806999999995,42.324245,42.327180999999996,null,42.31165,42.313564,42.311937,42.308586999999996,42.31165,null,42.312294,42.331661,42.330627,42.313469,42.312294,null,42.328303999999996,42.327155999999995,42.318732999999995,42.326294,42.328303999999996,null,42.31312,42.321028999999996,42.321205,42.3057928208765,42.31312,null,42.283248,42.343897999999996,42.33039,42.360073,42.358697,42.450117999999996,42.4438207851563,42.407098,42.343973,42.369565,42.368221,42.322610999999995,42.277102,42.227926,42.283248,null],\"type\":\"scatter\"},{\"fill\":\"toself\",\"fillcolor\":\"rgb(216, 226, 25)\",\"hoverinfo\":\"none\",\"line\":{\"color\":\"rgb(0, 0, 0)\",\"width\":0},\"mode\":\"lines\",\"name\":\"68333775\",\"x\":[-70.580285,-70.575088,-70.573377,-70.575648,-70.580285,null,-70.5920440191217,-70.588245,-70.58681899999999,-70.588037,-70.5920440191217,null,-70.59383199999999,-70.587992,-70.586344,-70.589942,-70.59383199999999,null,-70.723148,-70.721223,-70.72064,-70.721656,-70.723148,null,-70.78305499999999,-70.781182,-70.780441,-70.78208,-70.78305499999999,null,-70.788783,-70.787031,-70.782252,-70.787708,-70.788783,null,-70.80222499999999,-70.796224,-70.793272,-70.802155,-70.80222499999999,null,-70.81688,-70.811949,-70.812069,-70.81457,-70.81688,null,-70.835635,-70.83371,-70.83322799999999,-70.835635,-70.835635,null,-71.250303,-71.2551987703894,-71.181803,-71.167703,-71.064201,-71.031201,-70.902768,-70.817296,-70.776083,-70.691231,-70.630077,-70.591469,-70.654727,-70.676733,-70.710349,-70.87519499999999,-70.886366,-70.831091,-70.93499299999999,-70.905692,-70.936393,-70.939561,-70.99985699999999,-71.054214,-71.03490000000001,-71.070978,-71.028312,-71.05876599999999,-71.164974,-71.250303,null],\"y\":[42.636025,42.639779999999995,42.639506999999995,42.634451999999996,42.636025,null,42.6295126856785,42.630604999999996,42.628156999999995,42.626413,42.6295126856785,null,42.660787,42.663002999999996,42.662248999999996,42.658449999999995,42.660787,null,42.568157,42.569933,42.569659,42.566088,42.568157,null,42.553461,42.554218,42.553868,42.551679,42.553461,null,42.534006,42.537295,42.533716,42.530578999999996,42.534006,null,42.550473,42.551300999999995,42.547444,42.547135,42.550473,null,42.514579999999995,42.512093,42.510276999999995,42.511050999999995,42.514579999999995,null,42.4844,42.486412,42.481442,42.481915,42.4844,null,42.660591,42.736638343984396,42.73759,42.807389,42.806289,42.859089,42.88653,42.87229,42.691264,42.655789999999996,42.692699,42.639821,42.582234,42.607527,42.572568,42.544343999999995,42.508610999999995,42.503595999999995,42.457896,42.416197,42.418096999999996,42.456748999999995,42.431295999999996,42.476903,42.506758,42.555889,42.574082,42.609077,42.598082,42.660591,null],\"type\":\"scatter\"},{\"fill\":\"toself\",\"fillcolor\":\"rgb(253, 231, 37)\",\"hoverinfo\":\"none\",\"line\":{\"color\":\"rgb(0, 0, 0)\",\"width\":0},\"mode\":\"lines\",\"name\":\"99483632\",\"x\":[-71.89877002948,-71.29420499999999,-71.2551987703894,-71.255749,-71.164974,-71.05876599999999,-71.033998,-71.07515,-71.03859899999999,-71.054214,-71.020377,-71.077095,-71.167625,-71.191155,-71.252937,-71.32974999999999,-71.302922,-71.33249599999999,-71.34416999999999,-71.47811899999999,-71.50262599999999,-71.55573799999999,-71.602221,-71.586759,-71.506478,-71.486797,-71.585168,-71.62582499999999,-71.58015,-71.60425099999999,-71.5591,-71.53878,-71.678969,-71.66460099999999,-71.85848299999999,-71.89877002948,null],\"y\":[42.7114218822193,42.69699,42.736638343984396,42.656929,42.598082,42.609077,42.585493,42.531034999999996,42.523959999999995,42.476903,42.43825,42.358697,42.360073,42.283059,42.326755999999996,42.312991,42.248273999999995,42.249075,42.200703,42.156782,42.191416,42.182503,42.218101,42.259544999999996,42.264275999999995,42.330189,42.310977,42.349723999999995,42.386998,42.397703,42.411943,42.543029999999995,42.530429999999996,42.611598,42.633815,42.7114218822193,null],\"type\":\"scatter\"},{\"hoverinfo\":\"text\",\"legendgroup\":\"centroids\",\"marker\":{\"color\":\"white\",\"opacity\":0},\"mode\":\"markers\",\"name\":\"US Counties\",\"selected\":{\"marker\":{\"color\":\"white\",\"opacity\":1,\"size\":3}},\"showlegend\":false,\"text\":[\"County: Suffolk<br>State: Massachusetts<br>FIPS: 25025<br>Value: 67718998\",\"County: Suffolk<br>State: Massachusetts<br>FIPS: 25025<br>Value: 67718998\",\"County: Suffolk<br>State: Massachusetts<br>FIPS: 25025<br>Value: 67718998\",\"County: Suffolk<br>State: Massachusetts<br>FIPS: 25025<br>Value: 67718998\",\"County: Suffolk<br>State: Massachusetts<br>FIPS: 25025<br>Value: 67718998\",\"County: Suffolk<br>State: Massachusetts<br>FIPS: 25025<br>Value: 67718998\",\"County: Suffolk<br>State: Massachusetts<br>FIPS: 25025<br>Value: 67718998\",\"County: Suffolk<br>State: Massachusetts<br>FIPS: 25025<br>Value: 67718998\",\"County: Plymouth<br>State: Massachusetts<br>FIPS: 25023<br>Value: 35876564\",\"County: Plymouth<br>State: Massachusetts<br>FIPS: 25023<br>Value: 35876564\",\"County: Plymouth<br>State: Massachusetts<br>FIPS: 25023<br>Value: 35876564\",\"County: Plymouth<br>State: Massachusetts<br>FIPS: 25023<br>Value: 35876564\",\"County: Plymouth<br>State: Massachusetts<br>FIPS: 25023<br>Value: 35876564\",\"County: Plymouth<br>State: Massachusetts<br>FIPS: 25023<br>Value: 35876564\",\"County: Plymouth<br>State: Massachusetts<br>FIPS: 25023<br>Value: 35876564\",\"County: Norfolk<br>State: Massachusetts<br>FIPS: 25021<br>Value: 39998389\",\"County: Norfolk<br>State: Massachusetts<br>FIPS: 25021<br>Value: 39998389\",\"County: Norfolk<br>State: Massachusetts<br>FIPS: 25021<br>Value: 39998389\",\"County: Nantucket<br>State: Massachusetts<br>FIPS: 25019<br>Value: 1041738\",\"County: Nantucket<br>State: Massachusetts<br>FIPS: 25019<br>Value: 1041738\",\"County: Nantucket<br>State: Massachusetts<br>FIPS: 25019<br>Value: 1041738\",\"County: Essex<br>State: Massachusetts<br>FIPS: 25009<br>Value: 68333775\",\"County: Essex<br>State: Massachusetts<br>FIPS: 25009<br>Value: 68333775\",\"County: Essex<br>State: Massachusetts<br>FIPS: 25009<br>Value: 68333775\",\"County: Essex<br>State: Massachusetts<br>FIPS: 25009<br>Value: 68333775\",\"County: Essex<br>State: Massachusetts<br>FIPS: 25009<br>Value: 68333775\",\"County: Essex<br>State: Massachusetts<br>FIPS: 25009<br>Value: 68333775\",\"County: Essex<br>State: Massachusetts<br>FIPS: 25009<br>Value: 68333775\",\"County: Essex<br>State: Massachusetts<br>FIPS: 25009<br>Value: 68333775\",\"County: Essex<br>State: Massachusetts<br>FIPS: 25009<br>Value: 68333775\",\"County: Essex<br>State: Massachusetts<br>FIPS: 25009<br>Value: 68333775\",\"County: Dukes<br>State: Massachusetts<br>FIPS: 25007<br>Value: 981079\",\"County: Dukes<br>State: Massachusetts<br>FIPS: 25007<br>Value: 981079\",\"County: Dukes<br>State: Massachusetts<br>FIPS: 25007<br>Value: 981079\",\"County: Dukes<br>State: Massachusetts<br>FIPS: 25007<br>Value: 981079\",\"County: Dukes<br>State: Massachusetts<br>FIPS: 25007<br>Value: 981079\",\"County: Dukes<br>State: Massachusetts<br>FIPS: 25007<br>Value: 981079\",\"County: Dukes<br>State: Massachusetts<br>FIPS: 25007<br>Value: 981079\",\"County: Bristol<br>State: Massachusetts<br>FIPS: 25005<br>Value: 47192814\",\"County: Bristol<br>State: Massachusetts<br>FIPS: 25005<br>Value: 47192814\",\"County: Barnstable<br>State: Massachusetts<br>FIPS: 25001<br>Value: 10219817\",\"County: Berkshire<br>State: Massachusetts<br>FIPS: 25003<br>Value: 5690875\",\"County: Franklin<br>State: Massachusetts<br>FIPS: 25011<br>Value: 2435932\",\"County: Hampden<br>State: Massachusetts<br>FIPS: 25013<br>Value: 39024977\",\"County: Hampshire<br>State: Massachusetts<br>FIPS: 25015<br>Value: 7239268\",\"County: Middlesex<br>State: Massachusetts<br>FIPS: 25017<br>Value: 99483632\",\"County: Worcester<br>State: Massachusetts<br>FIPS: 25027<br>Value: 57887763\"],\"unselected\":{\"marker\":{\"opacity\":0}},\"x\":[[-70.9280391133086],[-70.9277790290724],[-70.9392566238225],[-70.95387693386199],[-70.96483627239256],[-70.98673453708642],[-71.00940904593837],[-71.07309884387598],[-70.8780115397054],[-70.88824913269262],[-70.89061026119334],[-70.8962556436447],[-70.89636899879952],[-70.93790606268806],[-70.81129175746672],[-70.81892375373486],[-71.14080910291152],[-71.22298718443716],[-70.06245308001775],[-70.25622674025917],[-70.29999198079794],[-70.5762561032735],[-70.58939860145681],[-70.59031034835986],[-70.72192025581093],[-70.78196293798233],[-70.78625262527578],[-70.79886099117257],[-70.81449732085207],[-70.83410716515235],[-70.95218563001502],[-70.74859518022004],[-70.81525824004792],[-70.62802416110435],[-70.82616655033165],[-70.87487257159471],[-70.92128806106592],[-70.93221404295807],[-70.82902751053047],[-71.1147696402744],-70.29149042162072,-73.20634775606662,-72.59183006384409,-72.63158760194638,-72.66380090627308,-71.39178930223044,-71.90774522258745],\"y\":[[42.31980319851328],[42.329071591519],[42.326224574458465],[42.31132022228186],[42.32072398669129],[42.32421915511973],[42.31402646167803],[42.33389489977019],[42.34200748566634],[42.33893924860726],[42.328087534563856],[42.341133147558075],[42.3325953020933],[42.293505047325354],[41.950800421004296],[42.236314997413984],[42.32427586329445],[42.15579579570511],[41.282293001731986],[41.30179830953805],[41.33546206041185],[42.63682463751455],[42.62851516377598],[42.66069178061119],[42.56787849781812],[42.552997558899115],[42.53401423495861],[42.54895706170866],[42.512385248316136],[42.48365458222047],[42.67319136089608],[41.48409424878505],[41.25582283776138],[41.38786601815403],[41.45004834081349],[41.43134085009215],[41.45083824913764],[41.420115583000246],[41.59389023049773],[41.797445412015705],41.72417861197711,42.37070284099708,42.583090626153535,42.135099154050955,42.340158105022276,42.485578780208236,42.35142245348082],\"type\":\"scatter\"},{\"hoverinfo\":\"text\",\"legendgroup\":\"States\",\"line\":{\"color\":\"rgb(240, 240, 240)\",\"width\":1},\"mode\":\"lines\",\"showlegend\":false,\"x\":[-70.234054,-70.06256499999999,-70.024421,-70.049053,-70.02038,-69.96018099999999,-70.100495,-70.234054,null,-70.277262,-70.246552,-70.242739,-70.259665,-70.277262,null,-70.30897,-70.29202699999999,-70.28932499999999,-70.307001,-70.30897,null,-70.580285,-70.575088,-70.573377,-70.575648,-70.580285,null,-70.5920440191217,-70.588245,-70.58681899999999,-70.588037,-70.5920440191217,null,-70.59383199999999,-70.587992,-70.586344,-70.589942,-70.59383199999999,null,-70.723148,-70.721223,-70.72064,-70.721656,-70.723148,null,-70.78305499999999,-70.781182,-70.780441,-70.78208,-70.78305499999999,null,-70.788783,-70.787031,-70.782252,-70.787708,-70.788783,null,-70.80222499999999,-70.796224,-70.793272,-70.802155,-70.80222499999999,null,-70.8071,-70.710222,-70.67518799999999,-70.790395,-70.8071,null,-70.81688,-70.811949,-70.812069,-70.81457,-70.81688,null,-70.832039,-70.811965,-70.80156099999999,-70.80924499999999,-70.832039,null,-70.835635,-70.83371,-70.83322799999999,-70.835635,-70.835635,null,-70.835948,-70.823735,-70.82191,-70.838452,-70.835948,null,-70.838777,-70.774974,-70.700964,-70.603555,-70.501306,-70.452497,-70.44623299999999,-70.452244,-70.70982599999999,-70.775665,-70.838777,null,-70.840375,-70.820595,-70.80805099999999,-70.836868,-70.840375,null,-70.883352,-70.880207,-70.873953,-70.87604999999999,-70.883352,null,-70.891755,-70.886251,-70.884777,-70.887529,-70.891755,null,-70.892296,-70.888954,-70.888775,-70.891952,-70.892296,null,-70.89840699999999,-70.89721,-70.8956,-70.895156,-70.89840699999999,null,-70.898439,-70.897063,-70.894065,-70.89608,-70.898439,null,-70.904786,-70.857103,-70.848563,-70.87121599999999,-70.904786,null,-70.925416,-70.920666,-70.915165,-70.92118599999999,-70.925416,null,-70.93091,-70.925969,-70.925308,-70.93075999999999,-70.93091,null,-70.932091,-70.929717,-70.922598,-70.931414,-70.932091,null,-70.94278,-70.940749,-70.934947,-70.939854,-70.94278,null,-70.95107999999999,-70.935272,-70.92638,-70.937332,-70.95107999999999,null,-70.949185,-70.927475,-70.907496,-70.948757,-70.949185,null,-70.958094,-70.951492,-70.948515,-70.95434,-70.958094,null,-70.977402,-70.957268,-70.952805,-70.965732,-70.977402,null,-70.989162,-70.98307799999999,-70.98566699999999,-70.991621,-70.989162,null,-73.50814199999999,-73.264957,-71.29420499999999,-71.245504,-71.181803,-71.16560299999999,-71.064201,-71.031201,-70.902768,-70.817296,-70.776083,-70.691231,-70.630077,-70.591469,-70.654727,-70.676733,-70.710349,-70.87519499999999,-70.886366,-70.842091,-70.83599099999999,-70.93499299999999,-70.905692,-70.960763,-70.990595,-70.95302199999999,-70.974183,-70.998497,-71.041333,-70.997838,-71.02065499999999,-70.953833,-70.952679,-70.917056,-70.87781,-70.90442999999999,-70.87828499999999,-70.887317,-70.923444,-70.889456,-70.85109299999999,-70.76633799999999,-70.597892,-70.63913699999999,-70.614223,-70.650874,-70.710034,-70.646785,-70.650826,-70.623513,-70.539189,-70.54102999999999,-70.412476,-70.259205,-70.008462,-70.000188,-70.044995,-70.06900999999999,-70.095595,-70.15541499999999,-70.190834,-70.245385,-70.18930499999999,-70.082624,-69.968598,-69.928393,-70.003861,-69.970489,-70.014211,-70.195193,-70.265424,-70.28132,-70.35163399999999,-70.485571,-70.65662499999999,-70.686981,-70.642748,-70.65326999999999,-70.62480000000001,-70.662036,-70.62365199999999,-70.674064,-70.656596,-70.718739,-70.715593,-70.748868,-70.765463,-70.821598,-70.801063,-70.85965399999999,-70.853447,-70.872665,-70.913202,-70.902051,-70.93045599999999,-70.92851999999999,-71.03836199999999,-71.07068699999999,-71.12057,-71.132888,-71.19569,-71.34069699999999,-71.338698,-71.38170000000001,-71.381401,-72.755838,-72.766739,-72.816741,-72.813541,-73.49687899999999,-73.50814199999999,null,null],\"y\":[41.285652999999996,41.308726,41.360622,41.391701999999995,41.369006,41.264545999999996,41.240553,41.285652999999996,null,41.310506,41.306186,41.28919,41.296006,41.310506,null,41.336057,41.337787999999996,41.335021999999995,41.332391,41.336057,null,42.636025,42.639779999999995,42.639506999999995,42.634451999999996,42.636025,null,42.6295126856785,42.630604999999996,42.628156999999995,42.626413,42.6295126856785,null,42.660787,42.663002999999996,42.662248999999996,42.658449999999995,42.660787,null,42.568157,42.569933,42.569659,42.566088,42.568157,null,42.553461,42.554218,42.553868,42.551679,42.553461,null,42.534006,42.537295,42.533716,42.530578999999996,42.534006,null,42.550473,42.551300999999995,42.547444,42.547135,42.550473,null,41.458576,41.518915,41.513949,41.446535,41.458576,null,42.514579999999995,42.512093,42.510276999999995,42.511050999999995,42.514579999999995,null,41.259495,41.264838999999995,41.25841,41.249068,41.259495,null,42.4844,42.486412,42.481442,42.481915,42.4844,null,41.602516,41.598569,41.582840999999995,41.59646,41.602516,null,41.347209,41.349176,41.43401,41.482383999999996,41.385391,41.42143,41.39648,41.349827999999995,41.341722999999995,41.300982,41.347209,null,41.452875,41.458507,41.445037,41.441967999999996,41.452875,null,42.340491,42.342307,42.343634,42.341229,42.340491,null,42.338856,42.339946,42.339327999999995,42.338201999999995,42.338856,null,42.328393999999996,42.328902,42.328461,42.327231,42.328393999999996,null,42.340266,42.343323999999996,42.343892,42.338879,42.340266,null,42.331191,42.333952,42.33498,42.330355,42.331191,null,41.427752999999996,41.450253,41.432843999999996,41.422084999999996,41.427752999999996,null,41.451732,41.454553,41.451034,41.445392999999996,41.451732,null,42.321605,42.321909,42.317223,42.319027,42.321605,null,42.332698,42.333973,42.326144,42.328267,42.332698,null,42.327180999999996,42.328139,42.326806999999995,42.324245,42.327180999999996,null,42.289725999999995,42.302101,42.301406,42.284915999999996,42.289725999999995,null,41.415776,41.431810999999996,41.421512,41.409037999999995,41.415776,null,42.31165,42.313564,42.311937,42.308586999999996,42.31165,null,42.312294,42.331661,42.330627,42.313469,42.312294,null,42.328303999999996,42.327155999999995,42.318732999999995,42.326294,42.328303999999996,null,42.086256999999996,42.74594,42.69699,42.742588999999995,42.73759,42.808689,42.806289,42.859089,42.88653,42.87229,42.691264,42.655789999999996,42.692699,42.639821,42.582234,42.607527,42.572568,42.544343999999995,42.508610999999995,42.519495,42.490496,42.457896,42.416197,42.446011,42.407098,42.343973,42.369565,42.368221,42.302926,42.321205,42.286575,42.280791,42.24876,42.272542,42.249288,42.280772999999996,42.278310999999995,42.297652,42.302398,42.310483999999995,42.26827,42.254742,42.004549999999995,41.993894999999995,42.011148999999996,42.046247,41.999544,41.949309,41.98218,41.943273,41.926773,41.815754,41.744397,41.713954,41.800785999999995,41.886938,41.930049,41.884924,42.032832,42.062408999999995,42.020027999999996,42.063733,42.082336999999995,42.054657,41.9117,41.708449,41.540551,41.645458,41.671971,41.647912999999996,41.609333,41.635124999999995,41.634687,41.554244,41.514779,41.529489999999996,41.572385,41.638982,41.655727,41.68094,41.707398,41.691371,41.715401,41.73574,41.675258,41.697446,41.641574999999996,41.654838999999996,41.629512999999996,41.624123999999995,41.582195,41.627815999999996,41.619265999999996,41.591583,41.613271,41.539775999999996,41.481105,41.508877,41.497448,41.660101999999995,41.675101999999995,41.798300000000005,41.898399,41.893198999999996,42.018798,42.036195,42.002995,41.997595,42.036494,42.049675,42.086256999999996,null,null],\"type\":\"scatter\"}],                        {\"annotations\":[{\"showarrow\":false,\"text\":\"<b></b>\",\"x\":1,\"xanchor\":\"right\",\"xref\":\"paper\",\"y\":1.05,\"yref\":\"paper\"}],\"dragmode\":\"select\",\"height\":450,\"hovermode\":\"closest\",\"legend\":{\"traceorder\":\"reversed\",\"x\":1,\"xanchor\":\"right\",\"y\":1,\"yanchor\":\"top\"},\"margin\":{\"b\":20,\"l\":20,\"r\":20,\"t\":40},\"title\":{\"text\":\"Chloropleth of case count by County\"},\"width\":900,\"xaxis\":{\"autorange\":false,\"fixedrange\":true,\"range\":[-73.77573875,-69.66079624999999],\"showgrid\":false,\"showticklabels\":false,\"zeroline\":false},\"yaxis\":{\"autorange\":false,\"fixedrange\":true,\"range\":[41.240553,42.88653],\"showgrid\":false,\"showticklabels\":false,\"zeroline\":false}},                        {\"responsive\": true}                    ).then(function(){\n",
       "                            \n",
       "var gd = document.getElementById('85a95ab6-6d9b-4691-bcd4-a78ab96fb64f');\n",
       "var x = new MutationObserver(function (mutations, observer) {{\n",
       "        var display = window.getComputedStyle(gd).display;\n",
       "        if (!display || display === 'none') {{\n",
       "            console.log([gd, 'removed!']);\n",
       "            Plotly.purge(gd);\n",
       "            observer.disconnect();\n",
       "        }}\n",
       "}});\n",
       "\n",
       "// Listen for the removal of the full notebook cells\n",
       "var notebookContainer = gd.closest('#notebook-container');\n",
       "if (notebookContainer) {{\n",
       "    x.observe(notebookContainer, {childList: true});\n",
       "}}\n",
       "\n",
       "// Listen for the clearing of the current output cell\n",
       "var outputEl = gd.closest('.output');\n",
       "if (outputEl) {{\n",
       "    x.observe(outputEl, {childList: true});\n",
       "}}\n",
       "\n",
       "                        })                };                });            </script>        </div>"
      ]
     },
     "metadata": {},
     "output_type": "display_data"
    }
   ],
   "source": [
    "import plotly.figure_factory as ff\n",
    "\n",
    "fig = ff.create_choropleth(fips=total_fips.index, values=total_fips['cases'], scope=['MA'], title=\"Chloropleth of case count by County\")\n",
    "fig.layout.template = None\n",
    "fig.show()"
   ]
  },
  {
   "cell_type": "code",
   "execution_count": 62,
   "id": "d837bed9",
   "metadata": {},
   "outputs": [
    {
     "data": {
      "application/vnd.jupyter.widget-view+json": {
       "model_id": "5b3c2388c6414f48ab9f52df4a778315"
      },
      "text/plain": [
       "        county  cases_count     cases_mean      cases_std  cases_min  \\\n",
       "0   Barnstable        791.0   12920.122630   11320.985355        1.0   \n",
       "1    Berkshire        798.0    7131.422306    7386.182215        1.0   \n",
       "2      Bristol        791.0   59662.217446   47730.375679        1.0   \n",
       "3        Dukes        780.0    1257.793590    1150.554443        1.0   \n",
       "4        Essex        795.0   85954.433962   64078.945819        1.0   \n",
       "5     Franklin        787.0    3095.212198    3316.932435        1.0   \n",
       "6      Hampden        790.0   49398.705063   41906.637681        1.0   \n",
       "7    Hampshire        786.0    9210.264631    8655.790871        1.0   \n",
       "8    Middlesex        800.0  124354.540000  100551.807388        1.0   \n",
       "9    Nantucket        784.0    1328.747449    1126.497928        1.0   \n",
       "10     Norfolk        803.0   49811.194271   40993.337576        1.0   \n",
       "11    Plymouth        790.0   45413.372152   36065.458735        3.0   \n",
       "12     Suffolk        833.0   81295.315726   64618.904886        1.0   \n",
       "13     Unknown        789.0   44709.027883   44625.196793        1.0   \n",
       "14   Worcester        797.0   72632.074028   60025.649138        1.0   \n",
       "\n",
       "    cases_25%  cases_50%  cases_75%  cases_max  deaths_count  deaths_mean  \\\n",
       "0     1825.50    12977.0   17758.00    37644.0         791.0   363.826802   \n",
       "1      705.25     5829.0    8820.50    26169.0         798.0   210.075188   \n",
       "2    10034.00    62204.0   81133.50   154820.0         791.0  1365.893805   \n",
       "3       70.00     1177.5    1861.00     3587.0         780.0     0.074359   \n",
       "4    19473.50    92025.0  112736.00   214332.0         795.0  1938.554717   \n",
       "5      423.00     2348.0    3454.00    11403.0         787.0    97.181703   \n",
       "6     8243.50    48228.0   65617.50   139047.0         790.0  1246.075949   \n",
       "7     1289.75     8715.0   11659.75    30837.0         786.0   239.356234   \n",
       "8    27329.00   125823.5  158556.25   352032.0         800.0  3024.278750   \n",
       "9      122.75     1423.5    1934.00     3481.0         784.0     0.520408   \n",
       "10   10682.00    51027.0   64231.00   141128.0         803.0  1445.092154   \n",
       "11    9705.75    46065.0   59349.50   120081.0         790.0  1184.511392   \n",
       "12   22706.00    82474.0  106168.00   226017.0         833.0  1450.780312   \n",
       "13    2666.00    41461.0   58349.00   147062.0         789.0    11.570342   \n",
       "14   14217.00    72347.0   95437.00   201669.0         797.0  1785.717691   \n",
       "\n",
       "     deaths_std  deaths_min  deaths_25%  deaths_50%  deaths_75%  deaths_max  \n",
       "0    192.602448         0.0      174.00       453.0      516.00       683.0  \n",
       "1    135.353978         0.0       49.00       281.0      322.00       410.0  \n",
       "2    689.283772         0.0      697.00      1662.0     1873.00      2488.0  \n",
       "3      0.272127         0.0        0.00         0.0        0.00         2.0  \n",
       "4    807.685514         0.0     1274.50      2321.0     2510.50      3163.0  \n",
       "5     36.440635         0.0       68.00       110.0      122.00       170.0  \n",
       "6    523.017095         0.0      778.25      1471.5     1660.75      2077.0  \n",
       "7    108.232589         0.0      145.50       285.0      318.00       413.0  \n",
       "8   1196.793624         0.0     2122.75      3683.5     3915.50      4726.0  \n",
       "9      0.779424         0.0        0.00         0.0        1.00         3.0  \n",
       "10   558.727628         0.0     1045.00      1749.0     1855.00      2242.0  \n",
       "11   490.384649         0.0      770.00      1392.0     1523.75      2001.0  \n",
       "12   624.305634         0.0     1104.00      1771.0     1908.00      2309.0  \n",
       "13     8.444605         0.0        6.00        12.0       13.00       103.0  \n",
       "14   808.413686         0.0     1095.00      2169.0     2417.00      3048.0  "
      ]
     },
     "metadata": {},
     "output_type": "display_data"
    }
   ],
   "source": [
    "by_county = nyt[['cases', 'deaths', 'county']].groupby('county').describe()\n",
    "import pandas as pd; import numpy as np\n",
    "by_county.columns = [\"_\".join([str(index) for index in multi_index]) for multi_index in by_county.columns.ravel()]\n",
    "by_county = by_county.reset_index()\n",
    "by_county"
   ]
  },
  {
   "cell_type": "code",
   "execution_count": 18,
   "id": "a98931f6",
   "metadata": {},
   "outputs": [],
   "source": [
    "# Well-organized tables\n",
    "# Tabulation or rates by groups\n",
    "# Regression, correlation, chi-square test, LASSO, ANOVA, etc.\n",
    "# Provide well-developed visualizations\n",
    "# Maps\n",
    "# Line charts (epi curves)"
   ]
  },
  {
   "cell_type": "code",
   "execution_count": 19,
   "id": "f9a93894",
   "metadata": {},
   "outputs": [],
   "source": [
    "# Prediction and forecasts (mandatory)\n",
    "# Time series, VAR, event analysis, LASSO, SVM, PCA, etc.\n",
    "# Provide the goodness of fit or prediction accuracy"
   ]
  },
  {
   "cell_type": "code",
   "execution_count": null,
   "id": "cdd2302f",
   "metadata": {},
   "outputs": [],
   "source": []
  }
 ],
 "metadata": {
  "kernelspec": {
   "display_name": "Python 3 (ipykernel)",
   "language": "python",
   "name": "python3"
  },
  "language_info": {
   "codemirror_mode": {
    "name": "ipython",
    "version": 3
   },
   "file_extension": ".py",
   "mimetype": "text/x-python",
   "name": "python",
   "nbconvert_exporter": "python",
   "pygments_lexer": "ipython3",
   "version": "3.9.15"
  }
 },
 "nbformat": 4,
 "nbformat_minor": 5
}
